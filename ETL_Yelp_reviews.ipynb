{
 "cells": [
  {
   "cell_type": "code",
   "execution_count": 1,
   "metadata": {},
   "outputs": [],
   "source": [
    "# En primer lugar, importamos las librerías necesarias:\n",
    "import pandas as pd\n",
    "import gc\n",
    "import matplotlib.pyplot as plt\n",
    "import seaborn as sns\n",
    "import warnings\n",
    "warnings.filterwarnings('ignore')\n",
    "sns.set()"
   ]
  },
  {
   "cell_type": "markdown",
   "metadata": {},
   "source": [
    "## Reviews de usuarios:"
   ]
  },
  {
   "cell_type": "markdown",
   "metadata": {},
   "source": [
    "Las reviews de los usuarios de Yelp se encuentran alojadas en un archivo JSON de gran tamaño, por lo que se realiza su apertura en partes o \"chunks\" para luego cargar en 2 diferentes dataframes:"
   ]
  },
  {
   "cell_type": "code",
   "execution_count": 2,
   "metadata": {},
   "outputs": [],
   "source": [
    "# Se determina la cantidad de datos por porción:\n",
    "chunk_size = 50000\n",
    "# Se carga la info en un dataframe de pandas \n",
    "chunks = pd.read_json(\"Datasets/review-001.json\", lines=True, chunksize=chunk_size)\n",
    "\n",
    "# Se crea una lista vacía donde se almacenarán los distintos dataframes\n",
    "dfs = []\n",
    "for chunk in chunks:\n",
    "    dfs.append(chunk)\n",
    "\n",
    "# Se define el punto de corte para separar al dataframe en 2:\n",
    "corte = int(len(dfs)/2)"
   ]
  },
  {
   "cell_type": "markdown",
   "metadata": {},
   "source": [
    "### Parte 1"
   ]
  },
  {
   "cell_type": "code",
   "execution_count": 3,
   "metadata": {},
   "outputs": [],
   "source": [
    "# Se define la primera mitad del dataframe:\n",
    "dfs1 = dfs[:corte]\n",
    "df_reviews1 = pd.concat(dfs1, axis=0, ignore_index=True)"
   ]
  },
  {
   "cell_type": "code",
   "execution_count": 4,
   "metadata": {},
   "outputs": [
    {
     "name": "stdout",
     "output_type": "stream",
     "text": [
      "<class 'pandas.core.frame.DataFrame'>\n",
      "RangeIndex: 3500000 entries, 0 to 3499999\n",
      "Data columns (total 9 columns):\n",
      " #   Column       Dtype         \n",
      "---  ------       -----         \n",
      " 0   review_id    object        \n",
      " 1   user_id      object        \n",
      " 2   business_id  object        \n",
      " 3   stars        int64         \n",
      " 4   useful       int64         \n",
      " 5   funny        int64         \n",
      " 6   cool         int64         \n",
      " 7   text         object        \n",
      " 8   date         datetime64[ns]\n",
      "dtypes: datetime64[ns](1), int64(4), object(4)\n",
      "memory usage: 240.3+ MB\n"
     ]
    }
   ],
   "source": [
    "# Se controla la info general del dataset:\n",
    "df_reviews1.info()"
   ]
  },
  {
   "cell_type": "code",
   "execution_count": 5,
   "metadata": {},
   "outputs": [
    {
     "data": {
      "text/plain": [
       "review_id      0\n",
       "user_id        0\n",
       "business_id    0\n",
       "stars          0\n",
       "useful         0\n",
       "funny          0\n",
       "cool           0\n",
       "text           0\n",
       "date           0\n",
       "dtype: int64"
      ]
     },
     "execution_count": 5,
     "metadata": {},
     "output_type": "execute_result"
    }
   ],
   "source": [
    "# Se controla la cantidad de valores nulos:\n",
    "df_reviews1.isnull().sum()"
   ]
  },
  {
   "cell_type": "code",
   "execution_count": 9,
   "metadata": {},
   "outputs": [
    {
     "data": {
      "text/plain": [
       "0"
      ]
     },
     "execution_count": 9,
     "metadata": {},
     "output_type": "execute_result"
    }
   ],
   "source": [
    "# Se controla la cantidad de valores duplicados:\n",
    "df_reviews1.duplicated().sum()"
   ]
  },
  {
   "cell_type": "markdown",
   "metadata": {},
   "source": [
    "Se filtran las reviews de los \"busines_id\" de restaurantes latinoamericanos:"
   ]
  },
  {
   "cell_type": "code",
   "execution_count": 6,
   "metadata": {},
   "outputs": [
    {
     "data": {
      "text/html": [
       "<div>\n",
       "<style scoped>\n",
       "    .dataframe tbody tr th:only-of-type {\n",
       "        vertical-align: middle;\n",
       "    }\n",
       "\n",
       "    .dataframe tbody tr th {\n",
       "        vertical-align: top;\n",
       "    }\n",
       "\n",
       "    .dataframe thead th {\n",
       "        text-align: right;\n",
       "    }\n",
       "</style>\n",
       "<table border=\"1\" class=\"dataframe\">\n",
       "  <thead>\n",
       "    <tr style=\"text-align: right;\">\n",
       "      <th></th>\n",
       "      <th>review_id</th>\n",
       "      <th>user_id</th>\n",
       "      <th>business_id</th>\n",
       "      <th>stars</th>\n",
       "      <th>useful</th>\n",
       "      <th>funny</th>\n",
       "      <th>cool</th>\n",
       "      <th>text</th>\n",
       "      <th>date</th>\n",
       "    </tr>\n",
       "  </thead>\n",
       "  <tbody>\n",
       "    <tr>\n",
       "      <th>73</th>\n",
       "      <td>PDHRlnEdkEcwATry4w71PQ</td>\n",
       "      <td>UsBxLh14sUpO8SdeqIiGOA</td>\n",
       "      <td>Wy8Hswf2cLQGRZN6armkag</td>\n",
       "      <td>1</td>\n",
       "      <td>1</td>\n",
       "      <td>0</td>\n",
       "      <td>0</td>\n",
       "      <td>If I could give it a zero, I would. I order a ...</td>\n",
       "      <td>2011-08-24 23:07:08</td>\n",
       "    </tr>\n",
       "    <tr>\n",
       "      <th>157</th>\n",
       "      <td>TgDp1TErom3UNglKhDy2uw</td>\n",
       "      <td>zUB7xoTlhbg7_ofHg8Qp0w</td>\n",
       "      <td>W8Z4rXYkmZlEVSaxIVjyvg</td>\n",
       "      <td>5</td>\n",
       "      <td>1</td>\n",
       "      <td>0</td>\n",
       "      <td>0</td>\n",
       "      <td>A truly delightful find! This is the transform...</td>\n",
       "      <td>2017-08-16 16:44:52</td>\n",
       "    </tr>\n",
       "    <tr>\n",
       "      <th>387</th>\n",
       "      <td>4hi2jgnEhwaKfFiZ_Tz4Hw</td>\n",
       "      <td>VOWlOVEBg9LoHykSBue7EA</td>\n",
       "      <td>6kPHr6gZaU9732ptn9gJrA</td>\n",
       "      <td>4</td>\n",
       "      <td>0</td>\n",
       "      <td>0</td>\n",
       "      <td>0</td>\n",
       "      <td>New owners turned it into a double threat: Bad...</td>\n",
       "      <td>2014-07-28 08:24:51</td>\n",
       "    </tr>\n",
       "    <tr>\n",
       "      <th>887</th>\n",
       "      <td>yBcQi45-vXf9MeZS9ZXBmw</td>\n",
       "      <td>WGuhb1GYI_13pX_e92A7zg</td>\n",
       "      <td>VeFfrEZ4iWaecrQg6Eq4cg</td>\n",
       "      <td>4</td>\n",
       "      <td>0</td>\n",
       "      <td>0</td>\n",
       "      <td>0</td>\n",
       "      <td>The burgers are amazing! French fries are dece...</td>\n",
       "      <td>2012-11-07 02:38:30</td>\n",
       "    </tr>\n",
       "    <tr>\n",
       "      <th>926</th>\n",
       "      <td>P6Kbftcn5GwvIo2xQyXFBg</td>\n",
       "      <td>fSR8LJJ0Aa3w8HoaGyXYCA</td>\n",
       "      <td>UX3eq0WsVva-cqlVrzyzFg</td>\n",
       "      <td>5</td>\n",
       "      <td>0</td>\n",
       "      <td>0</td>\n",
       "      <td>0</td>\n",
       "      <td>Yummy food,  they will veganize things for you...</td>\n",
       "      <td>2013-12-28 22:22:19</td>\n",
       "    </tr>\n",
       "  </tbody>\n",
       "</table>\n",
       "</div>"
      ],
      "text/plain": [
       "                  review_id                 user_id             business_id  \\\n",
       "73   PDHRlnEdkEcwATry4w71PQ  UsBxLh14sUpO8SdeqIiGOA  Wy8Hswf2cLQGRZN6armkag   \n",
       "157  TgDp1TErom3UNglKhDy2uw  zUB7xoTlhbg7_ofHg8Qp0w  W8Z4rXYkmZlEVSaxIVjyvg   \n",
       "387  4hi2jgnEhwaKfFiZ_Tz4Hw  VOWlOVEBg9LoHykSBue7EA  6kPHr6gZaU9732ptn9gJrA   \n",
       "887  yBcQi45-vXf9MeZS9ZXBmw  WGuhb1GYI_13pX_e92A7zg  VeFfrEZ4iWaecrQg6Eq4cg   \n",
       "926  P6Kbftcn5GwvIo2xQyXFBg  fSR8LJJ0Aa3w8HoaGyXYCA  UX3eq0WsVva-cqlVrzyzFg   \n",
       "\n",
       "     stars  useful  funny  cool  \\\n",
       "73       1       1      0     0   \n",
       "157      5       1      0     0   \n",
       "387      4       0      0     0   \n",
       "887      4       0      0     0   \n",
       "926      5       0      0     0   \n",
       "\n",
       "                                                  text                date  \n",
       "73   If I could give it a zero, I would. I order a ... 2011-08-24 23:07:08  \n",
       "157  A truly delightful find! This is the transform... 2017-08-16 16:44:52  \n",
       "387  New owners turned it into a double threat: Bad... 2014-07-28 08:24:51  \n",
       "887  The burgers are amazing! French fries are dece... 2012-11-07 02:38:30  \n",
       "926  Yummy food,  they will veganize things for you... 2013-12-28 22:22:19  "
      ]
     },
     "execution_count": 6,
     "metadata": {},
     "output_type": "execute_result"
    }
   ],
   "source": [
    "# Se define una lista con todos los id de restaurantes latinoamericanos:\n",
    "latin_business_id = ['VeFfrEZ4iWaecrQg6Eq4cg', 'UX3eq0WsVva-cqlVrzyzFg',\n",
    "       'YhQAQhG1IkXJH7oLZMbM9w', 'RCguFZat10TcbDMeeeM3IQ',\n",
    "       'zJFs_-Qtw7fzAsrQvA3Ltw', 'JYDd5sgn18DqDnTnq_tBRQ',\n",
    "       'k9A4tAmei12tLprkrNPkcg', '1FURjeGJi_LBXcJQg8eskw',\n",
    "       'rSe2uJ54OG3ytfTBIzW8Nw', 'w18LqIckdMOK7-PU49KBsQ',\n",
    "       'GEGTsaKaO1R9fFB4sGS5qw', 'Qi-A4ZgcEuSnq_8Fpfo_3Q',\n",
    "       'Wy8Hswf2cLQGRZN6armkag', 'sGLDJ4V4ezZZemFHCa0z_g',\n",
    "       'HQmvpld1zlz-Q1ym8pRWAw', 'lOX7LiFDr4FEUZX5AWjXag',\n",
    "       'WR3EvRMn2M5JzXzeAgjdMQ', 'jfIWqMrdWnPNORcDnQ7VNg',\n",
    "       '6kPHr6gZaU9732ptn9gJrA', 'tr366vgAkbcpJBVKSdBxZg',\n",
    "       'uO39--k_hrCFgZh-Bl8m8A', 'W8Z4rXYkmZlEVSaxIVjyvg',\n",
    "       'bKgyXSQUGA8IHGt8ne5NuA', 'vyyr3G874jpRYSQo2KPZow',\n",
    "       'ygZyTUWS4dbVL8d6vAiN4A', 'T_3a0PL3DWpn6HupP87UXQ',\n",
    "       'xuRMyMcjVT0PXdGwJ7weoQ', 'Ifw5wqcChnL4zBigtR7NKA',\n",
    "       'e66EsIDcYISTRTtr3X4Nsw', '0GsYSmfpsUpnTnxYbH045A',\n",
    "       'kDo_9xc1PLlwgY_98qfi4w', 'CPPOKMjjE3-au0BWdbC95Q',\n",
    "       'i8d8SAkHHi1t9qvu6BLvVQ', '6mnotS2bl54IN7ofeoJqgQ',\n",
    "       'ZU9RrYZxqZufw0ya_HRqJw', 'haQDlvoWQA1wTTkdcuWWTw',\n",
    "       'YCHBSWYErsKAI9AXeoPxhQ', 'SB0OKzWC1u5j-eE5jA_s7w',\n",
    "       'GOpozpcZTnsYrDmyR4aCYw', 'Y87bVaGb0WU9PIHN1S-AWA',\n",
    "       'NnAfFmqKH3PBeigmuAeFNA', 'jZncFsMQdrq268OHq_Q6uw',\n",
    "       '29fX9PdevQa5LZavVDJsbw', 'Pn6DJKn5eJjZaxDGj8GCCg',\n",
    "       '6TciI6uBdrd8z1av1YleLg', 'g82DuEDwnMrUQa7eSpGzAA',\n",
    "       'tS47dXDlx9t-6B_F56cKUA', 'FwR7yomHU8D38q_CDtxjjw',\n",
    "       'JxC9SCQF4aS2lHhRNkKjsQ', 'g5J9OJ5e8SgLYd2DL8_K9w',\n",
    "       'onLwomlGswMhhmOEAeAVEg', 'DRjFU65k6Iu4tfDZuDkc2A',\n",
    "       '78Zltl955e25PzcLfA4uNQ', '3Sb8JA3-URa4ElbRjAhkgQ',\n",
    "       'PNVbv2kyUIHeJTDPis2gRg', 'EtM079Cj7-B3G7jPsGYb_Q',\n",
    "       'mMKfNTiHHzZe7eAwJcX9ng', 'nVH5s77APFZwabAg7g3xTw',\n",
    "       'R6vMJHcZLYYLdYUhPEYvPw', 'jfW3_wYOj09pCOHJQB74_w',\n",
    "       'BaWVwChTW_MqkKru_WZp3g', 'yIwyHB7OfGl8pyQ3BXwWZg',\n",
    "       'uAev1kjwzm9_XJqk_CollQ', '2IlpNSW0oHFyedaWCt5eJg',\n",
    "       'lu2UpRHLBZfvLG_caNEHKQ', '7kLn2XsFwyJ-yFn4qx40TQ',\n",
    "       '6RBZfirnzE4NahJTn1UPNA', 'Q54wPRfbmO8egJeVTmSkYQ',\n",
    "       'J3Jnm1G1h6tBxsgjU9fqxQ', 'h_6ioAoKNLi01kPhoGDArg',\n",
    "       'lbTRwl7ZwrgQ7PQtR6hV3g', 'cbX2XHrun39yJBND451_oA',\n",
    "       'rwd4rGpYxiCXvgMV49sYAw', 'fkLNFt-UQkcCxdt_PBHelA',\n",
    "       'hT5UJB4LmoB6MTeDZIi1BA', 'S9WG-ZBwLVj2eCB6_0P0MQ',\n",
    "       'CUWituEeIX3xA0xU7X82Ow', 'YGgGefpPTFhgthvQvMAGoQ',\n",
    "       'ZYqNIWch6Ik9wLZCa1hxkw', 'okc-iCgWvKGa1DfQSOh1Ig',\n",
    "       '4s7cFr4U7J7eYnwa3Suzfw', 'vbH8RTnw5UD6m3lFV-NeJQ',\n",
    "       'RKuAfE06rDcetvOTI5MbbA', 'FE5R_F7svUphKeUWuxA0JA',\n",
    "       'zJpZ-uQ_F0XVgK1u98uWSg', 'JZrspVMm79n_iHTYftkI0g',\n",
    "       'KSGNi_Fjd2wfj-M_XV7s5Q', 'dKuyGAWF7ghBLbZAZIBC3Q',\n",
    "       'zBfYuwdybeMHfLuUbO1Ung', 'I0ueofqd_oBxaHWKSjCpMQ',\n",
    "       'V5vBQ_LyE99i4EcfjAtyVw', 'Un-UDVOuv1co3TMmGaumxA',\n",
    "       '2OJqIloZMAZXCW3uzF8jJw', 'Bc3C4rM1TVZTJzKEN6REtQ',\n",
    "       'tc_nZBQ46584iOXQgdlBtg', 'IDyJPdJ-zTXJ_FSSOMOgbg',\n",
    "       'kMWnmOpMoUk-ZSBtHuHnUg', 'IJ3Zy4pqsUw_HjjFm0iL_w',\n",
    "       'KTR4RAO6WsQBKferwFXbAA', 'nYPzsOjvida-ne7swSPHpA',\n",
    "       '9ugpNKKhnYRa51qXoxUw_A', 'axBd0qwqV-V0DCVVGpsNmQ',\n",
    "       'v6VojlJI0E70pAArNYmGpA', 'eTMJNDgD-uWvrLDcoED7JA',\n",
    "       'EyUo5RuibQLANooRVb2V1g', 'Kinh3GIoiJvBMaSsZJFRLQ',\n",
    "       '4RLS-xn9hHxm8-HTLXf8Og', 'xqq6XPOWaTAaZQjX6O1-CA',\n",
    "       'Cm8kELxjGucOpNkzMq7UHg', 'XG-TaijaXQGFpuTZmnt2LA',\n",
    "       'fcT7GsBZCm8HSibz6hRKhQ', '-pjWlAzv4qRxB3Gu1D4t6A',\n",
    "       'WSTHt05P3StKotZm1T5MzQ', 'd0ybsdCs9S9DTDTxuwLbKg',\n",
    "       '3MgLckfXtG00QOyMpP4S-A', 'vbA_gS6GPzwMOx0TRoh-MA',\n",
    "       '8wktEb-euuXOi4fq1K4uGQ', 'JYVqfn8xRNIb-VFvsm-W2Q',\n",
    "       'YbE-dvcWOgTGPbvkYxr9XA', 'j3Ml_qEFnDOaH5miNzG6xw',\n",
    "       'Pkeen6G8FdgFyyE6VpZKoA', 'CfxaspC1y3xfmL_AnA-7MQ',\n",
    "       '4_DxnK_mefQ5KL5DF3MkJQ', 'UNTvAs-ObWrBXoxmO6qTwA',\n",
    "       'CkENBnSJFfPA1hY0qrqfCg', 'qP2-g2yWDgEsGNeI_vdJwg',\n",
    "       '3CdKup6WUOQI3LmOH7PhdA', 'IZJacI6XEUxy3_wbW76Qfw',\n",
    "       'PteL1rKpMHqoUG2huz7xtw', 'YHOr_9eSbIGhcecc4Uow6Q',\n",
    "       'e3oGqhgwyX4uCF8Fxb2RgQ', 'Ih6qAkEQRgk6zsaGTz5HUQ',\n",
    "       'CSZmpx5iQsXAl7Pkt4WNlw', 'w5hnyKz_DpIB4qp9JSDH_g',\n",
    "       'WAFpImG-SsFcZ96ILCopYg', 'x73A12BrNcRTvctBZWpXyA',\n",
    "       'A263bVzMdU_-TIMhewOrjQ', 'N2n_nuiXb64ak0BNvIYEcQ',\n",
    "       'SOKZiTA5hhGGsAuAIcAAPQ', 'd5jha0HH4SpUFnWpOMSoog',\n",
    "       'm1sOcBwZNfAT2aHXgHFFtQ', 'fHUAs1ec568wu-a_mRq7Rw',\n",
    "       'e8IBUW8tO5XlmgD4fSMtqA', 'bUlmX5ehFcy7vzli2tbaMw',\n",
    "       '0ZcYZNGb85gscHglo04qSA', 'c0p9TawJSQHchy5aL8NWgQ',\n",
    "       'F-NlTcl5BHb07E7TFb2TJw', 'SBrSBlFNRBN0bYI0xz56CQ',\n",
    "       '-ALqLSTzkGDMscHdxA1NgA', 'b1shfPbHpkeWtbGbz5iAtg',\n",
    "       'wvD7TOuE-qUhkyXoi8K8hA', 'l_slvEnh4v3W8BXF1gYlcQ',\n",
    "       'DxnbnDc2Bww20e2DBrc4Qw', 'eBxc95u_Gcs9bLST0UntOQ',\n",
    "       '2mdPuMX7lAh10EddfKetkQ', 'EWrHA28WLVpuuoktc0IqYA',\n",
    "       '0ac5lGA_0wdKDnib3y59Xg', '5drbv3fz5FTvp_Z3d3aPSQ',\n",
    "       'Pf_7rI6TnV8M_btOBBLg5w', '5tkZfqkwx6axbN9P5UlC8w',\n",
    "       'TZ1CdCL9b2QKoxI5z7RaBA', 'O8rIa0Wvapju2iC9T1Hp8Q',\n",
    "       '2_G-F1j0pyhGkC6zlV1dKg', 'mVSwg_lB45y2dDNknx2-Dg',\n",
    "       '2MWEEuY3dtD2DNP99sNe_A', 'F88yRsOo9Eqo-0oxs8U1OQ',\n",
    "       'UEOclIj9IgGqsDWv0cAkTA', 'SMJkOa60d1fmAyNWeSPfOg',\n",
    "       'Hj5K3FMO8DoG7x8XALgISg', 'bYum3qt9iFUZijnDeFQCYw',\n",
    "       'TtUjKI-C8wFeoEwTApPi-g', 'CEvOc7jNLqEGVdCzNWO2xw',\n",
    "       '2Qfh6SO3pikeGUJyv4B5RA', 'MwJsk91FJ73YzzmpVaJihQ',\n",
    "       'LlGIlNJE2Nv_PXkH7l4Wmg', 'Wx2G_Vbly6uHK4kuAeEg6A',\n",
    "       'DqVpNtgFCP47n6frh-LREA', 'pKSB4wXLiS8rd1cAEgD8oA',\n",
    "       'NJvh3pLAPYGFvk6qBKVg3g', 'ia8qPXo69K4kS4_gV_pI6w',\n",
    "       'sP_TWRfpjgQc4mMz8ZwB3A', 'UO-QrBeJYDiIfGm5oZgL2g',\n",
    "       'h8DlM-VbvCNzpsTqihgUAw', '-t29rrypP0eQdTeQ3YErdg',\n",
    "       'f3eve2cxUIzyanWnHdMtFQ', 'R9LZdaXd-PZIV2kjkGNk4w',\n",
    "       'Hng1aV3UUJEtqwr_hGxciA', 'CV6Jn7-_7OiIVjZLmPz95g',\n",
    "       'jWgZRpdHy8csA1sUz1auSw', 'W7zCBDLFv13fDzRXJefrrA',\n",
    "       'Myi13DxTqAfilYMerl9CPQ', '4VW4_ghjdYw0Wl40Voa9cw',\n",
    "       'fcIYBxkw9pi8J1jE-Bc1QQ', 'tf6S06LD09IFDHUpOPqPaw',\n",
    "       'D_WS8rM-DVygaCKbIErZ6Q', 'CaQNvsHVpWuDWTyHVyuU_Q',\n",
    "       '7qO-JzbR_0TsQLKEnjPFkg', '-NXRuUsazxXZZ_OHwmtYtw',\n",
    "       'sk0IM8koYo1o9-k_rpkmxQ', 'v4vL6XCqJHkxTDTS8HmgKQ',\n",
    "       'YXKot5TH9MhC4khAn0JC3w', '_Q0ZBYz9eokL20qGTyfxxQ',\n",
    "       'JLV6DlY2_86blXAgQ8LG9w', '-Q5QwYaQmg_AQ6N6yUk4Pg',\n",
    "       'wNT5VL1LZHz6KIAy5dUN4Q', 'kAbNkppZFbfNyDE3lHRgww',\n",
    "       'FGbflqBM97jbFhu-9qD9ww', 'jFn5pbJySxsPk0kaZfw5ig',\n",
    "       'uihNp1cyWmHkma4U0MJHow', 'vj6AetpADpHOYtMRZsXX3g',\n",
    "       'jfZqwEGa0uqG4WjkYQhF8g', 'TebJaTyTkScemRVHZUAPoA',\n",
    "       '1GyeTrz-OR_ygxyT8Gzk_w', 'AFZTm786brtTbEc5yYBgfA',\n",
    "       'NIqFlHurHm0cj6QXczYbEQ', 'bqAwBg211dfN4cCb7NRpsQ',\n",
    "       'C0swiSrrDqxST42xF10nsA', '7n5ouW5hF4JTN1O3tvEGMA',\n",
    "       'B4BimyYn9-uBBDcx3wIebg', 'PilMA5jBSjfh2rlCLG50Cw',\n",
    "       'zhg9prrh_mc-mH5m1Vw7iw', 'Shp9xxBbDyTR6__nVh4XQA',\n",
    "       'x2WLaFlWmF8RoC4ZRTUU6g', 'ICSLQrp1gPPNGkwUeUAAtg',\n",
    "       'VqcHpG3ODZ4KHBhbxcL4-Q', 'apQiHqR6V7qFWOfFXV1FuA',\n",
    "       'S2HrD4JYvv3HaRnDMdQlSw', 'jmtDnQIeTgkjbGgazIJxFw',\n",
    "       'lZZogy-J9tDSFp4jMqVUHw', 'vi5xjfEhV6rnXrC_GbdhnA',\n",
    "       '92Z2WFvC86Qy3TOI-oBGVg', 'cRvoGf7krkQKF85UvOQo_A',\n",
    "       'sphMtkeFB-CLkPpJrpsFCA', 'nQWPadbkHFU-K6C4rhNRlA',\n",
    "       '2Y0L3Hf6U-76jGvviKy5pA', '_vLfidpLDYHfZ_KnFZ75Lg',\n",
    "       'UBIG1I0th2sSLekfXo-7jA', '3I-jEV_Iuz_tFpgCqL3sGw',\n",
    "       'RRGLss4hhvZZuR0N6GQlSw', 'aNVHwcunSE7aPSc4AKRy6w',\n",
    "       'm4kvY0viCwxqRtgOycnKVQ', 'cCD0ad9z0ZJjHLZsH8bfRQ',\n",
    "       'Ak4vFqHZUWU5KXONRnuieQ', 'lm2ZtQMo_CjTI4LFcxsDfA',\n",
    "       '2h3SEwpI6fiuTF9mcN1S_Q', 'lWnqWDfcISTHnL973Uwplg',\n",
    "       '5H8WYKx5hayYr9e88w5uug', '8ALvS0Fjq1qTJVqVRGgRuw',\n",
    "       'zlVXs63KhHXx7n-vnhyITw', 'xkU1aCQVrAmomsjJCc1QpQ',\n",
    "       '4FdsX3MbkcdBRAr1aymF6A', 'cuVZh35VKHs6GNlACFlhvw',\n",
    "       'N12Pwub9Tj-5AhuPfbj-Mg', 'qdCGZDlBuetCWcV9rrU05Q',\n",
    "       '9bh2bRGo_FQZmZciQHqYJw', 'VCwxG-i9zG7u3ahqBoT1wA',\n",
    "       'KPIlgtsj0cTkrXQLCsQe3Q', 's7bEswkllzEcwUug3QSq7A',\n",
    "       'PrJEYGjlhaF0BSZk_Q-uPg', 'd35qSICZEJDIuGUIUIbkgw',\n",
    "       '-9r8nAzWyRSLxBWt8uQOdA', 'lTM5zlSLwTO1glMBM_6-pw',\n",
    "       '0dtk2LY38O1Xw1X3P3JDCA', 'k6Ptrc94R-Mk549pDEVTFA',\n",
    "       'F0XEnuOCjrofiy_sZ2DHfg', 'bRlpi6k7wTSHHEapcLz_KA',\n",
    "       '6RBrYMiAf8jFJI4fDoQpcw', 'beZDxtr75KdlsQm4_kezng',\n",
    "       '2QaNH5-RCRNIkToUOBc22Q', 'eTVtHkrdoh8plErbmRhTfw',\n",
    "       'tthy48ZIX_wfY8Dy0Dvg6w', '0-CQlqMMOrwMhy4EgW4tfw',\n",
    "       'mcASmsTUe9rREQV2d8a3WQ', 'oYireVavpwflbyWes2BsqQ',\n",
    "       'p_o3aPW8ijf56uDbERovPA', 'ziXR7sUrbKRCNeDqfjibUg',\n",
    "       'efVIzblU_vipRXXrf0ioXw', 'pcRQ_Ctv-g4upVQH2qwytw',\n",
    "       'bEw98BIWaAUjL7VNpZ7Crg', 'sbMSJv0Y4-kF9ZTxlFeKvw',\n",
    "       'nkLMKd8nUt43qUWhg-SWew', 'PPPH6dD6Cw8wQPIiFDxbRA',\n",
    "       'l7NDxnGzb6z2_H08rtfS0w', '8cc3Pmdz7SblEBVDt1eEAA',\n",
    "       'zhn28iqIxCTD7hQX7t04gg', 'b5hxsRw76UUXcotxlCipuQ',\n",
    "       'WvJK_8yIXOeIFbfV2ugaWw', 'WIH1ptTMD7aII_qfeVeaRg',\n",
    "       'Tc1L4BH_2pkCywkAEfCQRg', '6DSwG39rfdeeKz22KiRBbA',\n",
    "       'AzZqXglv_puXwd4kCvM7ew', 'YFy2pYLTvV8az7GYeuw_Ew',\n",
    "       '7-d-zyz1dCqPb2K5l3Kg5g', 'bBA62rVklEG2WUnvi8RtrQ',\n",
    "       'J1O6PznPMZaQi_qp0o-D-g', '8_r9EZL6vX5fPBoVh3gUrA',\n",
    "       '7An2yCegdvJCFrKeNf9zDg', 'NpoQttFO5gPPYsfJTcT71A',\n",
    "       'cWcKC9ytDyW3dbqxjb250w', 'YNP9czXLpMaEXZh4Bpi1Jw',\n",
    "       'L6VBcqoWraMqx39bDdYR0A', 'yPSejq3_erxo9zdVYTBnZA',\n",
    "       'L-a2HnWGhY-7T6pvZvicDA', 'Rl42JbSMsmNW3LRjsTMYAg',\n",
    "       '7c0jUMLFVKlyjPUvS6AXAQ', 'xuAdfXq91Jl2Xyzfkfu2Tw',\n",
    "       'oysMjeirauXKhRklyGy8Dw', 'vNRTLUP22o1X3sMURoiB9A',\n",
    "       's-kBvCb79CQlEZ0-_3nVaw', 'NHnrldYJxgr5_sAWsUi-Uw',\n",
    "       'qXkrrQPVesVxJwEfhFYH2g', 'aOVSb6B6DlqVaBJ04dmPxQ',\n",
    "       'WUGRmrfSzQCyeG6mYAM-vw', 'w79qtK0PpeDWrnY7E-uTRg',\n",
    "       '8QqnRpM-QxGsjDNuu0E57A', 'MxJ6cYihCfxwjqUkxRwCfA',\n",
    "       '8md5XblqdkodMuXUQdkM-g', '6sCF2c0_SuW7EACzhnEMrA',\n",
    "       'gItWMfgXm568VI85W4cBSw', '2aP9wvEqpGLLDVpWTWlAog',\n",
    "       'AFtvhV2SaqJIoxmFroDKVw', 'IPhNJz_PZQxjTXnC94YdNQ',\n",
    "       '1TJiHekuN26Y2W7n28olYA', 'ZLBdlYU_fKxx8H4GZVHIgA',\n",
    "       '0SC3T3NilOSzSnZ3EKEqkA', 'Q_kP5O8EfknEiZUeMR4Gow',\n",
    "       'Zz-AvfeVUi3Z9KYHsRVxng', '0vI6ceUOgRhLCkGrSryYFQ',\n",
    "       'EUBYSKbHB26TzCJpmP6y9A', 'SQLR69gbo44FL1zhGA4sIA',\n",
    "       'XfMCT_X3JSdhxboAXVeQ7Q', 'KSYONgGtrK0nKXfroB-bwg',\n",
    "       'ICJE_-SCNJAHDtUpK1O0nw', 'GRmG8w-guTT3Wp-MoRSQpA',\n",
    "       'PsO9LleYQJlFc_r-DJxVzg', '6XCjqn2qDDdVTDyzKde1gw',\n",
    "       'lXCa6VyCtBSASrsq0QqooQ', 'iT78kOB6Ja3BJQdYipPa5g',\n",
    "       'c1tH5Btm_f7SQ-6ju22wag', 'vyOVT4bcW227LRwJGHTeSw',\n",
    "       'YQmSQs0WDwMDLmU3Yfj0jw', 'Hlx8S2GLF7hMuIKx4sU-gg',\n",
    "       '9vxRTTRGxX4EthzqI7QgCw', 'y77Rf5aezhj92pi1juN93g']\n",
    "\n",
    "# Se filtran las reviews:\n",
    "yelp_latin_rev = df_reviews1[df_reviews1[\"business_id\"].isin(latin_business_id)]\n",
    "yelp_latin_rev.head()"
   ]
  },
  {
   "cell_type": "code",
   "execution_count": 7,
   "metadata": {},
   "outputs": [
    {
     "name": "stdout",
     "output_type": "stream",
     "text": [
      "<class 'pandas.core.frame.DataFrame'>\n",
      "Index: 32812 entries, 73 to 3499909\n",
      "Data columns (total 9 columns):\n",
      " #   Column       Non-Null Count  Dtype         \n",
      "---  ------       --------------  -----         \n",
      " 0   review_id    32812 non-null  object        \n",
      " 1   user_id      32812 non-null  object        \n",
      " 2   business_id  32812 non-null  object        \n",
      " 3   stars        32812 non-null  int64         \n",
      " 4   useful       32812 non-null  int64         \n",
      " 5   funny        32812 non-null  int64         \n",
      " 6   cool         32812 non-null  int64         \n",
      " 7   text         32812 non-null  object        \n",
      " 8   date         32812 non-null  datetime64[ns]\n",
      "dtypes: datetime64[ns](1), int64(4), object(4)\n",
      "memory usage: 2.5+ MB\n"
     ]
    }
   ],
   "source": [
    "# Se controla la info general del dataset\n",
    "yelp_latin_rev.info()"
   ]
  },
  {
   "cell_type": "markdown",
   "metadata": {},
   "source": [
    "Se eliminan las columnas que no aportan al análisis y se resetea el índice:"
   ]
  },
  {
   "cell_type": "code",
   "execution_count": 8,
   "metadata": {},
   "outputs": [],
   "source": [
    "yelp_latin_rev = yelp_latin_rev.drop(columns=[\"useful\", \"funny\", \"cool\"]).reset_index(drop=True)"
   ]
  },
  {
   "cell_type": "code",
   "execution_count": 9,
   "metadata": {},
   "outputs": [],
   "source": [
    "# BORRAR\n",
    "yelp_latin_rev.to_parquet(\"Reviews_latin1.parquet\")"
   ]
  },
  {
   "cell_type": "markdown",
   "metadata": {},
   "source": [
    "### Parte 2"
   ]
  },
  {
   "cell_type": "code",
   "execution_count": 10,
   "metadata": {},
   "outputs": [],
   "source": [
    "# Se define la segunda mitad del dataframe\n",
    "dfs2 = dfs[corte:]\n",
    "df_reviews2 = pd.concat(dfs2, axis=0, ignore_index=True)"
   ]
  },
  {
   "cell_type": "code",
   "execution_count": 11,
   "metadata": {},
   "outputs": [
    {
     "name": "stdout",
     "output_type": "stream",
     "text": [
      "<class 'pandas.core.frame.DataFrame'>\n",
      "RangeIndex: 3490280 entries, 0 to 3490279\n",
      "Data columns (total 9 columns):\n",
      " #   Column       Dtype         \n",
      "---  ------       -----         \n",
      " 0   review_id    object        \n",
      " 1   user_id      object        \n",
      " 2   business_id  object        \n",
      " 3   stars        int64         \n",
      " 4   useful       int64         \n",
      " 5   funny        int64         \n",
      " 6   cool         int64         \n",
      " 7   text         object        \n",
      " 8   date         datetime64[ns]\n",
      "dtypes: datetime64[ns](1), int64(4), object(4)\n",
      "memory usage: 239.7+ MB\n"
     ]
    }
   ],
   "source": [
    "# Se controla la info general del dataset:\n",
    "df_reviews2.info()"
   ]
  },
  {
   "cell_type": "code",
   "execution_count": 11,
   "metadata": {},
   "outputs": [
    {
     "data": {
      "text/plain": [
       "review_id      0\n",
       "user_id        0\n",
       "business_id    0\n",
       "stars          0\n",
       "useful         0\n",
       "funny          0\n",
       "cool           0\n",
       "text           0\n",
       "date           0\n",
       "dtype: int64"
      ]
     },
     "execution_count": 11,
     "metadata": {},
     "output_type": "execute_result"
    }
   ],
   "source": [
    "# Se controla la cantidad de valores nulos:\n",
    "df_reviews2.isnull().sum()"
   ]
  },
  {
   "cell_type": "code",
   "execution_count": 13,
   "metadata": {},
   "outputs": [
    {
     "data": {
      "text/plain": [
       "0"
      ]
     },
     "execution_count": 13,
     "metadata": {},
     "output_type": "execute_result"
    }
   ],
   "source": [
    "# Se controla la cantidad de valores duplicados:\n",
    "df_reviews2.duplicated().sum()"
   ]
  },
  {
   "cell_type": "markdown",
   "metadata": {},
   "source": [
    "Se filtran las reviews de los \"busines_id\" de restaurantes latinoamericanos:"
   ]
  },
  {
   "cell_type": "code",
   "execution_count": 12,
   "metadata": {},
   "outputs": [
    {
     "data": {
      "text/html": [
       "<div>\n",
       "<style scoped>\n",
       "    .dataframe tbody tr th:only-of-type {\n",
       "        vertical-align: middle;\n",
       "    }\n",
       "\n",
       "    .dataframe tbody tr th {\n",
       "        vertical-align: top;\n",
       "    }\n",
       "\n",
       "    .dataframe thead th {\n",
       "        text-align: right;\n",
       "    }\n",
       "</style>\n",
       "<table border=\"1\" class=\"dataframe\">\n",
       "  <thead>\n",
       "    <tr style=\"text-align: right;\">\n",
       "      <th></th>\n",
       "      <th>review_id</th>\n",
       "      <th>user_id</th>\n",
       "      <th>business_id</th>\n",
       "      <th>stars</th>\n",
       "      <th>useful</th>\n",
       "      <th>funny</th>\n",
       "      <th>cool</th>\n",
       "      <th>text</th>\n",
       "      <th>date</th>\n",
       "    </tr>\n",
       "  </thead>\n",
       "  <tbody>\n",
       "    <tr>\n",
       "      <th>26</th>\n",
       "      <td>s0HjHNx4fowUvVintZWMnw</td>\n",
       "      <td>uHRPGEXsWjDNVzUrhErsGQ</td>\n",
       "      <td>vj6AetpADpHOYtMRZsXX3g</td>\n",
       "      <td>4</td>\n",
       "      <td>0</td>\n",
       "      <td>0</td>\n",
       "      <td>0</td>\n",
       "      <td>Great food, a little pricey for lunch, but wel...</td>\n",
       "      <td>2014-03-14 21:57:26</td>\n",
       "    </tr>\n",
       "    <tr>\n",
       "      <th>199</th>\n",
       "      <td>3e51GqqSToB4uEKdsu2MDQ</td>\n",
       "      <td>04dMX-XE0wBhkkP3w_LfZA</td>\n",
       "      <td>f3eve2cxUIzyanWnHdMtFQ</td>\n",
       "      <td>5</td>\n",
       "      <td>1</td>\n",
       "      <td>0</td>\n",
       "      <td>1</td>\n",
       "      <td>A bit of a long line to order, but the gentlem...</td>\n",
       "      <td>2017-12-30 03:21:37</td>\n",
       "    </tr>\n",
       "    <tr>\n",
       "      <th>252</th>\n",
       "      <td>EbUmUgxHbRy7P4_jE6dw5Q</td>\n",
       "      <td>ZSn-67mFZZaoiacWPZY3Jw</td>\n",
       "      <td>vj6AetpADpHOYtMRZsXX3g</td>\n",
       "      <td>2</td>\n",
       "      <td>0</td>\n",
       "      <td>0</td>\n",
       "      <td>0</td>\n",
       "      <td>I ordered the halibut and shrimp burrito to go...</td>\n",
       "      <td>2018-08-23 23:10:35</td>\n",
       "    </tr>\n",
       "    <tr>\n",
       "      <th>430</th>\n",
       "      <td>owsDE0VbcW99J14KC7GmYA</td>\n",
       "      <td>ArGMmzdgt1j7v7_5eQ2O-A</td>\n",
       "      <td>tf6S06LD09IFDHUpOPqPaw</td>\n",
       "      <td>5</td>\n",
       "      <td>0</td>\n",
       "      <td>0</td>\n",
       "      <td>0</td>\n",
       "      <td>The best seafood tacos for the price in Santa ...</td>\n",
       "      <td>2017-03-15 18:41:33</td>\n",
       "    </tr>\n",
       "    <tr>\n",
       "      <th>455</th>\n",
       "      <td>gfJB2KC5DbKmC6v7Iw4fJg</td>\n",
       "      <td>5EnJXSSAvoB7MQT2u6A9cw</td>\n",
       "      <td>wNT5VL1LZHz6KIAy5dUN4Q</td>\n",
       "      <td>4</td>\n",
       "      <td>2</td>\n",
       "      <td>0</td>\n",
       "      <td>0</td>\n",
       "      <td>Work had Tarzan's Tacos truck stop by for lunc...</td>\n",
       "      <td>2017-11-07 00:46:37</td>\n",
       "    </tr>\n",
       "  </tbody>\n",
       "</table>\n",
       "</div>"
      ],
      "text/plain": [
       "                  review_id                 user_id             business_id  \\\n",
       "26   s0HjHNx4fowUvVintZWMnw  uHRPGEXsWjDNVzUrhErsGQ  vj6AetpADpHOYtMRZsXX3g   \n",
       "199  3e51GqqSToB4uEKdsu2MDQ  04dMX-XE0wBhkkP3w_LfZA  f3eve2cxUIzyanWnHdMtFQ   \n",
       "252  EbUmUgxHbRy7P4_jE6dw5Q  ZSn-67mFZZaoiacWPZY3Jw  vj6AetpADpHOYtMRZsXX3g   \n",
       "430  owsDE0VbcW99J14KC7GmYA  ArGMmzdgt1j7v7_5eQ2O-A  tf6S06LD09IFDHUpOPqPaw   \n",
       "455  gfJB2KC5DbKmC6v7Iw4fJg  5EnJXSSAvoB7MQT2u6A9cw  wNT5VL1LZHz6KIAy5dUN4Q   \n",
       "\n",
       "     stars  useful  funny  cool  \\\n",
       "26       4       0      0     0   \n",
       "199      5       1      0     1   \n",
       "252      2       0      0     0   \n",
       "430      5       0      0     0   \n",
       "455      4       2      0     0   \n",
       "\n",
       "                                                  text                date  \n",
       "26   Great food, a little pricey for lunch, but wel... 2014-03-14 21:57:26  \n",
       "199  A bit of a long line to order, but the gentlem... 2017-12-30 03:21:37  \n",
       "252  I ordered the halibut and shrimp burrito to go... 2018-08-23 23:10:35  \n",
       "430  The best seafood tacos for the price in Santa ... 2017-03-15 18:41:33  \n",
       "455  Work had Tarzan's Tacos truck stop by for lunc... 2017-11-07 00:46:37  "
      ]
     },
     "execution_count": 12,
     "metadata": {},
     "output_type": "execute_result"
    }
   ],
   "source": [
    "# Se define una lista con todos los id de restaurantes latinoamericanos:\n",
    "latin_business_id = ['VeFfrEZ4iWaecrQg6Eq4cg', 'UX3eq0WsVva-cqlVrzyzFg',\n",
    "       'YhQAQhG1IkXJH7oLZMbM9w', 'RCguFZat10TcbDMeeeM3IQ',\n",
    "       'zJFs_-Qtw7fzAsrQvA3Ltw', 'JYDd5sgn18DqDnTnq_tBRQ',\n",
    "       'k9A4tAmei12tLprkrNPkcg', '1FURjeGJi_LBXcJQg8eskw',\n",
    "       'rSe2uJ54OG3ytfTBIzW8Nw', 'w18LqIckdMOK7-PU49KBsQ',\n",
    "       'GEGTsaKaO1R9fFB4sGS5qw', 'Qi-A4ZgcEuSnq_8Fpfo_3Q',\n",
    "       'Wy8Hswf2cLQGRZN6armkag', 'sGLDJ4V4ezZZemFHCa0z_g',\n",
    "       'HQmvpld1zlz-Q1ym8pRWAw', 'lOX7LiFDr4FEUZX5AWjXag',\n",
    "       'WR3EvRMn2M5JzXzeAgjdMQ', 'jfIWqMrdWnPNORcDnQ7VNg',\n",
    "       '6kPHr6gZaU9732ptn9gJrA', 'tr366vgAkbcpJBVKSdBxZg',\n",
    "       'uO39--k_hrCFgZh-Bl8m8A', 'W8Z4rXYkmZlEVSaxIVjyvg',\n",
    "       'bKgyXSQUGA8IHGt8ne5NuA', 'vyyr3G874jpRYSQo2KPZow',\n",
    "       'ygZyTUWS4dbVL8d6vAiN4A', 'T_3a0PL3DWpn6HupP87UXQ',\n",
    "       'xuRMyMcjVT0PXdGwJ7weoQ', 'Ifw5wqcChnL4zBigtR7NKA',\n",
    "       'e66EsIDcYISTRTtr3X4Nsw', '0GsYSmfpsUpnTnxYbH045A',\n",
    "       'kDo_9xc1PLlwgY_98qfi4w', 'CPPOKMjjE3-au0BWdbC95Q',\n",
    "       'i8d8SAkHHi1t9qvu6BLvVQ', '6mnotS2bl54IN7ofeoJqgQ',\n",
    "       'ZU9RrYZxqZufw0ya_HRqJw', 'haQDlvoWQA1wTTkdcuWWTw',\n",
    "       'YCHBSWYErsKAI9AXeoPxhQ', 'SB0OKzWC1u5j-eE5jA_s7w',\n",
    "       'GOpozpcZTnsYrDmyR4aCYw', 'Y87bVaGb0WU9PIHN1S-AWA',\n",
    "       'NnAfFmqKH3PBeigmuAeFNA', 'jZncFsMQdrq268OHq_Q6uw',\n",
    "       '29fX9PdevQa5LZavVDJsbw', 'Pn6DJKn5eJjZaxDGj8GCCg',\n",
    "       '6TciI6uBdrd8z1av1YleLg', 'g82DuEDwnMrUQa7eSpGzAA',\n",
    "       'tS47dXDlx9t-6B_F56cKUA', 'FwR7yomHU8D38q_CDtxjjw',\n",
    "       'JxC9SCQF4aS2lHhRNkKjsQ', 'g5J9OJ5e8SgLYd2DL8_K9w',\n",
    "       'onLwomlGswMhhmOEAeAVEg', 'DRjFU65k6Iu4tfDZuDkc2A',\n",
    "       '78Zltl955e25PzcLfA4uNQ', '3Sb8JA3-URa4ElbRjAhkgQ',\n",
    "       'PNVbv2kyUIHeJTDPis2gRg', 'EtM079Cj7-B3G7jPsGYb_Q',\n",
    "       'mMKfNTiHHzZe7eAwJcX9ng', 'nVH5s77APFZwabAg7g3xTw',\n",
    "       'R6vMJHcZLYYLdYUhPEYvPw', 'jfW3_wYOj09pCOHJQB74_w',\n",
    "       'BaWVwChTW_MqkKru_WZp3g', 'yIwyHB7OfGl8pyQ3BXwWZg',\n",
    "       'uAev1kjwzm9_XJqk_CollQ', '2IlpNSW0oHFyedaWCt5eJg',\n",
    "       'lu2UpRHLBZfvLG_caNEHKQ', '7kLn2XsFwyJ-yFn4qx40TQ',\n",
    "       '6RBZfirnzE4NahJTn1UPNA', 'Q54wPRfbmO8egJeVTmSkYQ',\n",
    "       'J3Jnm1G1h6tBxsgjU9fqxQ', 'h_6ioAoKNLi01kPhoGDArg',\n",
    "       'lbTRwl7ZwrgQ7PQtR6hV3g', 'cbX2XHrun39yJBND451_oA',\n",
    "       'rwd4rGpYxiCXvgMV49sYAw', 'fkLNFt-UQkcCxdt_PBHelA',\n",
    "       'hT5UJB4LmoB6MTeDZIi1BA', 'S9WG-ZBwLVj2eCB6_0P0MQ',\n",
    "       'CUWituEeIX3xA0xU7X82Ow', 'YGgGefpPTFhgthvQvMAGoQ',\n",
    "       'ZYqNIWch6Ik9wLZCa1hxkw', 'okc-iCgWvKGa1DfQSOh1Ig',\n",
    "       '4s7cFr4U7J7eYnwa3Suzfw', 'vbH8RTnw5UD6m3lFV-NeJQ',\n",
    "       'RKuAfE06rDcetvOTI5MbbA', 'FE5R_F7svUphKeUWuxA0JA',\n",
    "       'zJpZ-uQ_F0XVgK1u98uWSg', 'JZrspVMm79n_iHTYftkI0g',\n",
    "       'KSGNi_Fjd2wfj-M_XV7s5Q', 'dKuyGAWF7ghBLbZAZIBC3Q',\n",
    "       'zBfYuwdybeMHfLuUbO1Ung', 'I0ueofqd_oBxaHWKSjCpMQ',\n",
    "       'V5vBQ_LyE99i4EcfjAtyVw', 'Un-UDVOuv1co3TMmGaumxA',\n",
    "       '2OJqIloZMAZXCW3uzF8jJw', 'Bc3C4rM1TVZTJzKEN6REtQ',\n",
    "       'tc_nZBQ46584iOXQgdlBtg', 'IDyJPdJ-zTXJ_FSSOMOgbg',\n",
    "       'kMWnmOpMoUk-ZSBtHuHnUg', 'IJ3Zy4pqsUw_HjjFm0iL_w',\n",
    "       'KTR4RAO6WsQBKferwFXbAA', 'nYPzsOjvida-ne7swSPHpA',\n",
    "       '9ugpNKKhnYRa51qXoxUw_A', 'axBd0qwqV-V0DCVVGpsNmQ',\n",
    "       'v6VojlJI0E70pAArNYmGpA', 'eTMJNDgD-uWvrLDcoED7JA',\n",
    "       'EyUo5RuibQLANooRVb2V1g', 'Kinh3GIoiJvBMaSsZJFRLQ',\n",
    "       '4RLS-xn9hHxm8-HTLXf8Og', 'xqq6XPOWaTAaZQjX6O1-CA',\n",
    "       'Cm8kELxjGucOpNkzMq7UHg', 'XG-TaijaXQGFpuTZmnt2LA',\n",
    "       'fcT7GsBZCm8HSibz6hRKhQ', '-pjWlAzv4qRxB3Gu1D4t6A',\n",
    "       'WSTHt05P3StKotZm1T5MzQ', 'd0ybsdCs9S9DTDTxuwLbKg',\n",
    "       '3MgLckfXtG00QOyMpP4S-A', 'vbA_gS6GPzwMOx0TRoh-MA',\n",
    "       '8wktEb-euuXOi4fq1K4uGQ', 'JYVqfn8xRNIb-VFvsm-W2Q',\n",
    "       'YbE-dvcWOgTGPbvkYxr9XA', 'j3Ml_qEFnDOaH5miNzG6xw',\n",
    "       'Pkeen6G8FdgFyyE6VpZKoA', 'CfxaspC1y3xfmL_AnA-7MQ',\n",
    "       '4_DxnK_mefQ5KL5DF3MkJQ', 'UNTvAs-ObWrBXoxmO6qTwA',\n",
    "       'CkENBnSJFfPA1hY0qrqfCg', 'qP2-g2yWDgEsGNeI_vdJwg',\n",
    "       '3CdKup6WUOQI3LmOH7PhdA', 'IZJacI6XEUxy3_wbW76Qfw',\n",
    "       'PteL1rKpMHqoUG2huz7xtw', 'YHOr_9eSbIGhcecc4Uow6Q',\n",
    "       'e3oGqhgwyX4uCF8Fxb2RgQ', 'Ih6qAkEQRgk6zsaGTz5HUQ',\n",
    "       'CSZmpx5iQsXAl7Pkt4WNlw', 'w5hnyKz_DpIB4qp9JSDH_g',\n",
    "       'WAFpImG-SsFcZ96ILCopYg', 'x73A12BrNcRTvctBZWpXyA',\n",
    "       'A263bVzMdU_-TIMhewOrjQ', 'N2n_nuiXb64ak0BNvIYEcQ',\n",
    "       'SOKZiTA5hhGGsAuAIcAAPQ', 'd5jha0HH4SpUFnWpOMSoog',\n",
    "       'm1sOcBwZNfAT2aHXgHFFtQ', 'fHUAs1ec568wu-a_mRq7Rw',\n",
    "       'e8IBUW8tO5XlmgD4fSMtqA', 'bUlmX5ehFcy7vzli2tbaMw',\n",
    "       '0ZcYZNGb85gscHglo04qSA', 'c0p9TawJSQHchy5aL8NWgQ',\n",
    "       'F-NlTcl5BHb07E7TFb2TJw', 'SBrSBlFNRBN0bYI0xz56CQ',\n",
    "       '-ALqLSTzkGDMscHdxA1NgA', 'b1shfPbHpkeWtbGbz5iAtg',\n",
    "       'wvD7TOuE-qUhkyXoi8K8hA', 'l_slvEnh4v3W8BXF1gYlcQ',\n",
    "       'DxnbnDc2Bww20e2DBrc4Qw', 'eBxc95u_Gcs9bLST0UntOQ',\n",
    "       '2mdPuMX7lAh10EddfKetkQ', 'EWrHA28WLVpuuoktc0IqYA',\n",
    "       '0ac5lGA_0wdKDnib3y59Xg', '5drbv3fz5FTvp_Z3d3aPSQ',\n",
    "       'Pf_7rI6TnV8M_btOBBLg5w', '5tkZfqkwx6axbN9P5UlC8w',\n",
    "       'TZ1CdCL9b2QKoxI5z7RaBA', 'O8rIa0Wvapju2iC9T1Hp8Q',\n",
    "       '2_G-F1j0pyhGkC6zlV1dKg', 'mVSwg_lB45y2dDNknx2-Dg',\n",
    "       '2MWEEuY3dtD2DNP99sNe_A', 'F88yRsOo9Eqo-0oxs8U1OQ',\n",
    "       'UEOclIj9IgGqsDWv0cAkTA', 'SMJkOa60d1fmAyNWeSPfOg',\n",
    "       'Hj5K3FMO8DoG7x8XALgISg', 'bYum3qt9iFUZijnDeFQCYw',\n",
    "       'TtUjKI-C8wFeoEwTApPi-g', 'CEvOc7jNLqEGVdCzNWO2xw',\n",
    "       '2Qfh6SO3pikeGUJyv4B5RA', 'MwJsk91FJ73YzzmpVaJihQ',\n",
    "       'LlGIlNJE2Nv_PXkH7l4Wmg', 'Wx2G_Vbly6uHK4kuAeEg6A',\n",
    "       'DqVpNtgFCP47n6frh-LREA', 'pKSB4wXLiS8rd1cAEgD8oA',\n",
    "       'NJvh3pLAPYGFvk6qBKVg3g', 'ia8qPXo69K4kS4_gV_pI6w',\n",
    "       'sP_TWRfpjgQc4mMz8ZwB3A', 'UO-QrBeJYDiIfGm5oZgL2g',\n",
    "       'h8DlM-VbvCNzpsTqihgUAw', '-t29rrypP0eQdTeQ3YErdg',\n",
    "       'f3eve2cxUIzyanWnHdMtFQ', 'R9LZdaXd-PZIV2kjkGNk4w',\n",
    "       'Hng1aV3UUJEtqwr_hGxciA', 'CV6Jn7-_7OiIVjZLmPz95g',\n",
    "       'jWgZRpdHy8csA1sUz1auSw', 'W7zCBDLFv13fDzRXJefrrA',\n",
    "       'Myi13DxTqAfilYMerl9CPQ', '4VW4_ghjdYw0Wl40Voa9cw',\n",
    "       'fcIYBxkw9pi8J1jE-Bc1QQ', 'tf6S06LD09IFDHUpOPqPaw',\n",
    "       'D_WS8rM-DVygaCKbIErZ6Q', 'CaQNvsHVpWuDWTyHVyuU_Q',\n",
    "       '7qO-JzbR_0TsQLKEnjPFkg', '-NXRuUsazxXZZ_OHwmtYtw',\n",
    "       'sk0IM8koYo1o9-k_rpkmxQ', 'v4vL6XCqJHkxTDTS8HmgKQ',\n",
    "       'YXKot5TH9MhC4khAn0JC3w', '_Q0ZBYz9eokL20qGTyfxxQ',\n",
    "       'JLV6DlY2_86blXAgQ8LG9w', '-Q5QwYaQmg_AQ6N6yUk4Pg',\n",
    "       'wNT5VL1LZHz6KIAy5dUN4Q', 'kAbNkppZFbfNyDE3lHRgww',\n",
    "       'FGbflqBM97jbFhu-9qD9ww', 'jFn5pbJySxsPk0kaZfw5ig',\n",
    "       'uihNp1cyWmHkma4U0MJHow', 'vj6AetpADpHOYtMRZsXX3g',\n",
    "       'jfZqwEGa0uqG4WjkYQhF8g', 'TebJaTyTkScemRVHZUAPoA',\n",
    "       '1GyeTrz-OR_ygxyT8Gzk_w', 'AFZTm786brtTbEc5yYBgfA',\n",
    "       'NIqFlHurHm0cj6QXczYbEQ', 'bqAwBg211dfN4cCb7NRpsQ',\n",
    "       'C0swiSrrDqxST42xF10nsA', '7n5ouW5hF4JTN1O3tvEGMA',\n",
    "       'B4BimyYn9-uBBDcx3wIebg', 'PilMA5jBSjfh2rlCLG50Cw',\n",
    "       'zhg9prrh_mc-mH5m1Vw7iw', 'Shp9xxBbDyTR6__nVh4XQA',\n",
    "       'x2WLaFlWmF8RoC4ZRTUU6g', 'ICSLQrp1gPPNGkwUeUAAtg',\n",
    "       'VqcHpG3ODZ4KHBhbxcL4-Q', 'apQiHqR6V7qFWOfFXV1FuA',\n",
    "       'S2HrD4JYvv3HaRnDMdQlSw', 'jmtDnQIeTgkjbGgazIJxFw',\n",
    "       'lZZogy-J9tDSFp4jMqVUHw', 'vi5xjfEhV6rnXrC_GbdhnA',\n",
    "       '92Z2WFvC86Qy3TOI-oBGVg', 'cRvoGf7krkQKF85UvOQo_A',\n",
    "       'sphMtkeFB-CLkPpJrpsFCA', 'nQWPadbkHFU-K6C4rhNRlA',\n",
    "       '2Y0L3Hf6U-76jGvviKy5pA', '_vLfidpLDYHfZ_KnFZ75Lg',\n",
    "       'UBIG1I0th2sSLekfXo-7jA', '3I-jEV_Iuz_tFpgCqL3sGw',\n",
    "       'RRGLss4hhvZZuR0N6GQlSw', 'aNVHwcunSE7aPSc4AKRy6w',\n",
    "       'm4kvY0viCwxqRtgOycnKVQ', 'cCD0ad9z0ZJjHLZsH8bfRQ',\n",
    "       'Ak4vFqHZUWU5KXONRnuieQ', 'lm2ZtQMo_CjTI4LFcxsDfA',\n",
    "       '2h3SEwpI6fiuTF9mcN1S_Q', 'lWnqWDfcISTHnL973Uwplg',\n",
    "       '5H8WYKx5hayYr9e88w5uug', '8ALvS0Fjq1qTJVqVRGgRuw',\n",
    "       'zlVXs63KhHXx7n-vnhyITw', 'xkU1aCQVrAmomsjJCc1QpQ',\n",
    "       '4FdsX3MbkcdBRAr1aymF6A', 'cuVZh35VKHs6GNlACFlhvw',\n",
    "       'N12Pwub9Tj-5AhuPfbj-Mg', 'qdCGZDlBuetCWcV9rrU05Q',\n",
    "       '9bh2bRGo_FQZmZciQHqYJw', 'VCwxG-i9zG7u3ahqBoT1wA',\n",
    "       'KPIlgtsj0cTkrXQLCsQe3Q', 's7bEswkllzEcwUug3QSq7A',\n",
    "       'PrJEYGjlhaF0BSZk_Q-uPg', 'd35qSICZEJDIuGUIUIbkgw',\n",
    "       '-9r8nAzWyRSLxBWt8uQOdA', 'lTM5zlSLwTO1glMBM_6-pw',\n",
    "       '0dtk2LY38O1Xw1X3P3JDCA', 'k6Ptrc94R-Mk549pDEVTFA',\n",
    "       'F0XEnuOCjrofiy_sZ2DHfg', 'bRlpi6k7wTSHHEapcLz_KA',\n",
    "       '6RBrYMiAf8jFJI4fDoQpcw', 'beZDxtr75KdlsQm4_kezng',\n",
    "       '2QaNH5-RCRNIkToUOBc22Q', 'eTVtHkrdoh8plErbmRhTfw',\n",
    "       'tthy48ZIX_wfY8Dy0Dvg6w', '0-CQlqMMOrwMhy4EgW4tfw',\n",
    "       'mcASmsTUe9rREQV2d8a3WQ', 'oYireVavpwflbyWes2BsqQ',\n",
    "       'p_o3aPW8ijf56uDbERovPA', 'ziXR7sUrbKRCNeDqfjibUg',\n",
    "       'efVIzblU_vipRXXrf0ioXw', 'pcRQ_Ctv-g4upVQH2qwytw',\n",
    "       'bEw98BIWaAUjL7VNpZ7Crg', 'sbMSJv0Y4-kF9ZTxlFeKvw',\n",
    "       'nkLMKd8nUt43qUWhg-SWew', 'PPPH6dD6Cw8wQPIiFDxbRA',\n",
    "       'l7NDxnGzb6z2_H08rtfS0w', '8cc3Pmdz7SblEBVDt1eEAA',\n",
    "       'zhn28iqIxCTD7hQX7t04gg', 'b5hxsRw76UUXcotxlCipuQ',\n",
    "       'WvJK_8yIXOeIFbfV2ugaWw', 'WIH1ptTMD7aII_qfeVeaRg',\n",
    "       'Tc1L4BH_2pkCywkAEfCQRg', '6DSwG39rfdeeKz22KiRBbA',\n",
    "       'AzZqXglv_puXwd4kCvM7ew', 'YFy2pYLTvV8az7GYeuw_Ew',\n",
    "       '7-d-zyz1dCqPb2K5l3Kg5g', 'bBA62rVklEG2WUnvi8RtrQ',\n",
    "       'J1O6PznPMZaQi_qp0o-D-g', '8_r9EZL6vX5fPBoVh3gUrA',\n",
    "       '7An2yCegdvJCFrKeNf9zDg', 'NpoQttFO5gPPYsfJTcT71A',\n",
    "       'cWcKC9ytDyW3dbqxjb250w', 'YNP9czXLpMaEXZh4Bpi1Jw',\n",
    "       'L6VBcqoWraMqx39bDdYR0A', 'yPSejq3_erxo9zdVYTBnZA',\n",
    "       'L-a2HnWGhY-7T6pvZvicDA', 'Rl42JbSMsmNW3LRjsTMYAg',\n",
    "       '7c0jUMLFVKlyjPUvS6AXAQ', 'xuAdfXq91Jl2Xyzfkfu2Tw',\n",
    "       'oysMjeirauXKhRklyGy8Dw', 'vNRTLUP22o1X3sMURoiB9A',\n",
    "       's-kBvCb79CQlEZ0-_3nVaw', 'NHnrldYJxgr5_sAWsUi-Uw',\n",
    "       'qXkrrQPVesVxJwEfhFYH2g', 'aOVSb6B6DlqVaBJ04dmPxQ',\n",
    "       'WUGRmrfSzQCyeG6mYAM-vw', 'w79qtK0PpeDWrnY7E-uTRg',\n",
    "       '8QqnRpM-QxGsjDNuu0E57A', 'MxJ6cYihCfxwjqUkxRwCfA',\n",
    "       '8md5XblqdkodMuXUQdkM-g', '6sCF2c0_SuW7EACzhnEMrA',\n",
    "       'gItWMfgXm568VI85W4cBSw', '2aP9wvEqpGLLDVpWTWlAog',\n",
    "       'AFtvhV2SaqJIoxmFroDKVw', 'IPhNJz_PZQxjTXnC94YdNQ',\n",
    "       '1TJiHekuN26Y2W7n28olYA', 'ZLBdlYU_fKxx8H4GZVHIgA',\n",
    "       '0SC3T3NilOSzSnZ3EKEqkA', 'Q_kP5O8EfknEiZUeMR4Gow',\n",
    "       'Zz-AvfeVUi3Z9KYHsRVxng', '0vI6ceUOgRhLCkGrSryYFQ',\n",
    "       'EUBYSKbHB26TzCJpmP6y9A', 'SQLR69gbo44FL1zhGA4sIA',\n",
    "       'XfMCT_X3JSdhxboAXVeQ7Q', 'KSYONgGtrK0nKXfroB-bwg',\n",
    "       'ICJE_-SCNJAHDtUpK1O0nw', 'GRmG8w-guTT3Wp-MoRSQpA',\n",
    "       'PsO9LleYQJlFc_r-DJxVzg', '6XCjqn2qDDdVTDyzKde1gw',\n",
    "       'lXCa6VyCtBSASrsq0QqooQ', 'iT78kOB6Ja3BJQdYipPa5g',\n",
    "       'c1tH5Btm_f7SQ-6ju22wag', 'vyOVT4bcW227LRwJGHTeSw',\n",
    "       'YQmSQs0WDwMDLmU3Yfj0jw', 'Hlx8S2GLF7hMuIKx4sU-gg',\n",
    "       '9vxRTTRGxX4EthzqI7QgCw', 'y77Rf5aezhj92pi1juN93g']\n",
    "\n",
    "# Se filtran las reviews:\n",
    "yelp_latin_rev2 = df_reviews2[df_reviews2[\"business_id\"].isin(latin_business_id)]\n",
    "yelp_latin_rev2.head()"
   ]
  },
  {
   "cell_type": "code",
   "execution_count": 13,
   "metadata": {},
   "outputs": [
    {
     "name": "stdout",
     "output_type": "stream",
     "text": [
      "<class 'pandas.core.frame.DataFrame'>\n",
      "Index: 29201 entries, 26 to 3490155\n",
      "Data columns (total 9 columns):\n",
      " #   Column       Non-Null Count  Dtype         \n",
      "---  ------       --------------  -----         \n",
      " 0   review_id    29201 non-null  object        \n",
      " 1   user_id      29201 non-null  object        \n",
      " 2   business_id  29201 non-null  object        \n",
      " 3   stars        29201 non-null  int64         \n",
      " 4   useful       29201 non-null  int64         \n",
      " 5   funny        29201 non-null  int64         \n",
      " 6   cool         29201 non-null  int64         \n",
      " 7   text         29201 non-null  object        \n",
      " 8   date         29201 non-null  datetime64[ns]\n",
      "dtypes: datetime64[ns](1), int64(4), object(4)\n",
      "memory usage: 2.2+ MB\n"
     ]
    }
   ],
   "source": [
    "# Se controla la info general del dataset\n",
    "yelp_latin_rev2.info()"
   ]
  },
  {
   "cell_type": "markdown",
   "metadata": {},
   "source": [
    "Se eliminan las columnas que no aportan al análisis y se resetea el indice:"
   ]
  },
  {
   "cell_type": "code",
   "execution_count": 14,
   "metadata": {},
   "outputs": [],
   "source": [
    "yelp_latin_rev2 = yelp_latin_rev2.drop(columns=[\"useful\", \"funny\", \"cool\"]).reset_index(drop=True)"
   ]
  },
  {
   "cell_type": "markdown",
   "metadata": {},
   "source": [
    "Por último, se concatenan los dos dataframes en uno sólo:"
   ]
  },
  {
   "cell_type": "code",
   "execution_count": 15,
   "metadata": {},
   "outputs": [
    {
     "name": "stdout",
     "output_type": "stream",
     "text": [
      "<class 'pandas.core.frame.DataFrame'>\n",
      "RangeIndex: 62013 entries, 0 to 62012\n",
      "Data columns (total 6 columns):\n",
      " #   Column       Non-Null Count  Dtype         \n",
      "---  ------       --------------  -----         \n",
      " 0   review_id    62013 non-null  object        \n",
      " 1   user_id      62013 non-null  object        \n",
      " 2   business_id  62013 non-null  object        \n",
      " 3   stars        62013 non-null  int64         \n",
      " 4   text         62013 non-null  object        \n",
      " 5   date         62013 non-null  datetime64[ns]\n",
      "dtypes: datetime64[ns](1), int64(1), object(4)\n",
      "memory usage: 2.8+ MB\n"
     ]
    }
   ],
   "source": [
    "yelp_latin_reviews = pd.concat([yelp_latin_rev, yelp_latin_rev2], axis=0, ignore_index=True)\n",
    "yelp_latin_reviews.info()"
   ]
  },
  {
   "cell_type": "markdown",
   "metadata": {},
   "source": [
    "Controlamos el **período temporal** del que disponemos información:"
   ]
  },
  {
   "cell_type": "code",
   "execution_count": 16,
   "metadata": {},
   "outputs": [
    {
     "name": "stdout",
     "output_type": "stream",
     "text": [
      "Fecha mínima: 2005-03-01 17:59:26\n",
      "Fecha máxima: 2022-01-19 18:07:42\n"
     ]
    }
   ],
   "source": [
    "print(\"Fecha mínima:\", yelp_latin_reviews[\"date\"].min())\n",
    "print(\"Fecha máxima:\", yelp_latin_reviews[\"date\"].max())"
   ]
  },
  {
   "cell_type": "markdown",
   "metadata": {},
   "source": [
    "Contamos con **reviews** realizadas **desde el año 2005 hasta enero de 2022**."
   ]
  },
  {
   "cell_type": "code",
   "execution_count": 17,
   "metadata": {},
   "outputs": [
    {
     "name": "stdout",
     "output_type": "stream",
     "text": [
      "<class 'pandas.core.frame.DataFrame'>\n",
      "RangeIndex: 62013 entries, 0 to 62012\n",
      "Data columns (total 6 columns):\n",
      " #   Column       Non-Null Count  Dtype \n",
      "---  ------       --------------  ----- \n",
      " 0   review_id    62013 non-null  object\n",
      " 1   user_id      62013 non-null  object\n",
      " 2   business_id  62013 non-null  object\n",
      " 3   stars        62013 non-null  int64 \n",
      " 4   text         62013 non-null  object\n",
      " 5   date         62013 non-null  object\n",
      "dtypes: int64(1), object(5)\n",
      "memory usage: 2.8+ MB\n"
     ]
    }
   ],
   "source": [
    "# Cambiamos el formato de la columna \"date\" de \"datetime\" a \"date\"\n",
    "yelp_latin_reviews[\"date\"] = yelp_latin_reviews[\"date\"].dt.date\n",
    "yelp_latin_reviews.info()"
   ]
  },
  {
   "cell_type": "markdown",
   "metadata": {},
   "source": [
    "Controlamos la **distribución** de las **valoraciones de usuarios**:"
   ]
  },
  {
   "cell_type": "code",
   "execution_count": 18,
   "metadata": {},
   "outputs": [
    {
     "data": {
      "image/png": "[encoded data removed]",
      "text/plain": [
       "<Figure size 640x480 with 1 Axes>"
      ]
     },
     "metadata": {},
     "output_type": "display_data"
    }
   ],
   "source": [
    "sns.histplot(data = yelp_latin_reviews, x = \"stars\", stat=\"count\", bins = 5)\n",
    "plt.ylabel('Cantidad de reviews')\n",
    "plt.xlabel('Estrellas')\n",
    "plt.title('Distribución de las valoraciones incluidas en las reviews')\n",
    "plt.show()"
   ]
  },
  {
   "cell_type": "markdown",
   "metadata": {},
   "source": [
    "Como podemos observar, **casi la mitad de las reviews** fueron **muy positivas**, ya que superan las 4 estrellas.\n",
    "\n",
    "Por último, exportamos el archivo filtrado en formato parquet:"
   ]
  },
  {
   "cell_type": "code",
   "execution_count": 19,
   "metadata": {},
   "outputs": [],
   "source": [
    "# Se exporta el archivo con las reviews de restaurantes latinos en formato parquet:\n",
    "yelp_latin_reviews.to_parquet(\"Reviews_Yelp.parquet\")"
   ]
  }
 ],
 "metadata": {
  "kernelspec": {
   "display_name": "Python 3",
   "language": "python",
   "name": "python3"
  },
  "language_info": {
   "codemirror_mode": {
    "name": "ipython",
    "version": 3
   },
   "file_extension": ".py",
   "mimetype": "text/x-python",
   "name": "python",
   "nbconvert_exporter": "python",
   "pygments_lexer": "ipython3",
   "version": "3.11.4"
  }
 },
 "nbformat": 4,
 "nbformat_minor": 2
}
