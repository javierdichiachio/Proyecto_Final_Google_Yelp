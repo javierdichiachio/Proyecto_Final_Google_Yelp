{
 "cells": [
  {
   "cell_type": "code",
   "execution_count": 3,
   "metadata": {},
   "outputs": [],
   "source": [
    "# En primer lugar, importamos las librerías necesarias:\n",
    "import pandas as pd\n",
    "import gc\n",
    "import matplotlib.pyplot as plt\n",
    "import seaborn as sns\n",
    "import warnings\n",
    "warnings.filterwarnings('ignore')\n",
    "sns.set()"
   ]
  },
  {
   "cell_type": "markdown",
   "metadata": {},
   "source": [
    "## Reviews de usuarios:"
   ]
  },
  {
   "cell_type": "markdown",
   "metadata": {},
   "source": [
    "Las reviews de los usuarios de Yelp se encuentran alojadas en un archivo JSON de gran tamaño, por lo que se realiza su apertura en partes o \"chunks\" para luego cargar en 2 diferentes dataframes:"
   ]
  },
  {
   "cell_type": "code",
   "execution_count": 3,
   "metadata": {},
   "outputs": [],
   "source": [
    "# Se determina la cantidad de datos por porción:\n",
    "chunk_size = 50000\n",
    "# Se carga la info en un dataframe de pandas \n",
    "chunks = pd.read_json(\"Datasets/review-001.json\", lines=True, chunksize=chunk_size)\n",
    "\n",
    "# Se crea una lista vacía donde se almacenarán los distintos dataframes\n",
    "dfs = []\n",
    "for chunk in chunks:\n",
    "    dfs.append(chunk)\n",
    "\n",
    "# Se define el punto de corte para separar al dataframe en 2:\n",
    "corte = int(len(dfs)/2)"
   ]
  },
  {
   "cell_type": "markdown",
   "metadata": {},
   "source": [
    "### Parte 1"
   ]
  },
  {
   "cell_type": "code",
   "execution_count": null,
   "metadata": {},
   "outputs": [],
   "source": [
    "# Se define la primera mitad del dataframe:\n",
    "dfs1 = dfs[:corte]\n",
    "df_reviews1 = pd.concat(dfs1, axis=0, ignore_index=True)"
   ]
  },
  {
   "cell_type": "code",
   "execution_count": 7,
   "metadata": {},
   "outputs": [
    {
     "name": "stdout",
     "output_type": "stream",
     "text": [
      "<class 'pandas.core.frame.DataFrame'>\n",
      "RangeIndex: 3500000 entries, 0 to 3499999\n",
      "Data columns (total 9 columns):\n",
      " #   Column       Dtype         \n",
      "---  ------       -----         \n",
      " 0   review_id    object        \n",
      " 1   user_id      object        \n",
      " 2   business_id  object        \n",
      " 3   stars        int64         \n",
      " 4   useful       int64         \n",
      " 5   funny        int64         \n",
      " 6   cool         int64         \n",
      " 7   text         object        \n",
      " 8   date         datetime64[ns]\n",
      "dtypes: datetime64[ns](1), int64(4), object(4)\n",
      "memory usage: 240.3+ MB\n"
     ]
    }
   ],
   "source": [
    "# Se controla la info general del dataset:\n",
    "df_reviews1.info()"
   ]
  },
  {
   "cell_type": "code",
   "execution_count": 8,
   "metadata": {},
   "outputs": [
    {
     "data": {
      "text/plain": [
       "review_id      0\n",
       "user_id        0\n",
       "business_id    0\n",
       "stars          0\n",
       "useful         0\n",
       "funny          0\n",
       "cool           0\n",
       "text           0\n",
       "date           0\n",
       "dtype: int64"
      ]
     },
     "execution_count": 8,
     "metadata": {},
     "output_type": "execute_result"
    }
   ],
   "source": [
    "# Se controla la cantidad de valores nulos:\n",
    "df_reviews1.isnull().sum()"
   ]
  },
  {
   "cell_type": "code",
   "execution_count": 9,
   "metadata": {},
   "outputs": [
    {
     "data": {
      "text/plain": [
       "0"
      ]
     },
     "execution_count": 9,
     "metadata": {},
     "output_type": "execute_result"
    }
   ],
   "source": [
    "# Se controla la cantidad de valores duplicados:\n",
    "df_reviews1.duplicated().sum()"
   ]
  },
  {
   "cell_type": "markdown",
   "metadata": {},
   "source": [
    "Se filtran las reviews de los \"busines_id\" de restaurantes latinoamericanos:"
   ]
  },
  {
   "cell_type": "code",
   "execution_count": 4,
   "metadata": {},
   "outputs": [
    {
     "data": {
      "text/html": [
       "<div>\n",
       "<style scoped>\n",
       "    .dataframe tbody tr th:only-of-type {\n",
       "        vertical-align: middle;\n",
       "    }\n",
       "\n",
       "    .dataframe tbody tr th {\n",
       "        vertical-align: top;\n",
       "    }\n",
       "\n",
       "    .dataframe thead th {\n",
       "        text-align: right;\n",
       "    }\n",
       "</style>\n",
       "<table border=\"1\" class=\"dataframe\">\n",
       "  <thead>\n",
       "    <tr style=\"text-align: right;\">\n",
       "      <th></th>\n",
       "      <th>review_id</th>\n",
       "      <th>user_id</th>\n",
       "      <th>business_id</th>\n",
       "      <th>stars</th>\n",
       "      <th>useful</th>\n",
       "      <th>funny</th>\n",
       "      <th>cool</th>\n",
       "      <th>text</th>\n",
       "      <th>date</th>\n",
       "    </tr>\n",
       "  </thead>\n",
       "  <tbody>\n",
       "    <tr>\n",
       "      <th>14</th>\n",
       "      <td>UBp0zWyH60Hmw6Fsasei7w</td>\n",
       "      <td>4Uh27DgGzsp6PqrH913giQ</td>\n",
       "      <td>otQS34_MymijPTdNBoBdCw</td>\n",
       "      <td>4</td>\n",
       "      <td>0</td>\n",
       "      <td>2</td>\n",
       "      <td>0</td>\n",
       "      <td>The bun makes the Sonoran Dog. It's like a snu...</td>\n",
       "      <td>2011-10-27 17:12:05</td>\n",
       "    </tr>\n",
       "    <tr>\n",
       "      <th>368</th>\n",
       "      <td>jlvaJo1I56NrZ1Q1CUuuRw</td>\n",
       "      <td>17jzGkFYCvB5Q0fjJEzVAA</td>\n",
       "      <td>otQS34_MymijPTdNBoBdCw</td>\n",
       "      <td>4</td>\n",
       "      <td>0</td>\n",
       "      <td>0</td>\n",
       "      <td>0</td>\n",
       "      <td>I was told this place is a must for a Sonoran ...</td>\n",
       "      <td>2017-06-17 17:17:29</td>\n",
       "    </tr>\n",
       "    <tr>\n",
       "      <th>485</th>\n",
       "      <td>yx1IGiMSFDeuosuoRE1gpQ</td>\n",
       "      <td>EYg-VaZlk13-blZxyohLDg</td>\n",
       "      <td>JUlsvVAvZvGHWFfkKm0nlg</td>\n",
       "      <td>3</td>\n",
       "      <td>0</td>\n",
       "      <td>0</td>\n",
       "      <td>0</td>\n",
       "      <td>We went to this restaurant after running in th...</td>\n",
       "      <td>2010-11-23 13:45:24</td>\n",
       "    </tr>\n",
       "    <tr>\n",
       "      <th>512</th>\n",
       "      <td>7ouwt0DtmhHxjQpDwDkN7Q</td>\n",
       "      <td>dme9K6sQrgpojAay5r8IAA</td>\n",
       "      <td>JUlsvVAvZvGHWFfkKm0nlg</td>\n",
       "      <td>3</td>\n",
       "      <td>2</td>\n",
       "      <td>0</td>\n",
       "      <td>0</td>\n",
       "      <td>I loves me some seitan, and that's why I keep ...</td>\n",
       "      <td>2010-03-12 23:41:38</td>\n",
       "    </tr>\n",
       "    <tr>\n",
       "      <th>727</th>\n",
       "      <td>7ym4hsISxBUwa3ugL7cL9Q</td>\n",
       "      <td>SEPSy_TUicGdTg-_72aOmQ</td>\n",
       "      <td>IwqFmo-RJs15WvA8PVHFnA</td>\n",
       "      <td>5</td>\n",
       "      <td>3</td>\n",
       "      <td>0</td>\n",
       "      <td>1</td>\n",
       "      <td>This place just opened up near rivers edge apa...</td>\n",
       "      <td>2018-05-19 15:04:56</td>\n",
       "    </tr>\n",
       "  </tbody>\n",
       "</table>\n",
       "</div>"
      ],
      "text/plain": [
       "                  review_id                 user_id             business_id  \\\n",
       "14   UBp0zWyH60Hmw6Fsasei7w  4Uh27DgGzsp6PqrH913giQ  otQS34_MymijPTdNBoBdCw   \n",
       "368  jlvaJo1I56NrZ1Q1CUuuRw  17jzGkFYCvB5Q0fjJEzVAA  otQS34_MymijPTdNBoBdCw   \n",
       "485  yx1IGiMSFDeuosuoRE1gpQ  EYg-VaZlk13-blZxyohLDg  JUlsvVAvZvGHWFfkKm0nlg   \n",
       "512  7ouwt0DtmhHxjQpDwDkN7Q  dme9K6sQrgpojAay5r8IAA  JUlsvVAvZvGHWFfkKm0nlg   \n",
       "727  7ym4hsISxBUwa3ugL7cL9Q  SEPSy_TUicGdTg-_72aOmQ  IwqFmo-RJs15WvA8PVHFnA   \n",
       "\n",
       "     stars  useful  funny  cool  \\\n",
       "14       4       0      2     0   \n",
       "368      4       0      0     0   \n",
       "485      3       0      0     0   \n",
       "512      3       2      0     0   \n",
       "727      5       3      0     1   \n",
       "\n",
       "                                                  text                date  \n",
       "14   The bun makes the Sonoran Dog. It's like a snu... 2011-10-27 17:12:05  \n",
       "368  I was told this place is a must for a Sonoran ... 2017-06-17 17:17:29  \n",
       "485  We went to this restaurant after running in th... 2010-11-23 13:45:24  \n",
       "512  I loves me some seitan, and that's why I keep ... 2010-03-12 23:41:38  \n",
       "727  This place just opened up near rivers edge apa... 2018-05-19 15:04:56  "
      ]
     },
     "execution_count": 4,
     "metadata": {},
     "output_type": "execute_result"
    }
   ],
   "source": [
    "# Se define una lista con todos los id de restaurantes latinoamericanos:\n",
    "latin_business_id = ['du_yelFmWOZDEyIAE-jdsQ', 'k9A4tAmei12tLprkrNPkcg',\n",
    "       'ERl6OCSEIFBOqfjai_jIUg', 'VaPj2Mpu0IpsUoisyTCAUg',\n",
    "       'Qi-A4ZgcEuSnq_8Fpfo_3Q', 'otQS34_MymijPTdNBoBdCw',\n",
    "       'IwqFmo-RJs15WvA8PVHFnA', 'JhwFBmMtZUejWLuEQfGoTg',\n",
    "       'lOX7LiFDr4FEUZX5AWjXag', 'IKXaAODca0KYqr8Fo4sgjw',\n",
    "       'WkNJ3FnK5WVW3thVUe-WSw', 'if2ZvtLUOdn6EFeWjZV6tg',\n",
    "       'JUlsvVAvZvGHWFfkKm0nlg', 'GK-IbObdUilYtlfgqnQ1Kw',\n",
    "       'necnuacmR2jYCiEova3s-Q', 'E2RHAkI4wasggwV9rYb-Fw',\n",
    "       'qDgR8XtZ0-P3DCDF9YccPw', 'twuh803Q03U9X1YGnJgilg',\n",
    "       '9vmnXOpK8y9xFSSSlgnZsA', 'GtIbWHFiCuO3h66XqkwnAA',\n",
    "       'OBHirkn1QCd7rsYHYtSdwQ', '4bIWYWFu2OobvS2gz4Lx0g',\n",
    "       '8XSW4uA85WqHdQlRirWkQg', 'hT5UJB4LmoB6MTeDZIi1BA',\n",
    "       't6gPcWX0CGkMR0AM1lCazw', '-xUj6GtnPLmf5zwHz7ZILg',\n",
    "       'WDOjluN4QeTnjt4E6DmIYQ', '_jRB9wKomaO1W3tfA1sX_Q',\n",
    "       'TYCVhhIkfIzi5dJWdBLhoQ', 'wGYQmcyHm-zyX6GO9u5nlg',\n",
    "       'BprJtcxm1P7VP6viiTOanw', 'nvhyXE3flQbh6Fw8vYaQRQ',\n",
    "       'Nz5eRRkTK1RGEjUlJojRQQ', 'plYw0lBpAIBdwqH8FY1H_A',\n",
    "       '1wKbk-FtJBBidd1k8s09DA', 'DSrRt2Fcrj0bQv8SC3P-3w',\n",
    "       'yQK-MSBijno2iMfUZ2JjzQ', 'vcrTtmz-VZTABbU1bGST4Q',\n",
    "       '_0u1MwrTyXx7bLWuVW1XwQ', 'KmZuIc9o_PL2BW8j_7gy7w',\n",
    "       '2jbADqg-NvcVjjdxdEetrg', 'GufJXz393fnNpQi_ba-YNA',\n",
    "       'A6mvg7BufgYX-ghyULRScg', 'VBJenKqcBasewkS7PoLOWA',\n",
    "       '7zJTwOt2mZP3zjaQI1ccWg', 'dyZGdkXEn6TMguQC8-fveg',\n",
    "       'dreCjzKBp6ZEJTwpL3pQOQ', 'hfQEzgd-vtUQNJukauvQ5A',\n",
    "       'Jmk_N22L1iQ6-EZIlexqag', 'MJgHI9yuGej00bemw0R_uw',\n",
    "       'XIR6VBtBm5L9CzNqzEPKng', 'eT8pP1ND98zYLST5zhZtEQ',\n",
    "       'JTyjDMwU01xi0iPIYgCSCw', 'LnN7LbbqFK1OvFjbkhUjaQ',\n",
    "       '_tvR2q9UJmFAxf7FE83eaw', 'n3KL3EL2CTSD4ol937sTGg',\n",
    "       'mh_WoveKnqCzIETmZIn7Sg', 'Nm8N8GU7pYg2rnV_GlwrzQ',\n",
    "       '3awWfOPccIIZi5G9zedZew', 'mJey7zMvlXHCLPHUgo_pwg',\n",
    "       'Miy9w9lKGL_AzqIMkSvB0g', 'DqVpNtgFCP47n6frh-LREA',\n",
    "       '4u_FN69s_HeGCXYupnIscw', 'KuVtxfIJu4qRscngMsVcxg',\n",
    "       'UO-QrBeJYDiIfGm5oZgL2g', 'gN3VmmeNlcGTpuJfowWV9A',\n",
    "       '-t29rrypP0eQdTeQ3YErdg', 'WeDn7iD1ckcEg7YttkduWg',\n",
    "       '9fs3zBWKZBjosH2rSVvo-A', 'cyF4vtmQ4LhsYCHSARzk5Q',\n",
    "       '-nEsM53i_wmt9wpSlQm1Rg', 'lZbimwxtW5JPB6biT7_q3w',\n",
    "       '_uDhUdcNBtgiOXPGPWunoQ', 'JCNd5pF0GvSARbppJlrscA',\n",
    "       'keNKoW2SDNtFdeAGXPqwig', 'qIn57tACk3lBmTNOpZoT8w',\n",
    "       'JLV6DlY2_86blXAgQ8LG9w', 'rIYH73o6dwNimMr1WFF9ww',\n",
    "       '_HO5ubZyfVKVWytSDZy1tA', 'cSi9yz7HwQwigsKF374Paw',\n",
    "       '-ovvV-tXLQdXyYgdCBZm7Q', 'ZBfagfCUXYhe4q9sD7hpjQ',\n",
    "       'NIqFlHurHm0cj6QXczYbEQ', 'OxXMZfaRZc7SJnjMBkO1ww',\n",
    "       'ccPRPHBzUubwe65VG14ioA', 'm4kvY0viCwxqRtgOycnKVQ',\n",
    "       'qmsdbXMG6DCNXEEZJz4d5g', 'H14Kenpp7-Z5IKrLqGGv3g',\n",
    "       'dp4HDuSnR5MvlgJ4mR2m3Q', 'BJtrQ0CBSklwMzkUV-VdLg',\n",
    "       'IG2KelKEHCwybPl98frdgQ', 'XVI5rfr_1I-NY7JwgSj1yg',\n",
    "       'qRgeV1CMZawRblc2qjHo_g', 'eTVtHkrdoh8plErbmRhTfw',\n",
    "       'abmP4I_2mlXu4uM3Gmfgbw', 'VmxGFqtplC3yIOClQ3Tulg',\n",
    "       'VogFhW9pRLuT6dDjLA1BcQ', 'EWFkVvEerJOvoGt8dSJZ7w',\n",
    "       'Y0rpC4XGwRmnlDr1TEJ3Hw', '0-CQlqMMOrwMhy4EgW4tfw',\n",
    "       'qnXHKdDFaPZ3PwygllYk8w', 'fix5sbGFzHUVDXpzhHctIA',\n",
    "       '9w-LZEkP1hf363G-OYvKDg', 'mRKxPMk9jHgCj07MwAMUzw',\n",
    "       'oIsqZJPVOc53GUiUgQUvsg', '_JWS3tE7h-8-CXNGYD0ZYA',\n",
    "       'ejYVhqT_e-8JX276XG0ozw', 'QATSKHcEMHjifyIb6aIALg',\n",
    "       'E7xjXq3F5Yqmhbo8ye_csw', 'LporxuZB4AEg4mhLYhfpDw',\n",
    "       'Tj_NfMHfabdjndcJ3MZY6A', 'O-J8l_KT4lulqnK4DIIj3w',\n",
    "       'IIudBP8_Rg2pPgUQwNOgFQ', 'rU139D5Zl5928RYoXYSURA',\n",
    "       'E01_x43vPxeOQ9MFbhSKDQ', 'wIXYreqGaO5AEVjNQulbKQ',\n",
    "       'oVygpPlGIKyPltoOjusqtw', 'GRmG8w-guTT3Wp-MoRSQpA',\n",
    "       'Rt4KE1qP7czqcgnqLRspDg']\n",
    "\n",
    "# Se filtran las reviews:\n",
    "yelp_latin_rev = df_reviews1[df_reviews1[\"business_id\"].isin(latin_business_id)]\n",
    "yelp_latin_rev.head()"
   ]
  },
  {
   "cell_type": "code",
   "execution_count": 5,
   "metadata": {},
   "outputs": [
    {
     "name": "stdout",
     "output_type": "stream",
     "text": [
      "<class 'pandas.core.frame.DataFrame'>\n",
      "Index: 7187 entries, 14 to 3499482\n",
      "Data columns (total 9 columns):\n",
      " #   Column       Non-Null Count  Dtype         \n",
      "---  ------       --------------  -----         \n",
      " 0   review_id    7187 non-null   object        \n",
      " 1   user_id      7187 non-null   object        \n",
      " 2   business_id  7187 non-null   object        \n",
      " 3   stars        7187 non-null   int64         \n",
      " 4   useful       7187 non-null   int64         \n",
      " 5   funny        7187 non-null   int64         \n",
      " 6   cool         7187 non-null   int64         \n",
      " 7   text         7187 non-null   object        \n",
      " 8   date         7187 non-null   datetime64[ns]\n",
      "dtypes: datetime64[ns](1), int64(4), object(4)\n",
      "memory usage: 561.5+ KB\n"
     ]
    }
   ],
   "source": [
    "# Se controla la info general del dataset\n",
    "yelp_latin_rev.info()"
   ]
  },
  {
   "cell_type": "markdown",
   "metadata": {},
   "source": [
    "Se eliminan las columnas que no aportan al análisis y se resetea el índice:"
   ]
  },
  {
   "cell_type": "code",
   "execution_count": 6,
   "metadata": {},
   "outputs": [],
   "source": [
    "yelp_latin_rev = yelp_latin_rev.drop(columns=[\"useful\", \"funny\", \"cool\"]).reset_index(drop=True)"
   ]
  },
  {
   "cell_type": "markdown",
   "metadata": {},
   "source": [
    "### Parte 2"
   ]
  },
  {
   "cell_type": "code",
   "execution_count": 5,
   "metadata": {},
   "outputs": [],
   "source": [
    "# Se define la segunda mitad del dataframe\n",
    "dfs2 = dfs[corte:]\n",
    "df_reviews2 = pd.concat(dfs2, axis=0, ignore_index=True)"
   ]
  },
  {
   "cell_type": "code",
   "execution_count": 3,
   "metadata": {},
   "outputs": [
    {
     "name": "stdout",
     "output_type": "stream",
     "text": [
      "<class 'pandas.core.frame.DataFrame'>\n",
      "RangeIndex: 3490280 entries, 0 to 3490279\n",
      "Data columns (total 9 columns):\n",
      " #   Column       Dtype         \n",
      "---  ------       -----         \n",
      " 0   review_id    object        \n",
      " 1   user_id      object        \n",
      " 2   business_id  object        \n",
      " 3   stars        int64         \n",
      " 4   useful       int64         \n",
      " 5   funny        int64         \n",
      " 6   cool         int64         \n",
      " 7   text         object        \n",
      " 8   date         datetime64[ns]\n",
      "dtypes: datetime64[ns](1), int64(4), object(4)\n",
      "memory usage: 239.7+ MB\n"
     ]
    }
   ],
   "source": [
    "# Se controla la info general del dataset:\n",
    "df_reviews2.info()"
   ]
  },
  {
   "cell_type": "code",
   "execution_count": 11,
   "metadata": {},
   "outputs": [
    {
     "data": {
      "text/plain": [
       "review_id      0\n",
       "user_id        0\n",
       "business_id    0\n",
       "stars          0\n",
       "useful         0\n",
       "funny          0\n",
       "cool           0\n",
       "text           0\n",
       "date           0\n",
       "dtype: int64"
      ]
     },
     "execution_count": 11,
     "metadata": {},
     "output_type": "execute_result"
    }
   ],
   "source": [
    "# Se controla la cantidad de valores nulos:\n",
    "df_reviews2.isnull().sum()"
   ]
  },
  {
   "cell_type": "code",
   "execution_count": 13,
   "metadata": {},
   "outputs": [
    {
     "data": {
      "text/plain": [
       "0"
      ]
     },
     "execution_count": 13,
     "metadata": {},
     "output_type": "execute_result"
    }
   ],
   "source": [
    "# Se controla la cantidad de valores duplicados:\n",
    "df_reviews2.duplicated().sum()"
   ]
  },
  {
   "cell_type": "markdown",
   "metadata": {},
   "source": [
    "Se filtran las reviews de los \"busines_id\" de restaurantes latinoamericanos:"
   ]
  },
  {
   "cell_type": "code",
   "execution_count": 4,
   "metadata": {},
   "outputs": [
    {
     "data": {
      "text/html": [
       "<div>\n",
       "<style scoped>\n",
       "    .dataframe tbody tr th:only-of-type {\n",
       "        vertical-align: middle;\n",
       "    }\n",
       "\n",
       "    .dataframe tbody tr th {\n",
       "        vertical-align: top;\n",
       "    }\n",
       "\n",
       "    .dataframe thead th {\n",
       "        text-align: right;\n",
       "    }\n",
       "</style>\n",
       "<table border=\"1\" class=\"dataframe\">\n",
       "  <thead>\n",
       "    <tr style=\"text-align: right;\">\n",
       "      <th></th>\n",
       "      <th>review_id</th>\n",
       "      <th>user_id</th>\n",
       "      <th>business_id</th>\n",
       "      <th>stars</th>\n",
       "      <th>useful</th>\n",
       "      <th>funny</th>\n",
       "      <th>cool</th>\n",
       "      <th>text</th>\n",
       "      <th>date</th>\n",
       "    </tr>\n",
       "  </thead>\n",
       "  <tbody>\n",
       "    <tr>\n",
       "      <th>1099</th>\n",
       "      <td>6BxUrLqFIzJ7NRMzuWR44g</td>\n",
       "      <td>y2Tmb8lZvhHM4b7vifq_bQ</td>\n",
       "      <td>WeDn7iD1ckcEg7YttkduWg</td>\n",
       "      <td>5</td>\n",
       "      <td>0</td>\n",
       "      <td>0</td>\n",
       "      <td>0</td>\n",
       "      <td>My husband is Mexican and I have lived in Mexi...</td>\n",
       "      <td>2018-04-28 17:39:37</td>\n",
       "    </tr>\n",
       "    <tr>\n",
       "      <th>1807</th>\n",
       "      <td>2i8QNvQ-8JeluYe2W8ky0Q</td>\n",
       "      <td>KI4Qksd3x7eAJZp1OKZXfA</td>\n",
       "      <td>JLV6DlY2_86blXAgQ8LG9w</td>\n",
       "      <td>2</td>\n",
       "      <td>2</td>\n",
       "      <td>1</td>\n",
       "      <td>0</td>\n",
       "      <td>Food is still good but absolutely unacceptable...</td>\n",
       "      <td>2013-10-05 15:41:14</td>\n",
       "    </tr>\n",
       "    <tr>\n",
       "      <th>2158</th>\n",
       "      <td>RPT8s6R-iOv0LbX2fjRNNA</td>\n",
       "      <td>K-1mVlbCCJ0YV-7ENXuIeA</td>\n",
       "      <td>9fs3zBWKZBjosH2rSVvo-A</td>\n",
       "      <td>1</td>\n",
       "      <td>0</td>\n",
       "      <td>0</td>\n",
       "      <td>0</td>\n",
       "      <td>Have had the last 5 pick up orders messed up p...</td>\n",
       "      <td>2017-01-28 00:33:13</td>\n",
       "    </tr>\n",
       "    <tr>\n",
       "      <th>2197</th>\n",
       "      <td>ZhNk7Cx0ch3wzJjS1JGpiA</td>\n",
       "      <td>FqURaaZ_hEzr15YfJEfA8g</td>\n",
       "      <td>NIqFlHurHm0cj6QXczYbEQ</td>\n",
       "      <td>4</td>\n",
       "      <td>0</td>\n",
       "      <td>0</td>\n",
       "      <td>0</td>\n",
       "      <td>Best Mexican food in Carpinteria. They have ve...</td>\n",
       "      <td>2014-06-12 00:02:05</td>\n",
       "    </tr>\n",
       "    <tr>\n",
       "      <th>3221</th>\n",
       "      <td>arVBC-ll4TobolWT42e_KQ</td>\n",
       "      <td>yOA0VxjQ7wTqMwUffQKsgQ</td>\n",
       "      <td>NIqFlHurHm0cj6QXczYbEQ</td>\n",
       "      <td>2</td>\n",
       "      <td>0</td>\n",
       "      <td>0</td>\n",
       "      <td>0</td>\n",
       "      <td>Read the reviews before i tried this place. Sa...</td>\n",
       "      <td>2016-07-15 02:51:02</td>\n",
       "    </tr>\n",
       "  </tbody>\n",
       "</table>\n",
       "</div>"
      ],
      "text/plain": [
       "                   review_id                 user_id             business_id  \\\n",
       "1099  6BxUrLqFIzJ7NRMzuWR44g  y2Tmb8lZvhHM4b7vifq_bQ  WeDn7iD1ckcEg7YttkduWg   \n",
       "1807  2i8QNvQ-8JeluYe2W8ky0Q  KI4Qksd3x7eAJZp1OKZXfA  JLV6DlY2_86blXAgQ8LG9w   \n",
       "2158  RPT8s6R-iOv0LbX2fjRNNA  K-1mVlbCCJ0YV-7ENXuIeA  9fs3zBWKZBjosH2rSVvo-A   \n",
       "2197  ZhNk7Cx0ch3wzJjS1JGpiA  FqURaaZ_hEzr15YfJEfA8g  NIqFlHurHm0cj6QXczYbEQ   \n",
       "3221  arVBC-ll4TobolWT42e_KQ  yOA0VxjQ7wTqMwUffQKsgQ  NIqFlHurHm0cj6QXczYbEQ   \n",
       "\n",
       "      stars  useful  funny  cool  \\\n",
       "1099      5       0      0     0   \n",
       "1807      2       2      1     0   \n",
       "2158      1       0      0     0   \n",
       "2197      4       0      0     0   \n",
       "3221      2       0      0     0   \n",
       "\n",
       "                                                   text                date  \n",
       "1099  My husband is Mexican and I have lived in Mexi... 2018-04-28 17:39:37  \n",
       "1807  Food is still good but absolutely unacceptable... 2013-10-05 15:41:14  \n",
       "2158  Have had the last 5 pick up orders messed up p... 2017-01-28 00:33:13  \n",
       "2197  Best Mexican food in Carpinteria. They have ve... 2014-06-12 00:02:05  \n",
       "3221  Read the reviews before i tried this place. Sa... 2016-07-15 02:51:02  "
      ]
     },
     "execution_count": 4,
     "metadata": {},
     "output_type": "execute_result"
    }
   ],
   "source": [
    "# Se define una lista con todos los id de restaurantes latinoamericanos:\n",
    "latin_business_id = ['du_yelFmWOZDEyIAE-jdsQ', 'k9A4tAmei12tLprkrNPkcg',\n",
    "       'ERl6OCSEIFBOqfjai_jIUg', 'VaPj2Mpu0IpsUoisyTCAUg',\n",
    "       'Qi-A4ZgcEuSnq_8Fpfo_3Q', 'otQS34_MymijPTdNBoBdCw',\n",
    "       'IwqFmo-RJs15WvA8PVHFnA', 'JhwFBmMtZUejWLuEQfGoTg',\n",
    "       'lOX7LiFDr4FEUZX5AWjXag', 'IKXaAODca0KYqr8Fo4sgjw',\n",
    "       'WkNJ3FnK5WVW3thVUe-WSw', 'if2ZvtLUOdn6EFeWjZV6tg',\n",
    "       'JUlsvVAvZvGHWFfkKm0nlg', 'GK-IbObdUilYtlfgqnQ1Kw',\n",
    "       'necnuacmR2jYCiEova3s-Q', 'E2RHAkI4wasggwV9rYb-Fw',\n",
    "       'qDgR8XtZ0-P3DCDF9YccPw', 'twuh803Q03U9X1YGnJgilg',\n",
    "       '9vmnXOpK8y9xFSSSlgnZsA', 'GtIbWHFiCuO3h66XqkwnAA',\n",
    "       'OBHirkn1QCd7rsYHYtSdwQ', '4bIWYWFu2OobvS2gz4Lx0g',\n",
    "       '8XSW4uA85WqHdQlRirWkQg', 'hT5UJB4LmoB6MTeDZIi1BA',\n",
    "       't6gPcWX0CGkMR0AM1lCazw', '-xUj6GtnPLmf5zwHz7ZILg',\n",
    "       'WDOjluN4QeTnjt4E6DmIYQ', '_jRB9wKomaO1W3tfA1sX_Q',\n",
    "       'TYCVhhIkfIzi5dJWdBLhoQ', 'wGYQmcyHm-zyX6GO9u5nlg',\n",
    "       'BprJtcxm1P7VP6viiTOanw', 'nvhyXE3flQbh6Fw8vYaQRQ',\n",
    "       'Nz5eRRkTK1RGEjUlJojRQQ', 'plYw0lBpAIBdwqH8FY1H_A',\n",
    "       '1wKbk-FtJBBidd1k8s09DA', 'DSrRt2Fcrj0bQv8SC3P-3w',\n",
    "       'yQK-MSBijno2iMfUZ2JjzQ', 'vcrTtmz-VZTABbU1bGST4Q',\n",
    "       '_0u1MwrTyXx7bLWuVW1XwQ', 'KmZuIc9o_PL2BW8j_7gy7w',\n",
    "       '2jbADqg-NvcVjjdxdEetrg', 'GufJXz393fnNpQi_ba-YNA',\n",
    "       'A6mvg7BufgYX-ghyULRScg', 'VBJenKqcBasewkS7PoLOWA',\n",
    "       '7zJTwOt2mZP3zjaQI1ccWg', 'dyZGdkXEn6TMguQC8-fveg',\n",
    "       'dreCjzKBp6ZEJTwpL3pQOQ', 'hfQEzgd-vtUQNJukauvQ5A',\n",
    "       'Jmk_N22L1iQ6-EZIlexqag', 'MJgHI9yuGej00bemw0R_uw',\n",
    "       'XIR6VBtBm5L9CzNqzEPKng', 'eT8pP1ND98zYLST5zhZtEQ',\n",
    "       'JTyjDMwU01xi0iPIYgCSCw', 'LnN7LbbqFK1OvFjbkhUjaQ',\n",
    "       '_tvR2q9UJmFAxf7FE83eaw', 'n3KL3EL2CTSD4ol937sTGg',\n",
    "       'mh_WoveKnqCzIETmZIn7Sg', 'Nm8N8GU7pYg2rnV_GlwrzQ',\n",
    "       '3awWfOPccIIZi5G9zedZew', 'mJey7zMvlXHCLPHUgo_pwg',\n",
    "       'Miy9w9lKGL_AzqIMkSvB0g', 'DqVpNtgFCP47n6frh-LREA',\n",
    "       '4u_FN69s_HeGCXYupnIscw', 'KuVtxfIJu4qRscngMsVcxg',\n",
    "       'UO-QrBeJYDiIfGm5oZgL2g', 'gN3VmmeNlcGTpuJfowWV9A',\n",
    "       '-t29rrypP0eQdTeQ3YErdg', 'WeDn7iD1ckcEg7YttkduWg',\n",
    "       '9fs3zBWKZBjosH2rSVvo-A', 'cyF4vtmQ4LhsYCHSARzk5Q',\n",
    "       '-nEsM53i_wmt9wpSlQm1Rg', 'lZbimwxtW5JPB6biT7_q3w',\n",
    "       '_uDhUdcNBtgiOXPGPWunoQ', 'JCNd5pF0GvSARbppJlrscA',\n",
    "       'keNKoW2SDNtFdeAGXPqwig', 'qIn57tACk3lBmTNOpZoT8w',\n",
    "       'JLV6DlY2_86blXAgQ8LG9w', 'rIYH73o6dwNimMr1WFF9ww',\n",
    "       '_HO5ubZyfVKVWytSDZy1tA', 'cSi9yz7HwQwigsKF374Paw',\n",
    "       '-ovvV-tXLQdXyYgdCBZm7Q', 'ZBfagfCUXYhe4q9sD7hpjQ',\n",
    "       'NIqFlHurHm0cj6QXczYbEQ', 'OxXMZfaRZc7SJnjMBkO1ww',\n",
    "       'ccPRPHBzUubwe65VG14ioA', 'm4kvY0viCwxqRtgOycnKVQ',\n",
    "       'qmsdbXMG6DCNXEEZJz4d5g', 'H14Kenpp7-Z5IKrLqGGv3g',\n",
    "       'dp4HDuSnR5MvlgJ4mR2m3Q', 'BJtrQ0CBSklwMzkUV-VdLg',\n",
    "       'IG2KelKEHCwybPl98frdgQ', 'XVI5rfr_1I-NY7JwgSj1yg',\n",
    "       'qRgeV1CMZawRblc2qjHo_g', 'eTVtHkrdoh8plErbmRhTfw',\n",
    "       'abmP4I_2mlXu4uM3Gmfgbw', 'VmxGFqtplC3yIOClQ3Tulg',\n",
    "       'VogFhW9pRLuT6dDjLA1BcQ', 'EWFkVvEerJOvoGt8dSJZ7w',\n",
    "       'Y0rpC4XGwRmnlDr1TEJ3Hw', '0-CQlqMMOrwMhy4EgW4tfw',\n",
    "       'qnXHKdDFaPZ3PwygllYk8w', 'fix5sbGFzHUVDXpzhHctIA',\n",
    "       '9w-LZEkP1hf363G-OYvKDg', 'mRKxPMk9jHgCj07MwAMUzw',\n",
    "       'oIsqZJPVOc53GUiUgQUvsg', '_JWS3tE7h-8-CXNGYD0ZYA',\n",
    "       'ejYVhqT_e-8JX276XG0ozw', 'QATSKHcEMHjifyIb6aIALg',\n",
    "       'E7xjXq3F5Yqmhbo8ye_csw', 'LporxuZB4AEg4mhLYhfpDw',\n",
    "       'Tj_NfMHfabdjndcJ3MZY6A', 'O-J8l_KT4lulqnK4DIIj3w',\n",
    "       'IIudBP8_Rg2pPgUQwNOgFQ', 'rU139D5Zl5928RYoXYSURA',\n",
    "       'E01_x43vPxeOQ9MFbhSKDQ', 'wIXYreqGaO5AEVjNQulbKQ',\n",
    "       'oVygpPlGIKyPltoOjusqtw', 'GRmG8w-guTT3Wp-MoRSQpA',\n",
    "       'Rt4KE1qP7czqcgnqLRspDg']\n",
    "\n",
    "# Se filtran las reviews:\n",
    "yelp_latin_rev2 = df_reviews2[df_reviews2[\"business_id\"].isin(latin_business_id)]\n",
    "yelp_latin_rev2.head()"
   ]
  },
  {
   "cell_type": "code",
   "execution_count": 5,
   "metadata": {},
   "outputs": [
    {
     "name": "stdout",
     "output_type": "stream",
     "text": [
      "<class 'pandas.core.frame.DataFrame'>\n",
      "Index: 7352 entries, 1099 to 3489903\n",
      "Data columns (total 9 columns):\n",
      " #   Column       Non-Null Count  Dtype         \n",
      "---  ------       --------------  -----         \n",
      " 0   review_id    7352 non-null   object        \n",
      " 1   user_id      7352 non-null   object        \n",
      " 2   business_id  7352 non-null   object        \n",
      " 3   stars        7352 non-null   int64         \n",
      " 4   useful       7352 non-null   int64         \n",
      " 5   funny        7352 non-null   int64         \n",
      " 6   cool         7352 non-null   int64         \n",
      " 7   text         7352 non-null   object        \n",
      " 8   date         7352 non-null   datetime64[ns]\n",
      "dtypes: datetime64[ns](1), int64(4), object(4)\n",
      "memory usage: 574.4+ KB\n"
     ]
    }
   ],
   "source": [
    "# Se controla la info general del dataset\n",
    "yelp_latin_rev2.info()"
   ]
  },
  {
   "cell_type": "markdown",
   "metadata": {},
   "source": [
    "Se eliminan las columnas que no aportan al análisis y se resetea el indice:"
   ]
  },
  {
   "cell_type": "code",
   "execution_count": 6,
   "metadata": {},
   "outputs": [],
   "source": [
    "yelp_latin_rev2 = yelp_latin_rev2.drop(columns=[\"useful\", \"funny\", \"cool\"]).reset_index(drop=True)"
   ]
  },
  {
   "cell_type": "markdown",
   "metadata": {},
   "source": [
    "Por último, se concatenan los dos dataframes en uno sólo:"
   ]
  },
  {
   "cell_type": "code",
   "execution_count": 12,
   "metadata": {},
   "outputs": [
    {
     "name": "stdout",
     "output_type": "stream",
     "text": [
      "<class 'pandas.core.frame.DataFrame'>\n",
      "RangeIndex: 14539 entries, 0 to 14538\n",
      "Data columns (total 6 columns):\n",
      " #   Column       Non-Null Count  Dtype         \n",
      "---  ------       --------------  -----         \n",
      " 0   review_id    14539 non-null  object        \n",
      " 1   user_id      14539 non-null  object        \n",
      " 2   business_id  14539 non-null  object        \n",
      " 3   stars        14539 non-null  int64         \n",
      " 4   text         14539 non-null  object        \n",
      " 5   date         14539 non-null  datetime64[ns]\n",
      "dtypes: datetime64[ns](1), int64(1), object(4)\n",
      "memory usage: 681.6+ KB\n"
     ]
    }
   ],
   "source": [
    "yelp_latin_reviews = pd.concat([yelp_latin_rev, yelp_latin_rev2], axis=0, ignore_index=True)\n",
    "yelp_latin_reviews.info()"
   ]
  },
  {
   "cell_type": "markdown",
   "metadata": {},
   "source": [
    "Controlamos el **período temporal** del que disponemos información:"
   ]
  },
  {
   "cell_type": "code",
   "execution_count": 7,
   "metadata": {},
   "outputs": [
    {
     "name": "stdout",
     "output_type": "stream",
     "text": [
      "Fecha mínima: 2005-03-22 20:43:35\n",
      "Fecha máxima: 2022-01-19 18:19:06\n"
     ]
    }
   ],
   "source": [
    "print(\"Fecha mínima:\", yelp_latin_reviews[\"date\"].min())\n",
    "print(\"Fecha máxima:\", yelp_latin_reviews[\"date\"].max())"
   ]
  },
  {
   "cell_type": "markdown",
   "metadata": {},
   "source": [
    "Contamos con **reviews** realizadas **desde el año 2005 hasta enero de 2022**."
   ]
  },
  {
   "cell_type": "markdown",
   "metadata": {},
   "source": [
    "Controlamos la **distribución** de las **valoraciones de usuarios**:"
   ]
  },
  {
   "cell_type": "code",
   "execution_count": 4,
   "metadata": {},
   "outputs": [
    {
     "data": {
      "image/png": "[encoded data removed]",
      "text/plain": [
       "<Figure size 640x480 with 1 Axes>"
      ]
     },
     "metadata": {},
     "output_type": "display_data"
    }
   ],
   "source": [
    "sns.histplot(data = yelp_latin_reviews, x = \"stars\", stat=\"count\", bins = 5)\n",
    "plt.ylabel('Cantidad de reviews')\n",
    "plt.xlabel('Estrellas')\n",
    "plt.title('Distribución de las valoraciones incluidas en las reviews')\n",
    "plt.show()"
   ]
  },
  {
   "cell_type": "markdown",
   "metadata": {},
   "source": [
    "Como podemos observar, **casi la mitad de las reviews** fueron **muy positivas**, ya que superan las 4 estrellas.\n",
    "\n",
    "Por último, exportamos el archivo filtrado en formato parquet:"
   ]
  },
  {
   "cell_type": "code",
   "execution_count": 13,
   "metadata": {},
   "outputs": [],
   "source": [
    "# Se exporta el archivo con las reviews de restaurantes latinos en formato parquet:\n",
    "yelp_latin_reviews.to_parquet(\"yelp_latin_reviews.parquet\")"
   ]
  }
 ],
 "metadata": {
  "kernelspec": {
   "display_name": "Python 3",
   "language": "python",
   "name": "python3"
  },
  "language_info": {
   "codemirror_mode": {
    "name": "ipython",
    "version": 3
   },
   "file_extension": ".py",
   "mimetype": "text/x-python",
   "name": "python",
   "nbconvert_exporter": "python",
   "pygments_lexer": "ipython3",
   "version": "3.11.4"
  }
 },
 "nbformat": 4,
 "nbformat_minor": 2
}
