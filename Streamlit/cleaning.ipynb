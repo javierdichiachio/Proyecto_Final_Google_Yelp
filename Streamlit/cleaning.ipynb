{
 "cells": [
  {
   "cell_type": "code",
   "execution_count": 1,
   "metadata": {},
   "outputs": [],
   "source": [
    "import pandas as pd"
   ]
  },
  {
   "cell_type": "code",
   "execution_count": 2,
   "metadata": {},
   "outputs": [],
   "source": [
    "df= pd.read_csv('SPOILER_Restaurants_Reviews_merged.csv')"
   ]
  },
  {
   "cell_type": "code",
   "execution_count": 3,
   "metadata": {},
   "outputs": [
    {
     "data": {
      "text/html": [
       "<div>\n",
       "<style scoped>\n",
       "    .dataframe tbody tr th:only-of-type {\n",
       "        vertical-align: middle;\n",
       "    }\n",
       "\n",
       "    .dataframe tbody tr th {\n",
       "        vertical-align: top;\n",
       "    }\n",
       "\n",
       "    .dataframe thead th {\n",
       "        text-align: right;\n",
       "    }\n",
       "</style>\n",
       "<table border=\"1\" class=\"dataframe\">\n",
       "  <thead>\n",
       "    <tr style=\"text-align: right;\">\n",
       "      <th></th>\n",
       "      <th>id_restaurant</th>\n",
       "      <th>name</th>\n",
       "      <th>city</th>\n",
       "      <th>rating</th>\n",
       "      <th>num_of_reviews</th>\n",
       "      <th>category</th>\n",
       "    </tr>\n",
       "  </thead>\n",
       "  <tbody>\n",
       "    <tr>\n",
       "      <th>0</th>\n",
       "      <td>0x14e1b0df6d819dab:0x928b6349b7fbe2f4</td>\n",
       "      <td>Tacos MX</td>\n",
       "      <td>Los Angeles</td>\n",
       "      <td>1.9</td>\n",
       "      <td>30</td>\n",
       "      <td>['Mexican restaurant']</td>\n",
       "    </tr>\n",
       "    <tr>\n",
       "      <th>1</th>\n",
       "      <td>0x54ce4585d5d87485:0x3fc873627fddcaa</td>\n",
       "      <td>Josefina’s taqueria</td>\n",
       "      <td>Yreka</td>\n",
       "      <td>3.3</td>\n",
       "      <td>12</td>\n",
       "      <td>['Mexican restaurant']</td>\n",
       "    </tr>\n",
       "  </tbody>\n",
       "</table>\n",
       "</div>"
      ],
      "text/plain": [
       "                           id_restaurant                 name         city  \\\n",
       "0  0x14e1b0df6d819dab:0x928b6349b7fbe2f4             Tacos MX  Los Angeles   \n",
       "1   0x54ce4585d5d87485:0x3fc873627fddcaa  Josefina’s taqueria        Yreka   \n",
       "\n",
       "   rating  num_of_reviews                category  \n",
       "0     1.9              30  ['Mexican restaurant']  \n",
       "1     3.3              12  ['Mexican restaurant']  "
      ]
     },
     "execution_count": 3,
     "metadata": {},
     "output_type": "execute_result"
    }
   ],
   "source": [
    "df.head(2)"
   ]
  },
  {
   "cell_type": "code",
   "execution_count": 4,
   "metadata": {},
   "outputs": [],
   "source": [
    "df= df.drop(columns='id_restaurant')"
   ]
  },
  {
   "cell_type": "code",
   "execution_count": 5,
   "metadata": {},
   "outputs": [
    {
     "data": {
      "text/html": [
       "<div>\n",
       "<style scoped>\n",
       "    .dataframe tbody tr th:only-of-type {\n",
       "        vertical-align: middle;\n",
       "    }\n",
       "\n",
       "    .dataframe tbody tr th {\n",
       "        vertical-align: top;\n",
       "    }\n",
       "\n",
       "    .dataframe thead th {\n",
       "        text-align: right;\n",
       "    }\n",
       "</style>\n",
       "<table border=\"1\" class=\"dataframe\">\n",
       "  <thead>\n",
       "    <tr style=\"text-align: right;\">\n",
       "      <th></th>\n",
       "      <th>name</th>\n",
       "      <th>city</th>\n",
       "      <th>rating</th>\n",
       "      <th>num_of_reviews</th>\n",
       "      <th>category</th>\n",
       "    </tr>\n",
       "  </thead>\n",
       "  <tbody>\n",
       "    <tr>\n",
       "      <th>0</th>\n",
       "      <td>Tacos MX</td>\n",
       "      <td>Los Angeles</td>\n",
       "      <td>1.9</td>\n",
       "      <td>30</td>\n",
       "      <td>['Mexican restaurant']</td>\n",
       "    </tr>\n",
       "    <tr>\n",
       "      <th>1</th>\n",
       "      <td>Josefina’s taqueria</td>\n",
       "      <td>Yreka</td>\n",
       "      <td>3.3</td>\n",
       "      <td>12</td>\n",
       "      <td>['Mexican restaurant']</td>\n",
       "    </tr>\n",
       "  </tbody>\n",
       "</table>\n",
       "</div>"
      ],
      "text/plain": [
       "                  name         city  rating  num_of_reviews  \\\n",
       "0             Tacos MX  Los Angeles     1.9              30   \n",
       "1  Josefina’s taqueria        Yreka     3.3              12   \n",
       "\n",
       "                 category  \n",
       "0  ['Mexican restaurant']  \n",
       "1  ['Mexican restaurant']  "
      ]
     },
     "execution_count": 5,
     "metadata": {},
     "output_type": "execute_result"
    }
   ],
   "source": [
    "df.head(2)"
   ]
  },
  {
   "cell_type": "code",
   "execution_count": 6,
   "metadata": {},
   "outputs": [],
   "source": [
    "df_final= df.to_csv('SPOILER_Restaurants_Reviews_merged.csv', index=False)"
   ]
  }
 ],
 "metadata": {
  "kernelspec": {
   "display_name": "Python 3",
   "language": "python",
   "name": "python3"
  },
  "language_info": {
   "codemirror_mode": {
    "name": "ipython",
    "version": 3
   },
   "file_extension": ".py",
   "mimetype": "text/x-python",
   "name": "python",
   "nbconvert_exporter": "python",
   "pygments_lexer": "ipython3",
   "version": "3.11.3"
  }
 },
 "nbformat": 4,
 "nbformat_minor": 2
}
