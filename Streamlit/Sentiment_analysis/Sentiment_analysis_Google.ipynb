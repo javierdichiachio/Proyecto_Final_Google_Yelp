{
 "cells": [
  {
   "cell_type": "code",
   "execution_count": null,
   "metadata": {},
   "outputs": [],
   "source": [
    "import pandas as pd\n",
    "import nltk \n",
    "from nltk.sentiment.vader import SentimentIntensityAnalyzer"
   ]
  },
  {
   "cell_type": "code",
   "execution_count": null,
   "metadata": {},
   "outputs": [],
   "source": [
    "df_reviews_google= pd.read_parquet(\"reviewGoogle.parquet\")"
   ]
  },
  {
   "cell_type": "code",
   "execution_count": null,
   "metadata": {},
   "outputs": [],
   "source": [
    "df_reviews_google.shape"
   ]
  },
  {
   "cell_type": "code",
   "execution_count": null,
   "metadata": {},
   "outputs": [],
   "source": [
    "nltk.download(\"vader_lexicon\")\n",
    "\n",
    "# guardo la funcion que necesito en una variable \n",
    "sia = SentimentIntensityAnalyzer() \n",
    "\n",
    "def get_sentiment_score(text):\n",
    "    if pd.isnull(text) or text == '':\n",
    "        return 0  # devuelve 0 si encontramos vacios o Nan\n",
    "    elif isinstance(text, str):\n",
    "        sentiment = sia.polarity_scores(text)\n",
    "        compound_score = sentiment[\"compound\"]\n",
    "        return compound_score"
   ]
  },
  {
   "cell_type": "code",
   "execution_count": null,
   "metadata": {},
   "outputs": [],
   "source": [
    "df_reviews_google['Nltk']= df_reviews_google['text'].apply(get_sentiment_score)\n",
    "df_reviews_google.head()"
   ]
  },
  {
   "cell_type": "code",
   "execution_count": null,
   "metadata": {},
   "outputs": [],
   "source": [
    "df_reviews_google['rating_final']= df_reviews_google['rating'] * df_reviews_google['Nltk']"
   ]
  },
  {
   "cell_type": "code",
   "execution_count": null,
   "metadata": {},
   "outputs": [],
   "source": [
    "df_reviews_google.drop(columns='analisis_sentimiento', inplace=True)\n",
    "df_reviews_google.head()"
   ]
  },
  {
   "cell_type": "code",
   "execution_count": null,
   "metadata": {},
   "outputs": [],
   "source": [
    "df_reviews_google.shape"
   ]
  },
  {
   "cell_type": "code",
   "execution_count": null,
   "metadata": {},
   "outputs": [],
   "source": [
    "df_export= df_reviews_google.to_parquet('review_google_modfificado.parquet')"
   ]
  }
 ],
 "metadata": {
  "language_info": {
   "name": "python"
  }
 },
 "nbformat": 4,
 "nbformat_minor": 2
}
