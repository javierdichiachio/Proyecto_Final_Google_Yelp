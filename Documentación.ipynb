{
 "cells": [
  {
   "cell_type": "markdown",
   "metadata": {},
   "source": [
    "# Objetivo y alcance del proyecto:"
   ]
  },
  {
   "cell_type": "markdown",
   "metadata": {},
   "source": [
    "Como parte de una consultora de data, nos han contratado para poder realizar un análisis del mercado de restaurantes en California. \n",
    "\n",
    "Nuestro **cliente** es una importante **agencia de viajes** que ofrece **tours en español** en el estado de **California**, y desea tener un **análisis detallado** de la **opinión de los usuarios** en **Yelp y Google Maps** sobre los diferentes **restaurantes de comida latinoamericana** existentes, para poder brindarle recomendaciones a sus clientes basados en las mismas.\n",
    "\n",
    "Por tal motivo, el **objetivo** del proyecto consiste en **montar** la **infraestructura y flujo de datos** necesario para la obtención de los siguientes **productos**:\n",
    "\n",
    "> Dashboard interactivo con información actualizada del sector.\n",
    "\n",
    "> Una **API** funcional en un servicio Web que brinde **recomendaciones de restaurantes a usuarios** de acuerdo a la categoría de los mismos, o basados en características similares."
   ]
  },
  {
   "cell_type": "markdown",
   "metadata": {},
   "source": [
    "# Indicadores Clave de Desempeño (KPIs)"
   ]
  },
  {
   "cell_type": "markdown",
   "metadata": {},
   "source": [
    "Se establecieron los siguientes indicadores clave de desempeño:"
   ]
  },
  {
   "cell_type": "markdown",
   "metadata": {},
   "source": [
    "## Google:"
   ]
  },
  {
   "cell_type": "markdown",
   "metadata": {},
   "source": [
    "> **Valoración promedio** (estrellas) **mínima**\n",
    "\n",
    "> **Satisfacción_cliente** = Cantidad de reseñas con expresión de sentimiento positivo / total reseñas (definir procentaje minimo)\n",
    "\n",
    "> **Evolución Satisfacción cliente** = ((Satisfacción_cliente / Satisfacción_cliente año anterior) - 1) * 100"
   ]
  },
  {
   "cell_type": "markdown",
   "metadata": {},
   "source": [
    "## Yelp:"
   ]
  },
  {
   "cell_type": "markdown",
   "metadata": {},
   "source": [
    "> **Valoración promedio** (estrellas) **mínima**\n",
    "\n",
    "> **Satisfacción_cliente** = Cantidad de reseñas con expresión de sentimiento positivo / total reseñas (definir procentaje minimo)\n",
    "\n",
    "> **Evolución Satisfacción cliente** = ((Satisfacción_cliente / Satisfacción_cliente año anterior) - 1) * 100\n",
    "\n",
    "> **Penetracion_mercado** = Q checkin mes restaurant / Q checkin mes mercado\n",
    "\n",
    "> **Evolución_Concurrencia** = ((Q checkin negocio mes / Q checkin negocio mes anterior) - 1) * 100"
   ]
  }
 ],
 "metadata": {
  "language_info": {
   "name": "python"
  }
 },
 "nbformat": 4,
 "nbformat_minor": 2
}
