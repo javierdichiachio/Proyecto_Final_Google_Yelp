{
 "cells": [
  {
   "cell_type": "code",
   "execution_count": 23,
   "metadata": {},
   "outputs": [],
   "source": [
    "import kfp\n",
    "from google.cloud import aiplatform\n",
    "from google.cloud import aiplatform as aip\n",
    "\n",
    "#from google_cloud_pipeline_components.v1.dataset import ImageDatasetCreateOp\n",
    "#from google_cloud_pipeline_components.v1.automl.training_job import AutoMLImageTrainingJobRunOp\n",
    "#from google_cloud_pipeline_components.v1.endpoint import EndpointCreateOp, ModelDeployOp"
   ]
  },
  {
   "cell_type": "code",
   "execution_count": 19,
   "metadata": {},
   "outputs": [],
   "source": [
    "project_id = 917628059092\n",
    "pipeline_root_path = \"pipe-lineroot\""
   ]
  },
  {
   "cell_type": "code",
   "execution_count": 20,
   "metadata": {},
   "outputs": [],
   "source": [
    "aip.init(\n",
    "    project=project_id,\n",
    "    location=\"us-central1\",)"
   ]
  },
  {
   "cell_type": "code",
   "execution_count": 33,
   "metadata": {},
   "outputs": [
    {
     "ename": "TypeError",
     "evalue": "Descriptors cannot be created directly.\nIf this call came from a _pb2.py file, your generated code is out of date and must be regenerated with protoc >= 3.19.0.\nIf you cannot immediately regenerate your protos, some other possible workarounds are:\n 1. Downgrade the protobuf package to 3.20.x or lower.\n 2. Set PROTOCOL_BUFFERS_PYTHON_IMPLEMENTATION=python (but this will use pure-Python parsing and will be much slower).\n\nMore information: https://developers.google.com/protocol-buffers/docs/news/2022-05-06#python-updates",
     "output_type": "error",
     "traceback": [
      "\u001b[1;31m---------------------------------------------------------------------------\u001b[0m",
      "\u001b[1;31mTypeError\u001b[0m                                 Traceback (most recent call last)",
      "\u001b[1;32mc:\\Users\\Vivobook\\Desktop\\Henry\\Proyectos\\FINAL\\Proyecto_Final_Google_Yelp\\pipeline.ipynb Celda 4\u001b[0m line \u001b[0;36m1\n\u001b[1;32m----> <a href='vscode-notebook-cell:/c%3A/Users/Vivobook/Desktop/Henry/Proyectos/FINAL/Proyecto_Final_Google_Yelp/pipeline.ipynb#X13sZmlsZQ%3D%3D?line=0'>1</a>\u001b[0m \u001b[39mfrom\u001b[39;00m \u001b[39mkfp\u001b[39;00m\u001b[39m.\u001b[39;00m\u001b[39mdsl\u001b[39;00m \u001b[39mimport\u001b[39;00m component\n",
      "File \u001b[1;32mc:\\Users\\Vivobook\\AppData\\Local\\Programs\\Python\\Python311\\Lib\\site-packages\\kfp\\dsl\\__init__.py:232\u001b[0m\n\u001b[0;32m    230\u001b[0m \u001b[39m# compile-time only dependencies\u001b[39;00m\n\u001b[0;32m    231\u001b[0m \u001b[39mif\u001b[39;00m os\u001b[39m.\u001b[39menviron\u001b[39m.\u001b[39mget(\u001b[39m'\u001b[39m\u001b[39m_KFP_RUNTIME\u001b[39m\u001b[39m'\u001b[39m, \u001b[39m'\u001b[39m\u001b[39mfalse\u001b[39m\u001b[39m'\u001b[39m) \u001b[39m!=\u001b[39m \u001b[39m'\u001b[39m\u001b[39mtrue\u001b[39m\u001b[39m'\u001b[39m:\n\u001b[1;32m--> 232\u001b[0m     \u001b[39mfrom\u001b[39;00m \u001b[39mkfp\u001b[39;00m\u001b[39m.\u001b[39;00m\u001b[39mdsl\u001b[39;00m\u001b[39m.\u001b[39;00m\u001b[39mcomponent_decorator\u001b[39;00m \u001b[39mimport\u001b[39;00m component\n\u001b[0;32m    233\u001b[0m     \u001b[39mfrom\u001b[39;00m \u001b[39mkfp\u001b[39;00m\u001b[39m.\u001b[39;00m\u001b[39mdsl\u001b[39;00m\u001b[39m.\u001b[39;00m\u001b[39mcontainer_component_decorator\u001b[39;00m \u001b[39mimport\u001b[39;00m container_component\n\u001b[0;32m    234\u001b[0m     \u001b[39m# TODO: Collected should be moved to pipeline_channel.py, consistent with OneOf\u001b[39;00m\n",
      "File \u001b[1;32mc:\\Users\\Vivobook\\AppData\\Local\\Programs\\Python\\Python311\\Lib\\site-packages\\kfp\\dsl\\component_decorator.py:19\u001b[0m\n\u001b[0;32m     16\u001b[0m \u001b[39mfrom\u001b[39;00m \u001b[39mtyping\u001b[39;00m \u001b[39mimport\u001b[39;00m Callable, List, Optional\n\u001b[0;32m     17\u001b[0m \u001b[39mimport\u001b[39;00m \u001b[39mwarnings\u001b[39;00m\n\u001b[1;32m---> 19\u001b[0m \u001b[39mfrom\u001b[39;00m \u001b[39mkfp\u001b[39;00m\u001b[39m.\u001b[39;00m\u001b[39mdsl\u001b[39;00m \u001b[39mimport\u001b[39;00m component_factory\n\u001b[0;32m     22\u001b[0m \u001b[39mdef\u001b[39;00m \u001b[39mcomponent\u001b[39m(func: Optional[Callable] \u001b[39m=\u001b[39m \u001b[39mNone\u001b[39;00m,\n\u001b[0;32m     23\u001b[0m               \u001b[39m*\u001b[39m,\n\u001b[0;32m     24\u001b[0m               base_image: Optional[\u001b[39mstr\u001b[39m] \u001b[39m=\u001b[39m \u001b[39mNone\u001b[39;00m,\n\u001b[1;32m   (...)\u001b[0m\n\u001b[0;32m     29\u001b[0m               install_kfp_package: \u001b[39mbool\u001b[39m \u001b[39m=\u001b[39m \u001b[39mTrue\u001b[39;00m,\n\u001b[0;32m     30\u001b[0m               kfp_package_path: Optional[\u001b[39mstr\u001b[39m] \u001b[39m=\u001b[39m \u001b[39mNone\u001b[39;00m):\n\u001b[0;32m     31\u001b[0m \u001b[39m    \u001b[39m\u001b[39m\"\"\"Decorator for Python-function based components.\u001b[39;00m\n\u001b[0;32m     32\u001b[0m \n\u001b[0;32m     33\u001b[0m \u001b[39m    A KFP component can either be a lightweight component or a containerized\u001b[39;00m\n\u001b[1;32m   (...)\u001b[0m\n\u001b[0;32m    100\u001b[0m \u001b[39m            my_function_two_task = my_function_two(input=my_function_one_task.outputs)\u001b[39;00m\n\u001b[0;32m    101\u001b[0m \u001b[39m    \"\"\"\u001b[39;00m\n",
      "File \u001b[1;32mc:\\Users\\Vivobook\\AppData\\Local\\Programs\\Python\\Python311\\Lib\\site-packages\\kfp\\dsl\\component_factory.py:27\u001b[0m\n\u001b[0;32m     25\u001b[0m \u001b[39mimport\u001b[39;00m \u001b[39mkfp\u001b[39;00m\n\u001b[0;32m     26\u001b[0m \u001b[39mfrom\u001b[39;00m \u001b[39mkfp\u001b[39;00m\u001b[39m.\u001b[39;00m\u001b[39mdsl\u001b[39;00m \u001b[39mimport\u001b[39;00m container_component_artifact_channel\n\u001b[1;32m---> 27\u001b[0m \u001b[39mfrom\u001b[39;00m \u001b[39mkfp\u001b[39;00m\u001b[39m.\u001b[39;00m\u001b[39mdsl\u001b[39;00m \u001b[39mimport\u001b[39;00m container_component_class\n\u001b[0;32m     28\u001b[0m \u001b[39mfrom\u001b[39;00m \u001b[39mkfp\u001b[39;00m\u001b[39m.\u001b[39;00m\u001b[39mdsl\u001b[39;00m \u001b[39mimport\u001b[39;00m graph_component\n\u001b[0;32m     29\u001b[0m \u001b[39mfrom\u001b[39;00m \u001b[39mkfp\u001b[39;00m\u001b[39m.\u001b[39;00m\u001b[39mdsl\u001b[39;00m \u001b[39mimport\u001b[39;00m placeholders\n",
      "File \u001b[1;32mc:\\Users\\Vivobook\\AppData\\Local\\Programs\\Python\\Python311\\Lib\\site-packages\\kfp\\dsl\\container_component_class.py:18\u001b[0m\n\u001b[0;32m     14\u001b[0m \u001b[39m\"\"\"Container-based component.\"\"\"\u001b[39;00m\n\u001b[0;32m     16\u001b[0m \u001b[39mfrom\u001b[39;00m \u001b[39mtyping\u001b[39;00m \u001b[39mimport\u001b[39;00m Callable\n\u001b[1;32m---> 18\u001b[0m \u001b[39mfrom\u001b[39;00m \u001b[39mkfp\u001b[39;00m\u001b[39m.\u001b[39;00m\u001b[39mdsl\u001b[39;00m \u001b[39mimport\u001b[39;00m base_component\n\u001b[0;32m     19\u001b[0m \u001b[39mfrom\u001b[39;00m \u001b[39mkfp\u001b[39;00m\u001b[39m.\u001b[39;00m\u001b[39mdsl\u001b[39;00m \u001b[39mimport\u001b[39;00m structures\n\u001b[0;32m     22\u001b[0m \u001b[39mclass\u001b[39;00m \u001b[39mContainerComponent\u001b[39;00m(base_component\u001b[39m.\u001b[39mBaseComponent):\n",
      "File \u001b[1;32mc:\\Users\\Vivobook\\AppData\\Local\\Programs\\Python\\Python311\\Lib\\site-packages\\kfp\\dsl\\base_component.py:19\u001b[0m\n\u001b[0;32m     16\u001b[0m \u001b[39mimport\u001b[39;00m \u001b[39mabc\u001b[39;00m\n\u001b[0;32m     17\u001b[0m \u001b[39mfrom\u001b[39;00m \u001b[39mtyping\u001b[39;00m \u001b[39mimport\u001b[39;00m List\n\u001b[1;32m---> 19\u001b[0m \u001b[39mfrom\u001b[39;00m \u001b[39mkfp\u001b[39;00m\u001b[39m.\u001b[39;00m\u001b[39mdsl\u001b[39;00m \u001b[39mimport\u001b[39;00m pipeline_task\n\u001b[0;32m     20\u001b[0m \u001b[39mfrom\u001b[39;00m \u001b[39mkfp\u001b[39;00m\u001b[39m.\u001b[39;00m\u001b[39mdsl\u001b[39;00m \u001b[39mimport\u001b[39;00m structures\n\u001b[0;32m     21\u001b[0m \u001b[39mfrom\u001b[39;00m \u001b[39mkfp\u001b[39;00m\u001b[39m.\u001b[39;00m\u001b[39mdsl\u001b[39;00m\u001b[39m.\u001b[39;00m\u001b[39mtypes\u001b[39;00m \u001b[39mimport\u001b[39;00m type_utils\n",
      "File \u001b[1;32mc:\\Users\\Vivobook\\AppData\\Local\\Programs\\Python\\Python311\\Lib\\site-packages\\kfp\\dsl\\pipeline_task.py:26\u001b[0m\n\u001b[0;32m     24\u001b[0m \u001b[39mfrom\u001b[39;00m \u001b[39mkfp\u001b[39;00m\u001b[39m.\u001b[39;00m\u001b[39mdsl\u001b[39;00m \u001b[39mimport\u001b[39;00m pipeline_channel\n\u001b[0;32m     25\u001b[0m \u001b[39mfrom\u001b[39;00m \u001b[39mkfp\u001b[39;00m\u001b[39m.\u001b[39;00m\u001b[39mdsl\u001b[39;00m \u001b[39mimport\u001b[39;00m placeholders\n\u001b[1;32m---> 26\u001b[0m \u001b[39mfrom\u001b[39;00m \u001b[39mkfp\u001b[39;00m\u001b[39m.\u001b[39;00m\u001b[39mdsl\u001b[39;00m \u001b[39mimport\u001b[39;00m structures\n\u001b[0;32m     27\u001b[0m \u001b[39mfrom\u001b[39;00m \u001b[39mkfp\u001b[39;00m\u001b[39m.\u001b[39;00m\u001b[39mdsl\u001b[39;00m \u001b[39mimport\u001b[39;00m utils\n\u001b[0;32m     28\u001b[0m \u001b[39mfrom\u001b[39;00m \u001b[39mkfp\u001b[39;00m\u001b[39m.\u001b[39;00m\u001b[39mdsl\u001b[39;00m\u001b[39m.\u001b[39;00m\u001b[39mtypes\u001b[39;00m \u001b[39mimport\u001b[39;00m type_utils\n",
      "File \u001b[1;32mc:\\Users\\Vivobook\\AppData\\Local\\Programs\\Python\\Python311\\Lib\\site-packages\\kfp\\dsl\\structures.py:34\u001b[0m\n\u001b[0;32m     32\u001b[0m \u001b[39mfrom\u001b[39;00m \u001b[39mkfp\u001b[39;00m\u001b[39m.\u001b[39;00m\u001b[39mdsl\u001b[39;00m\u001b[39m.\u001b[39;00m\u001b[39mtypes\u001b[39;00m \u001b[39mimport\u001b[39;00m type_annotations\n\u001b[0;32m     33\u001b[0m \u001b[39mfrom\u001b[39;00m \u001b[39mkfp\u001b[39;00m\u001b[39m.\u001b[39;00m\u001b[39mdsl\u001b[39;00m\u001b[39m.\u001b[39;00m\u001b[39mtypes\u001b[39;00m \u001b[39mimport\u001b[39;00m type_utils\n\u001b[1;32m---> 34\u001b[0m \u001b[39mfrom\u001b[39;00m \u001b[39mkfp\u001b[39;00m\u001b[39m.\u001b[39;00m\u001b[39mpipeline_spec\u001b[39;00m \u001b[39mimport\u001b[39;00m pipeline_spec_pb2\n\u001b[0;32m     35\u001b[0m \u001b[39mimport\u001b[39;00m \u001b[39myaml\u001b[39;00m\n\u001b[0;32m     38\u001b[0m \u001b[39m@dataclasses\u001b[39m\u001b[39m.\u001b[39mdataclass\n\u001b[0;32m     39\u001b[0m \u001b[39mclass\u001b[39;00m \u001b[39mInputSpec\u001b[39;00m:\n",
      "File \u001b[1;32mc:\\Users\\Vivobook\\AppData\\Local\\Programs\\Python\\Python311\\Lib\\site-packages\\kfp\\pipeline_spec\\pipeline_spec_pb2.py:38\u001b[0m\n\u001b[0;32m     16\u001b[0m \u001b[39mfrom\u001b[39;00m \u001b[39mgoogle\u001b[39;00m\u001b[39m.\u001b[39;00m\u001b[39mrpc\u001b[39;00m \u001b[39mimport\u001b[39;00m status_pb2 \u001b[39mas\u001b[39;00m google_dot_rpc_dot_status__pb2\n\u001b[0;32m     19\u001b[0m DESCRIPTOR \u001b[39m=\u001b[39m _descriptor\u001b[39m.\u001b[39mFileDescriptor(\n\u001b[0;32m     20\u001b[0m   name\u001b[39m=\u001b[39m\u001b[39m'\u001b[39m\u001b[39mpipeline_spec.proto\u001b[39m\u001b[39m'\u001b[39m,\n\u001b[0;32m     21\u001b[0m   package\u001b[39m=\u001b[39m\u001b[39m'\u001b[39m\u001b[39mml_pipelines\u001b[39m\u001b[39m'\u001b[39m,\n\u001b[1;32m   (...)\u001b[0m\n\u001b[0;32m     26\u001b[0m   ,\n\u001b[0;32m     27\u001b[0m   dependencies\u001b[39m=\u001b[39m[google_dot_protobuf_dot_duration__pb2\u001b[39m.\u001b[39mDESCRIPTOR,google_dot_protobuf_dot_struct__pb2\u001b[39m.\u001b[39mDESCRIPTOR,google_dot_rpc_dot_status__pb2\u001b[39m.\u001b[39mDESCRIPTOR,])\n\u001b[0;32m     31\u001b[0m _PRIMITIVETYPE_PRIMITIVETYPEENUM \u001b[39m=\u001b[39m _descriptor\u001b[39m.\u001b[39mEnumDescriptor(\n\u001b[0;32m     32\u001b[0m   name\u001b[39m=\u001b[39m\u001b[39m'\u001b[39m\u001b[39mPrimitiveTypeEnum\u001b[39m\u001b[39m'\u001b[39m,\n\u001b[0;32m     33\u001b[0m   full_name\u001b[39m=\u001b[39m\u001b[39m'\u001b[39m\u001b[39mml_pipelines.PrimitiveType.PrimitiveTypeEnum\u001b[39m\u001b[39m'\u001b[39m,\n\u001b[0;32m     34\u001b[0m   filename\u001b[39m=\u001b[39m\u001b[39mNone\u001b[39;00m,\n\u001b[0;32m     35\u001b[0m   file\u001b[39m=\u001b[39mDESCRIPTOR,\n\u001b[0;32m     36\u001b[0m   create_key\u001b[39m=\u001b[39m_descriptor\u001b[39m.\u001b[39m_internal_create_key,\n\u001b[0;32m     37\u001b[0m   values\u001b[39m=\u001b[39m[\n\u001b[1;32m---> 38\u001b[0m     _descriptor\u001b[39m.\u001b[39;49mEnumValueDescriptor(\n\u001b[0;32m     39\u001b[0m       name\u001b[39m=\u001b[39;49m\u001b[39m'\u001b[39;49m\u001b[39mPRIMITIVE_TYPE_UNSPECIFIED\u001b[39;49m\u001b[39m'\u001b[39;49m, index\u001b[39m=\u001b[39;49m\u001b[39m0\u001b[39;49m, number\u001b[39m=\u001b[39;49m\u001b[39m0\u001b[39;49m,\n\u001b[0;32m     40\u001b[0m       serialized_options\u001b[39m=\u001b[39;49m\u001b[39mNone\u001b[39;49;00m,\n\u001b[0;32m     41\u001b[0m       \u001b[39mtype\u001b[39;49m\u001b[39m=\u001b[39;49m\u001b[39mNone\u001b[39;49;00m,\n\u001b[0;32m     42\u001b[0m       create_key\u001b[39m=\u001b[39;49m_descriptor\u001b[39m.\u001b[39;49m_internal_create_key),\n\u001b[0;32m     43\u001b[0m     _descriptor\u001b[39m.\u001b[39mEnumValueDescriptor(\n\u001b[0;32m     44\u001b[0m       name\u001b[39m=\u001b[39m\u001b[39m'\u001b[39m\u001b[39mINT\u001b[39m\u001b[39m'\u001b[39m, index\u001b[39m=\u001b[39m\u001b[39m1\u001b[39m, number\u001b[39m=\u001b[39m\u001b[39m1\u001b[39m,\n\u001b[0;32m     45\u001b[0m       serialized_options\u001b[39m=\u001b[39m\u001b[39mNone\u001b[39;00m,\n\u001b[0;32m     46\u001b[0m       \u001b[39mtype\u001b[39m\u001b[39m=\u001b[39m\u001b[39mNone\u001b[39;00m,\n\u001b[0;32m     47\u001b[0m       create_key\u001b[39m=\u001b[39m_descriptor\u001b[39m.\u001b[39m_internal_create_key),\n\u001b[0;32m     48\u001b[0m     _descriptor\u001b[39m.\u001b[39mEnumValueDescriptor(\n\u001b[0;32m     49\u001b[0m       name\u001b[39m=\u001b[39m\u001b[39m'\u001b[39m\u001b[39mDOUBLE\u001b[39m\u001b[39m'\u001b[39m, index\u001b[39m=\u001b[39m\u001b[39m2\u001b[39m, number\u001b[39m=\u001b[39m\u001b[39m2\u001b[39m,\n\u001b[0;32m     50\u001b[0m       serialized_options\u001b[39m=\u001b[39m\u001b[39mNone\u001b[39;00m,\n\u001b[0;32m     51\u001b[0m       \u001b[39mtype\u001b[39m\u001b[39m=\u001b[39m\u001b[39mNone\u001b[39;00m,\n\u001b[0;32m     52\u001b[0m       create_key\u001b[39m=\u001b[39m_descriptor\u001b[39m.\u001b[39m_internal_create_key),\n\u001b[0;32m     53\u001b[0m     _descriptor\u001b[39m.\u001b[39mEnumValueDescriptor(\n\u001b[0;32m     54\u001b[0m       name\u001b[39m=\u001b[39m\u001b[39m'\u001b[39m\u001b[39mSTRING\u001b[39m\u001b[39m'\u001b[39m, index\u001b[39m=\u001b[39m\u001b[39m3\u001b[39m, number\u001b[39m=\u001b[39m\u001b[39m3\u001b[39m,\n\u001b[0;32m     55\u001b[0m       serialized_options\u001b[39m=\u001b[39m\u001b[39mNone\u001b[39;00m,\n\u001b[0;32m     56\u001b[0m       \u001b[39mtype\u001b[39m\u001b[39m=\u001b[39m\u001b[39mNone\u001b[39;00m,\n\u001b[0;32m     57\u001b[0m       create_key\u001b[39m=\u001b[39m_descriptor\u001b[39m.\u001b[39m_internal_create_key),\n\u001b[0;32m     58\u001b[0m   ],\n\u001b[0;32m     59\u001b[0m   containing_type\u001b[39m=\u001b[39m\u001b[39mNone\u001b[39;00m,\n\u001b[0;32m     60\u001b[0m   serialized_options\u001b[39m=\u001b[39m\u001b[39mb\u001b[39m\u001b[39m'\u001b[39m\u001b[39m\\030\u001b[39;00m\u001b[39m\\001\u001b[39;00m\u001b[39m'\u001b[39m,\n\u001b[0;32m     61\u001b[0m   serialized_start\u001b[39m=\u001b[39m\u001b[39m6725\u001b[39m,\n\u001b[0;32m     62\u001b[0m   serialized_end\u001b[39m=\u001b[39m\u001b[39m6813\u001b[39m,\n\u001b[0;32m     63\u001b[0m )\n\u001b[0;32m     64\u001b[0m _sym_db\u001b[39m.\u001b[39mRegisterEnumDescriptor(_PRIMITIVETYPE_PRIMITIVETYPEENUM)\n\u001b[0;32m     66\u001b[0m _PARAMETERTYPE_PARAMETERTYPEENUM \u001b[39m=\u001b[39m _descriptor\u001b[39m.\u001b[39mEnumDescriptor(\n\u001b[0;32m     67\u001b[0m   name\u001b[39m=\u001b[39m\u001b[39m'\u001b[39m\u001b[39mParameterTypeEnum\u001b[39m\u001b[39m'\u001b[39m,\n\u001b[0;32m     68\u001b[0m   full_name\u001b[39m=\u001b[39m\u001b[39m'\u001b[39m\u001b[39mml_pipelines.ParameterType.ParameterTypeEnum\u001b[39m\u001b[39m'\u001b[39m,\n\u001b[1;32m   (...)\u001b[0m\n\u001b[0;32m    117\u001b[0m   serialized_end\u001b[39m=\u001b[39m\u001b[39m7003\u001b[39m,\n\u001b[0;32m    118\u001b[0m )\n",
      "File \u001b[1;32mc:\\Users\\Vivobook\\AppData\\Local\\Programs\\Python\\Python311\\Lib\\site-packages\\google\\protobuf\\descriptor.py:789\u001b[0m, in \u001b[0;36m__new__\u001b[1;34m(cls, name, index, number, type, options, serialized_options, create_key)\u001b[0m\n\u001b[0;32m    774\u001b[0m \u001b[39m\u001b[39m\u001b[39m\"\"\"Descriptor for a oneof field.\u001b[39;00m\n\u001b[0;32m    775\u001b[0m \n\u001b[0;32m    776\u001b[0m \u001b[39mAttributes:\u001b[39;00m\n\u001b[1;32m   (...)\u001b[0m\n\u001b[0;32m    785\u001b[0m \u001b[39m    oneof can contain.\u001b[39;00m\n\u001b[0;32m    786\u001b[0m \u001b[39m\"\"\"\u001b[39;00m\n\u001b[0;32m    788\u001b[0m \u001b[39mif\u001b[39;00m _USE_C_DESCRIPTORS:\n\u001b[1;32m--> 789\u001b[0m   _C_DESCRIPTOR_CLASS \u001b[39m=\u001b[39m _message\u001b[39m.\u001b[39mOneofDescriptor\n\u001b[0;32m    791\u001b[0m   \u001b[39mdef\u001b[39;00m \u001b[39m__new__\u001b[39m(\n\u001b[0;32m    792\u001b[0m       \u001b[39mcls\u001b[39m, name, full_name, index, containing_type, fields, options\u001b[39m=\u001b[39m\u001b[39mNone\u001b[39;00m,\n\u001b[0;32m    793\u001b[0m       serialized_options\u001b[39m=\u001b[39m\u001b[39mNone\u001b[39;00m, create_key\u001b[39m=\u001b[39m\u001b[39mNone\u001b[39;00m):\n\u001b[0;32m    794\u001b[0m     _message\u001b[39m.\u001b[39mMessage\u001b[39m.\u001b[39m_CheckCalledFromGeneratedFile()\n",
      "\u001b[1;31mTypeError\u001b[0m: Descriptors cannot be created directly.\nIf this call came from a _pb2.py file, your generated code is out of date and must be regenerated with protoc >= 3.19.0.\nIf you cannot immediately regenerate your protos, some other possible workarounds are:\n 1. Downgrade the protobuf package to 3.20.x or lower.\n 2. Set PROTOCOL_BUFFERS_PYTHON_IMPLEMENTATION=python (but this will use pure-Python parsing and will be much slower).\n\nMore information: https://developers.google.com/protocol-buffers/docs/news/2022-05-06#python-updates"
     ]
    }
   ],
   "source": [
    "from kfp.dsl import component"
   ]
  },
  {
   "cell_type": "code",
   "execution_count": 30,
   "metadata": {},
   "outputs": [
    {
     "ename": "NameError",
     "evalue": "name 'component' is not defined",
     "output_type": "error",
     "traceback": [
      "\u001b[1;31m---------------------------------------------------------------------------\u001b[0m",
      "\u001b[1;31mNameError\u001b[0m                                 Traceback (most recent call last)",
      "\u001b[1;32mc:\\Users\\Vivobook\\Desktop\\Henry\\Proyectos\\FINAL\\Proyecto_Final_Google_Yelp\\pipeline.ipynb Celda 4\u001b[0m line \u001b[0;36m1\n\u001b[1;32m----> <a href='vscode-notebook-cell:/c%3A/Users/Vivobook/Desktop/Henry/Proyectos/FINAL/Proyecto_Final_Google_Yelp/pipeline.ipynb#X10sZmlsZQ%3D%3D?line=0'>1</a>\u001b[0m \u001b[39m@component\u001b[39m(\n\u001b[0;32m      <a href='vscode-notebook-cell:/c%3A/Users/Vivobook/Desktop/Henry/Proyectos/FINAL/Proyecto_Final_Google_Yelp/pipeline.ipynb#X10sZmlsZQ%3D%3D?line=1'>2</a>\u001b[0m     packages_to_install\u001b[39m=\u001b[39m[\u001b[39m\"\u001b[39m\u001b[39mgoogle-cloud-bigquery\u001b[39m\u001b[39m\"\u001b[39m, \u001b[39m\"\u001b[39m\u001b[39mpandas\u001b[39m\u001b[39m\"\u001b[39m, \u001b[39m\"\u001b[39m\u001b[39mpyarrow\u001b[39m\u001b[39m\"\u001b[39m, \u001b[39m\"\u001b[39m\u001b[39mdb-dtypes\u001b[39m\u001b[39m\"\u001b[39m],\n\u001b[0;32m      <a href='vscode-notebook-cell:/c%3A/Users/Vivobook/Desktop/Henry/Proyectos/FINAL/Proyecto_Final_Google_Yelp/pipeline.ipynb#X10sZmlsZQ%3D%3D?line=2'>3</a>\u001b[0m     base_image\u001b[39m=\u001b[39m\u001b[39m\"\u001b[39m\u001b[39mpython:3.9\u001b[39m\u001b[39m\"\u001b[39m,\n\u001b[0;32m      <a href='vscode-notebook-cell:/c%3A/Users/Vivobook/Desktop/Henry/Proyectos/FINAL/Proyecto_Final_Google_Yelp/pipeline.ipynb#X10sZmlsZQ%3D%3D?line=3'>4</a>\u001b[0m     output_component_file\u001b[39m=\u001b[39m\u001b[39m\"\u001b[39m\u001b[39mcreate_dataset.yaml\u001b[39m\u001b[39m\"\u001b[39m\n\u001b[0;32m      <a href='vscode-notebook-cell:/c%3A/Users/Vivobook/Desktop/Henry/Proyectos/FINAL/Proyecto_Final_Google_Yelp/pipeline.ipynb#X10sZmlsZQ%3D%3D?line=4'>5</a>\u001b[0m )\n\u001b[0;32m      <a href='vscode-notebook-cell:/c%3A/Users/Vivobook/Desktop/Henry/Proyectos/FINAL/Proyecto_Final_Google_Yelp/pipeline.ipynb#X10sZmlsZQ%3D%3D?line=5'>6</a>\u001b[0m \u001b[39mdef\u001b[39;00m \u001b[39mget_dataframe\u001b[39m(\n\u001b[0;32m      <a href='vscode-notebook-cell:/c%3A/Users/Vivobook/Desktop/Henry/Proyectos/FINAL/Proyecto_Final_Google_Yelp/pipeline.ipynb#X10sZmlsZQ%3D%3D?line=6'>7</a>\u001b[0m     bq_table: \u001b[39mstr\u001b[39m,\n\u001b[0;32m      <a href='vscode-notebook-cell:/c%3A/Users/Vivobook/Desktop/Henry/Proyectos/FINAL/Proyecto_Final_Google_Yelp/pipeline.ipynb#X10sZmlsZQ%3D%3D?line=7'>8</a>\u001b[0m     output_data_path: OutputPath(\u001b[39m\"\u001b[39m\u001b[39mDataset\u001b[39m\u001b[39m\"\u001b[39m)\n\u001b[0;32m      <a href='vscode-notebook-cell:/c%3A/Users/Vivobook/Desktop/Henry/Proyectos/FINAL/Proyecto_Final_Google_Yelp/pipeline.ipynb#X10sZmlsZQ%3D%3D?line=8'>9</a>\u001b[0m ):\n\u001b[0;32m     <a href='vscode-notebook-cell:/c%3A/Users/Vivobook/Desktop/Henry/Proyectos/FINAL/Proyecto_Final_Google_Yelp/pipeline.ipynb#X10sZmlsZQ%3D%3D?line=9'>10</a>\u001b[0m     \u001b[39mfrom\u001b[39;00m \u001b[39mgoogle\u001b[39;00m\u001b[39m.\u001b[39;00m\u001b[39mcloud\u001b[39;00m \u001b[39mimport\u001b[39;00m bigquery\n\u001b[0;32m     <a href='vscode-notebook-cell:/c%3A/Users/Vivobook/Desktop/Henry/Proyectos/FINAL/Proyecto_Final_Google_Yelp/pipeline.ipynb#X10sZmlsZQ%3D%3D?line=10'>11</a>\u001b[0m     \u001b[39mimport\u001b[39;00m \u001b[39mpandas\u001b[39;00m \u001b[39mas\u001b[39;00m \u001b[39mpd\u001b[39;00m\n",
      "\u001b[1;31mNameError\u001b[0m: name 'component' is not defined"
     ]
    }
   ],
   "source": [
    "@component(\n",
    "    packages_to_install=[\"google-cloud-bigquery\", \"pandas\", \"pyarrow\", \"db-dtypes\"],\n",
    "    base_image=\"python:3.9\",\n",
    "    output_component_file=\"create_dataset.yaml\"\n",
    ")\n",
    "def get_dataframe(\n",
    "    bq_table: str,\n",
    "    output_data_path: OutputPath(\"Dataset\")\n",
    "):\n",
    "    from google.cloud import bigquery\n",
    "    import pandas as pd\n",
    "    import os\n",
    "\n",
    "    project_number = os.environ[\"CLOUD_ML_PROJECT_ID\"]\n",
    "    bqclient = bigquery.Client(project=project_number)\n",
    "    table = bigquery.TableReference.from_string(\n",
    "        bq_table\n",
    "    )\n",
    "    rows = bqclient.list_rows(\n",
    "        table\n",
    "    )\n",
    "    dataframe = rows.to_dataframe(\n",
    "        create_bqstorage_client=True,\n",
    "    )\n",
    "    dataframe = dataframe.sample(frac=1, random_state=2)\n",
    "    dataframe.to_csv(output_data_path)"
   ]
  }
 ],
 "metadata": {
  "kernelspec": {
   "display_name": "Python 3",
   "language": "python",
   "name": "python3"
  },
  "language_info": {
   "codemirror_mode": {
    "name": "ipython",
    "version": 3
   },
   "file_extension": ".py",
   "mimetype": "text/x-python",
   "name": "python",
   "nbconvert_exporter": "python",
   "pygments_lexer": "ipython3",
   "version": "3.11.0"
  }
 },
 "nbformat": 4,
 "nbformat_minor": 2
}
