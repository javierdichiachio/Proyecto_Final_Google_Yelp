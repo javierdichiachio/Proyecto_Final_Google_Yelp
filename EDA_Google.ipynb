{
 "cells": [
  {
   "cell_type": "markdown",
   "metadata": {},
   "source": [
    "# Análisis Exploratorio de Datos - Google reviews:"
   ]
  },
  {
   "cell_type": "markdown",
   "metadata": {},
   "source": [
    "En el presente notebook se realizará un análisis exploratorio de los datos de **reviews** de **restaurantes** realizadas en **Google Maps** en el **estado** de **California**.\n",
    "\n",
    "En primer lugar, analizaremos la información correspondiente a las **reviews** de **usuarios** de la aplicación, para luego complementar con la información relativa a los **locales** sobre los que se realizó la review, más específicamente, sobre **restaurantes**:"
   ]
  },
  {
   "cell_type": "code",
   "execution_count": 34,
   "metadata": {},
   "outputs": [],
   "source": [
    "# En primer lugar, se importan las librerías con las que se va a trabajar:\n",
    "import pandas as pd\n",
    "import matplotlib.pyplot as plt\n",
    "import seaborn as sns\n",
    "import warnings\n",
    "warnings.filterwarnings('ignore')\n",
    "sns.set()\n",
    "import gc"
   ]
  },
  {
   "cell_type": "markdown",
   "metadata": {},
   "source": [
    "## Reviews de usuarios:"
   ]
  },
  {
   "cell_type": "markdown",
   "metadata": {},
   "source": [
    "Tal cual se explicó anteriormente, este dataset incluye las reviews realizadas por usuarios:"
   ]
  },
  {
   "cell_type": "code",
   "execution_count": 35,
   "metadata": {},
   "outputs": [
    {
     "data": {
      "text/html": [
       "<div>\n",
       "<style scoped>\n",
       "    .dataframe tbody tr th:only-of-type {\n",
       "        vertical-align: middle;\n",
       "    }\n",
       "\n",
       "    .dataframe tbody tr th {\n",
       "        vertical-align: top;\n",
       "    }\n",
       "\n",
       "    .dataframe thead th {\n",
       "        text-align: right;\n",
       "    }\n",
       "</style>\n",
       "<table border=\"1\" class=\"dataframe\">\n",
       "  <thead>\n",
       "    <tr style=\"text-align: right;\">\n",
       "      <th></th>\n",
       "      <th>user_id</th>\n",
       "      <th>name</th>\n",
       "      <th>time</th>\n",
       "      <th>rating</th>\n",
       "      <th>text</th>\n",
       "      <th>pics</th>\n",
       "      <th>resp</th>\n",
       "      <th>gmap_id</th>\n",
       "    </tr>\n",
       "  </thead>\n",
       "  <tbody>\n",
       "    <tr>\n",
       "      <th>0</th>\n",
       "      <td>1.089912e+20</td>\n",
       "      <td>Song Ro</td>\n",
       "      <td>1609909927056</td>\n",
       "      <td>5</td>\n",
       "      <td>Love there korean rice cake.</td>\n",
       "      <td>None</td>\n",
       "      <td>None</td>\n",
       "      <td>0x80c2c778e3b73d33:0xbdc58662a4a97d49</td>\n",
       "    </tr>\n",
       "    <tr>\n",
       "      <th>1</th>\n",
       "      <td>1.112903e+20</td>\n",
       "      <td>Rafa Robles</td>\n",
       "      <td>1612849648663</td>\n",
       "      <td>5</td>\n",
       "      <td>Good very good</td>\n",
       "      <td>None</td>\n",
       "      <td>None</td>\n",
       "      <td>0x80c2c778e3b73d33:0xbdc58662a4a97d49</td>\n",
       "    </tr>\n",
       "    <tr>\n",
       "      <th>2</th>\n",
       "      <td>1.126404e+20</td>\n",
       "      <td>David Han</td>\n",
       "      <td>1583643882296</td>\n",
       "      <td>4</td>\n",
       "      <td>They make Korean traditional food very properly.</td>\n",
       "      <td>None</td>\n",
       "      <td>None</td>\n",
       "      <td>0x80c2c778e3b73d33:0xbdc58662a4a97d49</td>\n",
       "    </tr>\n",
       "    <tr>\n",
       "      <th>3</th>\n",
       "      <td>1.174403e+20</td>\n",
       "      <td>Anthony Kim</td>\n",
       "      <td>1551938216355</td>\n",
       "      <td>5</td>\n",
       "      <td>Short ribs are very delicious.</td>\n",
       "      <td>None</td>\n",
       "      <td>None</td>\n",
       "      <td>0x80c2c778e3b73d33:0xbdc58662a4a97d49</td>\n",
       "    </tr>\n",
       "    <tr>\n",
       "      <th>4</th>\n",
       "      <td>1.005808e+20</td>\n",
       "      <td>Mario Marzouk</td>\n",
       "      <td>1494910901933</td>\n",
       "      <td>5</td>\n",
       "      <td>Great food and prices the portions are large</td>\n",
       "      <td>None</td>\n",
       "      <td>None</td>\n",
       "      <td>0x80c2c778e3b73d33:0xbdc58662a4a97d49</td>\n",
       "    </tr>\n",
       "  </tbody>\n",
       "</table>\n",
       "</div>"
      ],
      "text/plain": [
       "        user_id           name           time  rating  \\\n",
       "0  1.089912e+20        Song Ro  1609909927056       5   \n",
       "1  1.112903e+20    Rafa Robles  1612849648663       5   \n",
       "2  1.126404e+20      David Han  1583643882296       4   \n",
       "3  1.174403e+20    Anthony Kim  1551938216355       5   \n",
       "4  1.005808e+20  Mario Marzouk  1494910901933       5   \n",
       "\n",
       "                                               text  pics  resp  \\\n",
       "0                      Love there korean rice cake.  None  None   \n",
       "1                                    Good very good  None  None   \n",
       "2  They make Korean traditional food very properly.  None  None   \n",
       "3                    Short ribs are very delicious.  None  None   \n",
       "4      Great food and prices the portions are large  None  None   \n",
       "\n",
       "                                 gmap_id  \n",
       "0  0x80c2c778e3b73d33:0xbdc58662a4a97d49  \n",
       "1  0x80c2c778e3b73d33:0xbdc58662a4a97d49  \n",
       "2  0x80c2c778e3b73d33:0xbdc58662a4a97d49  \n",
       "3  0x80c2c778e3b73d33:0xbdc58662a4a97d49  \n",
       "4  0x80c2c778e3b73d33:0xbdc58662a4a97d49  "
      ]
     },
     "execution_count": 35,
     "metadata": {},
     "output_type": "execute_result"
    }
   ],
   "source": [
    "# En primer lugar, se carga el archivo:\n",
    "df_reviews = pd.read_parquet(\"Datasets/reviews_california.parquet\")\n",
    "df_reviews.head()"
   ]
  },
  {
   "cell_type": "code",
   "execution_count": 36,
   "metadata": {},
   "outputs": [
    {
     "name": "stdout",
     "output_type": "stream",
     "text": [
      "<class 'pandas.core.frame.DataFrame'>\n",
      "RangeIndex: 2700000 entries, 0 to 2699999\n",
      "Data columns (total 8 columns):\n",
      " #   Column   Dtype  \n",
      "---  ------   -----  \n",
      " 0   user_id  float64\n",
      " 1   name     object \n",
      " 2   time     int64  \n",
      " 3   rating   int64  \n",
      " 4   text     object \n",
      " 5   pics     object \n",
      " 6   resp     object \n",
      " 7   gmap_id  object \n",
      "dtypes: float64(1), int64(2), object(5)\n",
      "memory usage: 164.8+ MB\n"
     ]
    }
   ],
   "source": [
    "# Se controla información general del dataset:\n",
    "df_reviews.info()"
   ]
  },
  {
   "cell_type": "markdown",
   "metadata": {},
   "source": [
    "Se eliminan las columnas que no se utilizarán en el análisis:"
   ]
  },
  {
   "cell_type": "code",
   "execution_count": 37,
   "metadata": {},
   "outputs": [],
   "source": [
    "df_reviews = df_reviews.drop(columns=[\"pics\", \"resp\"])"
   ]
  },
  {
   "cell_type": "code",
   "execution_count": 38,
   "metadata": {},
   "outputs": [
    {
     "data": {
      "text/plain": [
       "75243"
      ]
     },
     "execution_count": 38,
     "metadata": {},
     "output_type": "execute_result"
    }
   ],
   "source": [
    "# Se controla que no existan filas duplicadas:\n",
    "df_reviews.duplicated().sum()"
   ]
  },
  {
   "cell_type": "code",
   "execution_count": 39,
   "metadata": {},
   "outputs": [
    {
     "data": {
      "text/plain": [
       "(2624757, 6)"
      ]
     },
     "execution_count": 39,
     "metadata": {},
     "output_type": "execute_result"
    }
   ],
   "source": [
    "# Se eliminan valores duplicados:\n",
    "df_reviews = df_reviews.drop_duplicates()\n",
    "df_reviews.shape"
   ]
  },
  {
   "cell_type": "code",
   "execution_count": 40,
   "metadata": {},
   "outputs": [
    {
     "data": {
      "text/plain": [
       "user_id          0\n",
       "name             0\n",
       "time             0\n",
       "rating           0\n",
       "text       1163823\n",
       "gmap_id          0\n",
       "dtype: int64"
      ]
     },
     "execution_count": 40,
     "metadata": {},
     "output_type": "execute_result"
    }
   ],
   "source": [
    "# Se controla la cantidad de valores nulos:\n",
    "df_reviews.isnull().sum()"
   ]
  },
  {
   "cell_type": "markdown",
   "metadata": {},
   "source": [
    "De acuerdo a lo expuesto, existe una **gran cantidad de valores faltantes** en la columna **\"text\"**, que contiene los **comentarios de las reviews** realizadas por el usuario. \n",
    "\n",
    "Se decide **mantener** las mismas, ya que correspoden a casi el 50% de la información del dataset y por ende estaríamos eliminando información importante, y a su vez tal vez podamos implementar algún método para completar los mismos a través del rating ingresado por el usuario.\n",
    "\n",
    "Por tal motivo, procedemos a controlar los valores numéricos del dataset:"
   ]
  },
  {
   "cell_type": "code",
   "execution_count": 41,
   "metadata": {},
   "outputs": [
    {
     "data": {
      "text/html": [
       "<div>\n",
       "<style scoped>\n",
       "    .dataframe tbody tr th:only-of-type {\n",
       "        vertical-align: middle;\n",
       "    }\n",
       "\n",
       "    .dataframe tbody tr th {\n",
       "        vertical-align: top;\n",
       "    }\n",
       "\n",
       "    .dataframe thead th {\n",
       "        text-align: right;\n",
       "    }\n",
       "</style>\n",
       "<table border=\"1\" class=\"dataframe\">\n",
       "  <thead>\n",
       "    <tr style=\"text-align: right;\">\n",
       "      <th></th>\n",
       "      <th>user_id</th>\n",
       "      <th>time</th>\n",
       "      <th>rating</th>\n",
       "    </tr>\n",
       "  </thead>\n",
       "  <tbody>\n",
       "    <tr>\n",
       "      <th>count</th>\n",
       "      <td>2.624757e+06</td>\n",
       "      <td>2.624757e+06</td>\n",
       "      <td>2.624757e+06</td>\n",
       "    </tr>\n",
       "    <tr>\n",
       "      <th>mean</th>\n",
       "      <td>1.093545e+20</td>\n",
       "      <td>1.551619e+12</td>\n",
       "      <td>4.314976e+00</td>\n",
       "    </tr>\n",
       "    <tr>\n",
       "      <th>std</th>\n",
       "      <td>5.238718e+18</td>\n",
       "      <td>4.646347e+10</td>\n",
       "      <td>1.123238e+00</td>\n",
       "    </tr>\n",
       "    <tr>\n",
       "      <th>min</th>\n",
       "      <td>1.000000e+20</td>\n",
       "      <td>6.626016e+11</td>\n",
       "      <td>1.000000e+00</td>\n",
       "    </tr>\n",
       "    <tr>\n",
       "      <th>25%</th>\n",
       "      <td>1.048919e+20</td>\n",
       "      <td>1.523132e+12</td>\n",
       "      <td>4.000000e+00</td>\n",
       "    </tr>\n",
       "    <tr>\n",
       "      <th>50%</th>\n",
       "      <td>1.093178e+20</td>\n",
       "      <td>1.555369e+12</td>\n",
       "      <td>5.000000e+00</td>\n",
       "    </tr>\n",
       "    <tr>\n",
       "      <th>75%</th>\n",
       "      <td>1.138792e+20</td>\n",
       "      <td>1.582401e+12</td>\n",
       "      <td>5.000000e+00</td>\n",
       "    </tr>\n",
       "    <tr>\n",
       "      <th>max</th>\n",
       "      <td>1.184467e+20</td>\n",
       "      <td>1.631149e+12</td>\n",
       "      <td>5.000000e+00</td>\n",
       "    </tr>\n",
       "  </tbody>\n",
       "</table>\n",
       "</div>"
      ],
      "text/plain": [
       "            user_id          time        rating\n",
       "count  2.624757e+06  2.624757e+06  2.624757e+06\n",
       "mean   1.093545e+20  1.551619e+12  4.314976e+00\n",
       "std    5.238718e+18  4.646347e+10  1.123238e+00\n",
       "min    1.000000e+20  6.626016e+11  1.000000e+00\n",
       "25%    1.048919e+20  1.523132e+12  4.000000e+00\n",
       "50%    1.093178e+20  1.555369e+12  5.000000e+00\n",
       "75%    1.138792e+20  1.582401e+12  5.000000e+00\n",
       "max    1.184467e+20  1.631149e+12  5.000000e+00"
      ]
     },
     "execution_count": 41,
     "metadata": {},
     "output_type": "execute_result"
    }
   ],
   "source": [
    "df_reviews.describe()"
   ]
  },
  {
   "cell_type": "markdown",
   "metadata": {},
   "source": [
    "Podemos observar que el **valor mínimo** en **\"rating\"** es **1**, mientras que el **valor máximo** es **5**, por lo que supone una **escala** de calificaciones de **1 a 5 estrellas**.\n",
    "\n",
    "Teniendo esto presente, ahora podemos **reemplazar** los **valores nulos** en los comentarios, a través de una **escala de satisfacción** basada en el **rating ingresado por el usuario**, a saber:\n",
    "\n",
    "    - Rating menor o igual a 1: \"Very Dissatisfied\"\n",
    "    - Rating menor o igual a 2: \"Dissatisfied\"\n",
    "    - Rating menor o igual a 3: \"Neutral\"\n",
    "    - Rating menor o igual a 4: \"Satisfied\"\n",
    "    - Rating menor o igual a 5: \"Very Satisfied\""
   ]
  },
  {
   "cell_type": "code",
   "execution_count": 42,
   "metadata": {},
   "outputs": [],
   "source": [
    "# En primer lugar, creamos la función que asignará la escala de satisfacción:\n",
    "def asignar_escala(rating):\n",
    "    if rating <= 1:\n",
    "        return \"Very Dissatisfied\"\n",
    "    elif rating <= 2:\n",
    "        return \"Dissatisfied\"\n",
    "    elif rating <= 3:\n",
    "        return \"Neutral\"\n",
    "    elif rating <= 4:\n",
    "        return \"Satisfied\"\n",
    "    else:\n",
    "        return \"Very Satisfied\""
   ]
  },
  {
   "cell_type": "code",
   "execution_count": 43,
   "metadata": {},
   "outputs": [
    {
     "data": {
      "text/html": [
       "<div>\n",
       "<style scoped>\n",
       "    .dataframe tbody tr th:only-of-type {\n",
       "        vertical-align: middle;\n",
       "    }\n",
       "\n",
       "    .dataframe tbody tr th {\n",
       "        vertical-align: top;\n",
       "    }\n",
       "\n",
       "    .dataframe thead th {\n",
       "        text-align: right;\n",
       "    }\n",
       "</style>\n",
       "<table border=\"1\" class=\"dataframe\">\n",
       "  <thead>\n",
       "    <tr style=\"text-align: right;\">\n",
       "      <th></th>\n",
       "      <th>user_id</th>\n",
       "      <th>name</th>\n",
       "      <th>time</th>\n",
       "      <th>rating</th>\n",
       "      <th>text</th>\n",
       "      <th>gmap_id</th>\n",
       "      <th>escala_satisfaccion</th>\n",
       "    </tr>\n",
       "  </thead>\n",
       "  <tbody>\n",
       "    <tr>\n",
       "      <th>0</th>\n",
       "      <td>1.089912e+20</td>\n",
       "      <td>Song Ro</td>\n",
       "      <td>1609909927056</td>\n",
       "      <td>5</td>\n",
       "      <td>Love there korean rice cake.</td>\n",
       "      <td>0x80c2c778e3b73d33:0xbdc58662a4a97d49</td>\n",
       "      <td>Very Satisfied</td>\n",
       "    </tr>\n",
       "    <tr>\n",
       "      <th>1</th>\n",
       "      <td>1.112903e+20</td>\n",
       "      <td>Rafa Robles</td>\n",
       "      <td>1612849648663</td>\n",
       "      <td>5</td>\n",
       "      <td>Good very good</td>\n",
       "      <td>0x80c2c778e3b73d33:0xbdc58662a4a97d49</td>\n",
       "      <td>Very Satisfied</td>\n",
       "    </tr>\n",
       "    <tr>\n",
       "      <th>2</th>\n",
       "      <td>1.126404e+20</td>\n",
       "      <td>David Han</td>\n",
       "      <td>1583643882296</td>\n",
       "      <td>4</td>\n",
       "      <td>They make Korean traditional food very properly.</td>\n",
       "      <td>0x80c2c778e3b73d33:0xbdc58662a4a97d49</td>\n",
       "      <td>Satisfied</td>\n",
       "    </tr>\n",
       "    <tr>\n",
       "      <th>3</th>\n",
       "      <td>1.174403e+20</td>\n",
       "      <td>Anthony Kim</td>\n",
       "      <td>1551938216355</td>\n",
       "      <td>5</td>\n",
       "      <td>Short ribs are very delicious.</td>\n",
       "      <td>0x80c2c778e3b73d33:0xbdc58662a4a97d49</td>\n",
       "      <td>Very Satisfied</td>\n",
       "    </tr>\n",
       "    <tr>\n",
       "      <th>4</th>\n",
       "      <td>1.005808e+20</td>\n",
       "      <td>Mario Marzouk</td>\n",
       "      <td>1494910901933</td>\n",
       "      <td>5</td>\n",
       "      <td>Great food and prices the portions are large</td>\n",
       "      <td>0x80c2c778e3b73d33:0xbdc58662a4a97d49</td>\n",
       "      <td>Very Satisfied</td>\n",
       "    </tr>\n",
       "  </tbody>\n",
       "</table>\n",
       "</div>"
      ],
      "text/plain": [
       "        user_id           name           time  rating  \\\n",
       "0  1.089912e+20        Song Ro  1609909927056       5   \n",
       "1  1.112903e+20    Rafa Robles  1612849648663       5   \n",
       "2  1.126404e+20      David Han  1583643882296       4   \n",
       "3  1.174403e+20    Anthony Kim  1551938216355       5   \n",
       "4  1.005808e+20  Mario Marzouk  1494910901933       5   \n",
       "\n",
       "                                               text  \\\n",
       "0                      Love there korean rice cake.   \n",
       "1                                    Good very good   \n",
       "2  They make Korean traditional food very properly.   \n",
       "3                    Short ribs are very delicious.   \n",
       "4      Great food and prices the portions are large   \n",
       "\n",
       "                                 gmap_id escala_satisfaccion  \n",
       "0  0x80c2c778e3b73d33:0xbdc58662a4a97d49      Very Satisfied  \n",
       "1  0x80c2c778e3b73d33:0xbdc58662a4a97d49      Very Satisfied  \n",
       "2  0x80c2c778e3b73d33:0xbdc58662a4a97d49           Satisfied  \n",
       "3  0x80c2c778e3b73d33:0xbdc58662a4a97d49      Very Satisfied  \n",
       "4  0x80c2c778e3b73d33:0xbdc58662a4a97d49      Very Satisfied  "
      ]
     },
     "execution_count": 43,
     "metadata": {},
     "output_type": "execute_result"
    }
   ],
   "source": [
    "# Luego creamos una columna en el dataframe donde aplicamos la funcion creada anteriormente:\n",
    "df_reviews[\"escala_satisfaccion\"] = df_reviews[\"rating\"].apply(asignar_escala)\n",
    "df_reviews.head()"
   ]
  },
  {
   "cell_type": "code",
   "execution_count": 44,
   "metadata": {},
   "outputs": [
    {
     "data": {
      "text/plain": [
       "user_id                0\n",
       "name                   0\n",
       "time                   0\n",
       "rating                 0\n",
       "text                   0\n",
       "gmap_id                0\n",
       "escala_satisfaccion    0\n",
       "dtype: int64"
      ]
     },
     "execution_count": 44,
     "metadata": {},
     "output_type": "execute_result"
    }
   ],
   "source": [
    "# Reemplazamos valores nulos:\n",
    "df_reviews[\"text\"].fillna(df_reviews[\"escala_satisfaccion\"], inplace = True)\n",
    "\n",
    "# Controlamos que no queden valores nulos en el dataframe:\n",
    "df_reviews.isnull().sum()"
   ]
  },
  {
   "cell_type": "code",
   "execution_count": 45,
   "metadata": {},
   "outputs": [],
   "source": [
    "# Eliminamos la columna agregada anteriormente:\n",
    "df_reviews = df_reviews.drop(columns=\"escala_satisfaccion\")"
   ]
  },
  {
   "cell_type": "markdown",
   "metadata": {},
   "source": [
    "Observamos que contiene la columna \"time\":"
   ]
  },
  {
   "cell_type": "code",
   "execution_count": 46,
   "metadata": {},
   "outputs": [
    {
     "data": {
      "text/plain": [
       "0          1609909927056\n",
       "1          1612849648663\n",
       "2          1583643882296\n",
       "3          1551938216355\n",
       "4          1494910901933\n",
       "               ...      \n",
       "2699995    1573362674409\n",
       "2699996    1580608853411\n",
       "2699997    1528597806165\n",
       "2699998    1551203379295\n",
       "2699999    1553880485978\n",
       "Name: time, Length: 2624757, dtype: int64"
      ]
     },
     "execution_count": 46,
     "metadata": {},
     "output_type": "execute_result"
    }
   ],
   "source": [
    "df_reviews[\"time\"]"
   ]
  },
  {
   "cell_type": "markdown",
   "metadata": {},
   "source": [
    "Aparentemente la columna \"time\" incluye una marca de tiempo (timestamp) en milisegundos, por lo que a continuación la convertimos en fecha:"
   ]
  },
  {
   "cell_type": "code",
   "execution_count": 47,
   "metadata": {},
   "outputs": [],
   "source": [
    "from datetime import datetime\n",
    "\n",
    "# Creamos una funcion para obtener el timestamp en segundos:\n",
    "def convertir_timestamp(milisegundo):\n",
    "    timestamp_seg = milisegundo / 1000\n",
    "    fecha_hora = datetime.utcfromtimestamp(timestamp_seg)\n",
    "    return fecha_hora"
   ]
  },
  {
   "cell_type": "code",
   "execution_count": 48,
   "metadata": {},
   "outputs": [
    {
     "data": {
      "text/html": [
       "<div>\n",
       "<style scoped>\n",
       "    .dataframe tbody tr th:only-of-type {\n",
       "        vertical-align: middle;\n",
       "    }\n",
       "\n",
       "    .dataframe tbody tr th {\n",
       "        vertical-align: top;\n",
       "    }\n",
       "\n",
       "    .dataframe thead th {\n",
       "        text-align: right;\n",
       "    }\n",
       "</style>\n",
       "<table border=\"1\" class=\"dataframe\">\n",
       "  <thead>\n",
       "    <tr style=\"text-align: right;\">\n",
       "      <th></th>\n",
       "      <th>user_id</th>\n",
       "      <th>name</th>\n",
       "      <th>time</th>\n",
       "      <th>rating</th>\n",
       "      <th>text</th>\n",
       "      <th>gmap_id</th>\n",
       "      <th>fecha</th>\n",
       "    </tr>\n",
       "  </thead>\n",
       "  <tbody>\n",
       "    <tr>\n",
       "      <th>0</th>\n",
       "      <td>1.089912e+20</td>\n",
       "      <td>Song Ro</td>\n",
       "      <td>1609909927056</td>\n",
       "      <td>5</td>\n",
       "      <td>Love there korean rice cake.</td>\n",
       "      <td>0x80c2c778e3b73d33:0xbdc58662a4a97d49</td>\n",
       "      <td>2021-01-06 05:12:07.056</td>\n",
       "    </tr>\n",
       "    <tr>\n",
       "      <th>1</th>\n",
       "      <td>1.112903e+20</td>\n",
       "      <td>Rafa Robles</td>\n",
       "      <td>1612849648663</td>\n",
       "      <td>5</td>\n",
       "      <td>Good very good</td>\n",
       "      <td>0x80c2c778e3b73d33:0xbdc58662a4a97d49</td>\n",
       "      <td>2021-02-09 05:47:28.663</td>\n",
       "    </tr>\n",
       "    <tr>\n",
       "      <th>2</th>\n",
       "      <td>1.126404e+20</td>\n",
       "      <td>David Han</td>\n",
       "      <td>1583643882296</td>\n",
       "      <td>4</td>\n",
       "      <td>They make Korean traditional food very properly.</td>\n",
       "      <td>0x80c2c778e3b73d33:0xbdc58662a4a97d49</td>\n",
       "      <td>2020-03-08 05:04:42.296</td>\n",
       "    </tr>\n",
       "    <tr>\n",
       "      <th>3</th>\n",
       "      <td>1.174403e+20</td>\n",
       "      <td>Anthony Kim</td>\n",
       "      <td>1551938216355</td>\n",
       "      <td>5</td>\n",
       "      <td>Short ribs are very delicious.</td>\n",
       "      <td>0x80c2c778e3b73d33:0xbdc58662a4a97d49</td>\n",
       "      <td>2019-03-07 05:56:56.355</td>\n",
       "    </tr>\n",
       "    <tr>\n",
       "      <th>4</th>\n",
       "      <td>1.005808e+20</td>\n",
       "      <td>Mario Marzouk</td>\n",
       "      <td>1494910901933</td>\n",
       "      <td>5</td>\n",
       "      <td>Great food and prices the portions are large</td>\n",
       "      <td>0x80c2c778e3b73d33:0xbdc58662a4a97d49</td>\n",
       "      <td>2017-05-16 05:01:41.933</td>\n",
       "    </tr>\n",
       "  </tbody>\n",
       "</table>\n",
       "</div>"
      ],
      "text/plain": [
       "        user_id           name           time  rating  \\\n",
       "0  1.089912e+20        Song Ro  1609909927056       5   \n",
       "1  1.112903e+20    Rafa Robles  1612849648663       5   \n",
       "2  1.126404e+20      David Han  1583643882296       4   \n",
       "3  1.174403e+20    Anthony Kim  1551938216355       5   \n",
       "4  1.005808e+20  Mario Marzouk  1494910901933       5   \n",
       "\n",
       "                                               text  \\\n",
       "0                      Love there korean rice cake.   \n",
       "1                                    Good very good   \n",
       "2  They make Korean traditional food very properly.   \n",
       "3                    Short ribs are very delicious.   \n",
       "4      Great food and prices the portions are large   \n",
       "\n",
       "                                 gmap_id                   fecha  \n",
       "0  0x80c2c778e3b73d33:0xbdc58662a4a97d49 2021-01-06 05:12:07.056  \n",
       "1  0x80c2c778e3b73d33:0xbdc58662a4a97d49 2021-02-09 05:47:28.663  \n",
       "2  0x80c2c778e3b73d33:0xbdc58662a4a97d49 2020-03-08 05:04:42.296  \n",
       "3  0x80c2c778e3b73d33:0xbdc58662a4a97d49 2019-03-07 05:56:56.355  \n",
       "4  0x80c2c778e3b73d33:0xbdc58662a4a97d49 2017-05-16 05:01:41.933  "
      ]
     },
     "execution_count": 48,
     "metadata": {},
     "output_type": "execute_result"
    }
   ],
   "source": [
    "# Creamos la columna \"fecha\" utilizando la funcion creada anteriormente:\n",
    "df_reviews[\"fecha\"] = df_reviews[\"time\"].apply(convertir_timestamp)\n",
    "df_reviews.head()"
   ]
  },
  {
   "cell_type": "markdown",
   "metadata": {},
   "source": [
    "Una vez creada la columna fecha, eliminamos la columna original:"
   ]
  },
  {
   "cell_type": "code",
   "execution_count": 49,
   "metadata": {},
   "outputs": [
    {
     "name": "stdout",
     "output_type": "stream",
     "text": [
      "<class 'pandas.core.frame.DataFrame'>\n",
      "RangeIndex: 2624757 entries, 0 to 2624756\n",
      "Data columns (total 6 columns):\n",
      " #   Column   Dtype         \n",
      "---  ------   -----         \n",
      " 0   user_id  float64       \n",
      " 1   name     object        \n",
      " 2   rating   int64         \n",
      " 3   text     object        \n",
      " 4   gmap_id  object        \n",
      " 5   fecha    datetime64[ns]\n",
      "dtypes: datetime64[ns](1), float64(1), int64(1), object(3)\n",
      "memory usage: 120.2+ MB\n"
     ]
    }
   ],
   "source": [
    "df_reviews = df_reviews.drop(columns=\"time\").reset_index(drop=True)\n",
    "df_reviews.info()"
   ]
  },
  {
   "cell_type": "markdown",
   "metadata": {},
   "source": [
    "Se exporta el archivo en formato parquet:"
   ]
  },
  {
   "cell_type": "code",
   "execution_count": 50,
   "metadata": {},
   "outputs": [],
   "source": [
    "df_reviews.to_parquet(\"reviews_google_california.parquet\", engine=\"pyarrow\")"
   ]
  },
  {
   "cell_type": "markdown",
   "metadata": {},
   "source": [
    "Una vez completados los datos nulos, controlamos el Top 10 de usuarios en cantidad de reviews:"
   ]
  },
  {
   "cell_type": "code",
   "execution_count": 51,
   "metadata": {},
   "outputs": [
    {
     "data": {
      "text/plain": [
       "user_id\n",
       "1.033885e+20    307\n",
       "1.077740e+20    144\n",
       "1.119374e+20    130\n",
       "1.030183e+20    130\n",
       "1.150273e+20    125\n",
       "1.164464e+20    110\n",
       "1.055059e+20    105\n",
       "1.056125e+20    104\n",
       "1.087680e+20    104\n",
       "1.021802e+20    102\n",
       "Name: count, dtype: int64"
      ]
     },
     "execution_count": 51,
     "metadata": {},
     "output_type": "execute_result"
    }
   ],
   "source": [
    "top_user_reviews = df_reviews[\"user_id\"].value_counts()\n",
    "top_user_reviews.head(10)"
   ]
  },
  {
   "cell_type": "markdown",
   "metadata": {},
   "source": [
    "## Locales (metadata)"
   ]
  },
  {
   "cell_type": "markdown",
   "metadata": {},
   "source": [
    "La **\"metadata\"** corresponde a la **información de** los diferentes **locales/comercios incluidos** en **Google Maps**, en este caso en particular, para el estado de **California**."
   ]
  },
  {
   "cell_type": "code",
   "execution_count": 52,
   "metadata": {},
   "outputs": [
    {
     "data": {
      "text/html": [
       "<div>\n",
       "<style scoped>\n",
       "    .dataframe tbody tr th:only-of-type {\n",
       "        vertical-align: middle;\n",
       "    }\n",
       "\n",
       "    .dataframe tbody tr th {\n",
       "        vertical-align: top;\n",
       "    }\n",
       "\n",
       "    .dataframe thead th {\n",
       "        text-align: right;\n",
       "    }\n",
       "</style>\n",
       "<table border=\"1\" class=\"dataframe\">\n",
       "  <thead>\n",
       "    <tr style=\"text-align: right;\">\n",
       "      <th></th>\n",
       "      <th>index</th>\n",
       "      <th>name</th>\n",
       "      <th>address</th>\n",
       "      <th>gmap_id</th>\n",
       "      <th>description</th>\n",
       "      <th>latitude</th>\n",
       "      <th>longitude</th>\n",
       "      <th>category</th>\n",
       "      <th>avg_rating</th>\n",
       "      <th>num_of_reviews</th>\n",
       "      <th>price</th>\n",
       "      <th>hours</th>\n",
       "      <th>MISC</th>\n",
       "      <th>state</th>\n",
       "      <th>relative_results</th>\n",
       "      <th>url</th>\n",
       "    </tr>\n",
       "  </thead>\n",
       "  <tbody>\n",
       "    <tr>\n",
       "      <th>0</th>\n",
       "      <td>0</td>\n",
       "      <td>San Soo Dang</td>\n",
       "      <td>San Soo Dang, 761 S Vermont Ave, Los Angeles, ...</td>\n",
       "      <td>0x80c2c778e3b73d33:0xbdc58662a4a97d49</td>\n",
       "      <td>None</td>\n",
       "      <td>34.058092</td>\n",
       "      <td>-118.292130</td>\n",
       "      <td>[Korean restaurant]</td>\n",
       "      <td>4.4</td>\n",
       "      <td>18</td>\n",
       "      <td>None</td>\n",
       "      <td>[[Thursday, 6:30AM–6PM], [Friday, 6:30AM–6PM],...</td>\n",
       "      <td>{'Accessibility': ['Wheelchair accessible entr...</td>\n",
       "      <td>Open ⋅ Closes 6PM</td>\n",
       "      <td>[0x80c2c78249aba68f:0x35bf16ce61be751d, 0x80c2...</td>\n",
       "      <td>https://www.google.com/maps/place//data=!4m2!3...</td>\n",
       "    </tr>\n",
       "    <tr>\n",
       "      <th>1</th>\n",
       "      <td>1</td>\n",
       "      <td>Nobel Textile Co</td>\n",
       "      <td>Nobel Textile Co, 719 E 9th St, Los Angeles, C...</td>\n",
       "      <td>0x80c2c632f933b073:0xc31785961fe826a6</td>\n",
       "      <td>None</td>\n",
       "      <td>34.036694</td>\n",
       "      <td>-118.249421</td>\n",
       "      <td>[Fabric store]</td>\n",
       "      <td>4.3</td>\n",
       "      <td>7</td>\n",
       "      <td>None</td>\n",
       "      <td>[[Thursday, 9AM–5PM], [Friday, 9AM–5PM], [Satu...</td>\n",
       "      <td>{'Accessibility': None, 'Activities': None, 'A...</td>\n",
       "      <td>Open ⋅ Closes 5PM</td>\n",
       "      <td>[0x80c2c62c496083d1:0xdefa11317fe870a1, 0x80c2...</td>\n",
       "      <td>https://www.google.com/maps/place//data=!4m2!3...</td>\n",
       "    </tr>\n",
       "    <tr>\n",
       "      <th>2</th>\n",
       "      <td>2</td>\n",
       "      <td>Matrix International Textiles</td>\n",
       "      <td>Matrix International Textiles, 1363 S Bonnie B...</td>\n",
       "      <td>0x80c2cf163db6bc89:0x219484e2edbcfa41</td>\n",
       "      <td>None</td>\n",
       "      <td>34.015505</td>\n",
       "      <td>-118.181839</td>\n",
       "      <td>[Fabric store]</td>\n",
       "      <td>3.5</td>\n",
       "      <td>6</td>\n",
       "      <td>None</td>\n",
       "      <td>[[Thursday, 8:30AM–5:30PM], [Friday, 8:30AM–5:...</td>\n",
       "      <td>{'Accessibility': ['Wheelchair accessible entr...</td>\n",
       "      <td>Open ⋅ Closes 5:30PM</td>\n",
       "      <td>[0x80c2cf042a5d9561:0xd0024ad6f81f1335, 0x80c2...</td>\n",
       "      <td>https://www.google.com/maps/place//data=!4m2!3...</td>\n",
       "    </tr>\n",
       "    <tr>\n",
       "      <th>3</th>\n",
       "      <td>3</td>\n",
       "      <td>Vons Chicken</td>\n",
       "      <td>Vons Chicken, 12740 La Mirada Blvd, La Mirada,...</td>\n",
       "      <td>0x80dd2b4c8555edb7:0xfc33d65c4bdbef42</td>\n",
       "      <td>None</td>\n",
       "      <td>33.916402</td>\n",
       "      <td>-118.010855</td>\n",
       "      <td>[Restaurant]</td>\n",
       "      <td>4.5</td>\n",
       "      <td>18</td>\n",
       "      <td>None</td>\n",
       "      <td>[[Thursday, 11AM–9:30PM], [Friday, 11AM–9:30PM...</td>\n",
       "      <td>{'Accessibility': ['Wheelchair accessible entr...</td>\n",
       "      <td>Open ⋅ Closes 9:30PM</td>\n",
       "      <td>None</td>\n",
       "      <td>https://www.google.com/maps/place//data=!4m2!3...</td>\n",
       "    </tr>\n",
       "    <tr>\n",
       "      <th>4</th>\n",
       "      <td>4</td>\n",
       "      <td>Black Tie Ski Rental Delivery of Mammoth</td>\n",
       "      <td>Black Tie Ski Rental Delivery of Mammoth, 501 ...</td>\n",
       "      <td>0x80960c29f2e3bf29:0x4b291f0d275a5699</td>\n",
       "      <td>None</td>\n",
       "      <td>37.638754</td>\n",
       "      <td>-118.966055</td>\n",
       "      <td>[Ski rental service, Snowboard rental service]</td>\n",
       "      <td>5.0</td>\n",
       "      <td>34</td>\n",
       "      <td>None</td>\n",
       "      <td>[[Thursday, 8AM–5PM], [Friday, 8AM–5PM], [Satu...</td>\n",
       "      <td>{'Accessibility': ['Wheelchair accessible entr...</td>\n",
       "      <td>Open ⋅ Closes 5PM</td>\n",
       "      <td>[0x80960dcd6ba76731:0x9a6875ced2f9228e, 0x8096...</td>\n",
       "      <td>https://www.google.com/maps/place//data=!4m2!3...</td>\n",
       "    </tr>\n",
       "  </tbody>\n",
       "</table>\n",
       "</div>"
      ],
      "text/plain": [
       "   index                                      name  \\\n",
       "0      0                              San Soo Dang   \n",
       "1      1                          Nobel Textile Co   \n",
       "2      2             Matrix International Textiles   \n",
       "3      3                              Vons Chicken   \n",
       "4      4  Black Tie Ski Rental Delivery of Mammoth   \n",
       "\n",
       "                                             address  \\\n",
       "0  San Soo Dang, 761 S Vermont Ave, Los Angeles, ...   \n",
       "1  Nobel Textile Co, 719 E 9th St, Los Angeles, C...   \n",
       "2  Matrix International Textiles, 1363 S Bonnie B...   \n",
       "3  Vons Chicken, 12740 La Mirada Blvd, La Mirada,...   \n",
       "4  Black Tie Ski Rental Delivery of Mammoth, 501 ...   \n",
       "\n",
       "                                 gmap_id description   latitude   longitude  \\\n",
       "0  0x80c2c778e3b73d33:0xbdc58662a4a97d49        None  34.058092 -118.292130   \n",
       "1  0x80c2c632f933b073:0xc31785961fe826a6        None  34.036694 -118.249421   \n",
       "2  0x80c2cf163db6bc89:0x219484e2edbcfa41        None  34.015505 -118.181839   \n",
       "3  0x80dd2b4c8555edb7:0xfc33d65c4bdbef42        None  33.916402 -118.010855   \n",
       "4  0x80960c29f2e3bf29:0x4b291f0d275a5699        None  37.638754 -118.966055   \n",
       "\n",
       "                                         category  avg_rating  num_of_reviews  \\\n",
       "0                             [Korean restaurant]         4.4              18   \n",
       "1                                  [Fabric store]         4.3               7   \n",
       "2                                  [Fabric store]         3.5               6   \n",
       "3                                    [Restaurant]         4.5              18   \n",
       "4  [Ski rental service, Snowboard rental service]         5.0              34   \n",
       "\n",
       "  price                                              hours  \\\n",
       "0  None  [[Thursday, 6:30AM–6PM], [Friday, 6:30AM–6PM],...   \n",
       "1  None  [[Thursday, 9AM–5PM], [Friday, 9AM–5PM], [Satu...   \n",
       "2  None  [[Thursday, 8:30AM–5:30PM], [Friday, 8:30AM–5:...   \n",
       "3  None  [[Thursday, 11AM–9:30PM], [Friday, 11AM–9:30PM...   \n",
       "4  None  [[Thursday, 8AM–5PM], [Friday, 8AM–5PM], [Satu...   \n",
       "\n",
       "                                                MISC                 state  \\\n",
       "0  {'Accessibility': ['Wheelchair accessible entr...     Open ⋅ Closes 6PM   \n",
       "1  {'Accessibility': None, 'Activities': None, 'A...     Open ⋅ Closes 5PM   \n",
       "2  {'Accessibility': ['Wheelchair accessible entr...  Open ⋅ Closes 5:30PM   \n",
       "3  {'Accessibility': ['Wheelchair accessible entr...  Open ⋅ Closes 9:30PM   \n",
       "4  {'Accessibility': ['Wheelchair accessible entr...     Open ⋅ Closes 5PM   \n",
       "\n",
       "                                    relative_results  \\\n",
       "0  [0x80c2c78249aba68f:0x35bf16ce61be751d, 0x80c2...   \n",
       "1  [0x80c2c62c496083d1:0xdefa11317fe870a1, 0x80c2...   \n",
       "2  [0x80c2cf042a5d9561:0xd0024ad6f81f1335, 0x80c2...   \n",
       "3                                               None   \n",
       "4  [0x80960dcd6ba76731:0x9a6875ced2f9228e, 0x8096...   \n",
       "\n",
       "                                                 url  \n",
       "0  https://www.google.com/maps/place//data=!4m2!3...  \n",
       "1  https://www.google.com/maps/place//data=!4m2!3...  \n",
       "2  https://www.google.com/maps/place//data=!4m2!3...  \n",
       "3  https://www.google.com/maps/place//data=!4m2!3...  \n",
       "4  https://www.google.com/maps/place//data=!4m2!3...  "
      ]
     },
     "execution_count": 52,
     "metadata": {},
     "output_type": "execute_result"
    }
   ],
   "source": [
    "# Se carga el archivo co:\n",
    "metadata_california = pd.read_parquet(\"Datasets/metadata_california.parquet\")\n",
    "metadata_california.head()"
   ]
  },
  {
   "cell_type": "code",
   "execution_count": 53,
   "metadata": {},
   "outputs": [
    {
     "name": "stdout",
     "output_type": "stream",
     "text": [
      "<class 'pandas.core.frame.DataFrame'>\n",
      "RangeIndex: 73405 entries, 0 to 73404\n",
      "Data columns (total 16 columns):\n",
      " #   Column            Non-Null Count  Dtype  \n",
      "---  ------            --------------  -----  \n",
      " 0   index             73405 non-null  int64  \n",
      " 1   name              73403 non-null  object \n",
      " 2   address           72978 non-null  object \n",
      " 3   gmap_id           73405 non-null  object \n",
      " 4   description       11072 non-null  object \n",
      " 5   latitude          73405 non-null  float64\n",
      " 6   longitude         73405 non-null  float64\n",
      " 7   category          73334 non-null  object \n",
      " 8   avg_rating        73405 non-null  float64\n",
      " 9   num_of_reviews    73405 non-null  int64  \n",
      " 10  price             10853 non-null  object \n",
      " 11  hours             63907 non-null  object \n",
      " 12  MISC              66572 non-null  object \n",
      " 13  state             64610 non-null  object \n",
      " 14  relative_results  69916 non-null  object \n",
      " 15  url               73405 non-null  object \n",
      "dtypes: float64(3), int64(2), object(11)\n",
      "memory usage: 9.0+ MB\n"
     ]
    }
   ],
   "source": [
    "# Se controla la información general del dataset:\n",
    "metadata_california.info()"
   ]
  },
  {
   "cell_type": "code",
   "execution_count": 54,
   "metadata": {},
   "outputs": [],
   "source": [
    "# En primer lugar, eliminamos las columnas que no vamos a utilizar:\n",
    "metadata_california = metadata_california.drop(columns=[\"address\",\"price\", \"hours\", \"state\", \"relative_results\", \"url\"])"
   ]
  },
  {
   "cell_type": "code",
   "execution_count": 55,
   "metadata": {},
   "outputs": [
    {
     "data": {
      "text/plain": [
       "index                 0\n",
       "name                  2\n",
       "gmap_id               0\n",
       "description       62333\n",
       "latitude              0\n",
       "longitude             0\n",
       "category             71\n",
       "avg_rating            0\n",
       "num_of_reviews        0\n",
       "MISC               6833\n",
       "dtype: int64"
      ]
     },
     "execution_count": 55,
     "metadata": {},
     "output_type": "execute_result"
    }
   ],
   "source": [
    "# Se controla la cantidad de valores nulos:\n",
    "metadata_california.isnull().sum()"
   ]
  },
  {
   "cell_type": "markdown",
   "metadata": {},
   "source": [
    "Como podemos observar, existen valores faltantes en las columnas \"name\", \"description\", \"category\" y \"MISC\". Los primeros se pueden eliminar del análisis ya que tan solo son dos valores y el nombre del restaurant es un atributo que no se puede inventar; en el caso de los faltantes en la descripción se decide no aplicar ningun tratamiento, ya que no se trata de información de vital importancia.\n",
    "\n",
    "Por otro lado, observamos los valores faltantes en \"category\" y \"MISC\":"
   ]
  },
  {
   "cell_type": "code",
   "execution_count": 56,
   "metadata": {},
   "outputs": [
    {
     "data": {
      "text/html": [
       "<div>\n",
       "<style scoped>\n",
       "    .dataframe tbody tr th:only-of-type {\n",
       "        vertical-align: middle;\n",
       "    }\n",
       "\n",
       "    .dataframe tbody tr th {\n",
       "        vertical-align: top;\n",
       "    }\n",
       "\n",
       "    .dataframe thead th {\n",
       "        text-align: right;\n",
       "    }\n",
       "</style>\n",
       "<table border=\"1\" class=\"dataframe\">\n",
       "  <thead>\n",
       "    <tr style=\"text-align: right;\">\n",
       "      <th></th>\n",
       "      <th>index</th>\n",
       "      <th>name</th>\n",
       "      <th>gmap_id</th>\n",
       "      <th>description</th>\n",
       "      <th>latitude</th>\n",
       "      <th>longitude</th>\n",
       "      <th>category</th>\n",
       "      <th>avg_rating</th>\n",
       "      <th>num_of_reviews</th>\n",
       "      <th>MISC</th>\n",
       "    </tr>\n",
       "  </thead>\n",
       "  <tbody>\n",
       "    <tr>\n",
       "      <th>79</th>\n",
       "      <td>79</td>\n",
       "      <td>Lollicup Tea Zone</td>\n",
       "      <td>0x80c32df622fc92f7:0xd8c1a870131805f8</td>\n",
       "      <td>Chain cafe serving Taiwanese bubble teas &amp; sna...</td>\n",
       "      <td>34.055650</td>\n",
       "      <td>-117.737841</td>\n",
       "      <td>None</td>\n",
       "      <td>4.2</td>\n",
       "      <td>25</td>\n",
       "      <td>None</td>\n",
       "    </tr>\n",
       "    <tr>\n",
       "      <th>286</th>\n",
       "      <td>286</td>\n",
       "      <td>Charlie's Cafe</td>\n",
       "      <td>0x809adf921282c90f:0x36d67b3abfc5983</td>\n",
       "      <td>None</td>\n",
       "      <td>38.711577</td>\n",
       "      <td>-121.289970</td>\n",
       "      <td>None</td>\n",
       "      <td>3.0</td>\n",
       "      <td>8</td>\n",
       "      <td>None</td>\n",
       "    </tr>\n",
       "    <tr>\n",
       "      <th>411</th>\n",
       "      <td>411</td>\n",
       "      <td>Stoner's</td>\n",
       "      <td>0x80858097728d4253:0x11b0f09640b062ff</td>\n",
       "      <td>Low-key eatery serving hot &amp; cold sandwiches, ...</td>\n",
       "      <td>37.782473</td>\n",
       "      <td>-122.420511</td>\n",
       "      <td>None</td>\n",
       "      <td>4.5</td>\n",
       "      <td>24</td>\n",
       "      <td>None</td>\n",
       "    </tr>\n",
       "    <tr>\n",
       "      <th>1209</th>\n",
       "      <td>1209</td>\n",
       "      <td>Buckley Orchards</td>\n",
       "      <td>0x8091e41abeee1c23:0xb8391400bc8641f8</td>\n",
       "      <td>None</td>\n",
       "      <td>37.033581</td>\n",
       "      <td>-121.524195</td>\n",
       "      <td>None</td>\n",
       "      <td>4.8</td>\n",
       "      <td>8</td>\n",
       "      <td>None</td>\n",
       "    </tr>\n",
       "    <tr>\n",
       "      <th>2763</th>\n",
       "      <td>3978</td>\n",
       "      <td>Latigo Beach Access</td>\n",
       "      <td>0x80e81f546a821e59:0x2b882c582efa08fd</td>\n",
       "      <td>None</td>\n",
       "      <td>34.030615</td>\n",
       "      <td>-118.751006</td>\n",
       "      <td>None</td>\n",
       "      <td>4.6</td>\n",
       "      <td>17</td>\n",
       "      <td>None</td>\n",
       "    </tr>\n",
       "    <tr>\n",
       "      <th>...</th>\n",
       "      <td>...</td>\n",
       "      <td>...</td>\n",
       "      <td>...</td>\n",
       "      <td>...</td>\n",
       "      <td>...</td>\n",
       "      <td>...</td>\n",
       "      <td>...</td>\n",
       "      <td>...</td>\n",
       "      <td>...</td>\n",
       "      <td>...</td>\n",
       "    </tr>\n",
       "    <tr>\n",
       "      <th>60712</th>\n",
       "      <td>61927</td>\n",
       "      <td>Oak &amp; Main</td>\n",
       "      <td>0x80e9ad047e73899b:0x517bc443d419ecfb</td>\n",
       "      <td>None</td>\n",
       "      <td>34.281173</td>\n",
       "      <td>-119.294375</td>\n",
       "      <td>None</td>\n",
       "      <td>4.2</td>\n",
       "      <td>34</td>\n",
       "      <td>None</td>\n",
       "    </tr>\n",
       "    <tr>\n",
       "      <th>60888</th>\n",
       "      <td>62103</td>\n",
       "      <td>Go Go Juice</td>\n",
       "      <td>0x80dd4a6e62c992b9:0xee357658bc722380</td>\n",
       "      <td>None</td>\n",
       "      <td>33.790181</td>\n",
       "      <td>-118.313681</td>\n",
       "      <td>None</td>\n",
       "      <td>4.8</td>\n",
       "      <td>38</td>\n",
       "      <td>None</td>\n",
       "    </tr>\n",
       "    <tr>\n",
       "      <th>62535</th>\n",
       "      <td>63750</td>\n",
       "      <td>Malibu Fish'n Tackle</td>\n",
       "      <td>0x80e8251f45bb7203:0x94354daddb4cd573</td>\n",
       "      <td>None</td>\n",
       "      <td>34.168157</td>\n",
       "      <td>-118.835528</td>\n",
       "      <td>None</td>\n",
       "      <td>4.3</td>\n",
       "      <td>18</td>\n",
       "      <td>None</td>\n",
       "    </tr>\n",
       "    <tr>\n",
       "      <th>67532</th>\n",
       "      <td>68747</td>\n",
       "      <td>Kelly's Kafe</td>\n",
       "      <td>0x808f86f7756bc059:0x4d0ada03dd8b86b9</td>\n",
       "      <td>None</td>\n",
       "      <td>37.783656</td>\n",
       "      <td>-122.222993</td>\n",
       "      <td>None</td>\n",
       "      <td>4.4</td>\n",
       "      <td>28</td>\n",
       "      <td>None</td>\n",
       "    </tr>\n",
       "    <tr>\n",
       "      <th>70799</th>\n",
       "      <td>72014</td>\n",
       "      <td>Bear Creek Vista</td>\n",
       "      <td>0x80838041995451cf:0xef24a8cfaec85d59</td>\n",
       "      <td>None</td>\n",
       "      <td>39.013417</td>\n",
       "      <td>-122.383350</td>\n",
       "      <td>None</td>\n",
       "      <td>4.4</td>\n",
       "      <td>25</td>\n",
       "      <td>None</td>\n",
       "    </tr>\n",
       "  </tbody>\n",
       "</table>\n",
       "<p>71 rows × 10 columns</p>\n",
       "</div>"
      ],
      "text/plain": [
       "       index                  name                                gmap_id  \\\n",
       "79        79     Lollicup Tea Zone  0x80c32df622fc92f7:0xd8c1a870131805f8   \n",
       "286      286        Charlie's Cafe   0x809adf921282c90f:0x36d67b3abfc5983   \n",
       "411      411              Stoner's  0x80858097728d4253:0x11b0f09640b062ff   \n",
       "1209    1209      Buckley Orchards  0x8091e41abeee1c23:0xb8391400bc8641f8   \n",
       "2763    3978   Latigo Beach Access  0x80e81f546a821e59:0x2b882c582efa08fd   \n",
       "...      ...                   ...                                    ...   \n",
       "60712  61927            Oak & Main  0x80e9ad047e73899b:0x517bc443d419ecfb   \n",
       "60888  62103           Go Go Juice  0x80dd4a6e62c992b9:0xee357658bc722380   \n",
       "62535  63750  Malibu Fish'n Tackle  0x80e8251f45bb7203:0x94354daddb4cd573   \n",
       "67532  68747          Kelly's Kafe  0x808f86f7756bc059:0x4d0ada03dd8b86b9   \n",
       "70799  72014      Bear Creek Vista  0x80838041995451cf:0xef24a8cfaec85d59   \n",
       "\n",
       "                                             description   latitude  \\\n",
       "79     Chain cafe serving Taiwanese bubble teas & sna...  34.055650   \n",
       "286                                                 None  38.711577   \n",
       "411    Low-key eatery serving hot & cold sandwiches, ...  37.782473   \n",
       "1209                                                None  37.033581   \n",
       "2763                                                None  34.030615   \n",
       "...                                                  ...        ...   \n",
       "60712                                               None  34.281173   \n",
       "60888                                               None  33.790181   \n",
       "62535                                               None  34.168157   \n",
       "67532                                               None  37.783656   \n",
       "70799                                               None  39.013417   \n",
       "\n",
       "        longitude category  avg_rating  num_of_reviews  MISC  \n",
       "79    -117.737841     None         4.2              25  None  \n",
       "286   -121.289970     None         3.0               8  None  \n",
       "411   -122.420511     None         4.5              24  None  \n",
       "1209  -121.524195     None         4.8               8  None  \n",
       "2763  -118.751006     None         4.6              17  None  \n",
       "...           ...      ...         ...             ...   ...  \n",
       "60712 -119.294375     None         4.2              34  None  \n",
       "60888 -118.313681     None         4.8              38  None  \n",
       "62535 -118.835528     None         4.3              18  None  \n",
       "67532 -122.222993     None         4.4              28  None  \n",
       "70799 -122.383350     None         4.4              25  None  \n",
       "\n",
       "[71 rows x 10 columns]"
      ]
     },
     "execution_count": 56,
     "metadata": {},
     "output_type": "execute_result"
    }
   ],
   "source": [
    "# Eliminamos valores faltantes en \"name\":\n",
    "metadata_california = metadata_california.dropna(subset=\"name\")\n",
    "\n",
    "# Observamos valores faltantes en \"category\":\n",
    "metadata_california[metadata_california[\"category\"].isnull()]"
   ]
  },
  {
   "cell_type": "markdown",
   "metadata": {},
   "source": [
    "Observamos que en muchos casos no existen descripciones por las que pueda inferirse la categoría, por lo que se decide eliminarlas del análisis:"
   ]
  },
  {
   "cell_type": "code",
   "execution_count": 57,
   "metadata": {},
   "outputs": [],
   "source": [
    "# Eliminamos valores faltantes en \"category\":\n",
    "metadata_california = metadata_california.dropna(subset=\"category\")"
   ]
  },
  {
   "cell_type": "markdown",
   "metadata": {},
   "source": [
    "Por otro lado, observamos que contiene la columna \"MISC\":"
   ]
  },
  {
   "cell_type": "code",
   "execution_count": 58,
   "metadata": {},
   "outputs": [
    {
     "data": {
      "text/plain": [
       "0        {'Accessibility': ['Wheelchair accessible entr...\n",
       "1        {'Accessibility': None, 'Activities': None, 'A...\n",
       "2        {'Accessibility': ['Wheelchair accessible entr...\n",
       "3        {'Accessibility': ['Wheelchair accessible entr...\n",
       "4        {'Accessibility': ['Wheelchair accessible entr...\n",
       "                               ...                        \n",
       "73400    {'Accessibility': ['Wheelchair accessible entr...\n",
       "73401                                                 None\n",
       "73402    {'Accessibility': None, 'Activities': None, 'A...\n",
       "73403    {'Accessibility': ['Wheelchair accessible entr...\n",
       "73404    {'Accessibility': ['Wheelchair-accessible car ...\n",
       "Name: MISC, Length: 73332, dtype: object"
      ]
     },
     "execution_count": 58,
     "metadata": {},
     "output_type": "execute_result"
    }
   ],
   "source": [
    "metadata_california[\"MISC\"]"
   ]
  },
  {
   "cell_type": "markdown",
   "metadata": {},
   "source": [
    "Como podemos observar, la columna \"MISC\" contiene un diccionario, por lo que realizamos la apertura por fuera del dataset original:"
   ]
  },
  {
   "cell_type": "code",
   "execution_count": 59,
   "metadata": {},
   "outputs": [
    {
     "data": {
      "text/html": [
       "<div>\n",
       "<style scoped>\n",
       "    .dataframe tbody tr th:only-of-type {\n",
       "        vertical-align: middle;\n",
       "    }\n",
       "\n",
       "    .dataframe tbody tr th {\n",
       "        vertical-align: top;\n",
       "    }\n",
       "\n",
       "    .dataframe thead th {\n",
       "        text-align: right;\n",
       "    }\n",
       "</style>\n",
       "<table border=\"1\" class=\"dataframe\">\n",
       "  <thead>\n",
       "    <tr style=\"text-align: right;\">\n",
       "      <th></th>\n",
       "      <th>gmap_id</th>\n",
       "      <th>Accessibility</th>\n",
       "      <th>Activities</th>\n",
       "      <th>Amenities</th>\n",
       "      <th>Atmosphere</th>\n",
       "      <th>Crowd</th>\n",
       "      <th>Dining options</th>\n",
       "      <th>From the business</th>\n",
       "      <th>Getting here</th>\n",
       "      <th>Health &amp; safety</th>\n",
       "      <th>Health and safety</th>\n",
       "      <th>Highlights</th>\n",
       "      <th>Lodging options</th>\n",
       "      <th>Offerings</th>\n",
       "      <th>Payments</th>\n",
       "      <th>Planning</th>\n",
       "      <th>Popular for</th>\n",
       "      <th>Recycling</th>\n",
       "      <th>Service options</th>\n",
       "    </tr>\n",
       "  </thead>\n",
       "  <tbody>\n",
       "    <tr>\n",
       "      <th>0</th>\n",
       "      <td>0x80c2c778e3b73d33:0xbdc58662a4a97d49</td>\n",
       "      <td>[Wheelchair accessible entrance]</td>\n",
       "      <td>None</td>\n",
       "      <td>[Good for kids]</td>\n",
       "      <td>[Casual]</td>\n",
       "      <td>None</td>\n",
       "      <td>None</td>\n",
       "      <td>None</td>\n",
       "      <td>None</td>\n",
       "      <td>None</td>\n",
       "      <td>None</td>\n",
       "      <td>None</td>\n",
       "      <td>NaN</td>\n",
       "      <td>[Comfort food]</td>\n",
       "      <td>None</td>\n",
       "      <td>None</td>\n",
       "      <td>None</td>\n",
       "      <td>None</td>\n",
       "      <td>[Takeout, Dine-in, Delivery]</td>\n",
       "    </tr>\n",
       "    <tr>\n",
       "      <th>1</th>\n",
       "      <td>0x80c2c632f933b073:0xc31785961fe826a6</td>\n",
       "      <td>None</td>\n",
       "      <td>None</td>\n",
       "      <td>None</td>\n",
       "      <td>None</td>\n",
       "      <td>None</td>\n",
       "      <td>None</td>\n",
       "      <td>None</td>\n",
       "      <td>None</td>\n",
       "      <td>None</td>\n",
       "      <td>None</td>\n",
       "      <td>None</td>\n",
       "      <td>NaN</td>\n",
       "      <td>None</td>\n",
       "      <td>None</td>\n",
       "      <td>None</td>\n",
       "      <td>None</td>\n",
       "      <td>None</td>\n",
       "      <td>[In-store pickup]</td>\n",
       "    </tr>\n",
       "    <tr>\n",
       "      <th>2</th>\n",
       "      <td>0x80c2cf163db6bc89:0x219484e2edbcfa41</td>\n",
       "      <td>[Wheelchair accessible entrance]</td>\n",
       "      <td>None</td>\n",
       "      <td>None</td>\n",
       "      <td>None</td>\n",
       "      <td>None</td>\n",
       "      <td>None</td>\n",
       "      <td>None</td>\n",
       "      <td>None</td>\n",
       "      <td>None</td>\n",
       "      <td>None</td>\n",
       "      <td>None</td>\n",
       "      <td>NaN</td>\n",
       "      <td>None</td>\n",
       "      <td>None</td>\n",
       "      <td>None</td>\n",
       "      <td>None</td>\n",
       "      <td>None</td>\n",
       "      <td>None</td>\n",
       "    </tr>\n",
       "    <tr>\n",
       "      <th>3</th>\n",
       "      <td>0x80dd2b4c8555edb7:0xfc33d65c4bdbef42</td>\n",
       "      <td>[Wheelchair accessible entrance]</td>\n",
       "      <td>None</td>\n",
       "      <td>[Good for kids]</td>\n",
       "      <td>[Casual]</td>\n",
       "      <td>[College students]</td>\n",
       "      <td>[Lunch, Dinner]</td>\n",
       "      <td>None</td>\n",
       "      <td>None</td>\n",
       "      <td>[Mask required, Staff wear masks, Staff requir...</td>\n",
       "      <td>None</td>\n",
       "      <td>None</td>\n",
       "      <td>NaN</td>\n",
       "      <td>[Comfort food, Quick bite, Small plates]</td>\n",
       "      <td>None</td>\n",
       "      <td>None</td>\n",
       "      <td>[Lunch, Dinner, Solo dining]</td>\n",
       "      <td>None</td>\n",
       "      <td>[Outdoor seating, Curbside pickup, No-contact ...</td>\n",
       "    </tr>\n",
       "    <tr>\n",
       "      <th>4</th>\n",
       "      <td>0x80960c29f2e3bf29:0x4b291f0d275a5699</td>\n",
       "      <td>[Wheelchair accessible entrance]</td>\n",
       "      <td>None</td>\n",
       "      <td>None</td>\n",
       "      <td>None</td>\n",
       "      <td>None</td>\n",
       "      <td>None</td>\n",
       "      <td>None</td>\n",
       "      <td>None</td>\n",
       "      <td>None</td>\n",
       "      <td>None</td>\n",
       "      <td>None</td>\n",
       "      <td>NaN</td>\n",
       "      <td>None</td>\n",
       "      <td>None</td>\n",
       "      <td>None</td>\n",
       "      <td>None</td>\n",
       "      <td>None</td>\n",
       "      <td>None</td>\n",
       "    </tr>\n",
       "  </tbody>\n",
       "</table>\n",
       "</div>"
      ],
      "text/plain": [
       "                                 gmap_id                     Accessibility  \\\n",
       "0  0x80c2c778e3b73d33:0xbdc58662a4a97d49  [Wheelchair accessible entrance]   \n",
       "1  0x80c2c632f933b073:0xc31785961fe826a6                              None   \n",
       "2  0x80c2cf163db6bc89:0x219484e2edbcfa41  [Wheelchair accessible entrance]   \n",
       "3  0x80dd2b4c8555edb7:0xfc33d65c4bdbef42  [Wheelchair accessible entrance]   \n",
       "4  0x80960c29f2e3bf29:0x4b291f0d275a5699  [Wheelchair accessible entrance]   \n",
       "\n",
       "  Activities        Amenities Atmosphere               Crowd   Dining options  \\\n",
       "0       None  [Good for kids]   [Casual]                None             None   \n",
       "1       None             None       None                None             None   \n",
       "2       None             None       None                None             None   \n",
       "3       None  [Good for kids]   [Casual]  [College students]  [Lunch, Dinner]   \n",
       "4       None             None       None                None             None   \n",
       "\n",
       "  From the business Getting here  \\\n",
       "0              None         None   \n",
       "1              None         None   \n",
       "2              None         None   \n",
       "3              None         None   \n",
       "4              None         None   \n",
       "\n",
       "                                     Health & safety Health and safety  \\\n",
       "0                                               None              None   \n",
       "1                                               None              None   \n",
       "2                                               None              None   \n",
       "3  [Mask required, Staff wear masks, Staff requir...              None   \n",
       "4                                               None              None   \n",
       "\n",
       "  Highlights  Lodging options                                 Offerings  \\\n",
       "0       None              NaN                            [Comfort food]   \n",
       "1       None              NaN                                      None   \n",
       "2       None              NaN                                      None   \n",
       "3       None              NaN  [Comfort food, Quick bite, Small plates]   \n",
       "4       None              NaN                                      None   \n",
       "\n",
       "  Payments Planning                   Popular for Recycling  \\\n",
       "0     None     None                          None      None   \n",
       "1     None     None                          None      None   \n",
       "2     None     None                          None      None   \n",
       "3     None     None  [Lunch, Dinner, Solo dining]      None   \n",
       "4     None     None                          None      None   \n",
       "\n",
       "                                     Service options  \n",
       "0                       [Takeout, Dine-in, Delivery]  \n",
       "1                                  [In-store pickup]  \n",
       "2                                               None  \n",
       "3  [Outdoor seating, Curbside pickup, No-contact ...  \n",
       "4                                               None  "
      ]
     },
     "execution_count": 59,
     "metadata": {},
     "output_type": "execute_result"
    }
   ],
   "source": [
    "df_MISC = metadata_california[[\"gmap_id\", \"MISC\"]]\n",
    "df_MISC = df_MISC.reset_index().drop(columns=\"index\")\n",
    "df_MISC = pd.concat([df_MISC, pd.json_normalize(df_MISC[\"MISC\"])], axis=1) \n",
    "df_MISC = df_MISC.drop(columns=\"MISC\")\n",
    "df_MISC.head()"
   ]
  },
  {
   "cell_type": "markdown",
   "metadata": {},
   "source": [
    "Debido a que los datos en \"MISC\" contienen información acerca de las características o misceláneos de los locales que pueden llegar a ser utilizados en un futuro, se mantienen en un dataset aparte y se eliminan del original:"
   ]
  },
  {
   "cell_type": "code",
   "execution_count": 60,
   "metadata": {},
   "outputs": [
    {
     "data": {
      "text/plain": [
       "index                 0\n",
       "name                  0\n",
       "gmap_id               0\n",
       "description       62271\n",
       "latitude              0\n",
       "longitude             0\n",
       "category              0\n",
       "avg_rating            0\n",
       "num_of_reviews        0\n",
       "dtype: int64"
      ]
     },
     "execution_count": 60,
     "metadata": {},
     "output_type": "execute_result"
    }
   ],
   "source": [
    "# Eliminamos la columna \"MISC\" del dataframe original:\n",
    "metadata_california = metadata_california.drop(columns=\"MISC\")\n",
    "\n",
    "# Controlamos la cantidad de valores nulos luego de los ajustes realizados:\n",
    "metadata_california.isnull().sum()"
   ]
  },
  {
   "cell_type": "markdown",
   "metadata": {},
   "source": [
    "Una vez ajustamos toda la data correspondiente a los locales de California, **filtramos** aquellos que entran en la categoría específica de **restaurantes**:"
   ]
  },
  {
   "cell_type": "code",
   "execution_count": 61,
   "metadata": {},
   "outputs": [
    {
     "data": {
      "text/plain": [
       "array(['Korean restaurant', 'Fabric store', 'Restaurant', ...,\n",
       "       'Angler fish restaurant', 'Contemporary Louisiana restaurant',\n",
       "       'Office of Vital Records'], dtype=object)"
      ]
     },
     "execution_count": 61,
     "metadata": {},
     "output_type": "execute_result"
    }
   ],
   "source": [
    "# Observamos el total de categorias comprendidas en los locales\n",
    "categorias = metadata_california[\"category\"].explode().unique()\n",
    "categorias"
   ]
  },
  {
   "cell_type": "markdown",
   "metadata": {},
   "source": [
    "Analizamos el total de categorías:"
   ]
  },
  {
   "cell_type": "code",
   "execution_count": 62,
   "metadata": {},
   "outputs": [
    {
     "data": {
      "text/plain": [
       "3043"
      ]
     },
     "execution_count": 62,
     "metadata": {},
     "output_type": "execute_result"
    }
   ],
   "source": [
    "len(categorias)"
   ]
  },
  {
   "cell_type": "markdown",
   "metadata": {},
   "source": [
    "Existen 3043 categorías, de las cuales sólo nos interesa aquellos que contienen la palabra \"restaurant\", por lo que se buscaran filtrar las mismas:"
   ]
  },
  {
   "cell_type": "code",
   "execution_count": 63,
   "metadata": {},
   "outputs": [
    {
     "name": "stdout",
     "output_type": "stream",
     "text": [
      "<class 'pandas.core.frame.DataFrame'>\n",
      "RangeIndex: 168529 entries, 0 to 168528\n",
      "Data columns (total 10 columns):\n",
      " #   Column          Non-Null Count   Dtype  \n",
      "---  ------          --------------   -----  \n",
      " 0   level_0         168529 non-null  int64  \n",
      " 1   index           168529 non-null  int64  \n",
      " 2   name            168529 non-null  object \n",
      " 3   gmap_id         168529 non-null  object \n",
      " 4   description     37566 non-null   object \n",
      " 5   latitude        168529 non-null  float64\n",
      " 6   longitude       168529 non-null  float64\n",
      " 7   category        168529 non-null  object \n",
      " 8   avg_rating      168529 non-null  float64\n",
      " 9   num_of_reviews  168529 non-null  int64  \n",
      "dtypes: float64(3), int64(3), object(4)\n",
      "memory usage: 12.9+ MB\n"
     ]
    }
   ],
   "source": [
    "# Se abre el dataframe en las diferentes categorías\n",
    "apertura_cat = metadata_california.explode(\"category\")\n",
    "apertura_cat = apertura_cat.reset_index()\n",
    "apertura_cat.info()"
   ]
  },
  {
   "cell_type": "code",
   "execution_count": 64,
   "metadata": {},
   "outputs": [
    {
     "data": {
      "text/html": [
       "<div>\n",
       "<style scoped>\n",
       "    .dataframe tbody tr th:only-of-type {\n",
       "        vertical-align: middle;\n",
       "    }\n",
       "\n",
       "    .dataframe tbody tr th {\n",
       "        vertical-align: top;\n",
       "    }\n",
       "\n",
       "    .dataframe thead th {\n",
       "        text-align: right;\n",
       "    }\n",
       "</style>\n",
       "<table border=\"1\" class=\"dataframe\">\n",
       "  <thead>\n",
       "    <tr style=\"text-align: right;\">\n",
       "      <th></th>\n",
       "      <th>level_0</th>\n",
       "      <th>index</th>\n",
       "      <th>name</th>\n",
       "      <th>gmap_id</th>\n",
       "      <th>description</th>\n",
       "      <th>latitude</th>\n",
       "      <th>longitude</th>\n",
       "      <th>category</th>\n",
       "      <th>avg_rating</th>\n",
       "      <th>num_of_reviews</th>\n",
       "    </tr>\n",
       "  </thead>\n",
       "  <tbody>\n",
       "    <tr>\n",
       "      <th>0</th>\n",
       "      <td>0</td>\n",
       "      <td>0</td>\n",
       "      <td>San Soo Dang</td>\n",
       "      <td>0x80c2c778e3b73d33:0xbdc58662a4a97d49</td>\n",
       "      <td>None</td>\n",
       "      <td>34.058092</td>\n",
       "      <td>-118.292130</td>\n",
       "      <td>Korean restaurant</td>\n",
       "      <td>4.4</td>\n",
       "      <td>18</td>\n",
       "    </tr>\n",
       "    <tr>\n",
       "      <th>3</th>\n",
       "      <td>3</td>\n",
       "      <td>3</td>\n",
       "      <td>Vons Chicken</td>\n",
       "      <td>0x80dd2b4c8555edb7:0xfc33d65c4bdbef42</td>\n",
       "      <td>None</td>\n",
       "      <td>33.916402</td>\n",
       "      <td>-118.010855</td>\n",
       "      <td>Restaurant</td>\n",
       "      <td>4.5</td>\n",
       "      <td>18</td>\n",
       "    </tr>\n",
       "    <tr>\n",
       "      <th>107</th>\n",
       "      <td>52</td>\n",
       "      <td>52</td>\n",
       "      <td>La Potranca</td>\n",
       "      <td>0x80c2baf50d29bf63:0x5bd904b842b9fcc</td>\n",
       "      <td>None</td>\n",
       "      <td>34.000181</td>\n",
       "      <td>-118.441249</td>\n",
       "      <td>Restaurant</td>\n",
       "      <td>4.2</td>\n",
       "      <td>13</td>\n",
       "    </tr>\n",
       "    <tr>\n",
       "      <th>173</th>\n",
       "      <td>81</td>\n",
       "      <td>81</td>\n",
       "      <td>Cowboy Burgers &amp; BBQ</td>\n",
       "      <td>0x80c2d765f8c90a3d:0x16afb75943e7ad50</td>\n",
       "      <td>American grub such as BBQ ribs, hamburgers, sa...</td>\n",
       "      <td>34.079995</td>\n",
       "      <td>-117.988951</td>\n",
       "      <td>Hamburger restaurant</td>\n",
       "      <td>3.7</td>\n",
       "      <td>38</td>\n",
       "    </tr>\n",
       "    <tr>\n",
       "      <th>174</th>\n",
       "      <td>81</td>\n",
       "      <td>81</td>\n",
       "      <td>Cowboy Burgers &amp; BBQ</td>\n",
       "      <td>0x80c2d765f8c90a3d:0x16afb75943e7ad50</td>\n",
       "      <td>American grub such as BBQ ribs, hamburgers, sa...</td>\n",
       "      <td>34.079995</td>\n",
       "      <td>-117.988951</td>\n",
       "      <td>American restaurant</td>\n",
       "      <td>3.7</td>\n",
       "      <td>38</td>\n",
       "    </tr>\n",
       "  </tbody>\n",
       "</table>\n",
       "</div>"
      ],
      "text/plain": [
       "     level_0  index                  name  \\\n",
       "0          0      0          San Soo Dang   \n",
       "3          3      3          Vons Chicken   \n",
       "107       52     52           La Potranca   \n",
       "173       81     81  Cowboy Burgers & BBQ   \n",
       "174       81     81  Cowboy Burgers & BBQ   \n",
       "\n",
       "                                   gmap_id  \\\n",
       "0    0x80c2c778e3b73d33:0xbdc58662a4a97d49   \n",
       "3    0x80dd2b4c8555edb7:0xfc33d65c4bdbef42   \n",
       "107   0x80c2baf50d29bf63:0x5bd904b842b9fcc   \n",
       "173  0x80c2d765f8c90a3d:0x16afb75943e7ad50   \n",
       "174  0x80c2d765f8c90a3d:0x16afb75943e7ad50   \n",
       "\n",
       "                                           description   latitude   longitude  \\\n",
       "0                                                 None  34.058092 -118.292130   \n",
       "3                                                 None  33.916402 -118.010855   \n",
       "107                                               None  34.000181 -118.441249   \n",
       "173  American grub such as BBQ ribs, hamburgers, sa...  34.079995 -117.988951   \n",
       "174  American grub such as BBQ ribs, hamburgers, sa...  34.079995 -117.988951   \n",
       "\n",
       "                 category  avg_rating  num_of_reviews  \n",
       "0       Korean restaurant         4.4              18  \n",
       "3              Restaurant         4.5              18  \n",
       "107            Restaurant         4.2              13  \n",
       "173  Hamburger restaurant         3.7              38  \n",
       "174   American restaurant         3.7              38  "
      ]
     },
     "execution_count": 64,
     "metadata": {},
     "output_type": "execute_result"
    }
   ],
   "source": [
    "# Se determina la palabra clave a buscar:\n",
    "palabra_clave = \"restaurant\"\n",
    "\n",
    "# Se establece el fltro por palabra clave:\n",
    "filtro = apertura_cat[\"category\"].str.contains(palabra_clave, case=False)\n",
    "\n",
    "# Se crea el dataframe que incluye info únicamente de restaurantes:\n",
    "restaurantes = apertura_cat[filtro]\n",
    "restaurantes.head()"
   ]
  },
  {
   "cell_type": "code",
   "execution_count": 65,
   "metadata": {},
   "outputs": [
    {
     "name": "stdout",
     "output_type": "stream",
     "text": [
      "<class 'pandas.core.frame.DataFrame'>\n",
      "Index: 16285 entries, 0 to 168518\n",
      "Data columns (total 10 columns):\n",
      " #   Column          Non-Null Count  Dtype  \n",
      "---  ------          --------------  -----  \n",
      " 0   level_0         16285 non-null  int64  \n",
      " 1   index           16285 non-null  int64  \n",
      " 2   name            16285 non-null  object \n",
      " 3   gmap_id         16285 non-null  object \n",
      " 4   description     8471 non-null   object \n",
      " 5   latitude        16285 non-null  float64\n",
      " 6   longitude       16285 non-null  float64\n",
      " 7   category        16285 non-null  object \n",
      " 8   avg_rating      16285 non-null  float64\n",
      " 9   num_of_reviews  16285 non-null  int64  \n",
      "dtypes: float64(3), int64(3), object(4)\n",
      "memory usage: 1.4+ MB\n"
     ]
    }
   ],
   "source": [
    "# Se chequea info general del dataframe:\n",
    "restaurantes.info()"
   ]
  },
  {
   "cell_type": "code",
   "execution_count": 66,
   "metadata": {},
   "outputs": [],
   "source": [
    "# Se resetean el indice y eliminan columnas innecesarias:\n",
    "restaurantes = restaurantes.drop(columns=[\"level_0\", \"index\"])\n",
    "restaurantes = restaurantes.reset_index()\n",
    "restaurantes = restaurantes.drop(columns=[\"index\"])"
   ]
  },
  {
   "cell_type": "markdown",
   "metadata": {},
   "source": [
    "El dataset contiene información de **más de 16.000** restaurantes.\n",
    "\n",
    "Luego se observan la cantidad de restaurantes por categoría:"
   ]
  },
  {
   "cell_type": "code",
   "execution_count": 67,
   "metadata": {},
   "outputs": [
    {
     "data": {
      "text/plain": [
       "category\n",
       "Restaurant                           3769\n",
       "Mexican restaurant                   1259\n",
       "Fast food restaurant                 1146\n",
       "Takeout Restaurant                    851\n",
       "Pizza restaurant                      703\n",
       "                                     ... \n",
       "Chophouse restaurant                    1\n",
       "Czech restaurant                        1\n",
       "Venezuelan restaurant                   1\n",
       "Yucatan restaurant                      1\n",
       "Contemporary Louisiana restaurant       1\n",
       "Name: count, Length: 203, dtype: int64"
      ]
     },
     "execution_count": 67,
     "metadata": {},
     "output_type": "execute_result"
    }
   ],
   "source": [
    "restaurantes[\"category\"].value_counts()"
   ]
  },
  {
   "cell_type": "markdown",
   "metadata": {},
   "source": [
    "Observamos la totalidad de tipologías de restaurant existentes:"
   ]
  },
  {
   "cell_type": "code",
   "execution_count": 68,
   "metadata": {},
   "outputs": [
    {
     "data": {
      "text/plain": [
       "array(['Afghani restaurant', 'African restaurant', 'American restaurant',\n",
       "       'Angler fish restaurant', 'Argentinian restaurant',\n",
       "       'Armenian restaurant', 'Asian fusion restaurant',\n",
       "       'Asian restaurant', 'Australian restaurant', 'Austrian restaurant',\n",
       "       'Authentic Japanese restaurant', 'Bangladeshi restaurant',\n",
       "       'Bar restaurant furniture store', 'Barbecue restaurant',\n",
       "       'Basque restaurant', 'Belgian restaurant', 'Biryani restaurant',\n",
       "       'Brazilian restaurant', 'Breakfast restaurant',\n",
       "       'British restaurant', 'Brunch restaurant', 'Buffet restaurant',\n",
       "       'Burmese restaurant', 'Burrito restaurant', 'Cajun restaurant',\n",
       "       'Californian restaurant', 'Cambodian restaurant',\n",
       "       'Cantonese restaurant', 'Caribbean restaurant',\n",
       "       'Central American restaurant', 'Cheesesteak restaurant',\n",
       "       'Chicken restaurant', 'Chicken wings restaurant',\n",
       "       'Chilean restaurant', 'Chinese noodle restaurant',\n",
       "       'Chinese restaurant', 'Chophouse restaurant',\n",
       "       'Cold noodle restaurant', 'Colombian restaurant',\n",
       "       'Contemporary Louisiana restaurant', 'Continental restaurant',\n",
       "       'Conveyor belt sushi restaurant', 'Country food restaurant',\n",
       "       'Creole restaurant', 'Cuban restaurant', 'Czech restaurant',\n",
       "       'Dance restaurant', 'Delivery Chinese restaurant',\n",
       "       'Delivery Restaurant', 'Dessert restaurant', 'Dim sum restaurant',\n",
       "       'Down home cooking restaurant', 'Dumpling restaurant',\n",
       "       'East African restaurant', 'Eastern European restaurant',\n",
       "       'Eclectic restaurant', 'Ecuadorian restaurant',\n",
       "       'Egyptian restaurant', 'English restaurant',\n",
       "       'Ethiopian restaurant', 'Ethnic restaurant', 'European restaurant',\n",
       "       'Falafel restaurant', 'Family restaurant', 'Fast food restaurant',\n",
       "       'Filipino restaurant', 'Fine dining restaurant',\n",
       "       'Fish & chips restaurant', 'Fish and seafood restaurant',\n",
       "       'Fondue restaurant', 'French restaurant',\n",
       "       'French steakhouse restaurant', 'Fusion restaurant',\n",
       "       'German restaurant', 'Gluten-free restaurant', 'Greek restaurant',\n",
       "       'Guatemalan restaurant', 'Gyro restaurant', 'Halal restaurant',\n",
       "       'Hamburger restaurant', 'Haute French restaurant',\n",
       "       'Hawaiian restaurant', 'Health food restaurant',\n",
       "       'Hoagie restaurant', 'Honduran restaurant',\n",
       "       'Hong Kong style fast food restaurant', 'Hot dog restaurant',\n",
       "       'Hot pot restaurant', 'Hunan restaurant', 'Hungarian restaurant',\n",
       "       'Indian Muslim restaurant', 'Indian restaurant',\n",
       "       'Indonesian restaurant', 'Irish restaurant', 'Israeli restaurant',\n",
       "       'Italian restaurant', 'Izakaya restaurant', 'Jamaican restaurant',\n",
       "       'Japanese curry restaurant', 'Japanese restaurant',\n",
       "       'Jewish restaurant', 'Korean barbecue restaurant',\n",
       "       'Korean beef restaurant', 'Korean restaurant',\n",
       "       'Korean rib restaurant', 'Kosher restaurant', 'Laotian restaurant',\n",
       "       'Latin American restaurant', 'Lebanese restaurant',\n",
       "       'Lunch restaurant', 'Malaysian restaurant', 'Mandarin restaurant',\n",
       "       'Mediterranean restaurant', 'Mexican restaurant',\n",
       "       'Mexican torta restaurant', 'Middle Eastern restaurant',\n",
       "       'Modern European restaurant', 'Modern French restaurant',\n",
       "       'Modern Indian restaurant', 'Modern izakaya restaurants',\n",
       "       'Mongolian barbecue restaurant', 'Moroccan restaurant',\n",
       "       'Neapolitan restaurant', 'Nepalese restaurant',\n",
       "       'New American restaurant', 'North Eastern Indian restaurant',\n",
       "       'Northern Italian restaurant', 'Nuevo Latino restaurant',\n",
       "       'Oaxacan restaurant', 'Organic restaurant',\n",
       "       'Oyster bar restaurant', 'Pacific Rim restaurant',\n",
       "       'Pakistani restaurant', 'Pan-Asian restaurant',\n",
       "       'Pan-Latin restaurant', 'Pancake restaurant', 'Persian restaurant',\n",
       "       'Peruvian restaurant', 'Pho restaurant', 'Pizza restaurant',\n",
       "       'Polynesian restaurant', 'Pozole restaurant',\n",
       "       'Po’ boys restaurant', 'Puerto Rican restaurant',\n",
       "       'Ramen restaurant', 'Raw food restaurant', 'Restaurant',\n",
       "       'Restaurant or cafe', 'Restaurant supply store', 'Rice restaurant',\n",
       "       'Russian restaurant', 'Salvadoran restaurant',\n",
       "       'Scandinavian restaurant', 'Seafood donburi restaurant',\n",
       "       'Seafood restaurant', 'Self service restaurant',\n",
       "       'Sfiha restaurant', 'Shabu-shabu restaurant',\n",
       "       'Shandong restaurant', 'Shanghainese restaurant',\n",
       "       'Sichuan restaurant', 'Sicilian restaurant',\n",
       "       'Small plates restaurant', 'Soul food restaurant',\n",
       "       'Soup restaurant', 'South African restaurant',\n",
       "       'South American restaurant', 'South Asian restaurant',\n",
       "       'South Indian restaurant', 'Southeast Asian restaurant',\n",
       "       'Southern Italian restaurant', 'Southern restaurant (US)',\n",
       "       'Southwestern restaurant (US)', 'Spanish restaurant',\n",
       "       'Sukiyaki and Shabu Shabu restaurant', 'Sundae restaurant',\n",
       "       'Sushi restaurant', 'Swiss restaurant', 'Syrian restaurant',\n",
       "       'Taco restaurant', 'Taiwanese restaurant', 'Takeout Restaurant',\n",
       "       'Takeout restaurant', 'Tapas restaurant', 'Teppanyaki restaurant',\n",
       "       'Tex-Mex restaurant', 'Thai restaurant', 'Tibetan restaurant',\n",
       "       'Tonkatsu restaurant', 'Traditional American restaurant',\n",
       "       'Traditional restaurant', 'Turkish restaurant',\n",
       "       'Udon noodle restaurant', 'Uzbeki restaurant', 'Vegan restaurant',\n",
       "       'Vegetarian restaurant', 'Venezuelan restaurant',\n",
       "       'Vietnamese restaurant', 'Western restaurant', 'Wok restaurant',\n",
       "       'Yakiniku restaurant', 'Yakitori restaurant', 'Yucatan restaurant'],\n",
       "      dtype=object)"
      ]
     },
     "execution_count": 68,
     "metadata": {},
     "output_type": "execute_result"
    }
   ],
   "source": [
    "categorias_restaurantes = restaurantes[\"category\"].unique()\n",
    "categorias_restaurantes.sort()\n",
    "categorias_restaurantes"
   ]
  },
  {
   "cell_type": "markdown",
   "metadata": {},
   "source": [
    "Debido a que nuestro trabajo se concentrará en **restaurantes de comida latinoamericana**, filtramos los mismos en el dataset:"
   ]
  },
  {
   "cell_type": "code",
   "execution_count": 69,
   "metadata": {},
   "outputs": [
    {
     "data": {
      "text/html": [
       "<div>\n",
       "<style scoped>\n",
       "    .dataframe tbody tr th:only-of-type {\n",
       "        vertical-align: middle;\n",
       "    }\n",
       "\n",
       "    .dataframe tbody tr th {\n",
       "        vertical-align: top;\n",
       "    }\n",
       "\n",
       "    .dataframe thead th {\n",
       "        text-align: right;\n",
       "    }\n",
       "</style>\n",
       "<table border=\"1\" class=\"dataframe\">\n",
       "  <thead>\n",
       "    <tr style=\"text-align: right;\">\n",
       "      <th></th>\n",
       "      <th>name</th>\n",
       "      <th>gmap_id</th>\n",
       "      <th>description</th>\n",
       "      <th>latitude</th>\n",
       "      <th>longitude</th>\n",
       "      <th>category</th>\n",
       "      <th>avg_rating</th>\n",
       "      <th>num_of_reviews</th>\n",
       "    </tr>\n",
       "  </thead>\n",
       "  <tbody>\n",
       "    <tr>\n",
       "      <th>0</th>\n",
       "      <td>Cowboy Burgers &amp; BBQ</td>\n",
       "      <td>0x80c2d765f8c90a3d:0x16afb75943e7ad50</td>\n",
       "      <td>American grub such as BBQ ribs, hamburgers, sa...</td>\n",
       "      <td>34.079995</td>\n",
       "      <td>-117.988951</td>\n",
       "      <td>Mexican restaurant</td>\n",
       "      <td>3.7</td>\n",
       "      <td>38</td>\n",
       "    </tr>\n",
       "    <tr>\n",
       "      <th>1</th>\n",
       "      <td>Mijita</td>\n",
       "      <td>0x808f7fd770b93dfd:0x9163bc5a8883c63b</td>\n",
       "      <td>Stadium-side eatery serving upscale, organic M...</td>\n",
       "      <td>37.778175</td>\n",
       "      <td>-122.390725</td>\n",
       "      <td>Mexican restaurant</td>\n",
       "      <td>3.4</td>\n",
       "      <td>8</td>\n",
       "    </tr>\n",
       "    <tr>\n",
       "      <th>2</th>\n",
       "      <td>La Superior Panaderia</td>\n",
       "      <td>0x80c2c798ad41d859:0x8823cd86d2abd5b3</td>\n",
       "      <td>None</td>\n",
       "      <td>34.054542</td>\n",
       "      <td>-118.276767</td>\n",
       "      <td>Mexican restaurant</td>\n",
       "      <td>4.3</td>\n",
       "      <td>30</td>\n",
       "    </tr>\n",
       "    <tr>\n",
       "      <th>3</th>\n",
       "      <td>Taco Shack</td>\n",
       "      <td>0x80c2d4c17351e5d5:0x25ec6df3990c5322</td>\n",
       "      <td>None</td>\n",
       "      <td>33.943177</td>\n",
       "      <td>-117.990859</td>\n",
       "      <td>Latin American restaurant</td>\n",
       "      <td>4.0</td>\n",
       "      <td>18</td>\n",
       "    </tr>\n",
       "    <tr>\n",
       "      <th>4</th>\n",
       "      <td>Taco Shack</td>\n",
       "      <td>0x80c2d4c17351e5d5:0x25ec6df3990c5322</td>\n",
       "      <td>None</td>\n",
       "      <td>33.943177</td>\n",
       "      <td>-117.990859</td>\n",
       "      <td>Mexican restaurant</td>\n",
       "      <td>4.0</td>\n",
       "      <td>18</td>\n",
       "    </tr>\n",
       "  </tbody>\n",
       "</table>\n",
       "</div>"
      ],
      "text/plain": [
       "                    name                                gmap_id  \\\n",
       "0   Cowboy Burgers & BBQ  0x80c2d765f8c90a3d:0x16afb75943e7ad50   \n",
       "1                 Mijita  0x808f7fd770b93dfd:0x9163bc5a8883c63b   \n",
       "2  La Superior Panaderia  0x80c2c798ad41d859:0x8823cd86d2abd5b3   \n",
       "3             Taco Shack  0x80c2d4c17351e5d5:0x25ec6df3990c5322   \n",
       "4             Taco Shack  0x80c2d4c17351e5d5:0x25ec6df3990c5322   \n",
       "\n",
       "                                         description   latitude   longitude  \\\n",
       "0  American grub such as BBQ ribs, hamburgers, sa...  34.079995 -117.988951   \n",
       "1  Stadium-side eatery serving upscale, organic M...  37.778175 -122.390725   \n",
       "2                                               None  34.054542 -118.276767   \n",
       "3                                               None  33.943177 -117.990859   \n",
       "4                                               None  33.943177 -117.990859   \n",
       "\n",
       "                    category  avg_rating  num_of_reviews  \n",
       "0         Mexican restaurant         3.7              38  \n",
       "1         Mexican restaurant         3.4               8  \n",
       "2         Mexican restaurant         4.3              30  \n",
       "3  Latin American restaurant         4.0              18  \n",
       "4         Mexican restaurant         4.0              18  "
      ]
     },
     "execution_count": 69,
     "metadata": {},
     "output_type": "execute_result"
    }
   ],
   "source": [
    "# Guardamos las categorías de restaurantes latinoamericanos en una lista\n",
    "latin_list = ['Argentinian restaurant', 'Brazilian restaurant', 'Burrito restaurant', 'Caribbean restaurant',\n",
    "       'Central American restaurant', 'Chilean restaurant', 'Colombian restaurant', 'Cuban restaurant', \n",
    "       'Ecuadorian restaurant', 'Latin American restaurant','Mexican restaurant','Peruvian restaurant','Taco restaurant',  'Venezuelan restaurant',\n",
    "       'Yucatan restaurant']\n",
    "\n",
    "# Luego filtramos los restaurantes latinoamericanos en el dataframe:\n",
    "latin_restaurants = restaurantes[restaurantes[\"category\"].isin(latin_list)]\n",
    "latin_restaurants = latin_restaurants.reset_index()\n",
    "latin_restaurants = latin_restaurants.drop(columns=\"index\")\n",
    "latin_restaurants.head()"
   ]
  },
  {
   "cell_type": "code",
   "execution_count": 70,
   "metadata": {},
   "outputs": [
    {
     "data": {
      "text/plain": [
       "1449"
      ]
     },
     "execution_count": 70,
     "metadata": {},
     "output_type": "execute_result"
    }
   ],
   "source": [
    "# Controlamos la cantidad de restaurantes que tenemos en nuestro dataframe:\n",
    "latin_restaurants[\"gmap_id\"].nunique()"
   ]
  },
  {
   "cell_type": "markdown",
   "metadata": {},
   "source": [
    "Contamos con información de **más de 1400 restaurantes latinoamericanos**, que representan un poco menos del **10% del total** de restaurantes del dataset.\n",
    "\n",
    "A continuación realizamos ciertas modificaciones sobre los archivos y los exportamos a archivos Parquet, para luego ser utilizados en Power BI:"
   ]
  },
  {
   "cell_type": "code",
   "execution_count": 71,
   "metadata": {},
   "outputs": [],
   "source": [
    "# Se crea una tabla que contenga únicamente la categoría y el gmap_id:\n",
    "tabla_cat = latin_restaurants[[\"gmap_id\", \"category\"]]\n",
    "\n",
    "# Se renombran las columnas_\n",
    "tabla_cat = tabla_cat.rename(columns={\"gmap_id\": \"business_id\", \"category\" : \"subcategory\"})\n",
    "\n",
    "# Se crea la columna \"category\" en funcion a los valores de la subcategoría\n",
    "tabla_cat.loc[tabla_cat['subcategory'].isin(['Mexican restaurant', 'Taco restaurant', 'Burrito restaurant','Yucatan restaurant']), 'category'] = \"Mexican restaurant\"\n",
    "tabla_cat['category'].fillna(tabla_cat['subcategory'], inplace=True)\n",
    "\n",
    "# Se exporta el archivo en formato parquet:\n",
    "tabla_cat.to_parquet('categories_google.parquet', engine=\"pyarrow\")"
   ]
  },
  {
   "cell_type": "code",
   "execution_count": 72,
   "metadata": {},
   "outputs": [],
   "source": [
    "# Se elimina la columna category y se borran duplicados:\n",
    "latin_res = latin_restaurants.drop(columns = \"category\")\n",
    "latin_res = latin_res.drop_duplicates().reset_index().drop(columns=\"index\")\n",
    "\n",
    "# Se exporta el archivo en formato parquet:\n",
    "latin_res.to_parquet('Restaurants_Google.parquet', engine=\"pyarrow\")"
   ]
  },
  {
   "cell_type": "markdown",
   "metadata": {},
   "source": [
    "Luego controlamos la **distribución** del **rating promedio** de los restaurantes:"
   ]
  },
  {
   "cell_type": "code",
   "execution_count": 73,
   "metadata": {},
   "outputs": [
    {
     "data": {
      "image/png": "[encoded data removed]",
      "text/plain": [
       "<Figure size 640x480 with 1 Axes>"
      ]
     },
     "metadata": {},
     "output_type": "display_data"
    }
   ],
   "source": [
    "sns.histplot(data = latin_res, x = \"avg_rating\", stat=\"count\", bins = 5)\n",
    "plt.ylabel('Cantidad de restaurants')\n",
    "plt.xlabel('Rating promedio')\n",
    "plt.title('Distribución del rating promedio de los restaurantes')\n",
    "plt.show()"
   ]
  },
  {
   "cell_type": "markdown",
   "metadata": {},
   "source": [
    "Como podemos observar, **más de la mitad de los restaurantes** tiene una **valoración de 4 estrellas**."
   ]
  },
  {
   "cell_type": "markdown",
   "metadata": {},
   "source": [
    "Por último, controlamos la **cantidad de restaurantes por categoría**:"
   ]
  },
  {
   "cell_type": "code",
   "execution_count": 74,
   "metadata": {},
   "outputs": [
    {
     "data": {
      "text/plain": [
       "category\n",
       "Mexican restaurant             1560\n",
       "Latin American restaurant       158\n",
       "Peruvian restaurant              27\n",
       "Brazilian restaurant             12\n",
       "Caribbean restaurant              7\n",
       "Cuban restaurant                  6\n",
       "Argentinian restaurant            6\n",
       "Central American restaurant       5\n",
       "Colombian restaurant              3\n",
       "Chilean restaurant                1\n",
       "Venezuelan restaurant             1\n",
       "Ecuadorian restaurant             1\n",
       "Name: count, dtype: int64"
      ]
     },
     "execution_count": 74,
     "metadata": {},
     "output_type": "execute_result"
    }
   ],
   "source": [
    "tabla_cat[\"category\"].value_counts()"
   ]
  },
  {
   "cell_type": "markdown",
   "metadata": {},
   "source": [
    "Como podemos observar, la **gran mayoría** son **restaurantes** de **comida mexicana**."
   ]
  },
  {
   "cell_type": "markdown",
   "metadata": {},
   "source": [
    "## Filtrado de Reviews - Restaurantes en California:"
   ]
  },
  {
   "cell_type": "markdown",
   "metadata": {},
   "source": [
    "Una vez que ya contamos con los datos de los restaurantes latinoamericanos, lo único que nos quedaría por realizar es filtrar las reviews de dichos restaurantes:"
   ]
  },
  {
   "cell_type": "code",
   "execution_count": 75,
   "metadata": {},
   "outputs": [
    {
     "name": "stdout",
     "output_type": "stream",
     "text": [
      "(134528, 6)\n"
     ]
    }
   ],
   "source": [
    "# Se crea una lista con los valores unicos de los gmap_id de restaurantes latinoamericanos:\n",
    "list_id = latin_res[\"gmap_id\"].unique()\n",
    "\n",
    "# Se filtran las reviews según el id:\n",
    "reviews_latin = df_reviews[df_reviews[\"gmap_id\"].isin(list_id)]\n",
    "print(reviews_latin.shape)"
   ]
  },
  {
   "cell_type": "markdown",
   "metadata": {},
   "source": [
    "Poseemos **más de 130.000 reviews** de **restaurantes latinoamericanos**.\n",
    "\n",
    "Controlamos el **período temporal** del que disponemos información:"
   ]
  },
  {
   "cell_type": "code",
   "execution_count": 76,
   "metadata": {},
   "outputs": [
    {
     "name": "stdout",
     "output_type": "stream",
     "text": [
      "Fecha mínima: 1990-12-31 00:00:00\n",
      "Fecha máxima: 2021-09-07 03:56:21.890000\n"
     ]
    }
   ],
   "source": [
    "print(\"Fecha mínima:\", reviews_latin[\"fecha\"].min())\n",
    "print(\"Fecha máxima:\", reviews_latin[\"fecha\"].max())"
   ]
  },
  {
   "cell_type": "code",
   "execution_count": 6,
   "metadata": {},
   "outputs": [
    {
     "data": {
      "text/html": [
       "<div>\n",
       "<style scoped>\n",
       "    .dataframe tbody tr th:only-of-type {\n",
       "        vertical-align: middle;\n",
       "    }\n",
       "\n",
       "    .dataframe tbody tr th {\n",
       "        vertical-align: top;\n",
       "    }\n",
       "\n",
       "    .dataframe thead th {\n",
       "        text-align: right;\n",
       "    }\n",
       "</style>\n",
       "<table border=\"1\" class=\"dataframe\">\n",
       "  <thead>\n",
       "    <tr style=\"text-align: right;\">\n",
       "      <th></th>\n",
       "      <th>user_id</th>\n",
       "      <th>name</th>\n",
       "      <th>rating</th>\n",
       "      <th>text</th>\n",
       "      <th>gmap_id</th>\n",
       "      <th>fecha</th>\n",
       "    </tr>\n",
       "  </thead>\n",
       "  <tbody>\n",
       "    <tr>\n",
       "      <th>884</th>\n",
       "      <td>1.089843e+20</td>\n",
       "      <td>Edgar Alexander Lara</td>\n",
       "      <td>4</td>\n",
       "      <td>A delicious variety of food. Good place to go ...</td>\n",
       "      <td>0x80c2d765f8c90a3d:0x16afb75943e7ad50</td>\n",
       "      <td>2021-04-13</td>\n",
       "    </tr>\n",
       "    <tr>\n",
       "      <th>885</th>\n",
       "      <td>1.022832e+20</td>\n",
       "      <td>Selena Mejia</td>\n",
       "      <td>1</td>\n",
       "      <td>I use to love cowboys ever since I was a teen....</td>\n",
       "      <td>0x80c2d765f8c90a3d:0x16afb75943e7ad50</td>\n",
       "      <td>2014-06-16</td>\n",
       "    </tr>\n",
       "    <tr>\n",
       "      <th>886</th>\n",
       "      <td>1.113197e+20</td>\n",
       "      <td>Roderick Conwi</td>\n",
       "      <td>4</td>\n",
       "      <td>If you like going to mom and pop burger joints...</td>\n",
       "      <td>0x80c2d765f8c90a3d:0x16afb75943e7ad50</td>\n",
       "      <td>2016-02-21</td>\n",
       "    </tr>\n",
       "    <tr>\n",
       "      <th>887</th>\n",
       "      <td>1.148980e+20</td>\n",
       "      <td>Alexia Berganio</td>\n",
       "      <td>4</td>\n",
       "      <td>Their food is really great, but the prices hav...</td>\n",
       "      <td>0x80c2d765f8c90a3d:0x16afb75943e7ad50</td>\n",
       "      <td>2016-08-08</td>\n",
       "    </tr>\n",
       "    <tr>\n",
       "      <th>888</th>\n",
       "      <td>1.019125e+20</td>\n",
       "      <td>robc009</td>\n",
       "      <td>5</td>\n",
       "      <td>The food is really good and the inside dining ...</td>\n",
       "      <td>0x80c2d765f8c90a3d:0x16afb75943e7ad50</td>\n",
       "      <td>2014-04-27</td>\n",
       "    </tr>\n",
       "  </tbody>\n",
       "</table>\n",
       "</div>"
      ],
      "text/plain": [
       "          user_id                  name  rating  \\\n",
       "884  1.089843e+20  Edgar Alexander Lara       4   \n",
       "885  1.022832e+20          Selena Mejia       1   \n",
       "886  1.113197e+20        Roderick Conwi       4   \n",
       "887  1.148980e+20       Alexia Berganio       4   \n",
       "888  1.019125e+20               robc009       5   \n",
       "\n",
       "                                                  text  \\\n",
       "884  A delicious variety of food. Good place to go ...   \n",
       "885  I use to love cowboys ever since I was a teen....   \n",
       "886  If you like going to mom and pop burger joints...   \n",
       "887  Their food is really great, but the prices hav...   \n",
       "888  The food is really good and the inside dining ...   \n",
       "\n",
       "                                   gmap_id       fecha  \n",
       "884  0x80c2d765f8c90a3d:0x16afb75943e7ad50  2021-04-13  \n",
       "885  0x80c2d765f8c90a3d:0x16afb75943e7ad50  2014-06-16  \n",
       "886  0x80c2d765f8c90a3d:0x16afb75943e7ad50  2016-02-21  \n",
       "887  0x80c2d765f8c90a3d:0x16afb75943e7ad50  2016-08-08  \n",
       "888  0x80c2d765f8c90a3d:0x16afb75943e7ad50  2014-04-27  "
      ]
     },
     "execution_count": 6,
     "metadata": {},
     "output_type": "execute_result"
    }
   ],
   "source": [
    "import pandas as pd\n",
    "reviews_latin = pd.read_parquet(\"Data/google_latin_reviews.parquet\")\n",
    "reviews_latin.head()"
   ]
  },
  {
   "cell_type": "code",
   "execution_count": 7,
   "metadata": {},
   "outputs": [
    {
     "name": "stdout",
     "output_type": "stream",
     "text": [
      "<class 'pandas.core.frame.DataFrame'>\n",
      "RangeIndex: 134528 entries, 0 to 134527\n",
      "Data columns (total 6 columns):\n",
      " #   Column   Non-Null Count   Dtype  \n",
      "---  ------   --------------   -----  \n",
      " 0   user_id  134528 non-null  float64\n",
      " 1   name     134528 non-null  object \n",
      " 2   rating   134528 non-null  int64  \n",
      " 3   text     134528 non-null  object \n",
      " 4   gmap_id  134528 non-null  object \n",
      " 5   fecha    134528 non-null  object \n",
      "dtypes: float64(1), int64(1), object(4)\n",
      "memory usage: 6.2+ MB\n"
     ]
    }
   ],
   "source": [
    "# Cambiamos el formato de la columna \"fecha\" de \"datetime\" a \"date\"\n",
    "#reviews_latin[\"fecha\"] = reviews_latin[\"fecha\"].dt.date\n",
    "\n",
    "# Se resetea el índice\n",
    "reviews_latin = reviews_latin.reset_index(drop = True)\n",
    "reviews_latin.info()"
   ]
  },
  {
   "cell_type": "markdown",
   "metadata": {},
   "source": [
    "Contamos con reviews de usuarios desde el año 1990 hasta Septiembre de 2021.\n",
    "\n",
    "Luego controlamos la **distribución** del **rating** colocado por los usuarios en las reviews:"
   ]
  },
  {
   "cell_type": "code",
   "execution_count": 77,
   "metadata": {},
   "outputs": [
    {
     "data": {
      "image/png": "[encoded data removed]",
      "text/plain": [
       "<Figure size 640x480 with 1 Axes>"
      ]
     },
     "metadata": {},
     "output_type": "display_data"
    }
   ],
   "source": [
    "sns.histplot(data = reviews_latin, x = \"rating\", stat=\"count\", bins = 5)\n",
    "plt.ylabel('Cantidad de reviews')\n",
    "plt.xlabel('Rating')\n",
    "plt.title('Distribución del rating incluido en las reviews')\n",
    "plt.show()"
   ]
  },
  {
   "cell_type": "markdown",
   "metadata": {},
   "source": [
    "Como podemos observar, **más de la mitad de las reviews** fueron **muy positivas**, ya que superan las 4 estrellas."
   ]
  },
  {
   "cell_type": "markdown",
   "metadata": {},
   "source": [
    "Por último, exportamos las reviews a un archivo parquet:"
   ]
  },
  {
   "cell_type": "code",
   "execution_count": 8,
   "metadata": {},
   "outputs": [],
   "source": [
    "# Se exporta el archivo en formato parquet:\n",
    "reviews_latin.to_parquet('Reviews_Google.parquet', engine=\"pyarrow\")"
   ]
  }
 ],
 "metadata": {
  "kernelspec": {
   "display_name": "Python 3",
   "language": "python",
   "name": "python3"
  },
  "language_info": {
   "codemirror_mode": {
    "name": "ipython",
    "version": 3
   },
   "file_extension": ".py",
   "mimetype": "text/x-python",
   "name": "python",
   "nbconvert_exporter": "python",
   "pygments_lexer": "ipython3",
   "version": "3.11.4"
  }
 },
 "nbformat": 4,
 "nbformat_minor": 2
}
