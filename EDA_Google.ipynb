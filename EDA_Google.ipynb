{
 "cells": [
  {
   "cell_type": "markdown",
   "metadata": {},
   "source": [
    "# Análisis Exploratorio de Datos - Google reviews:"
   ]
  },
  {
   "cell_type": "markdown",
   "metadata": {},
   "source": [
    "En el presente notebook se realizará un análisis exploratorio de los datos de **reviews** de **restaurantes** realizadas en **Google Maps** en el **estado** de **California**.\n",
    "\n",
    "En primer lugar, analizaremos la información correspondiente a las **reviews** de **usuarios** de la aplicación, para luego complementar con la información relativa a los **locales** sobre los que se realizó la review, más específicamente, sobre **restaurantes**:"
   ]
  },
  {
   "cell_type": "code",
   "execution_count": 1,
   "metadata": {},
   "outputs": [],
   "source": [
    "# En primer lugar, se importan las librerías con las que se va a trabajar:\n",
    "import pandas as pd\n",
    "import matplotlib.pyplot as plt\n",
    "import seaborn as sns\n",
    "import warnings\n",
    "#import pickle\n",
    "warnings.filterwarnings('ignore')\n",
    "sns.set()\n",
    "import gc"
   ]
  },
  {
   "cell_type": "markdown",
   "metadata": {},
   "source": [
    "## Reviews de usuarios:"
   ]
  },
  {
   "cell_type": "markdown",
   "metadata": {},
   "source": [
    "Tal cual se explicó anteriormente, este dataset incluye las reviews realizadas por usuarios:"
   ]
  },
  {
   "cell_type": "code",
   "execution_count": 6,
   "metadata": {},
   "outputs": [
    {
     "data": {
      "text/html": [
       "<div>\n",
       "<style scoped>\n",
       "    .dataframe tbody tr th:only-of-type {\n",
       "        vertical-align: middle;\n",
       "    }\n",
       "\n",
       "    .dataframe tbody tr th {\n",
       "        vertical-align: top;\n",
       "    }\n",
       "\n",
       "    .dataframe thead th {\n",
       "        text-align: right;\n",
       "    }\n",
       "</style>\n",
       "<table border=\"1\" class=\"dataframe\">\n",
       "  <thead>\n",
       "    <tr style=\"text-align: right;\">\n",
       "      <th></th>\n",
       "      <th>user_id</th>\n",
       "      <th>name</th>\n",
       "      <th>time</th>\n",
       "      <th>rating</th>\n",
       "      <th>text</th>\n",
       "      <th>pics</th>\n",
       "      <th>resp</th>\n",
       "      <th>gmap_id</th>\n",
       "    </tr>\n",
       "  </thead>\n",
       "  <tbody>\n",
       "    <tr>\n",
       "      <th>0</th>\n",
       "      <td>1.089912e+20</td>\n",
       "      <td>Song Ro</td>\n",
       "      <td>1609909927056</td>\n",
       "      <td>5</td>\n",
       "      <td>Love there korean rice cake.</td>\n",
       "      <td>None</td>\n",
       "      <td>None</td>\n",
       "      <td>0x80c2c778e3b73d33:0xbdc58662a4a97d49</td>\n",
       "    </tr>\n",
       "    <tr>\n",
       "      <th>1</th>\n",
       "      <td>1.112903e+20</td>\n",
       "      <td>Rafa Robles</td>\n",
       "      <td>1612849648663</td>\n",
       "      <td>5</td>\n",
       "      <td>Good very good</td>\n",
       "      <td>None</td>\n",
       "      <td>None</td>\n",
       "      <td>0x80c2c778e3b73d33:0xbdc58662a4a97d49</td>\n",
       "    </tr>\n",
       "    <tr>\n",
       "      <th>2</th>\n",
       "      <td>1.126404e+20</td>\n",
       "      <td>David Han</td>\n",
       "      <td>1583643882296</td>\n",
       "      <td>4</td>\n",
       "      <td>They make Korean traditional food very properly.</td>\n",
       "      <td>None</td>\n",
       "      <td>None</td>\n",
       "      <td>0x80c2c778e3b73d33:0xbdc58662a4a97d49</td>\n",
       "    </tr>\n",
       "    <tr>\n",
       "      <th>3</th>\n",
       "      <td>1.174403e+20</td>\n",
       "      <td>Anthony Kim</td>\n",
       "      <td>1551938216355</td>\n",
       "      <td>5</td>\n",
       "      <td>Short ribs are very delicious.</td>\n",
       "      <td>None</td>\n",
       "      <td>None</td>\n",
       "      <td>0x80c2c778e3b73d33:0xbdc58662a4a97d49</td>\n",
       "    </tr>\n",
       "    <tr>\n",
       "      <th>4</th>\n",
       "      <td>1.005808e+20</td>\n",
       "      <td>Mario Marzouk</td>\n",
       "      <td>1494910901933</td>\n",
       "      <td>5</td>\n",
       "      <td>Great food and prices the portions are large</td>\n",
       "      <td>None</td>\n",
       "      <td>None</td>\n",
       "      <td>0x80c2c778e3b73d33:0xbdc58662a4a97d49</td>\n",
       "    </tr>\n",
       "  </tbody>\n",
       "</table>\n",
       "</div>"
      ],
      "text/plain": [
       "        user_id           name           time  rating  \\\n",
       "0  1.089912e+20        Song Ro  1609909927056       5   \n",
       "1  1.112903e+20    Rafa Robles  1612849648663       5   \n",
       "2  1.126404e+20      David Han  1583643882296       4   \n",
       "3  1.174403e+20    Anthony Kim  1551938216355       5   \n",
       "4  1.005808e+20  Mario Marzouk  1494910901933       5   \n",
       "\n",
       "                                               text  pics  resp  \\\n",
       "0                      Love there korean rice cake.  None  None   \n",
       "1                                    Good very good  None  None   \n",
       "2  They make Korean traditional food very properly.  None  None   \n",
       "3                    Short ribs are very delicious.  None  None   \n",
       "4      Great food and prices the portions are large  None  None   \n",
       "\n",
       "                                 gmap_id  \n",
       "0  0x80c2c778e3b73d33:0xbdc58662a4a97d49  \n",
       "1  0x80c2c778e3b73d33:0xbdc58662a4a97d49  \n",
       "2  0x80c2c778e3b73d33:0xbdc58662a4a97d49  \n",
       "3  0x80c2c778e3b73d33:0xbdc58662a4a97d49  \n",
       "4  0x80c2c778e3b73d33:0xbdc58662a4a97d49  "
      ]
     },
     "execution_count": 6,
     "metadata": {},
     "output_type": "execute_result"
    }
   ],
   "source": [
    "# En primer lugar, se carga el archivo:\n",
    "df_reviews = pd.read_parquet(\"Datasets/reviews_california.parquet\")\n",
    "df_reviews.head()"
   ]
  },
  {
   "cell_type": "code",
   "execution_count": 9,
   "metadata": {},
   "outputs": [
    {
     "name": "stdout",
     "output_type": "stream",
     "text": [
      "<class 'pandas.core.frame.DataFrame'>\n",
      "RangeIndex: 2700000 entries, 0 to 2699999\n",
      "Data columns (total 8 columns):\n",
      " #   Column   Dtype  \n",
      "---  ------   -----  \n",
      " 0   user_id  float64\n",
      " 1   name     object \n",
      " 2   time     int64  \n",
      " 3   rating   int64  \n",
      " 4   text     object \n",
      " 5   pics     object \n",
      " 6   resp     object \n",
      " 7   gmap_id  object \n",
      "dtypes: float64(1), int64(2), object(5)\n",
      "memory usage: 164.8+ MB\n"
     ]
    }
   ],
   "source": [
    "# Se controla información general del dataset:\n",
    "df_reviews.info()"
   ]
  },
  {
   "cell_type": "markdown",
   "metadata": {},
   "source": [
    "Se eliminan las columnas \"time\", \"pics\" y \"resp\" ya que no se utilizarán en el análisis:"
   ]
  },
  {
   "cell_type": "code",
   "execution_count": 10,
   "metadata": {},
   "outputs": [],
   "source": [
    "df_reviews = df_reviews.drop(columns=[\"time\", \"pics\", \"resp\"])"
   ]
  },
  {
   "cell_type": "code",
   "execution_count": 11,
   "metadata": {},
   "outputs": [
    {
     "data": {
      "text/plain": [
       "75245"
      ]
     },
     "execution_count": 11,
     "metadata": {},
     "output_type": "execute_result"
    }
   ],
   "source": [
    "# Se controla que no existan filas duplicadas:\n",
    "df_reviews.duplicated().sum()"
   ]
  },
  {
   "cell_type": "code",
   "execution_count": 12,
   "metadata": {},
   "outputs": [
    {
     "data": {
      "text/plain": [
       "(2624755, 5)"
      ]
     },
     "execution_count": 12,
     "metadata": {},
     "output_type": "execute_result"
    }
   ],
   "source": [
    "# Se eliminan valores duplicados:\n",
    "df_reviews = df_reviews.drop_duplicates()\n",
    "df_reviews.shape"
   ]
  },
  {
   "cell_type": "code",
   "execution_count": 13,
   "metadata": {},
   "outputs": [
    {
     "data": {
      "text/plain": [
       "user_id          0\n",
       "name             0\n",
       "rating           0\n",
       "text       1163822\n",
       "gmap_id          0\n",
       "dtype: int64"
      ]
     },
     "execution_count": 13,
     "metadata": {},
     "output_type": "execute_result"
    }
   ],
   "source": [
    "# Se controla la cantidad de valores nulos:\n",
    "df_reviews.isnull().sum()"
   ]
  },
  {
   "cell_type": "markdown",
   "metadata": {},
   "source": [
    "De acuerdo a lo expuesto, existe una **gran cantidad de valores faltantes** en la columna **\"text\"**, que contiene los **comentarios de las reviews** realizadas por el usuario. \n",
    "\n",
    "Se decide **mantener** las mismas, ya que correspoden a casi el 50% de la información del dataset y por ende estaríamos eliminando información importante, y a su vez tal vez podamos implementar algún método para completar los mismos a través del rating ingresado por el usuario.\n",
    "\n",
    "Por tal motivo, procedemos a controlar los valores numéricos del dataset:"
   ]
  },
  {
   "cell_type": "code",
   "execution_count": 14,
   "metadata": {},
   "outputs": [
    {
     "data": {
      "text/html": [
       "<div>\n",
       "<style scoped>\n",
       "    .dataframe tbody tr th:only-of-type {\n",
       "        vertical-align: middle;\n",
       "    }\n",
       "\n",
       "    .dataframe tbody tr th {\n",
       "        vertical-align: top;\n",
       "    }\n",
       "\n",
       "    .dataframe thead th {\n",
       "        text-align: right;\n",
       "    }\n",
       "</style>\n",
       "<table border=\"1\" class=\"dataframe\">\n",
       "  <thead>\n",
       "    <tr style=\"text-align: right;\">\n",
       "      <th></th>\n",
       "      <th>user_id</th>\n",
       "      <th>rating</th>\n",
       "    </tr>\n",
       "  </thead>\n",
       "  <tbody>\n",
       "    <tr>\n",
       "      <th>count</th>\n",
       "      <td>2.624755e+06</td>\n",
       "      <td>2.624755e+06</td>\n",
       "    </tr>\n",
       "    <tr>\n",
       "      <th>mean</th>\n",
       "      <td>1.093545e+20</td>\n",
       "      <td>4.314977e+00</td>\n",
       "    </tr>\n",
       "    <tr>\n",
       "      <th>std</th>\n",
       "      <td>5.238717e+18</td>\n",
       "      <td>1.123237e+00</td>\n",
       "    </tr>\n",
       "    <tr>\n",
       "      <th>min</th>\n",
       "      <td>1.000000e+20</td>\n",
       "      <td>1.000000e+00</td>\n",
       "    </tr>\n",
       "    <tr>\n",
       "      <th>25%</th>\n",
       "      <td>1.048919e+20</td>\n",
       "      <td>4.000000e+00</td>\n",
       "    </tr>\n",
       "    <tr>\n",
       "      <th>50%</th>\n",
       "      <td>1.093178e+20</td>\n",
       "      <td>5.000000e+00</td>\n",
       "    </tr>\n",
       "    <tr>\n",
       "      <th>75%</th>\n",
       "      <td>1.138792e+20</td>\n",
       "      <td>5.000000e+00</td>\n",
       "    </tr>\n",
       "    <tr>\n",
       "      <th>max</th>\n",
       "      <td>1.184467e+20</td>\n",
       "      <td>5.000000e+00</td>\n",
       "    </tr>\n",
       "  </tbody>\n",
       "</table>\n",
       "</div>"
      ],
      "text/plain": [
       "            user_id        rating\n",
       "count  2.624755e+06  2.624755e+06\n",
       "mean   1.093545e+20  4.314977e+00\n",
       "std    5.238717e+18  1.123237e+00\n",
       "min    1.000000e+20  1.000000e+00\n",
       "25%    1.048919e+20  4.000000e+00\n",
       "50%    1.093178e+20  5.000000e+00\n",
       "75%    1.138792e+20  5.000000e+00\n",
       "max    1.184467e+20  5.000000e+00"
      ]
     },
     "execution_count": 14,
     "metadata": {},
     "output_type": "execute_result"
    }
   ],
   "source": [
    "df_reviews.describe()"
   ]
  },
  {
   "cell_type": "markdown",
   "metadata": {},
   "source": [
    "Podemos observar que el **valor mínimo** en **\"rating\"** es **1**, mientras que el **valor máximo** es **5**, por lo que supone una **escala** de calificaciones de **1 a 5 estrellas**.\n",
    "\n",
    "Teniendo esto presente, ahora podemos **reemplazar** los **valores nulos** en los comentarios, a través de una **escala de satisfacción** basada en el **rating ingresado por el usuario**, a saber:\n",
    "\n",
    "    - Rating menor o igual a 1: \"Very Dissatisfied\"\n",
    "    - Rating menor o igual a 2: \"Dissatisfied\"\n",
    "    - Rating menor o igual a 3: \"Neutral\"\n",
    "    - Rating menor o igual a 4: \"Satisfied\"\n",
    "    - Rating menor o igual a 5: \"Very Satisfied\""
   ]
  },
  {
   "cell_type": "code",
   "execution_count": 15,
   "metadata": {},
   "outputs": [],
   "source": [
    "# En primer lugar, creamos la función que asignará la escala de satisfacción:\n",
    "def asignar_escala(rating):\n",
    "    if rating <= 1:\n",
    "        return \"Very Dissatisfied\"\n",
    "    elif rating <= 2:\n",
    "        return \"Dissatisfied\"\n",
    "    elif rating <= 3:\n",
    "        return \"Neutral\"\n",
    "    elif rating <= 4:\n",
    "        return \"Satisfied\"\n",
    "    else:\n",
    "        return \"Very Satisfied\""
   ]
  },
  {
   "cell_type": "code",
   "execution_count": 16,
   "metadata": {},
   "outputs": [
    {
     "data": {
      "text/html": [
       "<div>\n",
       "<style scoped>\n",
       "    .dataframe tbody tr th:only-of-type {\n",
       "        vertical-align: middle;\n",
       "    }\n",
       "\n",
       "    .dataframe tbody tr th {\n",
       "        vertical-align: top;\n",
       "    }\n",
       "\n",
       "    .dataframe thead th {\n",
       "        text-align: right;\n",
       "    }\n",
       "</style>\n",
       "<table border=\"1\" class=\"dataframe\">\n",
       "  <thead>\n",
       "    <tr style=\"text-align: right;\">\n",
       "      <th></th>\n",
       "      <th>user_id</th>\n",
       "      <th>name</th>\n",
       "      <th>rating</th>\n",
       "      <th>text</th>\n",
       "      <th>gmap_id</th>\n",
       "      <th>escala_satisfaccion</th>\n",
       "    </tr>\n",
       "  </thead>\n",
       "  <tbody>\n",
       "    <tr>\n",
       "      <th>0</th>\n",
       "      <td>1.089912e+20</td>\n",
       "      <td>Song Ro</td>\n",
       "      <td>5</td>\n",
       "      <td>Love there korean rice cake.</td>\n",
       "      <td>0x80c2c778e3b73d33:0xbdc58662a4a97d49</td>\n",
       "      <td>Very Satisfied</td>\n",
       "    </tr>\n",
       "    <tr>\n",
       "      <th>1</th>\n",
       "      <td>1.112903e+20</td>\n",
       "      <td>Rafa Robles</td>\n",
       "      <td>5</td>\n",
       "      <td>Good very good</td>\n",
       "      <td>0x80c2c778e3b73d33:0xbdc58662a4a97d49</td>\n",
       "      <td>Very Satisfied</td>\n",
       "    </tr>\n",
       "    <tr>\n",
       "      <th>2</th>\n",
       "      <td>1.126404e+20</td>\n",
       "      <td>David Han</td>\n",
       "      <td>4</td>\n",
       "      <td>They make Korean traditional food very properly.</td>\n",
       "      <td>0x80c2c778e3b73d33:0xbdc58662a4a97d49</td>\n",
       "      <td>Satisfied</td>\n",
       "    </tr>\n",
       "    <tr>\n",
       "      <th>3</th>\n",
       "      <td>1.174403e+20</td>\n",
       "      <td>Anthony Kim</td>\n",
       "      <td>5</td>\n",
       "      <td>Short ribs are very delicious.</td>\n",
       "      <td>0x80c2c778e3b73d33:0xbdc58662a4a97d49</td>\n",
       "      <td>Very Satisfied</td>\n",
       "    </tr>\n",
       "    <tr>\n",
       "      <th>4</th>\n",
       "      <td>1.005808e+20</td>\n",
       "      <td>Mario Marzouk</td>\n",
       "      <td>5</td>\n",
       "      <td>Great food and prices the portions are large</td>\n",
       "      <td>0x80c2c778e3b73d33:0xbdc58662a4a97d49</td>\n",
       "      <td>Very Satisfied</td>\n",
       "    </tr>\n",
       "  </tbody>\n",
       "</table>\n",
       "</div>"
      ],
      "text/plain": [
       "        user_id           name  rating  \\\n",
       "0  1.089912e+20        Song Ro       5   \n",
       "1  1.112903e+20    Rafa Robles       5   \n",
       "2  1.126404e+20      David Han       4   \n",
       "3  1.174403e+20    Anthony Kim       5   \n",
       "4  1.005808e+20  Mario Marzouk       5   \n",
       "\n",
       "                                               text  \\\n",
       "0                      Love there korean rice cake.   \n",
       "1                                    Good very good   \n",
       "2  They make Korean traditional food very properly.   \n",
       "3                    Short ribs are very delicious.   \n",
       "4      Great food and prices the portions are large   \n",
       "\n",
       "                                 gmap_id escala_satisfaccion  \n",
       "0  0x80c2c778e3b73d33:0xbdc58662a4a97d49      Very Satisfied  \n",
       "1  0x80c2c778e3b73d33:0xbdc58662a4a97d49      Very Satisfied  \n",
       "2  0x80c2c778e3b73d33:0xbdc58662a4a97d49           Satisfied  \n",
       "3  0x80c2c778e3b73d33:0xbdc58662a4a97d49      Very Satisfied  \n",
       "4  0x80c2c778e3b73d33:0xbdc58662a4a97d49      Very Satisfied  "
      ]
     },
     "execution_count": 16,
     "metadata": {},
     "output_type": "execute_result"
    }
   ],
   "source": [
    "# Luego creamos una columna en el dataframe donde aplicamos la funcion creada anteriormente:\n",
    "df_reviews[\"escala_satisfaccion\"] = df_reviews[\"rating\"].apply(asignar_escala)\n",
    "df_reviews.head()"
   ]
  },
  {
   "cell_type": "code",
   "execution_count": 17,
   "metadata": {},
   "outputs": [
    {
     "data": {
      "text/plain": [
       "user_id                0\n",
       "name                   0\n",
       "rating                 0\n",
       "text                   0\n",
       "gmap_id                0\n",
       "escala_satisfaccion    0\n",
       "dtype: int64"
      ]
     },
     "execution_count": 17,
     "metadata": {},
     "output_type": "execute_result"
    }
   ],
   "source": [
    "# Reemplazamos valores nulos:\n",
    "df_reviews[\"text\"].fillna(df_reviews[\"escala_satisfaccion\"], inplace = True)\n",
    "\n",
    "# Controlamos que no queden valores nulos en el dataframe:\n",
    "df_reviews.isnull().sum()"
   ]
  },
  {
   "cell_type": "code",
   "execution_count": 18,
   "metadata": {},
   "outputs": [],
   "source": [
    "# Eliminamos la columna agregada anteriormente:\n",
    "df_reviews = df_reviews.drop(columns=\"escala_satisfaccion\")"
   ]
  },
  {
   "cell_type": "markdown",
   "metadata": {},
   "source": [
    "Una vez completados los datos nulos, controlamos el Top 10 de usuarios en cantidad de reviews:"
   ]
  },
  {
   "cell_type": "code",
   "execution_count": 19,
   "metadata": {},
   "outputs": [
    {
     "data": {
      "text/plain": [
       "user_id\n",
       "1.033885e+20    307\n",
       "1.077740e+20    144\n",
       "1.030183e+20    130\n",
       "1.119374e+20    130\n",
       "1.150273e+20    125\n",
       "1.164464e+20    110\n",
       "1.055059e+20    105\n",
       "1.087680e+20    104\n",
       "1.056125e+20    104\n",
       "1.021802e+20    102\n",
       "Name: count, dtype: int64"
      ]
     },
     "execution_count": 19,
     "metadata": {},
     "output_type": "execute_result"
    }
   ],
   "source": [
    "top_user_reviews = df_reviews[\"user_id\"].value_counts()\n",
    "top_user_reviews.head(10)"
   ]
  },
  {
   "cell_type": "code",
   "execution_count": 20,
   "metadata": {},
   "outputs": [
    {
     "data": {
      "text/plain": [
       "user_id\n",
       "1.143127e+20    1\n",
       "1.131172e+20    1\n",
       "1.129661e+20    1\n",
       "1.147637e+20    1\n",
       "1.016916e+20    1\n",
       "1.059341e+20    1\n",
       "1.137927e+20    1\n",
       "1.159818e+20    1\n",
       "1.098696e+20    1\n",
       "1.122199e+20    1\n",
       "Name: count, dtype: int64"
      ]
     },
     "execution_count": 20,
     "metadata": {},
     "output_type": "execute_result"
    }
   ],
   "source": [
    "# Controlamos los últimos 10:\n",
    "top_user_reviews.tail(10)"
   ]
  },
  {
   "cell_type": "markdown",
   "metadata": {},
   "source": [
    "## Locales (metadata)"
   ]
  },
  {
   "cell_type": "markdown",
   "metadata": {},
   "source": [
    "La **\"metadata\"** corresponde a la **información de** los diferentes **locales/comercios incluidos** en **Google Maps**, en este caso en particular, para el estado de **California**."
   ]
  },
  {
   "cell_type": "code",
   "execution_count": 5,
   "metadata": {},
   "outputs": [
    {
     "data": {
      "text/html": [
       "<div>\n",
       "<style scoped>\n",
       "    .dataframe tbody tr th:only-of-type {\n",
       "        vertical-align: middle;\n",
       "    }\n",
       "\n",
       "    .dataframe tbody tr th {\n",
       "        vertical-align: top;\n",
       "    }\n",
       "\n",
       "    .dataframe thead th {\n",
       "        text-align: right;\n",
       "    }\n",
       "</style>\n",
       "<table border=\"1\" class=\"dataframe\">\n",
       "  <thead>\n",
       "    <tr style=\"text-align: right;\">\n",
       "      <th></th>\n",
       "      <th>index</th>\n",
       "      <th>name</th>\n",
       "      <th>address</th>\n",
       "      <th>gmap_id</th>\n",
       "      <th>description</th>\n",
       "      <th>latitude</th>\n",
       "      <th>longitude</th>\n",
       "      <th>category</th>\n",
       "      <th>avg_rating</th>\n",
       "      <th>num_of_reviews</th>\n",
       "      <th>price</th>\n",
       "      <th>hours</th>\n",
       "      <th>MISC</th>\n",
       "      <th>state</th>\n",
       "      <th>relative_results</th>\n",
       "      <th>url</th>\n",
       "    </tr>\n",
       "  </thead>\n",
       "  <tbody>\n",
       "    <tr>\n",
       "      <th>0</th>\n",
       "      <td>0</td>\n",
       "      <td>San Soo Dang</td>\n",
       "      <td>San Soo Dang, 761 S Vermont Ave, Los Angeles, ...</td>\n",
       "      <td>0x80c2c778e3b73d33:0xbdc58662a4a97d49</td>\n",
       "      <td>None</td>\n",
       "      <td>34.058092</td>\n",
       "      <td>-118.292130</td>\n",
       "      <td>[Korean restaurant]</td>\n",
       "      <td>4.4</td>\n",
       "      <td>18</td>\n",
       "      <td>None</td>\n",
       "      <td>[[Thursday, 6:30AM–6PM], [Friday, 6:30AM–6PM],...</td>\n",
       "      <td>{'Accessibility': ['Wheelchair accessible entr...</td>\n",
       "      <td>Open ⋅ Closes 6PM</td>\n",
       "      <td>[0x80c2c78249aba68f:0x35bf16ce61be751d, 0x80c2...</td>\n",
       "      <td>https://www.google.com/maps/place//data=!4m2!3...</td>\n",
       "    </tr>\n",
       "    <tr>\n",
       "      <th>1</th>\n",
       "      <td>1</td>\n",
       "      <td>Nobel Textile Co</td>\n",
       "      <td>Nobel Textile Co, 719 E 9th St, Los Angeles, C...</td>\n",
       "      <td>0x80c2c632f933b073:0xc31785961fe826a6</td>\n",
       "      <td>None</td>\n",
       "      <td>34.036694</td>\n",
       "      <td>-118.249421</td>\n",
       "      <td>[Fabric store]</td>\n",
       "      <td>4.3</td>\n",
       "      <td>7</td>\n",
       "      <td>None</td>\n",
       "      <td>[[Thursday, 9AM–5PM], [Friday, 9AM–5PM], [Satu...</td>\n",
       "      <td>{'Accessibility': None, 'Activities': None, 'A...</td>\n",
       "      <td>Open ⋅ Closes 5PM</td>\n",
       "      <td>[0x80c2c62c496083d1:0xdefa11317fe870a1, 0x80c2...</td>\n",
       "      <td>https://www.google.com/maps/place//data=!4m2!3...</td>\n",
       "    </tr>\n",
       "    <tr>\n",
       "      <th>2</th>\n",
       "      <td>2</td>\n",
       "      <td>Matrix International Textiles</td>\n",
       "      <td>Matrix International Textiles, 1363 S Bonnie B...</td>\n",
       "      <td>0x80c2cf163db6bc89:0x219484e2edbcfa41</td>\n",
       "      <td>None</td>\n",
       "      <td>34.015505</td>\n",
       "      <td>-118.181839</td>\n",
       "      <td>[Fabric store]</td>\n",
       "      <td>3.5</td>\n",
       "      <td>6</td>\n",
       "      <td>None</td>\n",
       "      <td>[[Thursday, 8:30AM–5:30PM], [Friday, 8:30AM–5:...</td>\n",
       "      <td>{'Accessibility': ['Wheelchair accessible entr...</td>\n",
       "      <td>Open ⋅ Closes 5:30PM</td>\n",
       "      <td>[0x80c2cf042a5d9561:0xd0024ad6f81f1335, 0x80c2...</td>\n",
       "      <td>https://www.google.com/maps/place//data=!4m2!3...</td>\n",
       "    </tr>\n",
       "    <tr>\n",
       "      <th>3</th>\n",
       "      <td>3</td>\n",
       "      <td>Vons Chicken</td>\n",
       "      <td>Vons Chicken, 12740 La Mirada Blvd, La Mirada,...</td>\n",
       "      <td>0x80dd2b4c8555edb7:0xfc33d65c4bdbef42</td>\n",
       "      <td>None</td>\n",
       "      <td>33.916402</td>\n",
       "      <td>-118.010855</td>\n",
       "      <td>[Restaurant]</td>\n",
       "      <td>4.5</td>\n",
       "      <td>18</td>\n",
       "      <td>None</td>\n",
       "      <td>[[Thursday, 11AM–9:30PM], [Friday, 11AM–9:30PM...</td>\n",
       "      <td>{'Accessibility': ['Wheelchair accessible entr...</td>\n",
       "      <td>Open ⋅ Closes 9:30PM</td>\n",
       "      <td>None</td>\n",
       "      <td>https://www.google.com/maps/place//data=!4m2!3...</td>\n",
       "    </tr>\n",
       "    <tr>\n",
       "      <th>4</th>\n",
       "      <td>4</td>\n",
       "      <td>Black Tie Ski Rental Delivery of Mammoth</td>\n",
       "      <td>Black Tie Ski Rental Delivery of Mammoth, 501 ...</td>\n",
       "      <td>0x80960c29f2e3bf29:0x4b291f0d275a5699</td>\n",
       "      <td>None</td>\n",
       "      <td>37.638754</td>\n",
       "      <td>-118.966055</td>\n",
       "      <td>[Ski rental service, Snowboard rental service]</td>\n",
       "      <td>5.0</td>\n",
       "      <td>34</td>\n",
       "      <td>None</td>\n",
       "      <td>[[Thursday, 8AM–5PM], [Friday, 8AM–5PM], [Satu...</td>\n",
       "      <td>{'Accessibility': ['Wheelchair accessible entr...</td>\n",
       "      <td>Open ⋅ Closes 5PM</td>\n",
       "      <td>[0x80960dcd6ba76731:0x9a6875ced2f9228e, 0x8096...</td>\n",
       "      <td>https://www.google.com/maps/place//data=!4m2!3...</td>\n",
       "    </tr>\n",
       "  </tbody>\n",
       "</table>\n",
       "</div>"
      ],
      "text/plain": [
       "   index                                      name  \\\n",
       "0      0                              San Soo Dang   \n",
       "1      1                          Nobel Textile Co   \n",
       "2      2             Matrix International Textiles   \n",
       "3      3                              Vons Chicken   \n",
       "4      4  Black Tie Ski Rental Delivery of Mammoth   \n",
       "\n",
       "                                             address  \\\n",
       "0  San Soo Dang, 761 S Vermont Ave, Los Angeles, ...   \n",
       "1  Nobel Textile Co, 719 E 9th St, Los Angeles, C...   \n",
       "2  Matrix International Textiles, 1363 S Bonnie B...   \n",
       "3  Vons Chicken, 12740 La Mirada Blvd, La Mirada,...   \n",
       "4  Black Tie Ski Rental Delivery of Mammoth, 501 ...   \n",
       "\n",
       "                                 gmap_id description   latitude   longitude  \\\n",
       "0  0x80c2c778e3b73d33:0xbdc58662a4a97d49        None  34.058092 -118.292130   \n",
       "1  0x80c2c632f933b073:0xc31785961fe826a6        None  34.036694 -118.249421   \n",
       "2  0x80c2cf163db6bc89:0x219484e2edbcfa41        None  34.015505 -118.181839   \n",
       "3  0x80dd2b4c8555edb7:0xfc33d65c4bdbef42        None  33.916402 -118.010855   \n",
       "4  0x80960c29f2e3bf29:0x4b291f0d275a5699        None  37.638754 -118.966055   \n",
       "\n",
       "                                         category  avg_rating  num_of_reviews  \\\n",
       "0                             [Korean restaurant]         4.4              18   \n",
       "1                                  [Fabric store]         4.3               7   \n",
       "2                                  [Fabric store]         3.5               6   \n",
       "3                                    [Restaurant]         4.5              18   \n",
       "4  [Ski rental service, Snowboard rental service]         5.0              34   \n",
       "\n",
       "  price                                              hours  \\\n",
       "0  None  [[Thursday, 6:30AM–6PM], [Friday, 6:30AM–6PM],...   \n",
       "1  None  [[Thursday, 9AM–5PM], [Friday, 9AM–5PM], [Satu...   \n",
       "2  None  [[Thursday, 8:30AM–5:30PM], [Friday, 8:30AM–5:...   \n",
       "3  None  [[Thursday, 11AM–9:30PM], [Friday, 11AM–9:30PM...   \n",
       "4  None  [[Thursday, 8AM–5PM], [Friday, 8AM–5PM], [Satu...   \n",
       "\n",
       "                                                MISC                 state  \\\n",
       "0  {'Accessibility': ['Wheelchair accessible entr...     Open ⋅ Closes 6PM   \n",
       "1  {'Accessibility': None, 'Activities': None, 'A...     Open ⋅ Closes 5PM   \n",
       "2  {'Accessibility': ['Wheelchair accessible entr...  Open ⋅ Closes 5:30PM   \n",
       "3  {'Accessibility': ['Wheelchair accessible entr...  Open ⋅ Closes 9:30PM   \n",
       "4  {'Accessibility': ['Wheelchair accessible entr...     Open ⋅ Closes 5PM   \n",
       "\n",
       "                                    relative_results  \\\n",
       "0  [0x80c2c78249aba68f:0x35bf16ce61be751d, 0x80c2...   \n",
       "1  [0x80c2c62c496083d1:0xdefa11317fe870a1, 0x80c2...   \n",
       "2  [0x80c2cf042a5d9561:0xd0024ad6f81f1335, 0x80c2...   \n",
       "3                                               None   \n",
       "4  [0x80960dcd6ba76731:0x9a6875ced2f9228e, 0x8096...   \n",
       "\n",
       "                                                 url  \n",
       "0  https://www.google.com/maps/place//data=!4m2!3...  \n",
       "1  https://www.google.com/maps/place//data=!4m2!3...  \n",
       "2  https://www.google.com/maps/place//data=!4m2!3...  \n",
       "3  https://www.google.com/maps/place//data=!4m2!3...  \n",
       "4  https://www.google.com/maps/place//data=!4m2!3...  "
      ]
     },
     "execution_count": 5,
     "metadata": {},
     "output_type": "execute_result"
    }
   ],
   "source": [
    "# Se carga el archivo co:\n",
    "metadata_california = pd.read_parquet(\"Datasets/metadata_california.parquet\")\n",
    "metadata_california.head()"
   ]
  },
  {
   "cell_type": "code",
   "execution_count": 6,
   "metadata": {},
   "outputs": [
    {
     "name": "stdout",
     "output_type": "stream",
     "text": [
      "<class 'pandas.core.frame.DataFrame'>\n",
      "RangeIndex: 73405 entries, 0 to 73404\n",
      "Data columns (total 16 columns):\n",
      " #   Column            Non-Null Count  Dtype  \n",
      "---  ------            --------------  -----  \n",
      " 0   index             73405 non-null  int64  \n",
      " 1   name              73403 non-null  object \n",
      " 2   address           72978 non-null  object \n",
      " 3   gmap_id           73405 non-null  object \n",
      " 4   description       11072 non-null  object \n",
      " 5   latitude          73405 non-null  float64\n",
      " 6   longitude         73405 non-null  float64\n",
      " 7   category          73334 non-null  object \n",
      " 8   avg_rating        73405 non-null  float64\n",
      " 9   num_of_reviews    73405 non-null  int64  \n",
      " 10  price             10853 non-null  object \n",
      " 11  hours             63907 non-null  object \n",
      " 12  MISC              66572 non-null  object \n",
      " 13  state             64610 non-null  object \n",
      " 14  relative_results  69916 non-null  object \n",
      " 15  url               73405 non-null  object \n",
      "dtypes: float64(3), int64(2), object(11)\n",
      "memory usage: 9.0+ MB\n"
     ]
    }
   ],
   "source": [
    "# Se controla la información general del dataset:\n",
    "metadata_california.info()"
   ]
  },
  {
   "cell_type": "code",
   "execution_count": 15,
   "metadata": {},
   "outputs": [],
   "source": [
    "# Se resetea el indice:\n",
    "metadata_california = metadata_california.reset_index()"
   ]
  },
  {
   "cell_type": "code",
   "execution_count": 10,
   "metadata": {},
   "outputs": [
    {
     "data": {
      "text/plain": [
       "0"
      ]
     },
     "execution_count": 10,
     "metadata": {},
     "output_type": "execute_result"
    }
   ],
   "source": [
    "# Se controlan valores nulos en gmap_id:\n",
    "metadata_california[\"gmap_id\"].isnull().sum()"
   ]
  },
  {
   "cell_type": "code",
   "execution_count": 7,
   "metadata": {},
   "outputs": [
    {
     "data": {
      "text/plain": [
       "0"
      ]
     },
     "execution_count": 7,
     "metadata": {},
     "output_type": "execute_result"
    }
   ],
   "source": [
    "# Se controlan valores duplicados en gmap_id:\n",
    "metadata_california[\"gmap_id\"].duplicated().sum()"
   ]
  },
  {
   "cell_type": "code",
   "execution_count": 12,
   "metadata": {},
   "outputs": [
    {
     "name": "stdout",
     "output_type": "stream",
     "text": [
      "<class 'pandas.core.frame.DataFrame'>\n",
      "RangeIndex: 73405 entries, 0 to 73404\n",
      "Data columns (total 16 columns):\n",
      " #   Column            Non-Null Count  Dtype  \n",
      "---  ------            --------------  -----  \n",
      " 0   index             73405 non-null  int64  \n",
      " 1   name              73403 non-null  object \n",
      " 2   address           72978 non-null  object \n",
      " 3   gmap_id           73405 non-null  object \n",
      " 4   description       11072 non-null  object \n",
      " 5   latitude          73405 non-null  float64\n",
      " 6   longitude         73405 non-null  float64\n",
      " 7   category          73334 non-null  object \n",
      " 8   avg_rating        73405 non-null  float64\n",
      " 9   num_of_reviews    73405 non-null  int64  \n",
      " 10  price             10853 non-null  object \n",
      " 11  hours             63907 non-null  object \n",
      " 12  MISC              66572 non-null  object \n",
      " 13  state             64610 non-null  object \n",
      " 14  relative_results  69916 non-null  object \n",
      " 15  url               73405 non-null  object \n",
      "dtypes: float64(3), int64(2), object(11)\n",
      "memory usage: 9.0+ MB\n"
     ]
    }
   ],
   "source": [
    "# Se eliminan valores duplicados de gmap_id:\n",
    "metadata_california = metadata_california.drop_duplicates(subset=\"gmap_id\").reset_index()\n",
    "metadata_california.info()"
   ]
  },
  {
   "cell_type": "code",
   "execution_count": 13,
   "metadata": {},
   "outputs": [],
   "source": [
    "# Exportamos la metadata de los locales de california en formato parquet:\n",
    "metadata_california.to_parquet('metadata_california.parquet', engine=\"pyarrow\")"
   ]
  },
  {
   "cell_type": "code",
   "execution_count": 13,
   "metadata": {},
   "outputs": [
    {
     "name": "stdout",
     "output_type": "stream",
     "text": [
      "<class 'pandas.core.frame.DataFrame'>\n",
      "RangeIndex: 73405 entries, 0 to 73404\n",
      "Data columns (total 16 columns):\n",
      " #   Column            Non-Null Count  Dtype  \n",
      "---  ------            --------------  -----  \n",
      " 0   index             73405 non-null  int64  \n",
      " 1   name              73403 non-null  object \n",
      " 2   address           72978 non-null  object \n",
      " 3   gmap_id           73405 non-null  object \n",
      " 4   description       11072 non-null  object \n",
      " 5   latitude          73405 non-null  float64\n",
      " 6   longitude         73405 non-null  float64\n",
      " 7   category          73334 non-null  object \n",
      " 8   avg_rating        73405 non-null  float64\n",
      " 9   num_of_reviews    73405 non-null  int64  \n",
      " 10  price             10853 non-null  object \n",
      " 11  hours             63907 non-null  object \n",
      " 12  MISC              66572 non-null  object \n",
      " 13  state             64610 non-null  object \n",
      " 14  relative_results  69916 non-null  object \n",
      " 15  url               73405 non-null  object \n",
      "dtypes: float64(3), int64(2), object(11)\n",
      "memory usage: 9.0+ MB\n"
     ]
    }
   ],
   "source": [
    "metadata_california.info()"
   ]
  },
  {
   "cell_type": "markdown",
   "metadata": {},
   "source": [
    "Una vez tenemos toda la data correspondiente a los locales de California, filtramos aquellos que entran en la categoría de restaurant:"
   ]
  },
  {
   "cell_type": "code",
   "execution_count": 14,
   "metadata": {},
   "outputs": [
    {
     "data": {
      "text/plain": [
       "array(['Korean restaurant', 'Fabric store', 'Restaurant', ...,\n",
       "       'Angler fish restaurant', 'Contemporary Louisiana restaurant',\n",
       "       'Office of Vital Records'], dtype=object)"
      ]
     },
     "execution_count": 14,
     "metadata": {},
     "output_type": "execute_result"
    }
   ],
   "source": [
    "# Observamos el total de categorias comprendidas en los locales\n",
    "categorias = metadata_california[\"category\"].explode().unique()\n",
    "categorias"
   ]
  },
  {
   "cell_type": "markdown",
   "metadata": {},
   "source": [
    "Analizamos el total de categorías:"
   ]
  },
  {
   "cell_type": "code",
   "execution_count": 15,
   "metadata": {},
   "outputs": [
    {
     "data": {
      "text/plain": [
       "3045"
      ]
     },
     "execution_count": 15,
     "metadata": {},
     "output_type": "execute_result"
    }
   ],
   "source": [
    "len(categorias)"
   ]
  },
  {
   "cell_type": "markdown",
   "metadata": {},
   "source": [
    "Existen 3045 categorías, de las cuales sólo nos interesa aquellos que contienen la palabra \"restaurant\", por lo que se buscaran filtrar las mismas:"
   ]
  },
  {
   "cell_type": "code",
   "execution_count": 23,
   "metadata": {},
   "outputs": [
    {
     "name": "stdout",
     "output_type": "stream",
     "text": [
      "<class 'pandas.core.frame.DataFrame'>\n",
      "RangeIndex: 168602 entries, 0 to 168601\n",
      "Data columns (total 17 columns):\n",
      " #   Column            Non-Null Count   Dtype  \n",
      "---  ------            --------------   -----  \n",
      " 0   level_0           168602 non-null  int64  \n",
      " 1   index             168602 non-null  int64  \n",
      " 2   name              168600 non-null  object \n",
      " 3   address           167309 non-null  object \n",
      " 4   gmap_id           168602 non-null  object \n",
      " 5   description       37577 non-null   object \n",
      " 6   latitude          168602 non-null  float64\n",
      " 7   longitude         168602 non-null  float64\n",
      " 8   category          168531 non-null  object \n",
      " 9   avg_rating        168602 non-null  float64\n",
      " 10  num_of_reviews    168602 non-null  int64  \n",
      " 11  price             35420 non-null   object \n",
      " 12  hours             154022 non-null  object \n",
      " 13  MISC              156673 non-null  object \n",
      " 14  state             155036 non-null  object \n",
      " 15  relative_results  161930 non-null  object \n",
      " 16  url               168602 non-null  object \n",
      "dtypes: float64(3), int64(3), object(11)\n",
      "memory usage: 21.9+ MB\n"
     ]
    }
   ],
   "source": [
    "# Se abre el dataframe en las diferentes categorías\n",
    "apertura_cat = metadata_california.explode(\"category\")\n",
    "apertura_cat = apertura_cat.reset_index()\n",
    "apertura_cat.info()"
   ]
  },
  {
   "cell_type": "code",
   "execution_count": 25,
   "metadata": {},
   "outputs": [
    {
     "data": {
      "text/plain": [
       "0"
      ]
     },
     "execution_count": 25,
     "metadata": {},
     "output_type": "execute_result"
    }
   ],
   "source": [
    "# Se eliminan los valores nulos en la columna \"category\"\n",
    "apertura_cat = apertura_cat.dropna(subset=\"category\")\n",
    "apertura_cat[\"category\"].isnull().sum()"
   ]
  },
  {
   "cell_type": "code",
   "execution_count": 26,
   "metadata": {},
   "outputs": [
    {
     "data": {
      "text/html": [
       "<div>\n",
       "<style scoped>\n",
       "    .dataframe tbody tr th:only-of-type {\n",
       "        vertical-align: middle;\n",
       "    }\n",
       "\n",
       "    .dataframe tbody tr th {\n",
       "        vertical-align: top;\n",
       "    }\n",
       "\n",
       "    .dataframe thead th {\n",
       "        text-align: right;\n",
       "    }\n",
       "</style>\n",
       "<table border=\"1\" class=\"dataframe\">\n",
       "  <thead>\n",
       "    <tr style=\"text-align: right;\">\n",
       "      <th></th>\n",
       "      <th>level_0</th>\n",
       "      <th>index</th>\n",
       "      <th>name</th>\n",
       "      <th>address</th>\n",
       "      <th>gmap_id</th>\n",
       "      <th>description</th>\n",
       "      <th>latitude</th>\n",
       "      <th>longitude</th>\n",
       "      <th>category</th>\n",
       "      <th>avg_rating</th>\n",
       "      <th>num_of_reviews</th>\n",
       "      <th>price</th>\n",
       "      <th>hours</th>\n",
       "      <th>MISC</th>\n",
       "      <th>state</th>\n",
       "      <th>relative_results</th>\n",
       "      <th>url</th>\n",
       "    </tr>\n",
       "  </thead>\n",
       "  <tbody>\n",
       "    <tr>\n",
       "      <th>0</th>\n",
       "      <td>0</td>\n",
       "      <td>0</td>\n",
       "      <td>San Soo Dang</td>\n",
       "      <td>San Soo Dang, 761 S Vermont Ave, Los Angeles, ...</td>\n",
       "      <td>0x80c2c778e3b73d33:0xbdc58662a4a97d49</td>\n",
       "      <td>None</td>\n",
       "      <td>34.058092</td>\n",
       "      <td>-118.292130</td>\n",
       "      <td>Korean restaurant</td>\n",
       "      <td>4.4</td>\n",
       "      <td>18</td>\n",
       "      <td>None</td>\n",
       "      <td>[[Thursday, 6:30AM–6PM], [Friday, 6:30AM–6PM],...</td>\n",
       "      <td>{'Accessibility': ['Wheelchair accessible entr...</td>\n",
       "      <td>Open ⋅ Closes 6PM</td>\n",
       "      <td>[0x80c2c78249aba68f:0x35bf16ce61be751d, 0x80c2...</td>\n",
       "      <td>https://www.google.com/maps/place//data=!4m2!3...</td>\n",
       "    </tr>\n",
       "    <tr>\n",
       "      <th>3</th>\n",
       "      <td>3</td>\n",
       "      <td>3</td>\n",
       "      <td>Vons Chicken</td>\n",
       "      <td>Vons Chicken, 12740 La Mirada Blvd, La Mirada,...</td>\n",
       "      <td>0x80dd2b4c8555edb7:0xfc33d65c4bdbef42</td>\n",
       "      <td>None</td>\n",
       "      <td>33.916402</td>\n",
       "      <td>-118.010855</td>\n",
       "      <td>Restaurant</td>\n",
       "      <td>4.5</td>\n",
       "      <td>18</td>\n",
       "      <td>None</td>\n",
       "      <td>[[Thursday, 11AM–9:30PM], [Friday, 11AM–9:30PM...</td>\n",
       "      <td>{'Accessibility': ['Wheelchair accessible entr...</td>\n",
       "      <td>Open ⋅ Closes 9:30PM</td>\n",
       "      <td>None</td>\n",
       "      <td>https://www.google.com/maps/place//data=!4m2!3...</td>\n",
       "    </tr>\n",
       "    <tr>\n",
       "      <th>107</th>\n",
       "      <td>52</td>\n",
       "      <td>52</td>\n",
       "      <td>La Potranca</td>\n",
       "      <td>La Potranca, 12821 Venice Blvd., Los Angeles, ...</td>\n",
       "      <td>0x80c2baf50d29bf63:0x5bd904b842b9fcc</td>\n",
       "      <td>None</td>\n",
       "      <td>34.000181</td>\n",
       "      <td>-118.441249</td>\n",
       "      <td>Restaurant</td>\n",
       "      <td>4.2</td>\n",
       "      <td>13</td>\n",
       "      <td>None</td>\n",
       "      <td>[[Thursday, 10AM–2AM], [Friday, 10AM–2AM], [Sa...</td>\n",
       "      <td>{'Accessibility': None, 'Activities': None, 'A...</td>\n",
       "      <td>Closed ⋅ Opens 10AM</td>\n",
       "      <td>[0x80c2bac345536273:0x8b015c3512788465, 0x80c2...</td>\n",
       "      <td>https://www.google.com/maps/place//data=!4m2!3...</td>\n",
       "    </tr>\n",
       "    <tr>\n",
       "      <th>174</th>\n",
       "      <td>81</td>\n",
       "      <td>81</td>\n",
       "      <td>Cowboy Burgers &amp; BBQ</td>\n",
       "      <td>Cowboy Burgers &amp; BBQ, 13101 Ramona Blvd, Baldw...</td>\n",
       "      <td>0x80c2d765f8c90a3d:0x16afb75943e7ad50</td>\n",
       "      <td>American grub such as BBQ ribs, hamburgers, sa...</td>\n",
       "      <td>34.079995</td>\n",
       "      <td>-117.988951</td>\n",
       "      <td>Hamburger restaurant</td>\n",
       "      <td>3.7</td>\n",
       "      <td>38</td>\n",
       "      <td>None</td>\n",
       "      <td>[[Thursday, 6AM–9PM], [Friday, 6AM–9PM], [Satu...</td>\n",
       "      <td>{'Accessibility': ['Wheelchair accessible entr...</td>\n",
       "      <td>Closed ⋅ Opens 6AM</td>\n",
       "      <td>[0x80c2d765f8dd4ebf:0xb6baf31e3e536ffa, 0x80c2...</td>\n",
       "      <td>https://www.google.com/maps/place//data=!4m2!3...</td>\n",
       "    </tr>\n",
       "    <tr>\n",
       "      <th>175</th>\n",
       "      <td>81</td>\n",
       "      <td>81</td>\n",
       "      <td>Cowboy Burgers &amp; BBQ</td>\n",
       "      <td>Cowboy Burgers &amp; BBQ, 13101 Ramona Blvd, Baldw...</td>\n",
       "      <td>0x80c2d765f8c90a3d:0x16afb75943e7ad50</td>\n",
       "      <td>American grub such as BBQ ribs, hamburgers, sa...</td>\n",
       "      <td>34.079995</td>\n",
       "      <td>-117.988951</td>\n",
       "      <td>American restaurant</td>\n",
       "      <td>3.7</td>\n",
       "      <td>38</td>\n",
       "      <td>None</td>\n",
       "      <td>[[Thursday, 6AM–9PM], [Friday, 6AM–9PM], [Satu...</td>\n",
       "      <td>{'Accessibility': ['Wheelchair accessible entr...</td>\n",
       "      <td>Closed ⋅ Opens 6AM</td>\n",
       "      <td>[0x80c2d765f8dd4ebf:0xb6baf31e3e536ffa, 0x80c2...</td>\n",
       "      <td>https://www.google.com/maps/place//data=!4m2!3...</td>\n",
       "    </tr>\n",
       "  </tbody>\n",
       "</table>\n",
       "</div>"
      ],
      "text/plain": [
       "     level_0  index                  name  \\\n",
       "0          0      0          San Soo Dang   \n",
       "3          3      3          Vons Chicken   \n",
       "107       52     52           La Potranca   \n",
       "174       81     81  Cowboy Burgers & BBQ   \n",
       "175       81     81  Cowboy Burgers & BBQ   \n",
       "\n",
       "                                               address  \\\n",
       "0    San Soo Dang, 761 S Vermont Ave, Los Angeles, ...   \n",
       "3    Vons Chicken, 12740 La Mirada Blvd, La Mirada,...   \n",
       "107  La Potranca, 12821 Venice Blvd., Los Angeles, ...   \n",
       "174  Cowboy Burgers & BBQ, 13101 Ramona Blvd, Baldw...   \n",
       "175  Cowboy Burgers & BBQ, 13101 Ramona Blvd, Baldw...   \n",
       "\n",
       "                                   gmap_id  \\\n",
       "0    0x80c2c778e3b73d33:0xbdc58662a4a97d49   \n",
       "3    0x80dd2b4c8555edb7:0xfc33d65c4bdbef42   \n",
       "107   0x80c2baf50d29bf63:0x5bd904b842b9fcc   \n",
       "174  0x80c2d765f8c90a3d:0x16afb75943e7ad50   \n",
       "175  0x80c2d765f8c90a3d:0x16afb75943e7ad50   \n",
       "\n",
       "                                           description   latitude   longitude  \\\n",
       "0                                                 None  34.058092 -118.292130   \n",
       "3                                                 None  33.916402 -118.010855   \n",
       "107                                               None  34.000181 -118.441249   \n",
       "174  American grub such as BBQ ribs, hamburgers, sa...  34.079995 -117.988951   \n",
       "175  American grub such as BBQ ribs, hamburgers, sa...  34.079995 -117.988951   \n",
       "\n",
       "                 category  avg_rating  num_of_reviews price  \\\n",
       "0       Korean restaurant         4.4              18  None   \n",
       "3              Restaurant         4.5              18  None   \n",
       "107            Restaurant         4.2              13  None   \n",
       "174  Hamburger restaurant         3.7              38  None   \n",
       "175   American restaurant         3.7              38  None   \n",
       "\n",
       "                                                 hours  \\\n",
       "0    [[Thursday, 6:30AM–6PM], [Friday, 6:30AM–6PM],...   \n",
       "3    [[Thursday, 11AM–9:30PM], [Friday, 11AM–9:30PM...   \n",
       "107  [[Thursday, 10AM–2AM], [Friday, 10AM–2AM], [Sa...   \n",
       "174  [[Thursday, 6AM–9PM], [Friday, 6AM–9PM], [Satu...   \n",
       "175  [[Thursday, 6AM–9PM], [Friday, 6AM–9PM], [Satu...   \n",
       "\n",
       "                                                  MISC                 state  \\\n",
       "0    {'Accessibility': ['Wheelchair accessible entr...     Open ⋅ Closes 6PM   \n",
       "3    {'Accessibility': ['Wheelchair accessible entr...  Open ⋅ Closes 9:30PM   \n",
       "107  {'Accessibility': None, 'Activities': None, 'A...   Closed ⋅ Opens 10AM   \n",
       "174  {'Accessibility': ['Wheelchair accessible entr...    Closed ⋅ Opens 6AM   \n",
       "175  {'Accessibility': ['Wheelchair accessible entr...    Closed ⋅ Opens 6AM   \n",
       "\n",
       "                                      relative_results  \\\n",
       "0    [0x80c2c78249aba68f:0x35bf16ce61be751d, 0x80c2...   \n",
       "3                                                 None   \n",
       "107  [0x80c2bac345536273:0x8b015c3512788465, 0x80c2...   \n",
       "174  [0x80c2d765f8dd4ebf:0xb6baf31e3e536ffa, 0x80c2...   \n",
       "175  [0x80c2d765f8dd4ebf:0xb6baf31e3e536ffa, 0x80c2...   \n",
       "\n",
       "                                                   url  \n",
       "0    https://www.google.com/maps/place//data=!4m2!3...  \n",
       "3    https://www.google.com/maps/place//data=!4m2!3...  \n",
       "107  https://www.google.com/maps/place//data=!4m2!3...  \n",
       "174  https://www.google.com/maps/place//data=!4m2!3...  \n",
       "175  https://www.google.com/maps/place//data=!4m2!3...  "
      ]
     },
     "execution_count": 26,
     "metadata": {},
     "output_type": "execute_result"
    }
   ],
   "source": [
    "# Se determina la palabra clave a buscar:\n",
    "palabra_clave = \"restaurant\"\n",
    "\n",
    "# Se establece el fltro por palabra clave:\n",
    "filtro = apertura_cat[\"category\"].str.contains(palabra_clave, case=False)\n",
    "\n",
    "# Se crea el dataframe que incluye info únicamente de restaurantes:\n",
    "restaurantes = apertura_cat[filtro]\n",
    "restaurantes.head()"
   ]
  },
  {
   "cell_type": "code",
   "execution_count": 30,
   "metadata": {},
   "outputs": [
    {
     "name": "stdout",
     "output_type": "stream",
     "text": [
      "<class 'pandas.core.frame.DataFrame'>\n",
      "RangeIndex: 16285 entries, 0 to 16284\n",
      "Data columns (total 16 columns):\n",
      " #   Column            Non-Null Count  Dtype  \n",
      "---  ------            --------------  -----  \n",
      " 0   index             16285 non-null  int64  \n",
      " 1   name              16285 non-null  object \n",
      " 2   address           16275 non-null  object \n",
      " 3   gmap_id           16285 non-null  object \n",
      " 4   description       8471 non-null   object \n",
      " 5   latitude          16285 non-null  float64\n",
      " 6   longitude         16285 non-null  float64\n",
      " 7   category          16285 non-null  object \n",
      " 8   avg_rating        16285 non-null  float64\n",
      " 9   num_of_reviews    16285 non-null  int64  \n",
      " 10  price             10392 non-null  object \n",
      " 11  hours             15374 non-null  object \n",
      " 12  MISC              16239 non-null  object \n",
      " 13  state             15395 non-null  object \n",
      " 14  relative_results  14220 non-null  object \n",
      " 15  url               16285 non-null  object \n",
      "dtypes: float64(3), int64(2), object(11)\n",
      "memory usage: 2.0+ MB\n"
     ]
    }
   ],
   "source": [
    "# Se chequea info general del dataframe:\n",
    "restaurantes.info()"
   ]
  },
  {
   "cell_type": "code",
   "execution_count": 29,
   "metadata": {},
   "outputs": [],
   "source": [
    "# Se resetean el indice y eliminan columnas innecesarias:\n",
    "restaurantes = restaurantes.drop(columns=[\"level_0\", \"index\"])\n",
    "restaurantes = restaurantes.reset_index()"
   ]
  },
  {
   "cell_type": "markdown",
   "metadata": {},
   "source": [
    "Luego se observan la cantidad de restaurantes por categoría:"
   ]
  },
  {
   "cell_type": "code",
   "execution_count": 31,
   "metadata": {},
   "outputs": [
    {
     "data": {
      "text/plain": [
       "category\n",
       "Restaurant                           3769\n",
       "Mexican restaurant                   1259\n",
       "Fast food restaurant                 1146\n",
       "Takeout Restaurant                    851\n",
       "Pizza restaurant                      703\n",
       "                                     ... \n",
       "Chophouse restaurant                    1\n",
       "Czech restaurant                        1\n",
       "Venezuelan restaurant                   1\n",
       "Yucatan restaurant                      1\n",
       "Contemporary Louisiana restaurant       1\n",
       "Name: count, Length: 203, dtype: int64"
      ]
     },
     "execution_count": 31,
     "metadata": {},
     "output_type": "execute_result"
    }
   ],
   "source": [
    "restaurantes[\"category\"].value_counts()"
   ]
  },
  {
   "cell_type": "markdown",
   "metadata": {},
   "source": [
    "Observamos la totalidad de tipologías de restaurant existentes:"
   ]
  },
  {
   "cell_type": "code",
   "execution_count": 34,
   "metadata": {},
   "outputs": [
    {
     "data": {
      "text/plain": [
       "array(['Afghani restaurant', 'African restaurant', 'American restaurant',\n",
       "       'Angler fish restaurant', 'Argentinian restaurant',\n",
       "       'Armenian restaurant', 'Asian fusion restaurant',\n",
       "       'Asian restaurant', 'Australian restaurant', 'Austrian restaurant',\n",
       "       'Authentic Japanese restaurant', 'Bangladeshi restaurant',\n",
       "       'Bar restaurant furniture store', 'Barbecue restaurant',\n",
       "       'Basque restaurant', 'Belgian restaurant', 'Biryani restaurant',\n",
       "       'Brazilian restaurant', 'Breakfast restaurant',\n",
       "       'British restaurant', 'Brunch restaurant', 'Buffet restaurant',\n",
       "       'Burmese restaurant', 'Burrito restaurant', 'Cajun restaurant',\n",
       "       'Californian restaurant', 'Cambodian restaurant',\n",
       "       'Cantonese restaurant', 'Caribbean restaurant',\n",
       "       'Central American restaurant', 'Cheesesteak restaurant',\n",
       "       'Chicken restaurant', 'Chicken wings restaurant',\n",
       "       'Chilean restaurant', 'Chinese noodle restaurant',\n",
       "       'Chinese restaurant', 'Chophouse restaurant',\n",
       "       'Cold noodle restaurant', 'Colombian restaurant',\n",
       "       'Contemporary Louisiana restaurant', 'Continental restaurant',\n",
       "       'Conveyor belt sushi restaurant', 'Country food restaurant',\n",
       "       'Creole restaurant', 'Cuban restaurant', 'Czech restaurant',\n",
       "       'Dance restaurant', 'Delivery Chinese restaurant',\n",
       "       'Delivery Restaurant', 'Dessert restaurant', 'Dim sum restaurant',\n",
       "       'Down home cooking restaurant', 'Dumpling restaurant',\n",
       "       'East African restaurant', 'Eastern European restaurant',\n",
       "       'Eclectic restaurant', 'Ecuadorian restaurant',\n",
       "       'Egyptian restaurant', 'English restaurant',\n",
       "       'Ethiopian restaurant', 'Ethnic restaurant', 'European restaurant',\n",
       "       'Falafel restaurant', 'Family restaurant', 'Fast food restaurant',\n",
       "       'Filipino restaurant', 'Fine dining restaurant',\n",
       "       'Fish & chips restaurant', 'Fish and seafood restaurant',\n",
       "       'Fondue restaurant', 'French restaurant',\n",
       "       'French steakhouse restaurant', 'Fusion restaurant',\n",
       "       'German restaurant', 'Gluten-free restaurant', 'Greek restaurant',\n",
       "       'Guatemalan restaurant', 'Gyro restaurant', 'Halal restaurant',\n",
       "       'Hamburger restaurant', 'Haute French restaurant',\n",
       "       'Hawaiian restaurant', 'Health food restaurant',\n",
       "       'Hoagie restaurant', 'Honduran restaurant',\n",
       "       'Hong Kong style fast food restaurant', 'Hot dog restaurant',\n",
       "       'Hot pot restaurant', 'Hunan restaurant', 'Hungarian restaurant',\n",
       "       'Indian Muslim restaurant', 'Indian restaurant',\n",
       "       'Indonesian restaurant', 'Irish restaurant', 'Israeli restaurant',\n",
       "       'Italian restaurant', 'Izakaya restaurant', 'Jamaican restaurant',\n",
       "       'Japanese curry restaurant', 'Japanese restaurant',\n",
       "       'Jewish restaurant', 'Korean barbecue restaurant',\n",
       "       'Korean beef restaurant', 'Korean restaurant',\n",
       "       'Korean rib restaurant', 'Kosher restaurant', 'Laotian restaurant',\n",
       "       'Latin American restaurant', 'Lebanese restaurant',\n",
       "       'Lunch restaurant', 'Malaysian restaurant', 'Mandarin restaurant',\n",
       "       'Mediterranean restaurant', 'Mexican restaurant',\n",
       "       'Mexican torta restaurant', 'Middle Eastern restaurant',\n",
       "       'Modern European restaurant', 'Modern French restaurant',\n",
       "       'Modern Indian restaurant', 'Modern izakaya restaurants',\n",
       "       'Mongolian barbecue restaurant', 'Moroccan restaurant',\n",
       "       'Neapolitan restaurant', 'Nepalese restaurant',\n",
       "       'New American restaurant', 'North Eastern Indian restaurant',\n",
       "       'Northern Italian restaurant', 'Nuevo Latino restaurant',\n",
       "       'Oaxacan restaurant', 'Organic restaurant',\n",
       "       'Oyster bar restaurant', 'Pacific Rim restaurant',\n",
       "       'Pakistani restaurant', 'Pan-Asian restaurant',\n",
       "       'Pan-Latin restaurant', 'Pancake restaurant', 'Persian restaurant',\n",
       "       'Peruvian restaurant', 'Pho restaurant', 'Pizza restaurant',\n",
       "       'Polynesian restaurant', 'Pozole restaurant',\n",
       "       'Po’ boys restaurant', 'Puerto Rican restaurant',\n",
       "       'Ramen restaurant', 'Raw food restaurant', 'Restaurant',\n",
       "       'Restaurant or cafe', 'Restaurant supply store', 'Rice restaurant',\n",
       "       'Russian restaurant', 'Salvadoran restaurant',\n",
       "       'Scandinavian restaurant', 'Seafood donburi restaurant',\n",
       "       'Seafood restaurant', 'Self service restaurant',\n",
       "       'Sfiha restaurant', 'Shabu-shabu restaurant',\n",
       "       'Shandong restaurant', 'Shanghainese restaurant',\n",
       "       'Sichuan restaurant', 'Sicilian restaurant',\n",
       "       'Small plates restaurant', 'Soul food restaurant',\n",
       "       'Soup restaurant', 'South African restaurant',\n",
       "       'South American restaurant', 'South Asian restaurant',\n",
       "       'South Indian restaurant', 'Southeast Asian restaurant',\n",
       "       'Southern Italian restaurant', 'Southern restaurant (US)',\n",
       "       'Southwestern restaurant (US)', 'Spanish restaurant',\n",
       "       'Sukiyaki and Shabu Shabu restaurant', 'Sundae restaurant',\n",
       "       'Sushi restaurant', 'Swiss restaurant', 'Syrian restaurant',\n",
       "       'Taco restaurant', 'Taiwanese restaurant', 'Takeout Restaurant',\n",
       "       'Takeout restaurant', 'Tapas restaurant', 'Teppanyaki restaurant',\n",
       "       'Tex-Mex restaurant', 'Thai restaurant', 'Tibetan restaurant',\n",
       "       'Tonkatsu restaurant', 'Traditional American restaurant',\n",
       "       'Traditional restaurant', 'Turkish restaurant',\n",
       "       'Udon noodle restaurant', 'Uzbeki restaurant', 'Vegan restaurant',\n",
       "       'Vegetarian restaurant', 'Venezuelan restaurant',\n",
       "       'Vietnamese restaurant', 'Western restaurant', 'Wok restaurant',\n",
       "       'Yakiniku restaurant', 'Yakitori restaurant', 'Yucatan restaurant'],\n",
       "      dtype=object)"
      ]
     },
     "execution_count": 34,
     "metadata": {},
     "output_type": "execute_result"
    }
   ],
   "source": [
    "categorias_restaurantes = restaurantes[\"category\"].unique()\n",
    "categorias_restaurantes.sort()\n",
    "categorias_restaurantes"
   ]
  },
  {
   "cell_type": "markdown",
   "metadata": {},
   "source": [
    "Por último, exportamos el total de restaurantes de California en formato parquet:"
   ]
  },
  {
   "cell_type": "code",
   "execution_count": 35,
   "metadata": {},
   "outputs": [],
   "source": [
    "# Se exporta el archivo completo en formato parquet:\n",
    "restaurantes.to_parquet('restaurantes_california.parquet', engine=\"pyarrow\")"
   ]
  },
  {
   "cell_type": "code",
   "execution_count": 37,
   "metadata": {},
   "outputs": [
    {
     "data": {
      "text/plain": [
       "1965"
      ]
     },
     "execution_count": 37,
     "metadata": {},
     "output_type": "execute_result"
    }
   ],
   "source": [
    "gc.collect()"
   ]
  },
  {
   "cell_type": "markdown",
   "metadata": {},
   "source": [
    "## Dataset final: Reviews de restaurantes en california"
   ]
  },
  {
   "cell_type": "code",
   "execution_count": 38,
   "metadata": {},
   "outputs": [
    {
     "name": "stdout",
     "output_type": "stream",
     "text": [
      "(1957104, 23)\n"
     ]
    },
    {
     "data": {
      "text/html": [
       "<div>\n",
       "<style scoped>\n",
       "    .dataframe tbody tr th:only-of-type {\n",
       "        vertical-align: middle;\n",
       "    }\n",
       "\n",
       "    .dataframe tbody tr th {\n",
       "        vertical-align: top;\n",
       "    }\n",
       "\n",
       "    .dataframe thead th {\n",
       "        text-align: right;\n",
       "    }\n",
       "</style>\n",
       "<table border=\"1\" class=\"dataframe\">\n",
       "  <thead>\n",
       "    <tr style=\"text-align: right;\">\n",
       "      <th></th>\n",
       "      <th>user_id</th>\n",
       "      <th>name_x</th>\n",
       "      <th>time</th>\n",
       "      <th>rating</th>\n",
       "      <th>text</th>\n",
       "      <th>pics</th>\n",
       "      <th>resp</th>\n",
       "      <th>gmap_id</th>\n",
       "      <th>index</th>\n",
       "      <th>name_y</th>\n",
       "      <th>...</th>\n",
       "      <th>longitude</th>\n",
       "      <th>category</th>\n",
       "      <th>avg_rating</th>\n",
       "      <th>num_of_reviews</th>\n",
       "      <th>price</th>\n",
       "      <th>hours</th>\n",
       "      <th>MISC</th>\n",
       "      <th>state</th>\n",
       "      <th>relative_results</th>\n",
       "      <th>url</th>\n",
       "    </tr>\n",
       "  </thead>\n",
       "  <tbody>\n",
       "    <tr>\n",
       "      <th>0</th>\n",
       "      <td>1.089912e+20</td>\n",
       "      <td>Song Ro</td>\n",
       "      <td>1609909927056</td>\n",
       "      <td>5</td>\n",
       "      <td>Love there korean rice cake.</td>\n",
       "      <td>None</td>\n",
       "      <td>None</td>\n",
       "      <td>0x80c2c778e3b73d33:0xbdc58662a4a97d49</td>\n",
       "      <td>0</td>\n",
       "      <td>San Soo Dang</td>\n",
       "      <td>...</td>\n",
       "      <td>-118.29213</td>\n",
       "      <td>Korean restaurant</td>\n",
       "      <td>4.4</td>\n",
       "      <td>18</td>\n",
       "      <td>None</td>\n",
       "      <td>[[Thursday, 6:30AM–6PM], [Friday, 6:30AM–6PM],...</td>\n",
       "      <td>{'Accessibility': ['Wheelchair accessible entr...</td>\n",
       "      <td>Open ⋅ Closes 6PM</td>\n",
       "      <td>[0x80c2c78249aba68f:0x35bf16ce61be751d, 0x80c2...</td>\n",
       "      <td>https://www.google.com/maps/place//data=!4m2!3...</td>\n",
       "    </tr>\n",
       "    <tr>\n",
       "      <th>1</th>\n",
       "      <td>1.112903e+20</td>\n",
       "      <td>Rafa Robles</td>\n",
       "      <td>1612849648663</td>\n",
       "      <td>5</td>\n",
       "      <td>Good very good</td>\n",
       "      <td>None</td>\n",
       "      <td>None</td>\n",
       "      <td>0x80c2c778e3b73d33:0xbdc58662a4a97d49</td>\n",
       "      <td>0</td>\n",
       "      <td>San Soo Dang</td>\n",
       "      <td>...</td>\n",
       "      <td>-118.29213</td>\n",
       "      <td>Korean restaurant</td>\n",
       "      <td>4.4</td>\n",
       "      <td>18</td>\n",
       "      <td>None</td>\n",
       "      <td>[[Thursday, 6:30AM–6PM], [Friday, 6:30AM–6PM],...</td>\n",
       "      <td>{'Accessibility': ['Wheelchair accessible entr...</td>\n",
       "      <td>Open ⋅ Closes 6PM</td>\n",
       "      <td>[0x80c2c78249aba68f:0x35bf16ce61be751d, 0x80c2...</td>\n",
       "      <td>https://www.google.com/maps/place//data=!4m2!3...</td>\n",
       "    </tr>\n",
       "    <tr>\n",
       "      <th>2</th>\n",
       "      <td>1.126404e+20</td>\n",
       "      <td>David Han</td>\n",
       "      <td>1583643882296</td>\n",
       "      <td>4</td>\n",
       "      <td>They make Korean traditional food very properly.</td>\n",
       "      <td>None</td>\n",
       "      <td>None</td>\n",
       "      <td>0x80c2c778e3b73d33:0xbdc58662a4a97d49</td>\n",
       "      <td>0</td>\n",
       "      <td>San Soo Dang</td>\n",
       "      <td>...</td>\n",
       "      <td>-118.29213</td>\n",
       "      <td>Korean restaurant</td>\n",
       "      <td>4.4</td>\n",
       "      <td>18</td>\n",
       "      <td>None</td>\n",
       "      <td>[[Thursday, 6:30AM–6PM], [Friday, 6:30AM–6PM],...</td>\n",
       "      <td>{'Accessibility': ['Wheelchair accessible entr...</td>\n",
       "      <td>Open ⋅ Closes 6PM</td>\n",
       "      <td>[0x80c2c78249aba68f:0x35bf16ce61be751d, 0x80c2...</td>\n",
       "      <td>https://www.google.com/maps/place//data=!4m2!3...</td>\n",
       "    </tr>\n",
       "    <tr>\n",
       "      <th>3</th>\n",
       "      <td>1.174403e+20</td>\n",
       "      <td>Anthony Kim</td>\n",
       "      <td>1551938216355</td>\n",
       "      <td>5</td>\n",
       "      <td>Short ribs are very delicious.</td>\n",
       "      <td>None</td>\n",
       "      <td>None</td>\n",
       "      <td>0x80c2c778e3b73d33:0xbdc58662a4a97d49</td>\n",
       "      <td>0</td>\n",
       "      <td>San Soo Dang</td>\n",
       "      <td>...</td>\n",
       "      <td>-118.29213</td>\n",
       "      <td>Korean restaurant</td>\n",
       "      <td>4.4</td>\n",
       "      <td>18</td>\n",
       "      <td>None</td>\n",
       "      <td>[[Thursday, 6:30AM–6PM], [Friday, 6:30AM–6PM],...</td>\n",
       "      <td>{'Accessibility': ['Wheelchair accessible entr...</td>\n",
       "      <td>Open ⋅ Closes 6PM</td>\n",
       "      <td>[0x80c2c78249aba68f:0x35bf16ce61be751d, 0x80c2...</td>\n",
       "      <td>https://www.google.com/maps/place//data=!4m2!3...</td>\n",
       "    </tr>\n",
       "    <tr>\n",
       "      <th>4</th>\n",
       "      <td>1.005808e+20</td>\n",
       "      <td>Mario Marzouk</td>\n",
       "      <td>1494910901933</td>\n",
       "      <td>5</td>\n",
       "      <td>Great food and prices the portions are large</td>\n",
       "      <td>None</td>\n",
       "      <td>None</td>\n",
       "      <td>0x80c2c778e3b73d33:0xbdc58662a4a97d49</td>\n",
       "      <td>0</td>\n",
       "      <td>San Soo Dang</td>\n",
       "      <td>...</td>\n",
       "      <td>-118.29213</td>\n",
       "      <td>Korean restaurant</td>\n",
       "      <td>4.4</td>\n",
       "      <td>18</td>\n",
       "      <td>None</td>\n",
       "      <td>[[Thursday, 6:30AM–6PM], [Friday, 6:30AM–6PM],...</td>\n",
       "      <td>{'Accessibility': ['Wheelchair accessible entr...</td>\n",
       "      <td>Open ⋅ Closes 6PM</td>\n",
       "      <td>[0x80c2c78249aba68f:0x35bf16ce61be751d, 0x80c2...</td>\n",
       "      <td>https://www.google.com/maps/place//data=!4m2!3...</td>\n",
       "    </tr>\n",
       "  </tbody>\n",
       "</table>\n",
       "<p>5 rows × 23 columns</p>\n",
       "</div>"
      ],
      "text/plain": [
       "        user_id         name_x           time  rating  \\\n",
       "0  1.089912e+20        Song Ro  1609909927056       5   \n",
       "1  1.112903e+20    Rafa Robles  1612849648663       5   \n",
       "2  1.126404e+20      David Han  1583643882296       4   \n",
       "3  1.174403e+20    Anthony Kim  1551938216355       5   \n",
       "4  1.005808e+20  Mario Marzouk  1494910901933       5   \n",
       "\n",
       "                                               text  pics  resp  \\\n",
       "0                      Love there korean rice cake.  None  None   \n",
       "1                                    Good very good  None  None   \n",
       "2  They make Korean traditional food very properly.  None  None   \n",
       "3                    Short ribs are very delicious.  None  None   \n",
       "4      Great food and prices the portions are large  None  None   \n",
       "\n",
       "                                 gmap_id  index        name_y  ...  longitude  \\\n",
       "0  0x80c2c778e3b73d33:0xbdc58662a4a97d49      0  San Soo Dang  ... -118.29213   \n",
       "1  0x80c2c778e3b73d33:0xbdc58662a4a97d49      0  San Soo Dang  ... -118.29213   \n",
       "2  0x80c2c778e3b73d33:0xbdc58662a4a97d49      0  San Soo Dang  ... -118.29213   \n",
       "3  0x80c2c778e3b73d33:0xbdc58662a4a97d49      0  San Soo Dang  ... -118.29213   \n",
       "4  0x80c2c778e3b73d33:0xbdc58662a4a97d49      0  San Soo Dang  ... -118.29213   \n",
       "\n",
       "            category  avg_rating  num_of_reviews price  \\\n",
       "0  Korean restaurant         4.4              18  None   \n",
       "1  Korean restaurant         4.4              18  None   \n",
       "2  Korean restaurant         4.4              18  None   \n",
       "3  Korean restaurant         4.4              18  None   \n",
       "4  Korean restaurant         4.4              18  None   \n",
       "\n",
       "                                               hours  \\\n",
       "0  [[Thursday, 6:30AM–6PM], [Friday, 6:30AM–6PM],...   \n",
       "1  [[Thursday, 6:30AM–6PM], [Friday, 6:30AM–6PM],...   \n",
       "2  [[Thursday, 6:30AM–6PM], [Friday, 6:30AM–6PM],...   \n",
       "3  [[Thursday, 6:30AM–6PM], [Friday, 6:30AM–6PM],...   \n",
       "4  [[Thursday, 6:30AM–6PM], [Friday, 6:30AM–6PM],...   \n",
       "\n",
       "                                                MISC              state  \\\n",
       "0  {'Accessibility': ['Wheelchair accessible entr...  Open ⋅ Closes 6PM   \n",
       "1  {'Accessibility': ['Wheelchair accessible entr...  Open ⋅ Closes 6PM   \n",
       "2  {'Accessibility': ['Wheelchair accessible entr...  Open ⋅ Closes 6PM   \n",
       "3  {'Accessibility': ['Wheelchair accessible entr...  Open ⋅ Closes 6PM   \n",
       "4  {'Accessibility': ['Wheelchair accessible entr...  Open ⋅ Closes 6PM   \n",
       "\n",
       "                                    relative_results  \\\n",
       "0  [0x80c2c78249aba68f:0x35bf16ce61be751d, 0x80c2...   \n",
       "1  [0x80c2c78249aba68f:0x35bf16ce61be751d, 0x80c2...   \n",
       "2  [0x80c2c78249aba68f:0x35bf16ce61be751d, 0x80c2...   \n",
       "3  [0x80c2c78249aba68f:0x35bf16ce61be751d, 0x80c2...   \n",
       "4  [0x80c2c78249aba68f:0x35bf16ce61be751d, 0x80c2...   \n",
       "\n",
       "                                                 url  \n",
       "0  https://www.google.com/maps/place//data=!4m2!3...  \n",
       "1  https://www.google.com/maps/place//data=!4m2!3...  \n",
       "2  https://www.google.com/maps/place//data=!4m2!3...  \n",
       "3  https://www.google.com/maps/place//data=!4m2!3...  \n",
       "4  https://www.google.com/maps/place//data=!4m2!3...  \n",
       "\n",
       "[5 rows x 23 columns]"
      ]
     },
     "execution_count": 38,
     "metadata": {},
     "output_type": "execute_result"
    }
   ],
   "source": [
    "# Se une el dataframe de reviews con el de los restaurantes de California\n",
    "reviews_completo = pd.merge(df_reviews, restaurantes, on=\"gmap_id\", how=\"inner\")\n",
    "print(reviews_completo.shape)\n",
    "reviews_completo.head()"
   ]
  },
  {
   "cell_type": "code",
   "execution_count": 39,
   "metadata": {},
   "outputs": [
    {
     "name": "stdout",
     "output_type": "stream",
     "text": [
      "<class 'pandas.core.frame.DataFrame'>\n",
      "RangeIndex: 1957104 entries, 0 to 1957103\n",
      "Data columns (total 23 columns):\n",
      " #   Column            Dtype  \n",
      "---  ------            -----  \n",
      " 0   user_id           float64\n",
      " 1   name_x            object \n",
      " 2   time              int64  \n",
      " 3   rating            int64  \n",
      " 4   text              object \n",
      " 5   pics              object \n",
      " 6   resp              object \n",
      " 7   gmap_id           object \n",
      " 8   index             int64  \n",
      " 9   name_y            object \n",
      " 10  address           object \n",
      " 11  description       object \n",
      " 12  latitude          float64\n",
      " 13  longitude         float64\n",
      " 14  category          object \n",
      " 15  avg_rating        float64\n",
      " 16  num_of_reviews    int64  \n",
      " 17  price             object \n",
      " 18  hours             object \n",
      " 19  MISC              object \n",
      " 20  state             object \n",
      " 21  relative_results  object \n",
      " 22  url               object \n",
      "dtypes: float64(4), int64(4), object(15)\n",
      "memory usage: 343.4+ MB\n"
     ]
    }
   ],
   "source": [
    "reviews_completo.info()"
   ]
  },
  {
   "cell_type": "code",
   "execution_count": 17,
   "metadata": {},
   "outputs": [],
   "source": [
    "# Se exporta el archivo completo en formato parquet:\n",
    "reviews_completo.to_parquet('reviews_california_completo.parquet', engine=\"pyarrow\")"
   ]
  },
  {
   "cell_type": "code",
   "execution_count": null,
   "metadata": {},
   "outputs": [],
   "source": []
  }
 ],
 "metadata": {
  "kernelspec": {
   "display_name": "Python 3",
   "language": "python",
   "name": "python3"
  },
  "language_info": {
   "codemirror_mode": {
    "name": "ipython",
    "version": 3
   },
   "file_extension": ".py",
   "mimetype": "text/x-python",
   "name": "python",
   "nbconvert_exporter": "python",
   "pygments_lexer": "ipython3",
   "version": "3.11.4"
  }
 },
 "nbformat": 4,
 "nbformat_minor": 2
}
