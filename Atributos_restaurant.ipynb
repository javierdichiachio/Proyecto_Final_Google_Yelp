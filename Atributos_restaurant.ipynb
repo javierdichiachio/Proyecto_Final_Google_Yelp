{
 "cells": [
  {
   "cell_type": "code",
   "execution_count": 1,
   "metadata": {},
   "outputs": [],
   "source": [
    "# Se importan las librerías necesarias:\n",
    "import pandas as pd"
   ]
  },
  {
   "cell_type": "markdown",
   "metadata": {},
   "source": [
    "## Atributos Yelp"
   ]
  },
  {
   "cell_type": "code",
   "execution_count": 2,
   "metadata": {},
   "outputs": [
    {
     "data": {
      "text/html": [
       "<div>\n",
       "<style scoped>\n",
       "    .dataframe tbody tr th:only-of-type {\n",
       "        vertical-align: middle;\n",
       "    }\n",
       "\n",
       "    .dataframe tbody tr th {\n",
       "        vertical-align: top;\n",
       "    }\n",
       "\n",
       "    .dataframe thead th {\n",
       "        text-align: right;\n",
       "    }\n",
       "</style>\n",
       "<table border=\"1\" class=\"dataframe\">\n",
       "  <thead>\n",
       "    <tr style=\"text-align: right;\">\n",
       "      <th></th>\n",
       "      <th>business_id</th>\n",
       "      <th>RestaurantsGoodForGroups</th>\n",
       "      <th>BusinessAcceptsCreditCards</th>\n",
       "      <th>WiFi</th>\n",
       "      <th>RestaurantsAttire</th>\n",
       "      <th>RestaurantsPriceRange2</th>\n",
       "      <th>RestaurantsTakeOut</th>\n",
       "      <th>GoodForKids</th>\n",
       "      <th>HasTV</th>\n",
       "      <th>RestaurantsReservations</th>\n",
       "      <th>...</th>\n",
       "      <th>GoodForDancing</th>\n",
       "      <th>CoatCheck</th>\n",
       "      <th>Music</th>\n",
       "      <th>BestNights</th>\n",
       "      <th>ByAppointmentOnly</th>\n",
       "      <th>AgesAllowed</th>\n",
       "      <th>BYOBCorkage</th>\n",
       "      <th>Open24Hours</th>\n",
       "      <th>DietaryRestrictions</th>\n",
       "      <th>RestaurantsCounterService</th>\n",
       "    </tr>\n",
       "  </thead>\n",
       "  <tbody>\n",
       "    <tr>\n",
       "      <th>0</th>\n",
       "      <td>VeFfrEZ4iWaecrQg6Eq4cg</td>\n",
       "      <td>True</td>\n",
       "      <td>True</td>\n",
       "      <td>u'no'</td>\n",
       "      <td>'casual'</td>\n",
       "      <td>1</td>\n",
       "      <td>True</td>\n",
       "      <td>True</td>\n",
       "      <td>True</td>\n",
       "      <td>True</td>\n",
       "      <td>...</td>\n",
       "      <td>None</td>\n",
       "      <td>None</td>\n",
       "      <td>None</td>\n",
       "      <td>None</td>\n",
       "      <td>None</td>\n",
       "      <td>None</td>\n",
       "      <td>None</td>\n",
       "      <td>None</td>\n",
       "      <td>None</td>\n",
       "      <td>None</td>\n",
       "    </tr>\n",
       "    <tr>\n",
       "      <th>1</th>\n",
       "      <td>UX3eq0WsVva-cqlVrzyzFg</td>\n",
       "      <td>True</td>\n",
       "      <td>True</td>\n",
       "      <td>u'no'</td>\n",
       "      <td>'casual'</td>\n",
       "      <td>2</td>\n",
       "      <td>True</td>\n",
       "      <td>True</td>\n",
       "      <td>True</td>\n",
       "      <td>True</td>\n",
       "      <td>...</td>\n",
       "      <td>False</td>\n",
       "      <td>False</td>\n",
       "      <td>{'dj': False, 'background_music': False, 'no_m...</td>\n",
       "      <td>{'monday': False, 'tuesday': False, 'friday': ...</td>\n",
       "      <td>None</td>\n",
       "      <td>None</td>\n",
       "      <td>None</td>\n",
       "      <td>None</td>\n",
       "      <td>None</td>\n",
       "      <td>None</td>\n",
       "    </tr>\n",
       "    <tr>\n",
       "      <th>2</th>\n",
       "      <td>YhQAQhG1IkXJH7oLZMbM9w</td>\n",
       "      <td>True</td>\n",
       "      <td>True</td>\n",
       "      <td>'no'</td>\n",
       "      <td>'casual'</td>\n",
       "      <td>2</td>\n",
       "      <td>True</td>\n",
       "      <td>True</td>\n",
       "      <td>True</td>\n",
       "      <td>False</td>\n",
       "      <td>...</td>\n",
       "      <td>None</td>\n",
       "      <td>None</td>\n",
       "      <td>None</td>\n",
       "      <td>None</td>\n",
       "      <td>None</td>\n",
       "      <td>None</td>\n",
       "      <td>None</td>\n",
       "      <td>None</td>\n",
       "      <td>None</td>\n",
       "      <td>None</td>\n",
       "    </tr>\n",
       "    <tr>\n",
       "      <th>3</th>\n",
       "      <td>RCguFZat10TcbDMeeeM3IQ</td>\n",
       "      <td>True</td>\n",
       "      <td>True</td>\n",
       "      <td>u'no'</td>\n",
       "      <td>'casual'</td>\n",
       "      <td>1</td>\n",
       "      <td>True</td>\n",
       "      <td>True</td>\n",
       "      <td>True</td>\n",
       "      <td>False</td>\n",
       "      <td>...</td>\n",
       "      <td>None</td>\n",
       "      <td>None</td>\n",
       "      <td>None</td>\n",
       "      <td>None</td>\n",
       "      <td>None</td>\n",
       "      <td>None</td>\n",
       "      <td>None</td>\n",
       "      <td>None</td>\n",
       "      <td>None</td>\n",
       "      <td>None</td>\n",
       "    </tr>\n",
       "    <tr>\n",
       "      <th>4</th>\n",
       "      <td>zJFs_-Qtw7fzAsrQvA3Ltw</td>\n",
       "      <td>None</td>\n",
       "      <td>False</td>\n",
       "      <td>u'no'</td>\n",
       "      <td>None</td>\n",
       "      <td>None</td>\n",
       "      <td>True</td>\n",
       "      <td>None</td>\n",
       "      <td>False</td>\n",
       "      <td>None</td>\n",
       "      <td>...</td>\n",
       "      <td>None</td>\n",
       "      <td>None</td>\n",
       "      <td>None</td>\n",
       "      <td>None</td>\n",
       "      <td>None</td>\n",
       "      <td>None</td>\n",
       "      <td>None</td>\n",
       "      <td>None</td>\n",
       "      <td>None</td>\n",
       "      <td>None</td>\n",
       "    </tr>\n",
       "  </tbody>\n",
       "</table>\n",
       "<p>5 rows × 38 columns</p>\n",
       "</div>"
      ],
      "text/plain": [
       "              business_id RestaurantsGoodForGroups BusinessAcceptsCreditCards  \\\n",
       "0  VeFfrEZ4iWaecrQg6Eq4cg                     True                       True   \n",
       "1  UX3eq0WsVva-cqlVrzyzFg                     True                       True   \n",
       "2  YhQAQhG1IkXJH7oLZMbM9w                     True                       True   \n",
       "3  RCguFZat10TcbDMeeeM3IQ                     True                       True   \n",
       "4  zJFs_-Qtw7fzAsrQvA3Ltw                     None                      False   \n",
       "\n",
       "    WiFi RestaurantsAttire RestaurantsPriceRange2 RestaurantsTakeOut  \\\n",
       "0  u'no'          'casual'                      1               True   \n",
       "1  u'no'          'casual'                      2               True   \n",
       "2   'no'          'casual'                      2               True   \n",
       "3  u'no'          'casual'                      1               True   \n",
       "4  u'no'              None                   None               True   \n",
       "\n",
       "  GoodForKids  HasTV RestaurantsReservations  ... GoodForDancing CoatCheck  \\\n",
       "0        True   True                    True  ...           None      None   \n",
       "1        True   True                    True  ...          False     False   \n",
       "2        True   True                   False  ...           None      None   \n",
       "3        True   True                   False  ...           None      None   \n",
       "4        None  False                    None  ...           None      None   \n",
       "\n",
       "                                               Music  \\\n",
       "0                                               None   \n",
       "1  {'dj': False, 'background_music': False, 'no_m...   \n",
       "2                                               None   \n",
       "3                                               None   \n",
       "4                                               None   \n",
       "\n",
       "                                          BestNights ByAppointmentOnly  \\\n",
       "0                                               None              None   \n",
       "1  {'monday': False, 'tuesday': False, 'friday': ...              None   \n",
       "2                                               None              None   \n",
       "3                                               None              None   \n",
       "4                                               None              None   \n",
       "\n",
       "  AgesAllowed BYOBCorkage Open24Hours DietaryRestrictions  \\\n",
       "0        None        None        None                None   \n",
       "1        None        None        None                None   \n",
       "2        None        None        None                None   \n",
       "3        None        None        None                None   \n",
       "4        None        None        None                None   \n",
       "\n",
       "  RestaurantsCounterService  \n",
       "0                      None  \n",
       "1                      None  \n",
       "2                      None  \n",
       "3                      None  \n",
       "4                      None  \n",
       "\n",
       "[5 rows x 38 columns]"
      ]
     },
     "execution_count": 2,
     "metadata": {},
     "output_type": "execute_result"
    }
   ],
   "source": [
    "# Se carga el Dataframe:\n",
    "atrib_yelp = pd.read_parquet(\"Data/Atributos_Restaurantes_Yelp.parquet\")\n",
    "atrib_yelp.head()"
   ]
  },
  {
   "cell_type": "code",
   "execution_count": 3,
   "metadata": {},
   "outputs": [
    {
     "name": "stdout",
     "output_type": "stream",
     "text": [
      "<class 'pandas.core.frame.DataFrame'>\n",
      "RangeIndex: 344 entries, 0 to 343\n",
      "Data columns (total 38 columns):\n",
      " #   Column                      Non-Null Count  Dtype \n",
      "---  ------                      --------------  ----- \n",
      " 0   business_id                 344 non-null    object\n",
      " 1   RestaurantsGoodForGroups    275 non-null    object\n",
      " 2   BusinessAcceptsCreditCards  307 non-null    object\n",
      " 3   WiFi                        278 non-null    object\n",
      " 4   RestaurantsAttire           250 non-null    object\n",
      " 5   RestaurantsPriceRange2      283 non-null    object\n",
      " 6   RestaurantsTakeOut          316 non-null    object\n",
      " 7   GoodForKids                 265 non-null    object\n",
      " 8   HasTV                       295 non-null    object\n",
      " 9   RestaurantsReservations     286 non-null    object\n",
      " 10  BusinessParking             310 non-null    object\n",
      " 11  BusinessAcceptsBitcoin      57 non-null     object\n",
      " 12  NoiseLevel                  250 non-null    object\n",
      " 13  OutdoorSeating              295 non-null    object\n",
      " 14  BikeParking                 275 non-null    object\n",
      " 15  Caters                      266 non-null    object\n",
      " 16  RestaurantsTableService     188 non-null    object\n",
      " 17  RestaurantsDelivery         310 non-null    object\n",
      " 18  HappyHour                   112 non-null    object\n",
      " 19  DogsAllowed                 124 non-null    object\n",
      " 20  DriveThru                   118 non-null    object\n",
      " 21  WheelchairAccessible        109 non-null    object\n",
      " 22  Corkage                     44 non-null     object\n",
      " 23  Alcohol                     283 non-null    object\n",
      " 24  Ambience                    292 non-null    object\n",
      " 25  GoodForMeal                 269 non-null    object\n",
      " 26  BYOB                        52 non-null     object\n",
      " 27  Smoking                     27 non-null     object\n",
      " 28  GoodForDancing              21 non-null     object\n",
      " 29  CoatCheck                   33 non-null     object\n",
      " 30  Music                       32 non-null     object\n",
      " 31  BestNights                  31 non-null     object\n",
      " 32  ByAppointmentOnly           25 non-null     object\n",
      " 33  AgesAllowed                 2 non-null      object\n",
      " 34  BYOBCorkage                 15 non-null     object\n",
      " 35  Open24Hours                 1 non-null      object\n",
      " 36  DietaryRestrictions         1 non-null      object\n",
      " 37  RestaurantsCounterService   1 non-null      object\n",
      "dtypes: object(38)\n",
      "memory usage: 102.3+ KB\n"
     ]
    }
   ],
   "source": [
    "# Se controla la info general del dataset\n",
    "atrib_yelp.info()"
   ]
  },
  {
   "cell_type": "code",
   "execution_count": 4,
   "metadata": {},
   "outputs": [
    {
     "data": {
      "text/plain": [
       "Index(['business_id', 'RestaurantsGoodForGroups', 'BusinessAcceptsCreditCards',\n",
       "       'WiFi', 'RestaurantsAttire', 'RestaurantsPriceRange2',\n",
       "       'RestaurantsTakeOut', 'GoodForKids', 'HasTV', 'RestaurantsReservations',\n",
       "       'BusinessParking', 'BusinessAcceptsBitcoin', 'NoiseLevel',\n",
       "       'OutdoorSeating', 'BikeParking', 'Caters', 'RestaurantsTableService',\n",
       "       'RestaurantsDelivery', 'HappyHour', 'DogsAllowed', 'DriveThru',\n",
       "       'WheelchairAccessible', 'Corkage', 'Alcohol', 'Ambience', 'GoodForMeal',\n",
       "       'BYOB', 'Smoking', 'GoodForDancing', 'CoatCheck', 'Music', 'BestNights',\n",
       "       'ByAppointmentOnly', 'AgesAllowed', 'BYOBCorkage', 'Open24Hours',\n",
       "       'DietaryRestrictions', 'RestaurantsCounterService'],\n",
       "      dtype='object')"
      ]
     },
     "execution_count": 4,
     "metadata": {},
     "output_type": "execute_result"
    }
   ],
   "source": [
    "# Se controlan cuales son los atributos incluidos:\n",
    "atrib_yelp.columns"
   ]
  },
  {
   "cell_type": "code",
   "execution_count": 5,
   "metadata": {},
   "outputs": [
    {
     "data": {
      "text/html": [
       "<div>\n",
       "<style scoped>\n",
       "    .dataframe tbody tr th:only-of-type {\n",
       "        vertical-align: middle;\n",
       "    }\n",
       "\n",
       "    .dataframe tbody tr th {\n",
       "        vertical-align: top;\n",
       "    }\n",
       "\n",
       "    .dataframe thead th {\n",
       "        text-align: right;\n",
       "    }\n",
       "</style>\n",
       "<table border=\"1\" class=\"dataframe\">\n",
       "  <thead>\n",
       "    <tr style=\"text-align: right;\">\n",
       "      <th></th>\n",
       "      <th>business_id</th>\n",
       "      <th>WheelchairAccessible</th>\n",
       "      <th>OutdoorSeating</th>\n",
       "      <th>DriveThru</th>\n",
       "      <th>RestaurantsTakeOut</th>\n",
       "      <th>RestaurantsDelivery</th>\n",
       "      <th>WiFi</th>\n",
       "    </tr>\n",
       "  </thead>\n",
       "  <tbody>\n",
       "    <tr>\n",
       "      <th>0</th>\n",
       "      <td>VeFfrEZ4iWaecrQg6Eq4cg</td>\n",
       "      <td>True</td>\n",
       "      <td>True</td>\n",
       "      <td>False</td>\n",
       "      <td>True</td>\n",
       "      <td>True</td>\n",
       "      <td>u'no'</td>\n",
       "    </tr>\n",
       "    <tr>\n",
       "      <th>1</th>\n",
       "      <td>UX3eq0WsVva-cqlVrzyzFg</td>\n",
       "      <td>True</td>\n",
       "      <td>True</td>\n",
       "      <td>False</td>\n",
       "      <td>True</td>\n",
       "      <td>True</td>\n",
       "      <td>u'no'</td>\n",
       "    </tr>\n",
       "    <tr>\n",
       "      <th>2</th>\n",
       "      <td>YhQAQhG1IkXJH7oLZMbM9w</td>\n",
       "      <td>None</td>\n",
       "      <td>True</td>\n",
       "      <td>True</td>\n",
       "      <td>True</td>\n",
       "      <td>True</td>\n",
       "      <td>'no'</td>\n",
       "    </tr>\n",
       "    <tr>\n",
       "      <th>3</th>\n",
       "      <td>RCguFZat10TcbDMeeeM3IQ</td>\n",
       "      <td>None</td>\n",
       "      <td>False</td>\n",
       "      <td>True</td>\n",
       "      <td>True</td>\n",
       "      <td>True</td>\n",
       "      <td>u'no'</td>\n",
       "    </tr>\n",
       "    <tr>\n",
       "      <th>4</th>\n",
       "      <td>zJFs_-Qtw7fzAsrQvA3Ltw</td>\n",
       "      <td>True</td>\n",
       "      <td>False</td>\n",
       "      <td>None</td>\n",
       "      <td>True</td>\n",
       "      <td>False</td>\n",
       "      <td>u'no'</td>\n",
       "    </tr>\n",
       "  </tbody>\n",
       "</table>\n",
       "</div>"
      ],
      "text/plain": [
       "              business_id WheelchairAccessible OutdoorSeating DriveThru  \\\n",
       "0  VeFfrEZ4iWaecrQg6Eq4cg                 True           True     False   \n",
       "1  UX3eq0WsVva-cqlVrzyzFg                 True           True     False   \n",
       "2  YhQAQhG1IkXJH7oLZMbM9w                 None           True      True   \n",
       "3  RCguFZat10TcbDMeeeM3IQ                 None          False      True   \n",
       "4  zJFs_-Qtw7fzAsrQvA3Ltw                 True          False      None   \n",
       "\n",
       "  RestaurantsTakeOut RestaurantsDelivery   WiFi  \n",
       "0               True                True  u'no'  \n",
       "1               True                True  u'no'  \n",
       "2               True                True   'no'  \n",
       "3               True                True  u'no'  \n",
       "4               True               False  u'no'  "
      ]
     },
     "execution_count": 5,
     "metadata": {},
     "output_type": "execute_result"
    }
   ],
   "source": [
    "# Seleccionamos los atributos que vamos a analizar:\n",
    "atrib_yelp_filter = atrib_yelp[[\"business_id\", \"WheelchairAccessible\", \"OutdoorSeating\", \"DriveThru\", \"RestaurantsTakeOut\", \"RestaurantsDelivery\", \"WiFi\"]]\n",
    "atrib_yelp_filter.head()"
   ]
  },
  {
   "cell_type": "code",
   "execution_count": 6,
   "metadata": {},
   "outputs": [
    {
     "data": {
      "text/plain": [
       "business_id             0\n",
       "WheelchairAccessible    0\n",
       "OutdoorSeating          0\n",
       "DriveThru               0\n",
       "RestaurantsTakeOut      0\n",
       "RestaurantsDelivery     0\n",
       "WiFi                    0\n",
       "dtype: int64"
      ]
     },
     "execution_count": 6,
     "metadata": {},
     "output_type": "execute_result"
    }
   ],
   "source": [
    "# Reemplazamos los valores nulos por cero:\n",
    "atrib_yelp_filter = atrib_yelp_filter.fillna(0)\n",
    "atrib_yelp_filter.isnull().sum()"
   ]
  },
  {
   "cell_type": "code",
   "execution_count": 7,
   "metadata": {},
   "outputs": [
    {
     "data": {
      "text/html": [
       "<div>\n",
       "<style scoped>\n",
       "    .dataframe tbody tr th:only-of-type {\n",
       "        vertical-align: middle;\n",
       "    }\n",
       "\n",
       "    .dataframe tbody tr th {\n",
       "        vertical-align: top;\n",
       "    }\n",
       "\n",
       "    .dataframe thead th {\n",
       "        text-align: right;\n",
       "    }\n",
       "</style>\n",
       "<table border=\"1\" class=\"dataframe\">\n",
       "  <thead>\n",
       "    <tr style=\"text-align: right;\">\n",
       "      <th></th>\n",
       "      <th>business_id</th>\n",
       "      <th>WheelchairAccessible</th>\n",
       "      <th>OutdoorSeating</th>\n",
       "      <th>DriveThru</th>\n",
       "      <th>RestaurantsTakeOut</th>\n",
       "      <th>RestaurantsDelivery</th>\n",
       "      <th>WiFi</th>\n",
       "    </tr>\n",
       "  </thead>\n",
       "  <tbody>\n",
       "    <tr>\n",
       "      <th>0</th>\n",
       "      <td>VeFfrEZ4iWaecrQg6Eq4cg</td>\n",
       "      <td>1</td>\n",
       "      <td>1</td>\n",
       "      <td>0</td>\n",
       "      <td>1</td>\n",
       "      <td>1</td>\n",
       "      <td>u'no'</td>\n",
       "    </tr>\n",
       "    <tr>\n",
       "      <th>1</th>\n",
       "      <td>UX3eq0WsVva-cqlVrzyzFg</td>\n",
       "      <td>1</td>\n",
       "      <td>1</td>\n",
       "      <td>0</td>\n",
       "      <td>1</td>\n",
       "      <td>1</td>\n",
       "      <td>u'no'</td>\n",
       "    </tr>\n",
       "    <tr>\n",
       "      <th>2</th>\n",
       "      <td>YhQAQhG1IkXJH7oLZMbM9w</td>\n",
       "      <td>0</td>\n",
       "      <td>1</td>\n",
       "      <td>1</td>\n",
       "      <td>1</td>\n",
       "      <td>1</td>\n",
       "      <td>'no'</td>\n",
       "    </tr>\n",
       "    <tr>\n",
       "      <th>3</th>\n",
       "      <td>RCguFZat10TcbDMeeeM3IQ</td>\n",
       "      <td>0</td>\n",
       "      <td>0</td>\n",
       "      <td>1</td>\n",
       "      <td>1</td>\n",
       "      <td>1</td>\n",
       "      <td>u'no'</td>\n",
       "    </tr>\n",
       "    <tr>\n",
       "      <th>4</th>\n",
       "      <td>zJFs_-Qtw7fzAsrQvA3Ltw</td>\n",
       "      <td>1</td>\n",
       "      <td>0</td>\n",
       "      <td>0</td>\n",
       "      <td>1</td>\n",
       "      <td>0</td>\n",
       "      <td>u'no'</td>\n",
       "    </tr>\n",
       "  </tbody>\n",
       "</table>\n",
       "</div>"
      ],
      "text/plain": [
       "              business_id  WheelchairAccessible  OutdoorSeating  DriveThru  \\\n",
       "0  VeFfrEZ4iWaecrQg6Eq4cg                     1               1          0   \n",
       "1  UX3eq0WsVva-cqlVrzyzFg                     1               1          0   \n",
       "2  YhQAQhG1IkXJH7oLZMbM9w                     0               1          1   \n",
       "3  RCguFZat10TcbDMeeeM3IQ                     0               0          1   \n",
       "4  zJFs_-Qtw7fzAsrQvA3Ltw                     1               0          0   \n",
       "\n",
       "   RestaurantsTakeOut  RestaurantsDelivery   WiFi  \n",
       "0                   1                    1  u'no'  \n",
       "1                   1                    1  u'no'  \n",
       "2                   1                    1   'no'  \n",
       "3                   1                    1  u'no'  \n",
       "4                   1                    0  u'no'  "
      ]
     },
     "execution_count": 7,
     "metadata": {},
     "output_type": "execute_result"
    }
   ],
   "source": [
    "# Se cambian todos los valores True por 1 y los False por 0:\n",
    "atrib_yelp_filter = atrib_yelp_filter.replace({\"True\": 1, \"False\": 0, \"None\": 0})\n",
    "atrib_yelp_filter.head()"
   ]
  },
  {
   "cell_type": "code",
   "execution_count": 8,
   "metadata": {},
   "outputs": [
    {
     "data": {
      "text/plain": [
       "WiFi\n",
       "u'no'      125\n",
       "'no'        78\n",
       "0           66\n",
       "u'free'     52\n",
       "'free'      22\n",
       "u'paid'      1\n",
       "Name: count, dtype: int64"
      ]
     },
     "execution_count": 8,
     "metadata": {},
     "output_type": "execute_result"
    }
   ],
   "source": [
    "# Se controla que hay en la columna \"Wifi\":\n",
    "atrib_yelp_filter[\"WiFi\"].value_counts()"
   ]
  },
  {
   "cell_type": "code",
   "execution_count": 9,
   "metadata": {},
   "outputs": [],
   "source": [
    "# Se crea una funcion para reemplazar los valores de la columna\n",
    "def wifi_reemp(valor):\n",
    "    if valor in [\"'no'\", \"u'no'\"]:\n",
    "        valor = 0\n",
    "    else:\n",
    "        valor = 1\n",
    "    return valor"
   ]
  },
  {
   "cell_type": "code",
   "execution_count": 10,
   "metadata": {},
   "outputs": [
    {
     "data": {
      "text/plain": [
       "WiFi\n",
       "0    203\n",
       "1    141\n",
       "Name: count, dtype: int64"
      ]
     },
     "execution_count": 10,
     "metadata": {},
     "output_type": "execute_result"
    }
   ],
   "source": [
    "# Se aplica la funcion creada anteriormente para reemplazar los valores:\n",
    "atrib_yelp_filter[\"WiFi\"] = atrib_yelp_filter[\"WiFi\"].apply(wifi_reemp)\n",
    "atrib_yelp_filter[\"WiFi\"].value_counts()"
   ]
  },
  {
   "cell_type": "code",
   "execution_count": 11,
   "metadata": {},
   "outputs": [
    {
     "name": "stdout",
     "output_type": "stream",
     "text": [
      "<class 'pandas.core.frame.DataFrame'>\n",
      "RangeIndex: 344 entries, 0 to 343\n",
      "Data columns (total 7 columns):\n",
      " #   Column                Non-Null Count  Dtype \n",
      "---  ------                --------------  ----- \n",
      " 0   business_id           344 non-null    object\n",
      " 1   WheelchairAccessible  344 non-null    int64 \n",
      " 2   OutdoorSeating        344 non-null    int64 \n",
      " 3   DriveThru             344 non-null    int64 \n",
      " 4   RestaurantsTakeOut    344 non-null    int64 \n",
      " 5   RestaurantsDelivery   344 non-null    int64 \n",
      " 6   WiFi                  344 non-null    int64 \n",
      "dtypes: int64(6), object(1)\n",
      "memory usage: 18.9+ KB\n"
     ]
    }
   ],
   "source": [
    "# Se controla la info general del dataframe\n",
    "atrib_yelp_filter.info()"
   ]
  },
  {
   "cell_type": "code",
   "execution_count": 12,
   "metadata": {},
   "outputs": [
    {
     "data": {
      "text/html": [
       "<div>\n",
       "<style scoped>\n",
       "    .dataframe tbody tr th:only-of-type {\n",
       "        vertical-align: middle;\n",
       "    }\n",
       "\n",
       "    .dataframe tbody tr th {\n",
       "        vertical-align: top;\n",
       "    }\n",
       "\n",
       "    .dataframe thead th {\n",
       "        text-align: right;\n",
       "    }\n",
       "</style>\n",
       "<table border=\"1\" class=\"dataframe\">\n",
       "  <thead>\n",
       "    <tr style=\"text-align: right;\">\n",
       "      <th></th>\n",
       "      <th>business_id</th>\n",
       "      <th>Attribute_orig</th>\n",
       "      <th>Is_true</th>\n",
       "    </tr>\n",
       "  </thead>\n",
       "  <tbody>\n",
       "    <tr>\n",
       "      <th>0</th>\n",
       "      <td>VeFfrEZ4iWaecrQg6Eq4cg</td>\n",
       "      <td>WheelchairAccessible</td>\n",
       "      <td>1</td>\n",
       "    </tr>\n",
       "    <tr>\n",
       "      <th>1</th>\n",
       "      <td>UX3eq0WsVva-cqlVrzyzFg</td>\n",
       "      <td>WheelchairAccessible</td>\n",
       "      <td>1</td>\n",
       "    </tr>\n",
       "    <tr>\n",
       "      <th>2</th>\n",
       "      <td>YhQAQhG1IkXJH7oLZMbM9w</td>\n",
       "      <td>WheelchairAccessible</td>\n",
       "      <td>0</td>\n",
       "    </tr>\n",
       "    <tr>\n",
       "      <th>3</th>\n",
       "      <td>RCguFZat10TcbDMeeeM3IQ</td>\n",
       "      <td>WheelchairAccessible</td>\n",
       "      <td>0</td>\n",
       "    </tr>\n",
       "    <tr>\n",
       "      <th>4</th>\n",
       "      <td>zJFs_-Qtw7fzAsrQvA3Ltw</td>\n",
       "      <td>WheelchairAccessible</td>\n",
       "      <td>1</td>\n",
       "    </tr>\n",
       "  </tbody>\n",
       "</table>\n",
       "</div>"
      ],
      "text/plain": [
       "              business_id        Attribute_orig  Is_true\n",
       "0  VeFfrEZ4iWaecrQg6Eq4cg  WheelchairAccessible        1\n",
       "1  UX3eq0WsVva-cqlVrzyzFg  WheelchairAccessible        1\n",
       "2  YhQAQhG1IkXJH7oLZMbM9w  WheelchairAccessible        0\n",
       "3  RCguFZat10TcbDMeeeM3IQ  WheelchairAccessible        0\n",
       "4  zJFs_-Qtw7fzAsrQvA3Ltw  WheelchairAccessible        1"
      ]
     },
     "execution_count": 12,
     "metadata": {},
     "output_type": "execute_result"
    }
   ],
   "source": [
    "# Se modifica el dataframe para luego ser filtrado:\n",
    "atrib_yelp_final = atrib_yelp_filter.melt(id_vars= \"business_id\",   \n",
    "                                   var_name='Attribute_orig', value_name='Is_true') # se pasan las columnas a filas\n",
    "atrib_yelp_final.head()"
   ]
  },
  {
   "cell_type": "code",
   "execution_count": 13,
   "metadata": {},
   "outputs": [
    {
     "name": "stdout",
     "output_type": "stream",
     "text": [
      "<class 'pandas.core.frame.DataFrame'>\n",
      "RangeIndex: 2064 entries, 0 to 2063\n",
      "Data columns (total 3 columns):\n",
      " #   Column          Non-Null Count  Dtype \n",
      "---  ------          --------------  ----- \n",
      " 0   business_id     2064 non-null   object\n",
      " 1   Attribute_orig  2064 non-null   object\n",
      " 2   Is_true         2064 non-null   int64 \n",
      "dtypes: int64(1), object(2)\n",
      "memory usage: 48.5+ KB\n"
     ]
    }
   ],
   "source": [
    "atrib_yelp_final.info()"
   ]
  },
  {
   "cell_type": "code",
   "execution_count": 14,
   "metadata": {},
   "outputs": [
    {
     "name": "stdout",
     "output_type": "stream",
     "text": [
      "<class 'pandas.core.frame.DataFrame'>\n",
      "RangeIndex: 911 entries, 0 to 910\n",
      "Data columns (total 3 columns):\n",
      " #   Column          Non-Null Count  Dtype \n",
      "---  ------          --------------  ----- \n",
      " 0   business_id     911 non-null    object\n",
      " 1   Attribute_orig  911 non-null    object\n",
      " 2   Is_true         911 non-null    int64 \n",
      "dtypes: int64(1), object(2)\n",
      "memory usage: 21.5+ KB\n"
     ]
    }
   ],
   "source": [
    "# Se filtran los atributos existentes únicamente:\n",
    "atrib_yelp_final = atrib_yelp_final[atrib_yelp_final[\"Is_true\"] == 1].reset_index(drop=True)\n",
    "atrib_yelp_final.info()"
   ]
  },
  {
   "cell_type": "code",
   "execution_count": 15,
   "metadata": {},
   "outputs": [],
   "source": [
    "# Se elimina la columna \"Is_true\":\n",
    "atrib_yelp_final.drop(columns=\"Is_true\", inplace=True)"
   ]
  },
  {
   "cell_type": "markdown",
   "metadata": {},
   "source": [
    "Ahora vamos a regularizar los nombres de los atributos, para luego unirlos a los de Google:"
   ]
  },
  {
   "cell_type": "code",
   "execution_count": 16,
   "metadata": {},
   "outputs": [],
   "source": [
    "# Creamos una función para regularizar los atributos en distintas categorías:\n",
    "def regu_atrib_yelp(atributo):\n",
    "    if atributo == \"WheelchairAccessible\":\n",
    "        atributo_reg = \"Wheelchair accessible\"\n",
    "    elif atributo == \"OutdoorSeating\":\n",
    "        atributo_reg = \"Outdoor seating\"\n",
    "    elif atributo == 'DriveThru':\n",
    "        atributo_reg = 'Drive-through'\n",
    "    elif atributo == \"RestaurantsTakeOut\":\n",
    "        atributo_reg = 'Takeout/Takeaway'\n",
    "    elif atributo == 'RestaurantsDelivery':\n",
    "        atributo_reg = 'Delivery'\n",
    "    elif atributo == 'WiFi':\n",
    "        atributo_reg = 'Wi-Fi'\n",
    "    \n",
    "    return atributo_reg"
   ]
  },
  {
   "cell_type": "code",
   "execution_count": 17,
   "metadata": {},
   "outputs": [
    {
     "data": {
      "text/html": [
       "<div>\n",
       "<style scoped>\n",
       "    .dataframe tbody tr th:only-of-type {\n",
       "        vertical-align: middle;\n",
       "    }\n",
       "\n",
       "    .dataframe tbody tr th {\n",
       "        vertical-align: top;\n",
       "    }\n",
       "\n",
       "    .dataframe thead th {\n",
       "        text-align: right;\n",
       "    }\n",
       "</style>\n",
       "<table border=\"1\" class=\"dataframe\">\n",
       "  <thead>\n",
       "    <tr style=\"text-align: right;\">\n",
       "      <th></th>\n",
       "      <th>business_id</th>\n",
       "      <th>Attribute_orig</th>\n",
       "      <th>Attributes</th>\n",
       "    </tr>\n",
       "  </thead>\n",
       "  <tbody>\n",
       "    <tr>\n",
       "      <th>0</th>\n",
       "      <td>VeFfrEZ4iWaecrQg6Eq4cg</td>\n",
       "      <td>WheelchairAccessible</td>\n",
       "      <td>Wheelchair accessible</td>\n",
       "    </tr>\n",
       "    <tr>\n",
       "      <th>1</th>\n",
       "      <td>UX3eq0WsVva-cqlVrzyzFg</td>\n",
       "      <td>WheelchairAccessible</td>\n",
       "      <td>Wheelchair accessible</td>\n",
       "    </tr>\n",
       "    <tr>\n",
       "      <th>2</th>\n",
       "      <td>zJFs_-Qtw7fzAsrQvA3Ltw</td>\n",
       "      <td>WheelchairAccessible</td>\n",
       "      <td>Wheelchair accessible</td>\n",
       "    </tr>\n",
       "    <tr>\n",
       "      <th>3</th>\n",
       "      <td>JYDd5sgn18DqDnTnq_tBRQ</td>\n",
       "      <td>WheelchairAccessible</td>\n",
       "      <td>Wheelchair accessible</td>\n",
       "    </tr>\n",
       "    <tr>\n",
       "      <th>4</th>\n",
       "      <td>1FURjeGJi_LBXcJQg8eskw</td>\n",
       "      <td>WheelchairAccessible</td>\n",
       "      <td>Wheelchair accessible</td>\n",
       "    </tr>\n",
       "  </tbody>\n",
       "</table>\n",
       "</div>"
      ],
      "text/plain": [
       "              business_id        Attribute_orig             Attributes\n",
       "0  VeFfrEZ4iWaecrQg6Eq4cg  WheelchairAccessible  Wheelchair accessible\n",
       "1  UX3eq0WsVva-cqlVrzyzFg  WheelchairAccessible  Wheelchair accessible\n",
       "2  zJFs_-Qtw7fzAsrQvA3Ltw  WheelchairAccessible  Wheelchair accessible\n",
       "3  JYDd5sgn18DqDnTnq_tBRQ  WheelchairAccessible  Wheelchair accessible\n",
       "4  1FURjeGJi_LBXcJQg8eskw  WheelchairAccessible  Wheelchair accessible"
      ]
     },
     "execution_count": 17,
     "metadata": {},
     "output_type": "execute_result"
    }
   ],
   "source": [
    "# Se crea la columna \"Attributes\" utilizando la función creada anteriormente:\n",
    "atrib_yelp_final[\"Attributes\"] = atrib_yelp_final[\"Attribute_orig\"].apply(regu_atrib_yelp)\n",
    "atrib_yelp_final.head()"
   ]
  },
  {
   "cell_type": "markdown",
   "metadata": {},
   "source": [
    "## Atributos Google:"
   ]
  },
  {
   "cell_type": "code",
   "execution_count": 18,
   "metadata": {},
   "outputs": [
    {
     "data": {
      "text/html": [
       "<div>\n",
       "<style scoped>\n",
       "    .dataframe tbody tr th:only-of-type {\n",
       "        vertical-align: middle;\n",
       "    }\n",
       "\n",
       "    .dataframe tbody tr th {\n",
       "        vertical-align: top;\n",
       "    }\n",
       "\n",
       "    .dataframe thead th {\n",
       "        text-align: right;\n",
       "    }\n",
       "</style>\n",
       "<table border=\"1\" class=\"dataframe\">\n",
       "  <thead>\n",
       "    <tr style=\"text-align: right;\">\n",
       "      <th></th>\n",
       "      <th>gmap_id</th>\n",
       "      <th>Accessibility</th>\n",
       "      <th>Activities</th>\n",
       "      <th>Amenities</th>\n",
       "      <th>Atmosphere</th>\n",
       "      <th>Crowd</th>\n",
       "      <th>Dining options</th>\n",
       "      <th>From the business</th>\n",
       "      <th>Getting here</th>\n",
       "      <th>Health &amp; safety</th>\n",
       "      <th>Health and safety</th>\n",
       "      <th>Highlights</th>\n",
       "      <th>Lodging options</th>\n",
       "      <th>Offerings</th>\n",
       "      <th>Payments</th>\n",
       "      <th>Planning</th>\n",
       "      <th>Popular for</th>\n",
       "      <th>Recycling</th>\n",
       "      <th>Service options</th>\n",
       "    </tr>\n",
       "  </thead>\n",
       "  <tbody>\n",
       "    <tr>\n",
       "      <th>0</th>\n",
       "      <td>0x80c2c778e3b73d33:0xbdc58662a4a97d49</td>\n",
       "      <td>[Wheelchair accessible entrance]</td>\n",
       "      <td>None</td>\n",
       "      <td>[Good for kids]</td>\n",
       "      <td>[Casual]</td>\n",
       "      <td>None</td>\n",
       "      <td>None</td>\n",
       "      <td>None</td>\n",
       "      <td>None</td>\n",
       "      <td>None</td>\n",
       "      <td>None</td>\n",
       "      <td>None</td>\n",
       "      <td>NaN</td>\n",
       "      <td>[Comfort food]</td>\n",
       "      <td>None</td>\n",
       "      <td>None</td>\n",
       "      <td>None</td>\n",
       "      <td>None</td>\n",
       "      <td>[Takeout, Dine-in, Delivery]</td>\n",
       "    </tr>\n",
       "    <tr>\n",
       "      <th>1</th>\n",
       "      <td>0x80c2c632f933b073:0xc31785961fe826a6</td>\n",
       "      <td>None</td>\n",
       "      <td>None</td>\n",
       "      <td>None</td>\n",
       "      <td>None</td>\n",
       "      <td>None</td>\n",
       "      <td>None</td>\n",
       "      <td>None</td>\n",
       "      <td>None</td>\n",
       "      <td>None</td>\n",
       "      <td>None</td>\n",
       "      <td>None</td>\n",
       "      <td>NaN</td>\n",
       "      <td>None</td>\n",
       "      <td>None</td>\n",
       "      <td>None</td>\n",
       "      <td>None</td>\n",
       "      <td>None</td>\n",
       "      <td>[In-store pickup]</td>\n",
       "    </tr>\n",
       "    <tr>\n",
       "      <th>2</th>\n",
       "      <td>0x80c2cf163db6bc89:0x219484e2edbcfa41</td>\n",
       "      <td>[Wheelchair accessible entrance]</td>\n",
       "      <td>None</td>\n",
       "      <td>None</td>\n",
       "      <td>None</td>\n",
       "      <td>None</td>\n",
       "      <td>None</td>\n",
       "      <td>None</td>\n",
       "      <td>None</td>\n",
       "      <td>None</td>\n",
       "      <td>None</td>\n",
       "      <td>None</td>\n",
       "      <td>NaN</td>\n",
       "      <td>None</td>\n",
       "      <td>None</td>\n",
       "      <td>None</td>\n",
       "      <td>None</td>\n",
       "      <td>None</td>\n",
       "      <td>None</td>\n",
       "    </tr>\n",
       "    <tr>\n",
       "      <th>3</th>\n",
       "      <td>0x80dd2b4c8555edb7:0xfc33d65c4bdbef42</td>\n",
       "      <td>[Wheelchair accessible entrance]</td>\n",
       "      <td>None</td>\n",
       "      <td>[Good for kids]</td>\n",
       "      <td>[Casual]</td>\n",
       "      <td>[College students]</td>\n",
       "      <td>[Lunch, Dinner]</td>\n",
       "      <td>None</td>\n",
       "      <td>None</td>\n",
       "      <td>[Mask required, Staff wear masks, Staff requir...</td>\n",
       "      <td>None</td>\n",
       "      <td>None</td>\n",
       "      <td>NaN</td>\n",
       "      <td>[Comfort food, Quick bite, Small plates]</td>\n",
       "      <td>None</td>\n",
       "      <td>None</td>\n",
       "      <td>[Lunch, Dinner, Solo dining]</td>\n",
       "      <td>None</td>\n",
       "      <td>[Outdoor seating, Curbside pickup, No-contact ...</td>\n",
       "    </tr>\n",
       "    <tr>\n",
       "      <th>4</th>\n",
       "      <td>0x80960c29f2e3bf29:0x4b291f0d275a5699</td>\n",
       "      <td>[Wheelchair accessible entrance]</td>\n",
       "      <td>None</td>\n",
       "      <td>None</td>\n",
       "      <td>None</td>\n",
       "      <td>None</td>\n",
       "      <td>None</td>\n",
       "      <td>None</td>\n",
       "      <td>None</td>\n",
       "      <td>None</td>\n",
       "      <td>None</td>\n",
       "      <td>None</td>\n",
       "      <td>NaN</td>\n",
       "      <td>None</td>\n",
       "      <td>None</td>\n",
       "      <td>None</td>\n",
       "      <td>None</td>\n",
       "      <td>None</td>\n",
       "      <td>None</td>\n",
       "    </tr>\n",
       "  </tbody>\n",
       "</table>\n",
       "</div>"
      ],
      "text/plain": [
       "                                 gmap_id                     Accessibility  \\\n",
       "0  0x80c2c778e3b73d33:0xbdc58662a4a97d49  [Wheelchair accessible entrance]   \n",
       "1  0x80c2c632f933b073:0xc31785961fe826a6                              None   \n",
       "2  0x80c2cf163db6bc89:0x219484e2edbcfa41  [Wheelchair accessible entrance]   \n",
       "3  0x80dd2b4c8555edb7:0xfc33d65c4bdbef42  [Wheelchair accessible entrance]   \n",
       "4  0x80960c29f2e3bf29:0x4b291f0d275a5699  [Wheelchair accessible entrance]   \n",
       "\n",
       "  Activities        Amenities Atmosphere               Crowd   Dining options  \\\n",
       "0       None  [Good for kids]   [Casual]                None             None   \n",
       "1       None             None       None                None             None   \n",
       "2       None             None       None                None             None   \n",
       "3       None  [Good for kids]   [Casual]  [College students]  [Lunch, Dinner]   \n",
       "4       None             None       None                None             None   \n",
       "\n",
       "  From the business Getting here  \\\n",
       "0              None         None   \n",
       "1              None         None   \n",
       "2              None         None   \n",
       "3              None         None   \n",
       "4              None         None   \n",
       "\n",
       "                                     Health & safety Health and safety  \\\n",
       "0                                               None              None   \n",
       "1                                               None              None   \n",
       "2                                               None              None   \n",
       "3  [Mask required, Staff wear masks, Staff requir...              None   \n",
       "4                                               None              None   \n",
       "\n",
       "  Highlights  Lodging options                                 Offerings  \\\n",
       "0       None              NaN                            [Comfort food]   \n",
       "1       None              NaN                                      None   \n",
       "2       None              NaN                                      None   \n",
       "3       None              NaN  [Comfort food, Quick bite, Small plates]   \n",
       "4       None              NaN                                      None   \n",
       "\n",
       "  Payments Planning                   Popular for Recycling  \\\n",
       "0     None     None                          None      None   \n",
       "1     None     None                          None      None   \n",
       "2     None     None                          None      None   \n",
       "3     None     None  [Lunch, Dinner, Solo dining]      None   \n",
       "4     None     None                          None      None   \n",
       "\n",
       "                                     Service options  \n",
       "0                       [Takeout, Dine-in, Delivery]  \n",
       "1                                  [In-store pickup]  \n",
       "2                                               None  \n",
       "3  [Outdoor seating, Curbside pickup, No-contact ...  \n",
       "4                                               None  "
      ]
     },
     "execution_count": 18,
     "metadata": {},
     "output_type": "execute_result"
    }
   ],
   "source": [
    "# Se carga el Dataframe:\n",
    "atrib_google = pd.read_parquet(\"Data/Atributos_Restaurantes_Google.parquet\")\n",
    "atrib_google.head()"
   ]
  },
  {
   "cell_type": "code",
   "execution_count": 19,
   "metadata": {},
   "outputs": [
    {
     "name": "stdout",
     "output_type": "stream",
     "text": [
      "<class 'pandas.core.frame.DataFrame'>\n",
      "RangeIndex: 73332 entries, 0 to 73331\n",
      "Data columns (total 19 columns):\n",
      " #   Column             Non-Null Count  Dtype  \n",
      "---  ------             --------------  -----  \n",
      " 0   gmap_id            73332 non-null  object \n",
      " 1   Accessibility      59900 non-null  object \n",
      " 2   Activities         33 non-null     object \n",
      " 3   Amenities          19822 non-null  object \n",
      " 4   Atmosphere         7718 non-null   object \n",
      " 5   Crowd              6331 non-null   object \n",
      " 6   Dining options     6155 non-null   object \n",
      " 7   From the business  2363 non-null   object \n",
      " 8   Getting here       9 non-null      object \n",
      " 9   Health & safety    14321 non-null  object \n",
      " 10  Health and safety  893 non-null    object \n",
      " 11  Highlights         8562 non-null   object \n",
      " 12  Lodging options    0 non-null      float64\n",
      " 13  Offerings          15609 non-null  object \n",
      " 14  Payments           16915 non-null  object \n",
      " 15  Planning           24887 non-null  object \n",
      " 16  Popular for        6734 non-null   object \n",
      " 17  Recycling          67 non-null     object \n",
      " 18  Service options    30540 non-null  object \n",
      "dtypes: float64(1), object(18)\n",
      "memory usage: 10.6+ MB\n"
     ]
    }
   ],
   "source": [
    "# Se controla la info gral del dataset:\n",
    "atrib_google.info()"
   ]
  },
  {
   "cell_type": "code",
   "execution_count": 20,
   "metadata": {},
   "outputs": [
    {
     "data": {
      "text/plain": [
       "Index(['gmap_id', 'Accessibility', 'Activities', 'Amenities', 'Atmosphere',\n",
       "       'Crowd', 'Dining options', 'From the business', 'Getting here',\n",
       "       'Health & safety', 'Health and safety', 'Highlights', 'Lodging options',\n",
       "       'Offerings', 'Payments', 'Planning', 'Popular for', 'Recycling',\n",
       "       'Service options'],\n",
       "      dtype='object')"
      ]
     },
     "execution_count": 20,
     "metadata": {},
     "output_type": "execute_result"
    }
   ],
   "source": [
    "# Se controla cuales son los atributos incluidos:\n",
    "atrib_google.columns"
   ]
  },
  {
   "cell_type": "code",
   "execution_count": 21,
   "metadata": {},
   "outputs": [
    {
     "data": {
      "text/plain": [
       "Lodging options      73332\n",
       "Getting here         73323\n",
       "Activities           73299\n",
       "Recycling            73265\n",
       "Health and safety    72439\n",
       "From the business    70969\n",
       "Dining options       67177\n",
       "Crowd                67001\n",
       "Popular for          66598\n",
       "Atmosphere           65614\n",
       "Highlights           64770\n",
       "Health & safety      59011\n",
       "Offerings            57723\n",
       "Payments             56417\n",
       "Amenities            53510\n",
       "Planning             48445\n",
       "Service options      42792\n",
       "Accessibility        13432\n",
       "gmap_id                  0\n",
       "dtype: int64"
      ]
     },
     "execution_count": 21,
     "metadata": {},
     "output_type": "execute_result"
    }
   ],
   "source": [
    "# Se controla la cantidad de valores nulos por columna:\n",
    "atrib_google.isnull().sum().sort_values(ascending=False)"
   ]
  },
  {
   "cell_type": "markdown",
   "metadata": {},
   "source": [
    "Como podemos observar existe una gran cantdidad de valores nulos. \n",
    "\n",
    "A continuación, buscamos encontrar los mismos atributos que filtramos para los restaurantes de Yelp:"
   ]
  },
  {
   "cell_type": "code",
   "execution_count": 22,
   "metadata": {},
   "outputs": [
    {
     "data": {
      "text/plain": [
       "0                         [Wheelchair accessible entrance]\n",
       "1                                                     None\n",
       "2                         [Wheelchair accessible entrance]\n",
       "3                         [Wheelchair accessible entrance]\n",
       "4                         [Wheelchair accessible entrance]\n",
       "                               ...                        \n",
       "73327                     [Wheelchair accessible entrance]\n",
       "73328                                                 None\n",
       "73329                                                 None\n",
       "73330                     [Wheelchair accessible entrance]\n",
       "73331    [Wheelchair-accessible car park, Wheelchair-ac...\n",
       "Name: Accessibility, Length: 73332, dtype: object"
      ]
     },
     "execution_count": 22,
     "metadata": {},
     "output_type": "execute_result"
    }
   ],
   "source": [
    "# Controlamos que hay en \"accessibility\":\n",
    "atrib_google[\"Accessibility\"]"
   ]
  },
  {
   "cell_type": "markdown",
   "metadata": {},
   "source": [
    "### Accessibility:"
   ]
  },
  {
   "cell_type": "code",
   "execution_count": 23,
   "metadata": {},
   "outputs": [
    {
     "data": {
      "text/html": [
       "<div>\n",
       "<style scoped>\n",
       "    .dataframe tbody tr th:only-of-type {\n",
       "        vertical-align: middle;\n",
       "    }\n",
       "\n",
       "    .dataframe tbody tr th {\n",
       "        vertical-align: top;\n",
       "    }\n",
       "\n",
       "    .dataframe thead th {\n",
       "        text-align: right;\n",
       "    }\n",
       "</style>\n",
       "<table border=\"1\" class=\"dataframe\">\n",
       "  <thead>\n",
       "    <tr style=\"text-align: right;\">\n",
       "      <th></th>\n",
       "      <th>gmap_id</th>\n",
       "      <th>Accessibility</th>\n",
       "    </tr>\n",
       "  </thead>\n",
       "  <tbody>\n",
       "    <tr>\n",
       "      <th>0</th>\n",
       "      <td>0x80c2c778e3b73d33:0xbdc58662a4a97d49</td>\n",
       "      <td>Wheelchair accessible entrance</td>\n",
       "    </tr>\n",
       "    <tr>\n",
       "      <th>1</th>\n",
       "      <td>0x80c2c632f933b073:0xc31785961fe826a6</td>\n",
       "      <td>None</td>\n",
       "    </tr>\n",
       "    <tr>\n",
       "      <th>2</th>\n",
       "      <td>0x80c2cf163db6bc89:0x219484e2edbcfa41</td>\n",
       "      <td>Wheelchair accessible entrance</td>\n",
       "    </tr>\n",
       "    <tr>\n",
       "      <th>3</th>\n",
       "      <td>0x80dd2b4c8555edb7:0xfc33d65c4bdbef42</td>\n",
       "      <td>Wheelchair accessible entrance</td>\n",
       "    </tr>\n",
       "    <tr>\n",
       "      <th>4</th>\n",
       "      <td>0x80960c29f2e3bf29:0x4b291f0d275a5699</td>\n",
       "      <td>Wheelchair accessible entrance</td>\n",
       "    </tr>\n",
       "  </tbody>\n",
       "</table>\n",
       "</div>"
      ],
      "text/plain": [
       "                                 gmap_id                   Accessibility\n",
       "0  0x80c2c778e3b73d33:0xbdc58662a4a97d49  Wheelchair accessible entrance\n",
       "1  0x80c2c632f933b073:0xc31785961fe826a6                            None\n",
       "2  0x80c2cf163db6bc89:0x219484e2edbcfa41  Wheelchair accessible entrance\n",
       "3  0x80dd2b4c8555edb7:0xfc33d65c4bdbef42  Wheelchair accessible entrance\n",
       "4  0x80960c29f2e3bf29:0x4b291f0d275a5699  Wheelchair accessible entrance"
      ]
     },
     "execution_count": 23,
     "metadata": {},
     "output_type": "execute_result"
    }
   ],
   "source": [
    "# Se realiza la apertura de la columna:\n",
    "accessibility = atrib_google[[\"gmap_id\", \"Accessibility\"]]\n",
    "accessibility = accessibility.explode(\"Accessibility\")\n",
    "accessibility = accessibility.reset_index(drop=True)\n",
    "accessibility.head()"
   ]
  },
  {
   "cell_type": "code",
   "execution_count": 24,
   "metadata": {},
   "outputs": [
    {
     "name": "stdout",
     "output_type": "stream",
     "text": [
      "<class 'pandas.core.frame.DataFrame'>\n",
      "RangeIndex: 87494 entries, 0 to 87493\n",
      "Data columns (total 2 columns):\n",
      " #   Column         Non-Null Count  Dtype \n",
      "---  ------         --------------  ----- \n",
      " 0   gmap_id        87494 non-null  object\n",
      " 1   Accessibility  74062 non-null  object\n",
      "dtypes: object(2)\n",
      "memory usage: 1.3+ MB\n"
     ]
    }
   ],
   "source": [
    "accessibility.info()"
   ]
  },
  {
   "cell_type": "code",
   "execution_count": 25,
   "metadata": {},
   "outputs": [
    {
     "data": {
      "text/plain": [
       "Accessibility\n",
       "Wheelchair accessible entrance       57511\n",
       "Wheelchair accessible parking lot     6534\n",
       "Wheelchair accessible restroom        4133\n",
       "Wheelchair-accessible entrance        1723\n",
       "Wheelchair accessible seating         1365\n",
       "Wheelchair accessible elevator        1105\n",
       "Wheelchair-accessible car park         673\n",
       "Wheelchair-accessible toilet           443\n",
       "Wheelchair-accessible seating          398\n",
       "Passenger loading area                 100\n",
       "Wheelchair-accessible lift              72\n",
       "Wheelchair rental                        3\n",
       "Assisted listening devices               1\n",
       "Assistive hearing loop                   1\n",
       "Name: count, dtype: int64"
      ]
     },
     "execution_count": 25,
     "metadata": {},
     "output_type": "execute_result"
    }
   ],
   "source": [
    "# Se controlan las opciones de accesibilidad:\n",
    "accessibility[\"Accessibility\"].value_counts()"
   ]
  },
  {
   "cell_type": "code",
   "execution_count": 26,
   "metadata": {},
   "outputs": [
    {
     "name": "stdout",
     "output_type": "stream",
     "text": [
      "<class 'pandas.core.frame.DataFrame'>\n",
      "RangeIndex: 73957 entries, 0 to 73956\n",
      "Data columns (total 2 columns):\n",
      " #   Column         Non-Null Count  Dtype \n",
      "---  ------         --------------  ----- \n",
      " 0   gmap_id        73957 non-null  object\n",
      " 1   Accessibility  73957 non-null  object\n",
      "dtypes: object(2)\n",
      "memory usage: 1.1+ MB\n"
     ]
    }
   ],
   "source": [
    "# Filtramos todas aquellas categorías que contengan \"Wheelchair accesible\"\n",
    "mascara = (accessibility[\"Accessibility\"].str.contains(\"Wheelchair accessible\")) | (accessibility[\"Accessibility\"].str.contains(\"Wheelchair-accessible\"))\n",
    "\n",
    "accessibility = accessibility[mascara].reset_index(drop=True)\n",
    "accessibility.info()"
   ]
  },
  {
   "cell_type": "code",
   "execution_count": 27,
   "metadata": {},
   "outputs": [
    {
     "data": {
      "text/plain": [
       "0"
      ]
     },
     "execution_count": 27,
     "metadata": {},
     "output_type": "execute_result"
    }
   ],
   "source": [
    "# Se controla si hay valores duplicados:\n",
    "accessibility.duplicated().sum()"
   ]
  },
  {
   "cell_type": "code",
   "execution_count": 28,
   "metadata": {},
   "outputs": [
    {
     "data": {
      "text/html": [
       "<div>\n",
       "<style scoped>\n",
       "    .dataframe tbody tr th:only-of-type {\n",
       "        vertical-align: middle;\n",
       "    }\n",
       "\n",
       "    .dataframe tbody tr th {\n",
       "        vertical-align: top;\n",
       "    }\n",
       "\n",
       "    .dataframe thead th {\n",
       "        text-align: right;\n",
       "    }\n",
       "</style>\n",
       "<table border=\"1\" class=\"dataframe\">\n",
       "  <thead>\n",
       "    <tr style=\"text-align: right;\">\n",
       "      <th></th>\n",
       "      <th>gmap_id</th>\n",
       "      <th>Attribute_orig</th>\n",
       "    </tr>\n",
       "  </thead>\n",
       "  <tbody>\n",
       "    <tr>\n",
       "      <th>0</th>\n",
       "      <td>0x80c2c778e3b73d33:0xbdc58662a4a97d49</td>\n",
       "      <td>Wheelchair accessible entrance</td>\n",
       "    </tr>\n",
       "    <tr>\n",
       "      <th>1</th>\n",
       "      <td>0x80c2cf163db6bc89:0x219484e2edbcfa41</td>\n",
       "      <td>Wheelchair accessible entrance</td>\n",
       "    </tr>\n",
       "    <tr>\n",
       "      <th>2</th>\n",
       "      <td>0x80dd2b4c8555edb7:0xfc33d65c4bdbef42</td>\n",
       "      <td>Wheelchair accessible entrance</td>\n",
       "    </tr>\n",
       "    <tr>\n",
       "      <th>3</th>\n",
       "      <td>0x80960c29f2e3bf29:0x4b291f0d275a5699</td>\n",
       "      <td>Wheelchair accessible entrance</td>\n",
       "    </tr>\n",
       "    <tr>\n",
       "      <th>4</th>\n",
       "      <td>0x809b1ff6d3a60c4d:0xdf08e68028807693</td>\n",
       "      <td>Wheelchair accessible entrance</td>\n",
       "    </tr>\n",
       "  </tbody>\n",
       "</table>\n",
       "</div>"
      ],
      "text/plain": [
       "                                 gmap_id                  Attribute_orig\n",
       "0  0x80c2c778e3b73d33:0xbdc58662a4a97d49  Wheelchair accessible entrance\n",
       "1  0x80c2cf163db6bc89:0x219484e2edbcfa41  Wheelchair accessible entrance\n",
       "2  0x80dd2b4c8555edb7:0xfc33d65c4bdbef42  Wheelchair accessible entrance\n",
       "3  0x80960c29f2e3bf29:0x4b291f0d275a5699  Wheelchair accessible entrance\n",
       "4  0x809b1ff6d3a60c4d:0xdf08e68028807693  Wheelchair accessible entrance"
      ]
     },
     "execution_count": 28,
     "metadata": {},
     "output_type": "execute_result"
    }
   ],
   "source": [
    "# Se cambia el nombre de la columna \"Accessibility\":\n",
    "accessibility = accessibility.rename(columns={\"Accessibility\":\"Attribute_orig\"})\n",
    "accessibility.head()"
   ]
  },
  {
   "cell_type": "markdown",
   "metadata": {},
   "source": [
    "### Service options:"
   ]
  },
  {
   "cell_type": "code",
   "execution_count": 29,
   "metadata": {},
   "outputs": [
    {
     "data": {
      "text/plain": [
       "0                             [Takeout, Dine-in, Delivery]\n",
       "1                                        [In-store pickup]\n",
       "2                                                     None\n",
       "3        [Outdoor seating, Curbside pickup, No-contact ...\n",
       "4                                                     None\n",
       "                               ...                        \n",
       "73327                                                 None\n",
       "73328                                                 None\n",
       "73329                  [Online estimates, Onsite services]\n",
       "73330    [Curbside pickup, Delivery, In-store pickup, I...\n",
       "73331                                                 None\n",
       "Name: Service options, Length: 73332, dtype: object"
      ]
     },
     "execution_count": 29,
     "metadata": {},
     "output_type": "execute_result"
    }
   ],
   "source": [
    "# Controlamos que hay en \"Service options\":\n",
    "atrib_google[\"Service options\"]"
   ]
  },
  {
   "cell_type": "code",
   "execution_count": 30,
   "metadata": {},
   "outputs": [
    {
     "data": {
      "text/html": [
       "<div>\n",
       "<style scoped>\n",
       "    .dataframe tbody tr th:only-of-type {\n",
       "        vertical-align: middle;\n",
       "    }\n",
       "\n",
       "    .dataframe tbody tr th {\n",
       "        vertical-align: top;\n",
       "    }\n",
       "\n",
       "    .dataframe thead th {\n",
       "        text-align: right;\n",
       "    }\n",
       "</style>\n",
       "<table border=\"1\" class=\"dataframe\">\n",
       "  <thead>\n",
       "    <tr style=\"text-align: right;\">\n",
       "      <th></th>\n",
       "      <th>gmap_id</th>\n",
       "      <th>Service options</th>\n",
       "    </tr>\n",
       "  </thead>\n",
       "  <tbody>\n",
       "    <tr>\n",
       "      <th>0</th>\n",
       "      <td>0x80c2c778e3b73d33:0xbdc58662a4a97d49</td>\n",
       "      <td>Takeout</td>\n",
       "    </tr>\n",
       "    <tr>\n",
       "      <th>1</th>\n",
       "      <td>0x80c2c778e3b73d33:0xbdc58662a4a97d49</td>\n",
       "      <td>Dine-in</td>\n",
       "    </tr>\n",
       "    <tr>\n",
       "      <th>2</th>\n",
       "      <td>0x80c2c778e3b73d33:0xbdc58662a4a97d49</td>\n",
       "      <td>Delivery</td>\n",
       "    </tr>\n",
       "    <tr>\n",
       "      <th>3</th>\n",
       "      <td>0x80c2c632f933b073:0xc31785961fe826a6</td>\n",
       "      <td>In-store pickup</td>\n",
       "    </tr>\n",
       "    <tr>\n",
       "      <th>4</th>\n",
       "      <td>0x80c2cf163db6bc89:0x219484e2edbcfa41</td>\n",
       "      <td>None</td>\n",
       "    </tr>\n",
       "  </tbody>\n",
       "</table>\n",
       "</div>"
      ],
      "text/plain": [
       "                                 gmap_id  Service options\n",
       "0  0x80c2c778e3b73d33:0xbdc58662a4a97d49          Takeout\n",
       "1  0x80c2c778e3b73d33:0xbdc58662a4a97d49          Dine-in\n",
       "2  0x80c2c778e3b73d33:0xbdc58662a4a97d49         Delivery\n",
       "3  0x80c2c632f933b073:0xc31785961fe826a6  In-store pickup\n",
       "4  0x80c2cf163db6bc89:0x219484e2edbcfa41             None"
      ]
     },
     "execution_count": 30,
     "metadata": {},
     "output_type": "execute_result"
    }
   ],
   "source": [
    "# Se realiza la apertura de la columna:\n",
    "service_options = atrib_google[[\"gmap_id\", \"Service options\"]]\n",
    "service_options = service_options.explode(\"Service options\")\n",
    "service_options = service_options.reset_index(drop=True)\n",
    "service_options.head()"
   ]
  },
  {
   "cell_type": "code",
   "execution_count": 31,
   "metadata": {},
   "outputs": [
    {
     "name": "stdout",
     "output_type": "stream",
     "text": [
      "<class 'pandas.core.frame.DataFrame'>\n",
      "RangeIndex: 117559 entries, 0 to 117558\n",
      "Data columns (total 2 columns):\n",
      " #   Column           Non-Null Count   Dtype \n",
      "---  ------           --------------   ----- \n",
      " 0   gmap_id          117559 non-null  object\n",
      " 1   Service options  74767 non-null   object\n",
      "dtypes: object(2)\n",
      "memory usage: 1.8+ MB\n"
     ]
    }
   ],
   "source": [
    "service_options.info()"
   ]
  },
  {
   "cell_type": "code",
   "execution_count": 32,
   "metadata": {},
   "outputs": [
    {
     "data": {
      "text/plain": [
       "Service options\n",
       "Delivery               22489\n",
       "In-store shopping      16414\n",
       "Takeout                 8736\n",
       "In-store pickup         6468\n",
       "Dine-in                 5571\n",
       "Curbside pickup         4880\n",
       "Outdoor seating         2003\n",
       "No-contact delivery     1909\n",
       "Same-day delivery       1481\n",
       "Onsite services          927\n",
       "Takeaway                 918\n",
       "Drive-through            736\n",
       "Online appointments      628\n",
       "Online care              611\n",
       "Online estimates         378\n",
       "In-store pick-up         247\n",
       "Online classes           206\n",
       "Outdoor services         129\n",
       "Language assistance       33\n",
       "On-site services           3\n",
       "Name: count, dtype: int64"
      ]
     },
     "execution_count": 32,
     "metadata": {},
     "output_type": "execute_result"
    }
   ],
   "source": [
    "# Se controlan las opciones de accesibilidad:\n",
    "service_options[\"Service options\"].value_counts()"
   ]
  },
  {
   "cell_type": "code",
   "execution_count": 33,
   "metadata": {},
   "outputs": [
    {
     "name": "stdout",
     "output_type": "stream",
     "text": [
      "<class 'pandas.core.frame.DataFrame'>\n",
      "RangeIndex: 35011 entries, 0 to 35010\n",
      "Data columns (total 2 columns):\n",
      " #   Column           Non-Null Count  Dtype \n",
      "---  ------           --------------  ----- \n",
      " 0   gmap_id          35011 non-null  object\n",
      " 1   Service options  35011 non-null  object\n",
      "dtypes: object(2)\n",
      "memory usage: 547.2+ KB\n"
     ]
    }
   ],
   "source": [
    "# Filtramos los mismos atributos que filtramos en Yelp:\n",
    "lista_atrib = [\"Outdoor seating\", \"Outdoor services\", \"Drive-through\", \"Takeout\", \"Takeaway\", \"Delivery\"]\n",
    "service_options =  service_options[service_options[\"Service options\"].isin(lista_atrib)].reset_index(drop=True)\n",
    "service_options.info()"
   ]
  },
  {
   "cell_type": "code",
   "execution_count": 34,
   "metadata": {},
   "outputs": [
    {
     "data": {
      "text/html": [
       "<div>\n",
       "<style scoped>\n",
       "    .dataframe tbody tr th:only-of-type {\n",
       "        vertical-align: middle;\n",
       "    }\n",
       "\n",
       "    .dataframe tbody tr th {\n",
       "        vertical-align: top;\n",
       "    }\n",
       "\n",
       "    .dataframe thead th {\n",
       "        text-align: right;\n",
       "    }\n",
       "</style>\n",
       "<table border=\"1\" class=\"dataframe\">\n",
       "  <thead>\n",
       "    <tr style=\"text-align: right;\">\n",
       "      <th></th>\n",
       "      <th>gmap_id</th>\n",
       "      <th>Attribute_orig</th>\n",
       "    </tr>\n",
       "  </thead>\n",
       "  <tbody>\n",
       "    <tr>\n",
       "      <th>0</th>\n",
       "      <td>0x80c2c778e3b73d33:0xbdc58662a4a97d49</td>\n",
       "      <td>Takeout</td>\n",
       "    </tr>\n",
       "    <tr>\n",
       "      <th>1</th>\n",
       "      <td>0x80c2c778e3b73d33:0xbdc58662a4a97d49</td>\n",
       "      <td>Delivery</td>\n",
       "    </tr>\n",
       "    <tr>\n",
       "      <th>2</th>\n",
       "      <td>0x80dd2b4c8555edb7:0xfc33d65c4bdbef42</td>\n",
       "      <td>Outdoor seating</td>\n",
       "    </tr>\n",
       "    <tr>\n",
       "      <th>3</th>\n",
       "      <td>0x80dd2b4c8555edb7:0xfc33d65c4bdbef42</td>\n",
       "      <td>Delivery</td>\n",
       "    </tr>\n",
       "    <tr>\n",
       "      <th>4</th>\n",
       "      <td>0x80dd2b4c8555edb7:0xfc33d65c4bdbef42</td>\n",
       "      <td>Takeout</td>\n",
       "    </tr>\n",
       "  </tbody>\n",
       "</table>\n",
       "</div>"
      ],
      "text/plain": [
       "                                 gmap_id   Attribute_orig\n",
       "0  0x80c2c778e3b73d33:0xbdc58662a4a97d49          Takeout\n",
       "1  0x80c2c778e3b73d33:0xbdc58662a4a97d49         Delivery\n",
       "2  0x80dd2b4c8555edb7:0xfc33d65c4bdbef42  Outdoor seating\n",
       "3  0x80dd2b4c8555edb7:0xfc33d65c4bdbef42         Delivery\n",
       "4  0x80dd2b4c8555edb7:0xfc33d65c4bdbef42          Takeout"
      ]
     },
     "execution_count": 34,
     "metadata": {},
     "output_type": "execute_result"
    }
   ],
   "source": [
    "# Se cambia el nombre de la columna \"Service options\":\n",
    "service_options = service_options.rename(columns={\"Service options\":\"Attribute_orig\"})\n",
    "service_options.head()"
   ]
  },
  {
   "cell_type": "markdown",
   "metadata": {},
   "source": [
    "### Amenities:"
   ]
  },
  {
   "cell_type": "code",
   "execution_count": 35,
   "metadata": {},
   "outputs": [
    {
     "data": {
      "text/plain": [
       "0        [Good for kids]\n",
       "1                   None\n",
       "2                   None\n",
       "3        [Good for kids]\n",
       "4                   None\n",
       "              ...       \n",
       "73327               None\n",
       "73328               None\n",
       "73329               None\n",
       "73330            [Wi-Fi]\n",
       "73331    [Good for kids]\n",
       "Name: Amenities, Length: 73332, dtype: object"
      ]
     },
     "execution_count": 35,
     "metadata": {},
     "output_type": "execute_result"
    }
   ],
   "source": [
    "# Controlamos que hay en \"Amenities\":\n",
    "atrib_google[\"Amenities\"]"
   ]
  },
  {
   "cell_type": "markdown",
   "metadata": {},
   "source": [
    "Como podemos observar, todos los dataframes contienen listas de valores."
   ]
  },
  {
   "cell_type": "code",
   "execution_count": 36,
   "metadata": {},
   "outputs": [
    {
     "data": {
      "text/html": [
       "<div>\n",
       "<style scoped>\n",
       "    .dataframe tbody tr th:only-of-type {\n",
       "        vertical-align: middle;\n",
       "    }\n",
       "\n",
       "    .dataframe tbody tr th {\n",
       "        vertical-align: top;\n",
       "    }\n",
       "\n",
       "    .dataframe thead th {\n",
       "        text-align: right;\n",
       "    }\n",
       "</style>\n",
       "<table border=\"1\" class=\"dataframe\">\n",
       "  <thead>\n",
       "    <tr style=\"text-align: right;\">\n",
       "      <th></th>\n",
       "      <th>gmap_id</th>\n",
       "      <th>Amenities</th>\n",
       "    </tr>\n",
       "  </thead>\n",
       "  <tbody>\n",
       "    <tr>\n",
       "      <th>0</th>\n",
       "      <td>0x80c2c778e3b73d33:0xbdc58662a4a97d49</td>\n",
       "      <td>Good for kids</td>\n",
       "    </tr>\n",
       "    <tr>\n",
       "      <th>1</th>\n",
       "      <td>0x80c2c632f933b073:0xc31785961fe826a6</td>\n",
       "      <td>None</td>\n",
       "    </tr>\n",
       "    <tr>\n",
       "      <th>2</th>\n",
       "      <td>0x80c2cf163db6bc89:0x219484e2edbcfa41</td>\n",
       "      <td>None</td>\n",
       "    </tr>\n",
       "    <tr>\n",
       "      <th>3</th>\n",
       "      <td>0x80dd2b4c8555edb7:0xfc33d65c4bdbef42</td>\n",
       "      <td>Good for kids</td>\n",
       "    </tr>\n",
       "    <tr>\n",
       "      <th>4</th>\n",
       "      <td>0x80960c29f2e3bf29:0x4b291f0d275a5699</td>\n",
       "      <td>None</td>\n",
       "    </tr>\n",
       "  </tbody>\n",
       "</table>\n",
       "</div>"
      ],
      "text/plain": [
       "                                 gmap_id      Amenities\n",
       "0  0x80c2c778e3b73d33:0xbdc58662a4a97d49  Good for kids\n",
       "1  0x80c2c632f933b073:0xc31785961fe826a6           None\n",
       "2  0x80c2cf163db6bc89:0x219484e2edbcfa41           None\n",
       "3  0x80dd2b4c8555edb7:0xfc33d65c4bdbef42  Good for kids\n",
       "4  0x80960c29f2e3bf29:0x4b291f0d275a5699           None"
      ]
     },
     "execution_count": 36,
     "metadata": {},
     "output_type": "execute_result"
    }
   ],
   "source": [
    "# Se realiza la apertura de la columna:\n",
    "amenities = atrib_google[[\"gmap_id\", \"Amenities\"]]\n",
    "amenities = amenities.explode(\"Amenities\")\n",
    "amenities = amenities.reset_index(drop=True)\n",
    "amenities.head()"
   ]
  },
  {
   "cell_type": "code",
   "execution_count": 37,
   "metadata": {},
   "outputs": [
    {
     "name": "stdout",
     "output_type": "stream",
     "text": [
      "<class 'pandas.core.frame.DataFrame'>\n",
      "RangeIndex: 81642 entries, 0 to 81641\n",
      "Data columns (total 2 columns):\n",
      " #   Column     Non-Null Count  Dtype \n",
      "---  ------     --------------  ----- \n",
      " 0   gmap_id    81642 non-null  object\n",
      " 1   Amenities  28132 non-null  object\n",
      "dtypes: object(2)\n",
      "memory usage: 1.2+ MB\n"
     ]
    }
   ],
   "source": [
    "amenities.info()"
   ]
  },
  {
   "cell_type": "code",
   "execution_count": 38,
   "metadata": {},
   "outputs": [
    {
     "data": {
      "text/plain": [
       "Amenities\n",
       "Good for kids              9863\n",
       "Restroom                   5369\n",
       "Mechanic                   3747\n",
       "Wi-Fi                      2733\n",
       "High chairs                2203\n",
       "Gender-neutral restroom    1886\n",
       "Bar onsite                  715\n",
       "Public restroom             587\n",
       "Toilets                     408\n",
       "Restaurant                  316\n",
       "Bar on site                 123\n",
       "Gender-neutral toilets       82\n",
       "Public toilet                54\n",
       "Swimming pool                26\n",
       "Child care                    9\n",
       "Stadium seating               5\n",
       "All-inclusive                 3\n",
       "Baggage storage               2\n",
       "Golf course                   1\n",
       "Name: count, dtype: int64"
      ]
     },
     "execution_count": 38,
     "metadata": {},
     "output_type": "execute_result"
    }
   ],
   "source": [
    "# Se controlan las opciones de amenities:\n",
    "amenities[\"Amenities\"].value_counts()"
   ]
  },
  {
   "cell_type": "code",
   "execution_count": 39,
   "metadata": {},
   "outputs": [
    {
     "name": "stdout",
     "output_type": "stream",
     "text": [
      "<class 'pandas.core.frame.DataFrame'>\n",
      "RangeIndex: 2733 entries, 0 to 2732\n",
      "Data columns (total 2 columns):\n",
      " #   Column     Non-Null Count  Dtype \n",
      "---  ------     --------------  ----- \n",
      " 0   gmap_id    2733 non-null   object\n",
      " 1   Amenities  2733 non-null   object\n",
      "dtypes: object(2)\n",
      "memory usage: 42.8+ KB\n"
     ]
    }
   ],
   "source": [
    "# Filtramos los mismos atributos que filtramos en Yelp:\n",
    "amenities =  amenities[amenities[\"Amenities\"] == \"Wi-Fi\"].reset_index(drop=True)\n",
    "amenities.info()"
   ]
  },
  {
   "cell_type": "code",
   "execution_count": 40,
   "metadata": {},
   "outputs": [
    {
     "data": {
      "text/html": [
       "<div>\n",
       "<style scoped>\n",
       "    .dataframe tbody tr th:only-of-type {\n",
       "        vertical-align: middle;\n",
       "    }\n",
       "\n",
       "    .dataframe tbody tr th {\n",
       "        vertical-align: top;\n",
       "    }\n",
       "\n",
       "    .dataframe thead th {\n",
       "        text-align: right;\n",
       "    }\n",
       "</style>\n",
       "<table border=\"1\" class=\"dataframe\">\n",
       "  <thead>\n",
       "    <tr style=\"text-align: right;\">\n",
       "      <th></th>\n",
       "      <th>gmap_id</th>\n",
       "      <th>Attribute_orig</th>\n",
       "    </tr>\n",
       "  </thead>\n",
       "  <tbody>\n",
       "    <tr>\n",
       "      <th>0</th>\n",
       "      <td>0x808f85e5192bd809:0x71589abc04eb55b7</td>\n",
       "      <td>Wi-Fi</td>\n",
       "    </tr>\n",
       "    <tr>\n",
       "      <th>1</th>\n",
       "      <td>0x80c2c6594138441d:0x59088f7293270c3f</td>\n",
       "      <td>Wi-Fi</td>\n",
       "    </tr>\n",
       "    <tr>\n",
       "      <th>2</th>\n",
       "      <td>0x808e33ddbf21555f:0xd5fc40f3f59aa016</td>\n",
       "      <td>Wi-Fi</td>\n",
       "    </tr>\n",
       "    <tr>\n",
       "      <th>3</th>\n",
       "      <td>0x809b21179cb43581:0x5c96617136ef0bec</td>\n",
       "      <td>Wi-Fi</td>\n",
       "    </tr>\n",
       "    <tr>\n",
       "      <th>4</th>\n",
       "      <td>0x80dcaa0d1ddf644f:0xcd899cd196f42fd5</td>\n",
       "      <td>Wi-Fi</td>\n",
       "    </tr>\n",
       "  </tbody>\n",
       "</table>\n",
       "</div>"
      ],
      "text/plain": [
       "                                 gmap_id Attribute_orig\n",
       "0  0x808f85e5192bd809:0x71589abc04eb55b7          Wi-Fi\n",
       "1  0x80c2c6594138441d:0x59088f7293270c3f          Wi-Fi\n",
       "2  0x808e33ddbf21555f:0xd5fc40f3f59aa016          Wi-Fi\n",
       "3  0x809b21179cb43581:0x5c96617136ef0bec          Wi-Fi\n",
       "4  0x80dcaa0d1ddf644f:0xcd899cd196f42fd5          Wi-Fi"
      ]
     },
     "execution_count": 40,
     "metadata": {},
     "output_type": "execute_result"
    }
   ],
   "source": [
    "# Se cambia el nombre de la columna \"amenities\":\n",
    "amenities = amenities.rename(columns={\"Amenities\":\"Attribute_orig\"})\n",
    "amenities.head()"
   ]
  },
  {
   "cell_type": "markdown",
   "metadata": {},
   "source": [
    "Una vez que contamos con todos los atributos de restaurantes que vamos a utilizar, los unimos en un único dataframe:"
   ]
  },
  {
   "cell_type": "code",
   "execution_count": 41,
   "metadata": {},
   "outputs": [
    {
     "name": "stdout",
     "output_type": "stream",
     "text": [
      "<class 'pandas.core.frame.DataFrame'>\n",
      "RangeIndex: 111701 entries, 0 to 111700\n",
      "Data columns (total 2 columns):\n",
      " #   Column          Non-Null Count   Dtype \n",
      "---  ------          --------------   ----- \n",
      " 0   gmap_id         111701 non-null  object\n",
      " 1   Attribute_orig  111701 non-null  object\n",
      "dtypes: object(2)\n",
      "memory usage: 1.7+ MB\n"
     ]
    }
   ],
   "source": [
    "attributes_google = pd.concat([accessibility, service_options, amenities], axis=0)\n",
    "attributes_google = attributes_google.reset_index(drop=True)\n",
    "attributes_google.info()"
   ]
  },
  {
   "cell_type": "code",
   "execution_count": 42,
   "metadata": {},
   "outputs": [
    {
     "data": {
      "text/plain": [
       "array(['Wheelchair accessible entrance',\n",
       "       'Wheelchair accessible parking lot',\n",
       "       'Wheelchair accessible restroom', 'Wheelchair accessible seating',\n",
       "       'Wheelchair accessible elevator', 'Wheelchair-accessible car park',\n",
       "       'Wheelchair-accessible entrance', 'Wheelchair-accessible seating',\n",
       "       'Wheelchair-accessible toilet', 'Wheelchair-accessible lift',\n",
       "       'Takeout', 'Delivery', 'Outdoor seating', 'Drive-through',\n",
       "       'Outdoor services', 'Takeaway', 'Wi-Fi'], dtype=object)"
      ]
     },
     "execution_count": 42,
     "metadata": {},
     "output_type": "execute_result"
    }
   ],
   "source": [
    "# Controlamos los atributos contenidos en el df:\n",
    "attributes_google[\"Attribute_orig\"].unique()"
   ]
  },
  {
   "cell_type": "code",
   "execution_count": 43,
   "metadata": {},
   "outputs": [],
   "source": [
    "# Creamos una función para regularizar los atributos en distintas categorías:\n",
    "def regu_atrib_google(atributo):\n",
    "    if atributo in ['Wheelchair accessible entrance',\n",
    "       'Wheelchair accessible parking lot',\n",
    "       'Wheelchair accessible restroom', 'Wheelchair accessible seating',\n",
    "       'Wheelchair accessible elevator', 'Wheelchair-accessible car park',\n",
    "       'Wheelchair-accessible entrance', 'Wheelchair-accessible seating',\n",
    "       'Wheelchair-accessible toilet', 'Wheelchair-accessible lift']:\n",
    "        atributo_reg = \"Wheelchair accessible\"\n",
    "    elif atributo in ['Outdoor seating', 'Outdoor services']:\n",
    "        atributo_reg = \"Outdoor seating\"\n",
    "    elif atributo == 'Drive-through':\n",
    "        atributo_reg = 'Drive-through'\n",
    "    elif atributo in ['Takeout', 'Takeaway']:\n",
    "        atributo_reg = 'Takeout/Takeaway'\n",
    "    elif atributo == 'Delivery':\n",
    "        atributo_reg = 'Delivery'\n",
    "    elif atributo == 'Wi-Fi':\n",
    "        atributo_reg = 'Wi-Fi'\n",
    "    \n",
    "    return atributo_reg"
   ]
  },
  {
   "cell_type": "code",
   "execution_count": 44,
   "metadata": {},
   "outputs": [
    {
     "data": {
      "text/html": [
       "<div>\n",
       "<style scoped>\n",
       "    .dataframe tbody tr th:only-of-type {\n",
       "        vertical-align: middle;\n",
       "    }\n",
       "\n",
       "    .dataframe tbody tr th {\n",
       "        vertical-align: top;\n",
       "    }\n",
       "\n",
       "    .dataframe thead th {\n",
       "        text-align: right;\n",
       "    }\n",
       "</style>\n",
       "<table border=\"1\" class=\"dataframe\">\n",
       "  <thead>\n",
       "    <tr style=\"text-align: right;\">\n",
       "      <th></th>\n",
       "      <th>gmap_id</th>\n",
       "      <th>Attribute_orig</th>\n",
       "      <th>Attributes</th>\n",
       "    </tr>\n",
       "  </thead>\n",
       "  <tbody>\n",
       "    <tr>\n",
       "      <th>0</th>\n",
       "      <td>0x80c2c778e3b73d33:0xbdc58662a4a97d49</td>\n",
       "      <td>Wheelchair accessible entrance</td>\n",
       "      <td>Wheelchair accessible</td>\n",
       "    </tr>\n",
       "    <tr>\n",
       "      <th>1</th>\n",
       "      <td>0x80c2cf163db6bc89:0x219484e2edbcfa41</td>\n",
       "      <td>Wheelchair accessible entrance</td>\n",
       "      <td>Wheelchair accessible</td>\n",
       "    </tr>\n",
       "    <tr>\n",
       "      <th>2</th>\n",
       "      <td>0x80dd2b4c8555edb7:0xfc33d65c4bdbef42</td>\n",
       "      <td>Wheelchair accessible entrance</td>\n",
       "      <td>Wheelchair accessible</td>\n",
       "    </tr>\n",
       "    <tr>\n",
       "      <th>3</th>\n",
       "      <td>0x80960c29f2e3bf29:0x4b291f0d275a5699</td>\n",
       "      <td>Wheelchair accessible entrance</td>\n",
       "      <td>Wheelchair accessible</td>\n",
       "    </tr>\n",
       "    <tr>\n",
       "      <th>4</th>\n",
       "      <td>0x809b1ff6d3a60c4d:0xdf08e68028807693</td>\n",
       "      <td>Wheelchair accessible entrance</td>\n",
       "      <td>Wheelchair accessible</td>\n",
       "    </tr>\n",
       "  </tbody>\n",
       "</table>\n",
       "</div>"
      ],
      "text/plain": [
       "                                 gmap_id                  Attribute_orig  \\\n",
       "0  0x80c2c778e3b73d33:0xbdc58662a4a97d49  Wheelchair accessible entrance   \n",
       "1  0x80c2cf163db6bc89:0x219484e2edbcfa41  Wheelchair accessible entrance   \n",
       "2  0x80dd2b4c8555edb7:0xfc33d65c4bdbef42  Wheelchair accessible entrance   \n",
       "3  0x80960c29f2e3bf29:0x4b291f0d275a5699  Wheelchair accessible entrance   \n",
       "4  0x809b1ff6d3a60c4d:0xdf08e68028807693  Wheelchair accessible entrance   \n",
       "\n",
       "              Attributes  \n",
       "0  Wheelchair accessible  \n",
       "1  Wheelchair accessible  \n",
       "2  Wheelchair accessible  \n",
       "3  Wheelchair accessible  \n",
       "4  Wheelchair accessible  "
      ]
     },
     "execution_count": 44,
     "metadata": {},
     "output_type": "execute_result"
    }
   ],
   "source": [
    "# Se crea la columna \"Attributes\" utilizando la función creada anteriormente:\n",
    "attributes_google[\"Attributes\"] = attributes_google[\"Attribute_orig\"].apply(regu_atrib_google)\n",
    "attributes_google.head()"
   ]
  },
  {
   "cell_type": "code",
   "execution_count": 45,
   "metadata": {},
   "outputs": [
    {
     "name": "stdout",
     "output_type": "stream",
     "text": [
      "<class 'pandas.core.frame.DataFrame'>\n",
      "RangeIndex: 111701 entries, 0 to 111700\n",
      "Data columns (total 3 columns):\n",
      " #   Column          Non-Null Count   Dtype \n",
      "---  ------          --------------   ----- \n",
      " 0   gmap_id         111701 non-null  object\n",
      " 1   Attribute_orig  111701 non-null  object\n",
      " 2   Attributes      111701 non-null  object\n",
      "dtypes: object(3)\n",
      "memory usage: 2.6+ MB\n"
     ]
    }
   ],
   "source": [
    "attributes_google.info()"
   ]
  },
  {
   "cell_type": "markdown",
   "metadata": {},
   "source": [
    "# Unión atributos Google-Yelp"
   ]
  },
  {
   "cell_type": "markdown",
   "metadata": {},
   "source": [
    "Por último, se concatenan los dataframes trabajados en uno sólo:"
   ]
  },
  {
   "cell_type": "code",
   "execution_count": 46,
   "metadata": {},
   "outputs": [
    {
     "data": {
      "text/html": [
       "<div>\n",
       "<style scoped>\n",
       "    .dataframe tbody tr th:only-of-type {\n",
       "        vertical-align: middle;\n",
       "    }\n",
       "\n",
       "    .dataframe tbody tr th {\n",
       "        vertical-align: top;\n",
       "    }\n",
       "\n",
       "    .dataframe thead th {\n",
       "        text-align: right;\n",
       "    }\n",
       "</style>\n",
       "<table border=\"1\" class=\"dataframe\">\n",
       "  <thead>\n",
       "    <tr style=\"text-align: right;\">\n",
       "      <th></th>\n",
       "      <th>id_restaurant</th>\n",
       "      <th>Attribute_orig</th>\n",
       "      <th>Attributes</th>\n",
       "    </tr>\n",
       "  </thead>\n",
       "  <tbody>\n",
       "    <tr>\n",
       "      <th>0</th>\n",
       "      <td>0x80c2c778e3b73d33:0xbdc58662a4a97d49</td>\n",
       "      <td>Wheelchair accessible entrance</td>\n",
       "      <td>Wheelchair accessible</td>\n",
       "    </tr>\n",
       "    <tr>\n",
       "      <th>1</th>\n",
       "      <td>0x80c2cf163db6bc89:0x219484e2edbcfa41</td>\n",
       "      <td>Wheelchair accessible entrance</td>\n",
       "      <td>Wheelchair accessible</td>\n",
       "    </tr>\n",
       "    <tr>\n",
       "      <th>2</th>\n",
       "      <td>0x80dd2b4c8555edb7:0xfc33d65c4bdbef42</td>\n",
       "      <td>Wheelchair accessible entrance</td>\n",
       "      <td>Wheelchair accessible</td>\n",
       "    </tr>\n",
       "    <tr>\n",
       "      <th>3</th>\n",
       "      <td>0x80960c29f2e3bf29:0x4b291f0d275a5699</td>\n",
       "      <td>Wheelchair accessible entrance</td>\n",
       "      <td>Wheelchair accessible</td>\n",
       "    </tr>\n",
       "    <tr>\n",
       "      <th>4</th>\n",
       "      <td>0x809b1ff6d3a60c4d:0xdf08e68028807693</td>\n",
       "      <td>Wheelchair accessible entrance</td>\n",
       "      <td>Wheelchair accessible</td>\n",
       "    </tr>\n",
       "  </tbody>\n",
       "</table>\n",
       "</div>"
      ],
      "text/plain": [
       "                           id_restaurant                  Attribute_orig  \\\n",
       "0  0x80c2c778e3b73d33:0xbdc58662a4a97d49  Wheelchair accessible entrance   \n",
       "1  0x80c2cf163db6bc89:0x219484e2edbcfa41  Wheelchair accessible entrance   \n",
       "2  0x80dd2b4c8555edb7:0xfc33d65c4bdbef42  Wheelchair accessible entrance   \n",
       "3  0x80960c29f2e3bf29:0x4b291f0d275a5699  Wheelchair accessible entrance   \n",
       "4  0x809b1ff6d3a60c4d:0xdf08e68028807693  Wheelchair accessible entrance   \n",
       "\n",
       "              Attributes  \n",
       "0  Wheelchair accessible  \n",
       "1  Wheelchair accessible  \n",
       "2  Wheelchair accessible  \n",
       "3  Wheelchair accessible  \n",
       "4  Wheelchair accessible  "
      ]
     },
     "execution_count": 46,
     "metadata": {},
     "output_type": "execute_result"
    }
   ],
   "source": [
    "# Se unifica los nombre de columnas para el restaurant id:\n",
    "attributes_google = attributes_google.rename(columns={\"gmap_id\":\"id_restaurant\"})\n",
    "atrib_yelp_final = atrib_yelp_final.rename(columns={\"business_id\":\"id_restaurant\"})\n",
    "\n",
    "# Se concatenan los dataframes\n",
    "attributes = pd.concat([attributes_google, atrib_yelp_final], axis=0)\n",
    "attributes.head()"
   ]
  },
  {
   "cell_type": "code",
   "execution_count": 47,
   "metadata": {},
   "outputs": [
    {
     "name": "stdout",
     "output_type": "stream",
     "text": [
      "<class 'pandas.core.frame.DataFrame'>\n",
      "RangeIndex: 112612 entries, 0 to 112611\n",
      "Data columns (total 3 columns):\n",
      " #   Column          Non-Null Count   Dtype \n",
      "---  ------          --------------   ----- \n",
      " 0   id_restaurant   112612 non-null  object\n",
      " 1   Attribute_orig  112612 non-null  object\n",
      " 2   Attributes      112612 non-null  object\n",
      "dtypes: object(3)\n",
      "memory usage: 2.6+ MB\n"
     ]
    }
   ],
   "source": [
    "attributes.reset_index(drop=True, inplace=True)\n",
    "attributes.info()"
   ]
  },
  {
   "cell_type": "code",
   "execution_count": 48,
   "metadata": {},
   "outputs": [
    {
     "data": {
      "text/plain": [
       "2"
      ]
     },
     "execution_count": 48,
     "metadata": {},
     "output_type": "execute_result"
    }
   ],
   "source": [
    "# Se controla que no haya valores duplicados\n",
    "attributes.duplicated().sum()"
   ]
  },
  {
   "cell_type": "code",
   "execution_count": 49,
   "metadata": {},
   "outputs": [
    {
     "data": {
      "text/plain": [
       "0"
      ]
     },
     "execution_count": 49,
     "metadata": {},
     "output_type": "execute_result"
    }
   ],
   "source": [
    "# Eliminamos valores duplicados:\n",
    "attributes.drop_duplicates(inplace=True)\n",
    "attributes.duplicated().sum()"
   ]
  },
  {
   "cell_type": "code",
   "execution_count": 50,
   "metadata": {},
   "outputs": [],
   "source": [
    "# Por último, exportamos el archivo en formato parquet:\n",
    "attributes.to_parquet(\"Attributes_restaurants.parquet\")"
   ]
  }
 ],
 "metadata": {
  "kernelspec": {
   "display_name": "Python 3",
   "language": "python",
   "name": "python3"
  },
  "language_info": {
   "codemirror_mode": {
    "name": "ipython",
    "version": 3
   },
   "file_extension": ".py",
   "mimetype": "text/x-python",
   "name": "python",
   "nbconvert_exporter": "python",
   "pygments_lexer": "ipython3",
   "version": "3.11.4"
  }
 },
 "nbformat": 4,
 "nbformat_minor": 2
}
